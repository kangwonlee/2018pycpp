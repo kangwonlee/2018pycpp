{
 "cells": [
  {
   "cell_type": "markdown",
   "metadata": {
    "id": "view-in-github",
    "colab_type": "text"
   },
   "source": [
    "<a href=\"https://colab.research.google.com/github/kangwonlee/2018pycpp/blob/dependabot/pip/tests/scikit-learn-1.5.1/00.python-c-cpp/10.c-cpp.ipynb\" target=\"_parent\"><img src=\"https://colab.research.google.com/assets/colab-badge.svg\" alt=\"Open In Colab\"/></a>\n"
   ]
  },
  {
   "cell_type": "markdown",
   "metadata": {},
   "source": [
    "# Introducing C/C++\n",
    "\n"
   ]
  },
  {
   "cell_type": "markdown",
   "metadata": {},
   "source": [
    "* [**Brian Kernighan**](https://en.wikipedia.org/wiki/Brian_Kernighan) and [**Dennis Ritchie**](https://en.wikipedia.org/wiki/Dennis_Ritchie), programmers of the [Bell Labs](https://en.wikipedia.org/wiki/Bell_Labs) published the first edition of the book on the [C Language](https://en.wikipedia.org/wiki/The_C_Programming_Language) in 1978.\n",
    "* [**Bjarne Stroustrup**](https://en.wikipedia.org/wiki/Bjarne_Stroustrup), a Danish computer scientist, started working on \"C with Classes\" in 1979, which he renamed to \"C++\" in 1983.\n",
    "\n"
   ]
  },
  {
   "cell_type": "markdown",
   "metadata": {},
   "source": [
    "* For example, following (procedural) code calculates sum from 1 to 100.\n",
    "\n"
   ]
  },
  {
   "cell_type": "code",
   "execution_count": null,
   "metadata": {},
   "outputs": [],
   "source": [
    "%%writefile sum_numbers.cpp\n",
    "// #include lines would embed .h header files\n",
    "// in this program, for the selected symbols\n",
    "// int32_t : 32bit integer -2^31 ~ +(2^31 - 1)\n",
    "#include <cstdint>\n",
    "// printf() : a function to print on screen\n",
    "#include <cstdio>\n",
    "// std::cout : an object to print on screen\n",
    "#include <iostream>\n",
    "\n",
    "// program start point\n",
    "int32_t main(int32_t argn, char * argv[]){\n",
    "    // initalize s with zero\n",
    "    int32_t s = 0;\n",
    "    // int32_t means 32bit integer\n",
    "\n",
    "    // for loop\n",
    "    // i would start from 1 to 100\n",
    "    for (int32_t i=1; i<(100+1); ++i) {\n",
    "        // accumulate to s\n",
    "        s += i;\n",
    "    }\n",
    "    // present result\n",
    "    // this would work for both C and C++\n",
    "    printf(\"s = %d\\n\", s);\n",
    "    // present result\n",
    "    // this would only work for C++\n",
    "    std::cout << \"s = \" << s << '\\n';\n",
    "\n",
    "    // indicate the program was successful\n",
    "    return 0;\n",
    "}\n",
    "\n"
   ]
  },
  {
   "cell_type": "markdown",
   "metadata": {},
   "source": [
    "* The first line above, `%%writefile` is an *ipython cell magic command*.\n",
    "* It will create a new file.  This time it will be named `sum_numbers.cpp`.\n",
    "* The following lines of the cell will be the content of the file.\n",
    "\n"
   ]
  },
  {
   "cell_type": "markdown",
   "metadata": {},
   "source": [
    "* Following cell will compile the source code above into an executable file.\n",
    "* By default, the executable file's name would be `a.out`.\n",
    "\n"
   ]
  },
  {
   "cell_type": "code",
   "execution_count": null,
   "metadata": {},
   "outputs": [],
   "source": [
    "!g++ sum_numbers.cpp\n",
    "\n"
   ]
  },
  {
   "cell_type": "markdown",
   "metadata": {},
   "source": [
    "* Following cell will run the `a.out` executable.\n",
    "\n"
   ]
  },
  {
   "cell_type": "code",
   "execution_count": null,
   "metadata": {},
   "outputs": [],
   "source": [
    "!./a.out\n",
    "\n"
   ]
  },
  {
   "cell_type": "markdown",
   "metadata": {},
   "source": [
    "## Installing `g++`\n",
    "\n"
   ]
  },
  {
   "cell_type": "markdown",
   "source": [
    "The following cell would locate the `g++` compiler, if available already.\n",
    "\n"
   ],
   "metadata": {}
  },
  {
   "cell_type": "code",
   "source": [
    "!which g++\n",
    "\n"
   ],
   "metadata": {},
   "execution_count": null,
   "outputs": []
  },
  {
   "cell_type": "markdown",
   "metadata": {},
   "source": [
    "If `g++` not found, please try followings.\n",
    "* `su <one of sudoers>`\n",
    "* `sudo apt-get install g++`\n",
    "* `exit`\n",
    "* `which g++`\n",
    "\n",
    "Now we should be able to find the `g++`.\n",
    "\n"
   ]
  },
  {
   "cell_type": "markdown",
   "metadata": {},
   "source": [
    "## Writing and running a C/C++ program\n",
    "\n"
   ]
  },
  {
   "cell_type": "markdown",
   "source": [
    "### `bash` shell\n"
   ],
   "metadata": {}
  },
  {
   "cell_type": "markdown",
   "metadata": {},
   "source": [
    "* Click following to start a tutorial.\n",
    "\n"
   ]
  },
  {
   "cell_type": "markdown",
   "metadata": {},
   "source": [
    "[![.cpp vi and terminal](https://i.ytimg.com/vi/7aG04VJZRMc/hqdefault.jpg)](https://youtu.be/7aG04VJZRMc)\n",
    "\n"
   ]
  },
  {
   "cell_type": "markdown",
   "metadata": {},
   "source": [
    "* `cd <to an appropriate folder>`\n",
    "* `vi hello.cpp`\n",
    "* <kbd>i</kbd>\n",
    "* Enter following code\n",
    "\n"
   ]
  },
  {
   "cell_type": "markdown",
   "metadata": {},
   "source": [
    "``` C++\n",
    "#include <iostream>\n",
    "#include <cstdio>\n",
    "\n",
    "int main(int argn, char * argv[]){\n",
    "    printf(\"Hello World!\\n\");\n",
    "    std::cout << \"Hello World!\" << '\\n';\n",
    "    \n",
    "    return 0;\n",
    "}\n",
    "```\n",
    "\n"
   ]
  },
  {
   "cell_type": "markdown",
   "metadata": {},
   "source": [
    "* <kbd>Esc</kbd><br>`:wq`\n",
    "* `g++ -Wall -g hello.cpp -o hello && ./hello`\n",
    "\n"
   ]
  },
  {
   "cell_type": "markdown",
   "metadata": {},
   "source": [
    "### Compiling and running within `vi`\n",
    "\n"
   ]
  },
  {
   "cell_type": "markdown",
   "metadata": {},
   "source": [
    "* Click following to start a tutorial. (Caption available)\n",
    "\n"
   ]
  },
  {
   "cell_type": "markdown",
   "metadata": {},
   "source": [
    "[![within `vi`](https://i.ytimg.com/vi/SdQR9e6syxM/hqdefault.jpg)](https://youtu.be/SdQR9e6syxM)\n",
    "\n"
   ]
  },
  {
   "cell_type": "markdown",
   "metadata": {},
   "source": [
    "* Please start by entering `vi hello.cpp`\n",
    "* Press <kbd>i</kbd> to switch to insert mode.\n",
    "* Enter the source code.\n",
    "* When finished, press <kbd>ESC</kbd> to switch to command mode.\n",
    "* Enter `:w` to save the file.\n",
    "* Enter `:!g++ -Wall -g hello.cpp -o hello` to compile the file.<br>If no error message, compile should have been successful.<br>Press <kbd>Enter</kbd>to return to the `vi` editor.\n",
    "* Enter `:!./hello` to run the program.\n",
    "* Above two steps in one line : `:!g++ -Wall -g hello.cpp -o hello && ./hello`\n",
    "\n"
   ]
  },
  {
   "cell_type": "markdown",
   "source": [
    "### Cell magic commands\n"
   ],
   "metadata": {}
  },
  {
   "cell_type": "markdown",
   "metadata": {},
   "source": [
    "* Following cell will write a new file `hello.cpp`.\n",
    "\n"
   ]
  },
  {
   "cell_type": "code",
   "execution_count": null,
   "metadata": {},
   "outputs": [],
   "source": [
    "%%writefile hello.cpp\n",
    "#include <iostream>\n",
    "#include <cstdio>\n",
    "\n",
    "int main(int argn, char * argv[]){\n",
    "    printf(\"Hello World!\\n\");\n",
    "    std::cout << \"Hello World!\" << '\\n';\n",
    "\n",
    "    return 0;\n",
    "}\n",
    "\n"
   ]
  },
  {
   "cell_type": "markdown",
   "source": [
    "* Now let's compile.\n",
    "\n"
   ],
   "metadata": {}
  },
  {
   "cell_type": "code",
   "source": [
    "!g++ -Wall -g hello.cpp -o hello\n",
    "\n"
   ],
   "metadata": {},
   "execution_count": null,
   "outputs": []
  },
  {
   "cell_type": "markdown",
   "source": [
    "* Next, let's run the executable.\n",
    "\n"
   ],
   "metadata": {}
  },
  {
   "cell_type": "code",
   "source": [
    "!./hello\n",
    "\n"
   ],
   "metadata": {},
   "execution_count": null,
   "outputs": []
  },
  {
   "cell_type": "markdown",
   "metadata": {},
   "source": [
    "## Debugging using `gdb`\n",
    "\n"
   ]
  },
  {
   "cell_type": "markdown",
   "metadata": {},
   "source": [
    "[[ref](http://courses.cms.caltech.edu/cs11/material/c/mike/misc/gdb.html)]\n",
    "\n"
   ]
  },
  {
   "cell_type": "markdown",
   "metadata": {},
   "source": [
    "| action |           `gdb`           |\n",
    "|:------:|:-------------------------:|\n",
    "| start  | \\$ `gdb <executable name>` |\n",
    "| list commands | `h`<br>`help` |\n",
    "| set break point at function `main`  | `b main` |\n",
    "| start program  | `r`<br>`run` |\n",
    "| step | `s` |\n",
    "| evaluate 1 + 2 | `print 1 + 2` |\n",
    "| evaluate `printf(\"Hello %d\", 4 + 5)` | `print printf(\"Hello %d\", 4 + 5)` |\n",
    "| continue process | `c` |\n",
    "| end debugger | `q` |\n",
    "\n",
    "\n"
   ]
  },
  {
   "cell_type": "markdown",
   "metadata": {},
   "source": [
    "## Building and debugging using MS VS Code\n",
    "\n"
   ]
  },
  {
   "cell_type": "markdown",
   "metadata": {},
   "source": [
    "* See [C/C++ for Visual Studio Code](https://code.visualstudio.com/docs/languages/cpp) for details.\n",
    "\n"
   ]
  },
  {
   "cell_type": "markdown",
   "metadata": {},
   "source": [
    "### Building a .cpp file in MS VS Code\n",
    "\n"
   ]
  },
  {
   "cell_type": "markdown",
   "metadata": {},
   "source": [
    "[![Building a .cpp in MS VS Code (Linux)](https://i.ytimg.com/vi/PQmJka_gLbE/hqdefault.jpg)](https://youtu.be/PQmJka_gLbE)\n",
    "\n"
   ]
  },
  {
   "cell_type": "markdown",
   "metadata": {},
   "source": [
    "* Please start by entering `code . &`\n",
    "* If not done yet, please install **Microsoft C/C++ extension**.<br>Press <kbd>Ctrl</kbd>+<kbd>Shift</kbd>+<kbd>x</kbd> and search.\n",
    "* Open the Command Palate using <kbd>Ctrl</kbd>+<kbd>Shift</kbd>+<kbd>p</kbd>.\n",
    "* Select **Tasks: Configure Tasks...**.\n",
    "* Select **Create tasks.json file from template**.\n",
    "* Choose **Others**.\n",
    "* Change value of **command** to \"`g++`\" and add a comma at the end.\n",
    "* Add key \"`args`\" and its value as a bracket list as follows. \n",
    "[[ref0](https://stackoverflow.com/questions/45679035/build-currently-opened-file-in-visual-studio-code)]\n",
    ",[[ref1](https://code.visualstudio.com/docs/editor/variables-reference)]\n",
    "<br>\n",
    "`[\"-g\", ${fileBasename}]`\n",
    "* To enable **Tasks: Run Build Task**, add \"`group`\" key-value pair.<br>\n",
    "The tasks.json file would look as follows: <br>\n",
    "\n",
    "``` json \n",
    "{\n",
    "    \"version\": \"2.0.0\",\n",
    "    \"tasks\": [\n",
    "        {\n",
    "            \"label\": \"build current file\",\n",
    "            \"type\": \"shell\",\n",
    "            \"command\": \"g++\",\n",
    "            \"args\": [\n",
    "                \"-Wall\", \"-g\", \"${fileBasename}\", \n",
    "                \"-Wa,-adhln=${fileBasenameNoExtension}.s\",\n",
    "            ],\n",
    "            \"group\": {\n",
    "                \"kind\": \"build\",\n",
    "                \"isDefault\": true\n",
    "            }\n",
    "        }\n",
    "    ]\n",
    "}\n",
    "```\n",
    "* To build, press <kbd>Ctrl</kbd>+<kbd>Shift</kbd>+<kbd>b</kbd>.\n",
    "\n"
   ]
  },
  {
   "cell_type": "markdown",
   "metadata": {},
   "source": [
    "### Debugging a .cpp file in MS VS Code\n",
    "\n"
   ]
  },
  {
   "cell_type": "markdown",
   "metadata": {},
   "source": [
    "[![Debugging a .cpp file in MS VS Code](https://i.ytimg.com/vi/_g2HxKdqB_I/hqdefault.jpg)](https://youtu.be/_g2HxKdqB_I)\n",
    "\n"
   ]
  },
  {
   "cell_type": "markdown",
   "metadata": {},
   "source": [
    "* To debug, press <kbd>F5</kbd>.\n",
    "* When `launch.json` appears, change the value of `\"program\"` to something like `\"${workspaceFolder}/a.out\"`.\n",
    "* Click on the left side of the row `int s = 0;` to set a break point.<br>\n",
    "A red circle would appear.\n",
    "* Press <kbd>F5</kbd>.<br>\n",
    "The debugger would wait for your command at the breakpoint.\n",
    "* Press <kbd>F10</kbd>.<br>\n",
    "The debugger would move the highlight line to the next line.\n",
    "* Continue pressing <kbd>F10</kbd>.<br>\n",
    "The debugger would update variables as the program executes.\n",
    "* To open console pane, press <kbd>Ctrl</kbd>+<kbd>~</kbd>.\n",
    "* Select `Debug Console` and enter a name of a variable to check its value.\n",
    "* If there is an iteration and you want to skip it, make another breakpoint after the loop and press <kbd>F5</kbd>.\n",
    "* To finish debugging press <kbd>Shift</kbd>+<kbd>F5</kbd>.\n",
    "* If you think it might be helpful, commit `tasks.json` and `launch.json` files into your repository.\n",
    "\n"
   ]
  },
  {
   "cell_type": "markdown",
   "metadata": {},
   "source": [
    "* Following is a sample `launch.json` for `(gdb) Launch`\n",
    "\n"
   ]
  },
  {
   "cell_type": "markdown",
   "metadata": {},
   "source": [
    "``` json\n",
    "{\n",
    "    // Use IntelliSense to learn about possible attributes.\n",
    "    // Hover to view descriptions of existing attributes.\n",
    "    // For more information, visit: https://go.microsoft.com/fwlink/?linkid=830387\n",
    "    \"version\": \"0.2.0\",\n",
    "    \"configurations\": [\n",
    "        {\n",
    "            \"name\": \"(gdb) Launch\",\n",
    "            \"type\": \"cppdbg\",\n",
    "            \"request\": \"launch\",\n",
    "            \"program\": \"${workspaceFolder}/hello\",\n",
    "            \"args\": [],\n",
    "            \"stopAtEntry\": false,\n",
    "            \"cwd\": \"${workspaceFolder}\",\n",
    "            \"environment\": [],\n",
    "            \"externalConsole\": true,\n",
    "            \"MIMode\": \"gdb\",\n",
    "            \"setupCommands\": [\n",
    "                {\n",
    "                    \"description\": \"Enable pretty-printing for gdb\",\n",
    "                    \"text\": \"-enable-pretty-printing\",\n",
    "                    \"ignoreFailures\": true\n",
    "                }\n",
    "            ],\n",
    "            \"preLaunchTask\": \"make\",\n",
    "        }\n",
    "    ]\n",
    "}\n",
    "```\n",
    "\n"
   ]
  },
  {
   "cell_type": "markdown",
   "metadata": {},
   "source": [
    "## Automating with Makefile\n",
    "\n"
   ]
  },
  {
   "cell_type": "markdown",
   "metadata": {},
   "source": [
    "* `g++` would build the executable file\n",
    "* Using `make` we can automate the process\n",
    "\n"
   ]
  },
  {
   "cell_type": "markdown",
   "metadata": {},
   "source": [
    "### Installing make\n",
    "\n"
   ]
  },
  {
   "cell_type": "markdown",
   "source": [
    "The following cell would locate the `make` utility, if available already.\n"
   ],
   "metadata": {}
  },
  {
   "cell_type": "code",
   "source": [
    "!which make\n",
    "\n"
   ],
   "metadata": {},
   "execution_count": null,
   "outputs": []
  },
  {
   "cell_type": "markdown",
   "metadata": {},
   "source": [
    "If `make` not found, please try followings.\n",
    "* `su <one of sudoers>`\n",
    "* `sudo apt-get install make`<br>`sudo apt-get install make-guile`\n",
    "* `exit`\n",
    "* `which make`\n",
    "\n",
    "Make sure that we can find the `make`.\n",
    "\n"
   ]
  },
  {
   "cell_type": "markdown",
   "metadata": {},
   "source": [
    "### Writing a Makefile\n",
    "\n"
   ]
  },
  {
   "cell_type": "markdown",
   "metadata": {},
   "source": [
    "* `cd <to the folder containing hello.cpp source>`\n",
    "* `vi makefile`\n",
    "* <kbd>i</kbd>\n",
    "* Enter following code \\[[ref0](http://courses.cms.caltech.edu/cs11/material/c/mike/misc/make.html), [ref1](https://www.gnu.org/software/make/manual/make.html), [ref2](https://panthema.net/2013/0124-GCC-Output-Assembler-Code/), [ref3](https://stackoverflow.com/questions/10928966/make-multiple-targets-in-all), [ref4](https://stackoverflow.com/questions/16931770/makefile4-missing-separator-stop)\\]<br>note : all indentations are <kbd>Tab</kbd>.\n",
    "\n"
   ]
  },
  {
   "cell_type": "markdown",
   "metadata": {},
   "source": [
    "``` makefile\n",
    "all : hello hello.s\n",
    "\n",
    "hello : hello.cpp\n",
    "\tg++ -Wall -g hello.cpp -o hello\n",
    "\n",
    "hello.s : hello.cpp\n",
    "\tg++ -g hello.cpp -Wa,-adhln=hello.s \n",
    "\n",
    "clean :\n",
    "\trm hello hello.s\n",
    "```\n",
    "\n"
   ]
  },
  {
   "cell_type": "markdown",
   "metadata": {},
   "source": [
    "* <kbd>Esc</kbd><br>`:wq`\n",
    "* `make`\n",
    "* `make hello.s`\n",
    "\n"
   ]
  },
  {
   "cell_type": "markdown",
   "metadata": {},
   "source": [
    "### Using variables in a Makefile\n",
    "\n"
   ]
  },
  {
   "cell_type": "markdown",
   "metadata": {},
   "source": [
    "* `cd <to the folder containing hello.cpp source>`\n",
    "* `vi makefile`\n",
    "* <kbd>i</kbd>\n",
    "* Enter following code<br>note : all indentations are <kbd>Tab</kbd>.\n",
    "\n"
   ]
  },
  {
   "cell_type": "markdown",
   "metadata": {},
   "source": [
    "``` makefile\n",
    "\n",
    "SRC = hello\n",
    "CPP = $(SRC).cpp\n",
    "ASM = $(SRC).s\n",
    "\n",
    "CC = g++\n",
    "\n",
    "all : $(SRC) $(ASM)\n",
    "\n",
    "$(SRC) : $(CPP)\n",
    "\t$(CC) -Wall -g $(CPP) -o $(SRC)\n",
    "\n",
    "$(ASM) : $(CPP)\n",
    "\t$(CC) -g $(CPP) -Wa,-adhln=$(ASM) \n",
    "\n",
    "clean :\n",
    "\trm $(SRC) $(ASM)\n",
    "```\n",
    "\n"
   ]
  },
  {
   "cell_type": "markdown",
   "metadata": {},
   "source": [
    "* <kbd>Esc</kbd><br>`:wq`\n",
    "* `make clean`\n",
    "* `make hello.s`\n",
    "* `make`\n",
    "\n"
   ]
  },
  {
   "cell_type": "markdown",
   "source": [
    "### Cell Magic Commands\n",
    "\n"
   ],
   "metadata": {}
  },
  {
   "cell_type": "markdown",
   "metadata": {},
   "source": [
    "* Following cell will write a new `makefile`.\n",
    "* Please note that lines running `$(CC)` or `rm` commands start with <kbd>tab</kbd> characters.\n",
    "\n"
   ]
  },
  {
   "cell_type": "code",
   "execution_count": null,
   "metadata": {},
   "outputs": [],
   "source": [
    "%%writefile makefile\n",
    "\n",
    "SRC = hello\n",
    "CPP = $(SRC).cpp\n",
    "ASM = $(SRC).s\n",
    "\n",
    "CC = g++\n",
    "\n",
    "all : $(SRC) $(ASM)\n",
    "\n",
    "$(SRC) : $(CPP)\n",
    "\t$(CC) -Wall -g $(CPP) -o $(SRC)\n",
    "\n",
    "$(ASM) : $(CPP)\n",
    "\t$(CC) -g $(CPP) -Wa,-adhln=$(ASM) \n",
    "\n",
    "clean :\n",
    "\trm $(SRC) $(ASM)\n",
    "\n"
   ]
  },
  {
   "cell_type": "markdown",
   "metadata": {},
   "source": [
    "* Following cell will clean the folder if necessary.\n",
    "\n"
   ]
  },
  {
   "cell_type": "code",
   "execution_count": null,
   "metadata": {},
   "outputs": [],
   "source": [
    "!make clean\n",
    "\n"
   ]
  },
  {
   "cell_type": "markdown",
   "metadata": {},
   "source": [
    "* Following cell will create an assembly file.\n",
    "\n"
   ]
  },
  {
   "cell_type": "code",
   "execution_count": null,
   "metadata": {},
   "outputs": [],
   "source": [
    "!make hello.s\n",
    "\n"
   ]
  },
  {
   "cell_type": "markdown",
   "metadata": {},
   "source": [
    "* Read the assembly file.\n",
    "\n"
   ]
  },
  {
   "cell_type": "code",
   "execution_count": null,
   "metadata": {},
   "outputs": [],
   "source": [
    "%cat hello.s\n",
    "\n"
   ]
  },
  {
   "cell_type": "markdown",
   "metadata": {},
   "source": [
    "* Following cell will create an executable file.\n",
    "\n"
   ]
  },
  {
   "cell_type": "code",
   "execution_count": null,
   "metadata": {},
   "outputs": [],
   "source": [
    "!make\n",
    "\n"
   ]
  },
  {
   "cell_type": "markdown",
   "metadata": {},
   "source": [
    "* Following cell will run the executable file.\n",
    "\n"
   ]
  },
  {
   "cell_type": "code",
   "execution_count": null,
   "metadata": {},
   "outputs": [],
   "source": [
    "!./hello\n",
    "\n"
   ]
  },
  {
   "cell_type": "markdown",
   "metadata": {},
   "source": [
    "## Configuring MS VS Code to use the Makefile\n",
    "\n"
   ]
  },
  {
   "cell_type": "markdown",
   "metadata": {},
   "source": [
    "* <kbd>Ctrl</kbd>+<kbd>Shift</kbd>+<kbd>b</kbd>\n",
    "* Choose `Configure Build Task`\n",
    "* Choose `Open tasks.json file`\n",
    "* Configure as follows [[ref](https://code.visualstudio.com/docs/languages/cpp)]\n",
    "\n"
   ]
  },
  {
   "cell_type": "markdown",
   "metadata": {},
   "source": [
    "``` json\n",
    "{\n",
    "    \"version\": \"2.0.0\",\n",
    "    \"tasks\": [\n",
    "        {\n",
    "            \"label\": \"make\",\n",
    "            \"type\": \"shell\",\n",
    "            \"command\": \"make\",\n",
    "            \"group\": {\n",
    "                \"kind\" : \"build\", \n",
    "                \"isDefault\": true\n",
    "            }\n",
    "        }\n",
    "    ]\n",
    "}\n",
    "```\n",
    "\n"
   ]
  },
  {
   "cell_type": "markdown",
   "metadata": {},
   "source": [
    "### What is [JSON](https://en.wikipedia.org/wiki/JSON)?\n",
    "\n"
   ]
  },
  {
   "cell_type": "markdown",
   "metadata": {},
   "source": [
    "* JavaScript Object Notation\n",
    "* Open-standard file format\n",
    "* Human-readable\n",
    "* Attribute-value pairs and arrays\n",
    "\n"
   ]
  },
  {
   "cell_type": "code",
   "source": [],
   "metadata": {},
   "execution_count": null,
   "outputs": []
  }
 ],
 "metadata": {
  "kernelspec": {
   "display_name": "Python 3",
   "language": "python",
   "name": "python3"
  },
  "language_info": {
   "codemirror_mode": {
    "name": "ipython",
    "version": 3
   },
   "file_extension": ".py",
   "mimetype": "text/x-python",
   "name": "python",
   "nbconvert_exporter": "python",
   "pygments_lexer": "ipython3",
   "version": "3.7.3"
  },
  "colab": {
   "name": "10.c-cpp.ipynb",
   "provenance": [],
   "toc_visible": true,
   "include_colab_link": true
  }
 },
 "nbformat": 4,
 "nbformat_minor": 0
}