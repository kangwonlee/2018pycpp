{
 "cells": [
  {
   "cell_type": "markdown",
   "metadata": {},
   "source": [
    "# Introducing Linux `bash`"
   ]
  },
  {
   "cell_type": "markdown",
   "metadata": {},
   "source": [
    "* [Linux](https://en.wikipedia.org/wiki/Linux) is one of open source versions of the [**Unix**](https://en.wikipedia.org/wiki/Unix) operating system.\n",
    "* Unix supports multitasking and multiuser.  A group at the Bell Labs, including [Ken Thompson](https://en.wikipedia.org/wiki/Ken_Thompson), [Dennis Ritchie](https://en.wikipedia.org/wiki/Dennis_Ritchie) and others started developing it in early 1970s.\n",
    "* In [August 1991](https://groups.google.com/forum/#!original/comp.os.minix/dlNtH7RRrGA/SwRavCzVE7gJ), [**Linus Torvalds**](https://en.wikipedia.org/wiki/Linus_Torvalds), then a computer science student of the University of Helsinki, after completing his mandatory military service in the summer of 1990, released the first prototype. Version 1.0 came out in 1994 and his Master's degree thesis, dated 1997, had title \"[Linux: a portable operating system](https://helka.finna.fi/Record/helka.2245032?lng=en-gb)\". (So it seems OK to start a big change in your area with your MS thesis.)"
   ]
  },
  {
   "cell_type": "markdown",
   "metadata": {},
   "source": [
    "* **bash** shell is a program that accept user commands through keyboard and tries to make approprite software to run."
   ]
  },
  {
   "cell_type": "markdown",
   "metadata": {},
   "source": [
    "* Hundreds of explaining is not like running it once. So please try followings. [[ref](https://www.imss.caltech.edu/node/324)]"
   ]
  },
  {
   "cell_type": "markdown",
   "metadata": {},
   "source": [
    "| command | expected behavior | example |\n",
    "|:-------:|:-----------------:|:-------:|\n",
    "| \\[Ctrl\\]+\\[Alt\\]+\\[t\\] | Open a new `bash` shell at `~` folder | \\[Ctrl\\]+\\[Alt\\]+\\[t\\] |\n",
    "|  `man`  | online help                       | `man ls`<br>`man -k gcc` |\n",
    "|  `pwd`  | print current *working directory* | `pwd`<br>`pwd --help` |\n",
    "|  `ls`   | list files of current working director | `ls`<br><code>ls -al ~/.* &#124; less</code> |\n",
    "| `mkdir` | make a directory | `mkdir ~/pycpp` | \n",
    "| `cd` | change working directory to a specified folder | `cd ~/pyc[TAB]` | \n",
    "| `which` | full *path* of a given command | `which apt-get` |\n",
    "| `cat` | list content of a text file<br>concatenate contents of multiple files | `cat ~/.bashrc`<br>`cat [file1] [file2] > [file3]` |\n",
    "| `cp` | copy a file  | `cp <source> <destination>` |\n",
    "| `vi` | start `vim` (ubiquitous) text editor | `vi ~/.bashrc`<br>\\[i\\]<br>`export path=\"<path to anaconda>/bin:$PATH\"`<br>\\[ESC\\]<br>`:wq` |\n",
    "| `source` | run a shell script (in the current shell) | `source ~/.bashrc` |\n",
    "| `env` | list *environment variables*<br>run a program in a modified environment | <code>env &#124; grep DISPLAY</code><br>`env DISPLAY=foo.bar:1.0 xcalc` |\n",
    "| `&` | start a command as a background process | (after installing Anaconda)<br>`jupyter notebook &` |\n",
    "| `&&` | run a series of commands in sequence | `git commit -m \"<msg>\" && git push` |\n",
    "| `alias` | list or define aliases | `alias --help` |\n",
    "| `sudo` | run a command as a different user | `sudo apt-get install g++` |\n",
    "| `su` | change user ID or become superuser | `su root` |\n",
    "| `apt-get` | Advanced Package Tool (originaly from Debian) | |"
   ]
  },
  {
   "cell_type": "markdown",
   "metadata": {},
   "source": [
    "## Shell scripts"
   ]
  },
  {
   "cell_type": "markdown",
   "metadata": {},
   "source": [
    "* If you create a text file containing shell commands, we can call it a shell script file and run on a shell such as bash."
   ]
  },
  {
   "cell_type": "markdown",
   "metadata": {},
   "source": [
    "* `cd <to the folder containing hello.cpp source>`\n",
    "* `vi name.sh`\n",
    "* \\[i\\]\n",
    "* Enter following code [[ref](https://www.macs.hw.ac.uk/~hwloidl/Courses/LinuxIntro/x984.html)]"
   ]
  },
  {
   "cell_type": "markdown",
   "metadata": {},
   "source": [
    "``` bash\n",
    "#!/bin/bash\n",
    "\n",
    "# example of using arguments to a script\n",
    "echo \"My first name is $1\"\n",
    "echo \"My surname is $2\"\n",
    "echo \"Total number of arguments is $#\" \n",
    "\n",
    "```"
   ]
  },
  {
   "cell_type": "markdown",
   "metadata": {},
   "source": [
    "* [ESC]<br>`:wq`\n",
    "* `source name.sh firstname surname`"
   ]
  },
  {
   "cell_type": "code",
   "execution_count": null,
   "metadata": {},
   "outputs": [],
   "source": []
  }
 ],
 "metadata": {
  "kernelspec": {
   "display_name": "Python 3",
   "language": "python",
   "name": "python3"
  },
  "language_info": {
   "codemirror_mode": {
    "name": "ipython",
    "version": 3
   },
   "file_extension": ".py",
   "mimetype": "text/x-python",
   "name": "python",
   "nbconvert_exporter": "python",
   "pygments_lexer": "ipython3",
   "version": "3.6.5"
  }
 },
 "nbformat": 4,
 "nbformat_minor": 2
}
