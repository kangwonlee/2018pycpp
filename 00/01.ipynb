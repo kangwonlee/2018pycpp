{
 "cells": [
  {
   "cell_type": "markdown",
   "metadata": {},
   "source": [
    "# Introducing Python"
   ]
  },
  {
   "cell_type": "markdown",
   "metadata": {},
   "source": [
    "* [**Guido van Rossum**](https://en.wikipedia.org/wiki/Guido_van_Rossum), a programmer of the Netherland created python in 1989.\n",
    "* [Python](https://en.wikipedia.org/wiki/Python_%28programming_language%29) is an interpreted high level language, easy to learn, free, and surrounded by many **modules** extending its functionalities.\n",
    "* In late 2010s, python is widely used in areas such as, but not limited to, scientific computation, data analytics and deep neural network machine learning."
   ]
  },
  {
   "cell_type": "markdown",
   "metadata": {},
   "source": [
    "* For example, following (procedural) code calculates sum from 1 to 100. Try selecting the cell and pressing [Shift]+[Enter]."
   ]
  },
  {
   "cell_type": "code",
   "execution_count": null,
   "metadata": {},
   "outputs": [],
   "source": [
    "s = 0\n",
    "\n",
    "for i in range(1, 100+1):\n",
    "    s += i\n",
    "\n",
    "print('s = %s' % s)\n",
    "\n"
   ]
  },
  {
   "cell_type": "markdown",
   "metadata": {},
   "source": [
    "* Following line checks if `s` contains expected result"
   ]
  },
  {
   "cell_type": "code",
   "execution_count": null,
   "metadata": {},
   "outputs": [],
   "source": [
    "assert 5050 == s\n",
    "\n"
   ]
  },
  {
   "cell_type": "markdown",
   "metadata": {},
   "source": [
    "* Also following (functional) code calculates sum from 1 to 100. Again, try selecting the cell and pressing [Shift]+[Enter]."
   ]
  },
  {
   "cell_type": "code",
   "execution_count": null,
   "metadata": {},
   "outputs": [],
   "source": [
    "print('s = %s' % sum(range(1, 100+1)))\n",
    "\n"
   ]
  },
  {
   "cell_type": "markdown",
   "metadata": {},
   "source": [
    "## Installing Anaconda distribution"
   ]
  },
  {
   "cell_type": "markdown",
   "metadata": {},
   "source": [
    "* We can obtain the software to develop programs in python through various distribution channels.\n",
    "* Among them, [Anaconda Distribution](https://www.anaconda.com/download/) with Python 3.6 or higher is preferred here.\n",
    "* The distribution includes [*SciPy Stack*](https://www.scipy.org/index.html) for scientific computation and `conda` package management software.\n",
    "* Anaconda also provides with a web page on [installing on Linux](http://docs.anaconda.com/anaconda/install/linux/).\n",
    "* On \"Do you wish the installer to prepend the Anaconda<2 or 3> install location to PATH in your /home/<user\\>/.bashrc ?\", please choose \"Yes\"."
   ]
  },
  {
   "cell_type": "markdown",
   "metadata": {},
   "source": [
    "After installing, please do one of followings.\n",
    "+ Close and then reopen the terminal window\n",
    "+ `source ~/.bashrc`"
   ]
  },
  {
   "cell_type": "markdown",
   "metadata": {},
   "source": [
    "## Installing MS VS Code"
   ]
  },
  {
   "cell_type": "markdown",
   "metadata": {},
   "source": [
    "* After installing Anaconda distribution, there is an option to continue to install [MS VS Code](https://code.visualstudio.com/).\n",
    "* To install, one may need to be able to use `sudo` command.\n",
    "* Another option is to [download](https://code.visualstudio.com/) and run the installer. \n",
    "* Please check [Python Tutorial](https://code.visualstudio.com/docs/python/python-tutorial)."
   ]
  },
  {
   "cell_type": "markdown",
   "metadata": {},
   "source": [
    "## \"Hello World!\" example"
   ]
  },
  {
   "cell_type": "markdown",
   "metadata": {},
   "source": [
    "* `cd <to an appropriate folder>`\n",
    "* `vi hello.py`\n",
    "* \\[i\\]\n",
    "* Enter following code"
   ]
  },
  {
   "cell_type": "markdown",
   "metadata": {},
   "source": [
    "``` python\n",
    "print('Hello World!')\n",
    "```"
   ]
  },
  {
   "cell_type": "markdown",
   "metadata": {},
   "source": [
    "* [ESC]<br>`:wq`\n",
    "* `python hello.py`"
   ]
  },
  {
   "cell_type": "markdown",
   "metadata": {},
   "source": [
    "### Running in the iPython Notebook"
   ]
  },
  {
   "cell_type": "markdown",
   "metadata": {},
   "source": [
    "Alternatively, please choose the following cell and press [Shift]+[Enter]."
   ]
  },
  {
   "cell_type": "code",
   "execution_count": null,
   "metadata": {},
   "outputs": [],
   "source": [
    "print('Hello World!')\n",
    "\n"
   ]
  },
  {
   "cell_type": "markdown",
   "metadata": {},
   "source": [
    "## Possible References"
   ]
  },
  {
   "cell_type": "markdown",
   "metadata": {},
   "source": [
    "* Shaw, Learn Python 3 The Hard Way, Addison-Wesley Professional, ISBN 978-0134862989, July 2017, [Online] Available : https://learnpythonthehardway.org/python3/\n",
    "* Beazley, Python Essential Reference, 2nd Ed, Sams Publishing,  ISBN 978-0735710917, 2001\n",
    "* Several introductory books available at https://wiki.python.org/moin/IntroductoryBooks"
   ]
  },
  {
   "cell_type": "markdown",
   "metadata": {},
   "source": [
    "## Short comments on some programming languages"
   ]
  },
  {
   "cell_type": "markdown",
   "metadata": {},
   "source": [
    " language | comment | level | note \n",
    ":-----:|:-----:|:-----:|:-----:\n",
    "Basic | Interpreted  high level language | high | MSX\n",
    "Fortran | Fast math calculation| high | LAPACK\n",
    "Pascal | Structural programming language | high | \n",
    "C | Assumes the programmer knows all | middle | \n",
    "C++ | C += OOP | middle | \n",
    "Assembly | close to machine language | low | \n",
    "Machine language | 0 or 1. Only language a computer can understand  | low | \n",
    "Matlab | Matrix computation | high | LAPACK\n",
    "Simulink | Graphic language | high*er* | \n",
    "Java | \"Write once, run everywhere\" | high | Matlab, Android\n",
    "Objective C | C+= small talk OOP | high | Mac, iPhone, iPad... \n",
    "python | interpreted, object oriented, open source | high | \n",
    "swift | binary level compatible with Objective C | high | Mac, iPhone, iPad...\n",
    "R | statistics? | high |\n",
    "Go | | high |\n",
    "Julia | scientific computation? (ju of `jupyter`) | high |\n",
    "Ruby | \tYukihiro Matsumoto | high |\n",
    "Rust |  | high | FireFox\n",
    "Erlang | \"Write once, run forever\" | high | 3G, LTE, ...\n",
    "\n"
   ]
  },
  {
   "cell_type": "code",
   "execution_count": null,
   "metadata": {},
   "outputs": [],
   "source": []
  }
 ],
 "metadata": {
  "kernelspec": {
   "display_name": "Python 3",
   "language": "python",
   "name": "python3"
  },
  "language_info": {
   "codemirror_mode": {
    "name": "ipython",
    "version": 3
   },
   "file_extension": ".py",
   "mimetype": "text/x-python",
   "name": "python",
   "nbconvert_exporter": "python",
   "pygments_lexer": "ipython3",
   "version": "3.6.5"
  }
 },
 "nbformat": 4,
 "nbformat_minor": 2
}
