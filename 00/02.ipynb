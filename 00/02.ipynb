{
 "cells": [
  {
   "cell_type": "markdown",
   "metadata": {},
   "source": [
    "# Introducing C/C++"
   ]
  },
  {
   "cell_type": "markdown",
   "metadata": {},
   "source": [
    "* [**Brian Kernighan**](https://en.wikipedia.org/wiki/Brian_Kernighan) and [**Dennis Ritchie**](https://en.wikipedia.org/wiki/Dennis_Ritchie), programmers of the [Bell Labs](https://en.wikipedia.org/wiki/Bell_Labs) published the first edition of the book on the [C Language](https://en.wikipedia.org/wiki/The_C_Programming_Language) in 1978.\n",
    "* [**Bjarne Stroustrup**](https://en.wikipedia.org/wiki/Bjarne_Stroustrup), a Danish computer scientist, started working on \"C with Classes\" in 1979, which he renamed to \"C++\" in 1983.\n"
   ]
  },
  {
   "cell_type": "markdown",
   "metadata": {},
   "source": [
    "* For example, following (procedural) code calculates sum from 1 to 100."
   ]
  },
  {
   "cell_type": "markdown",
   "metadata": {},
   "source": [
    "``` C++\n",
    "#include <iostream>\n",
    "#include <cstdio>\n",
    "\n",
    "int main(int argn, char * argv[]){\n",
    "    int s = 0;\n",
    "\n",
    "    for (int i=0; i<(100+1); ++i) {\n",
    "        s += i;\n",
    "    }\n",
    "    printf(\"s = %d\\n\", s);\n",
    "    std::cout << \"s = \" << s << '\\n';\n",
    "    \n",
    "    return 0;\n",
    "}\n",
    "```"
   ]
  },
  {
   "cell_type": "markdown",
   "metadata": {},
   "source": [
    "## Installing `g++`"
   ]
  },
  {
   "cell_type": "markdown",
   "metadata": {},
   "source": [
    "* `which g++`\n",
    "\n",
    "If `g++` not found, please try followings.\n",
    "* `su <one of sudoers>`\n",
    "* `sudo apt-get install g++`\n",
    "* `exit`\n",
    "* `which g++`\n",
    "\n",
    "Now we should be able to find the `g++`."
   ]
  },
  {
   "cell_type": "markdown",
   "metadata": {},
   "source": [
    "## Writing and running a C/C++ program"
   ]
  },
  {
   "cell_type": "markdown",
   "metadata": {},
   "source": [
    "* `cd <to an appropriate folder>`\n",
    "* `vi hello.cpp`\n",
    "* <kbd>i</kbd>\n",
    "* Enter following code"
   ]
  },
  {
   "cell_type": "markdown",
   "metadata": {},
   "source": [
    "``` C++\n",
    "#include <iostream>\n",
    "#include <cstdio>\n",
    "\n",
    "int main(int argn, char * argv[]){\n",
    "    printf(\"Hello World!\\n\");\n",
    "    std::cout << \"Hello World!\" << '\\n';\n",
    "    \n",
    "    return 0;\n",
    "}\n",
    "```"
   ]
  },
  {
   "cell_type": "markdown",
   "metadata": {},
   "source": [
    "* <kbd>Esc</kbd><br>`:wq`\n",
    "* `g++ -Wall -g hello.cpp -o hello && ./hello`"
   ]
  },
  {
   "cell_type": "markdown",
   "metadata": {},
   "source": [
    "### Compiling and running within `vi`"
   ]
  },
  {
   "cell_type": "markdown",
   "metadata": {},
   "source": [
    "* Please start by entering `vi hello.cpp`\n",
    "* Press <kbd>i</kbd> to switch to insert mode.\n",
    "* Enter the source code.\n",
    "* When finished, press <kbd>ESC</kbd> to switch to command mode.\n",
    "* Enter `:w` to save the file.\n",
    "* Enter `:!g++ -Wall -g hello.cpp -o hello` to compile the file.<br>If no error message, compile should have been successful.<br>Press <kbd>Enter</kbd>to return to the `vi` editor.\n",
    "* Enter `:!./hello` to run the program.\n",
    "* Above two steps in one line : `:!g++ -Wall -g hello.cpp -o hello && ./hello`\n",
    "\n"
   ]
  },
  {
   "cell_type": "markdown",
   "metadata": {},
   "source": [
    "## Automating with Makefile"
   ]
  },
  {
   "cell_type": "markdown",
   "metadata": {},
   "source": [
    "* `g++` would build the executable file\n",
    "* Using `make` we can automate the process"
   ]
  },
  {
   "cell_type": "markdown",
   "metadata": {},
   "source": [
    "### Installing make"
   ]
  },
  {
   "cell_type": "markdown",
   "metadata": {},
   "source": [
    "* `which make`\n",
    "\n",
    "If `make` not found, please try followings.\n",
    "* `su <one of sudoers>`\n",
    "* `sudo apt-get install make`<br>`sudo apt-get install make-guile`\n",
    "* `exit`\n",
    "* `which make`\n",
    "\n",
    "Make sure that we can find the `make`."
   ]
  },
  {
   "cell_type": "markdown",
   "metadata": {},
   "source": [
    "### Writing a Makefile"
   ]
  },
  {
   "cell_type": "markdown",
   "metadata": {},
   "source": [
    "* `cd <to the folder containing hello.cpp source>`\n",
    "* `vi makefile`\n",
    "* <kbd>i</kbd>\n",
    "* Enter following code \\[[ref0](http://courses.cms.caltech.edu/cs11/material/c/mike/misc/make.html), [ref1](http://mrbook.org/blog/tutorials/make/), [ref2](https://panthema.net/2013/0124-GCC-Output-Assembler-Code/), [ref3](https://stackoverflow.com/questions/10928966/make-multiple-targets-in-all), [ref4](https://stackoverflow.com/questions/16931770/makefile4-missing-separator-stop)\\]<br>note : all indentations are [Tab]."
   ]
  },
  {
   "cell_type": "markdown",
   "metadata": {},
   "source": [
    "``` makefile\n",
    "all : hello hello.s\n",
    "\n",
    "hello : hello.cpp\n",
    "\tg++ -Wall -g hello.cpp -o hello\n",
    "\n",
    "hello.s : hello.cpp\n",
    "\tg++ -g hello.cpp -Wa,-adhln=hello.s \n",
    "\n",
    "clean :\n",
    "\trm hello hello.s\n",
    "```"
   ]
  },
  {
   "cell_type": "markdown",
   "metadata": {},
   "source": [
    "* <kbd>Esc</kbd><br>`:wq`\n",
    "* `make`\n",
    "* `make hello.s`"
   ]
  },
  {
   "cell_type": "markdown",
   "metadata": {},
   "source": [
    "### Using variables in a Makefile"
   ]
  },
  {
   "cell_type": "markdown",
   "metadata": {},
   "source": [
    "* `cd <to the folder containing hello.cpp source>`\n",
    "* `vi makefile`\n",
    "* <kbd>i</kbd>\n",
    "* Enter following code<br>note : all indentations are [Tab]."
   ]
  },
  {
   "cell_type": "markdown",
   "metadata": {},
   "source": [
    "``` makefile\n",
    "\n",
    "SRC = hello\n",
    "CPP = $(SRC).cpp\n",
    "ASM = $(SRC).s\n",
    "\n",
    "CC = g++\n",
    "\n",
    "all : $(SRC) $(ASM)\n",
    "\n",
    "hello : $(CPP)\n",
    "\t$(CC) -Wall -g $(CPP) -o $(SRC)\n",
    "\n",
    "hello.s : $(CPP)\n",
    "\t$(CC) -g $(CPP) -Wa,-adhln=$(ASM) \n",
    "\n",
    "clean :\n",
    "\trm $(SRC) $(ASM)\n",
    "```\n",
    "\n"
   ]
  },
  {
   "cell_type": "markdown",
   "metadata": {},
   "source": [
    "* <kbd>Esc</kbd><br>`:wq`\n",
    "* `make clean`\n",
    "* `make hello.s`\n",
    "* `make`\n",
    "\n"
   ]
  },
  {
   "cell_type": "markdown",
   "metadata": {},
   "source": [
    "## Configuring MS VS Code to use the Makefile"
   ]
  },
  {
   "cell_type": "markdown",
   "metadata": {},
   "source": [
    "* <kbd>Ctrl</kbd>+<kbd>Shift</kbd>+<kbd>b</kbd>\n",
    "* Choose `Configure Build Task`\n",
    "* Choose `Open tasks.json file`\n",
    "* Configure as follows [[ref](https://code.visualstudio.com/docs/languages/cpp)]"
   ]
  },
  {
   "cell_type": "markdown",
   "metadata": {},
   "source": [
    "``` json\n",
    "{\n",
    "    \"version\": \"2.0.0\",\n",
    "    \"tasks\": [\n",
    "        {\n",
    "            \"label\": \"make\",\n",
    "            \"type\": \"shell\",\n",
    "            \"command\": \"make\",\n",
    "            \"group\": {\n",
    "                \"kind\" : \"build\", \n",
    "                \"isDefault\": true\n",
    "            }\n",
    "        }\n",
    "    ]\n",
    "}\n",
    "```"
   ]
  },
  {
   "cell_type": "markdown",
   "metadata": {},
   "source": [
    "## Debugging using `gdb`"
   ]
  },
  {
   "cell_type": "markdown",
   "metadata": {},
   "source": [
    "[[ref](http://courses.cms.caltech.edu/cs11/material/c/mike/misc/gdb.html)]"
   ]
  },
  {
   "cell_type": "markdown",
   "metadata": {},
   "source": [
    "| action |           `gdb`           |\n",
    "|:------:|:-------------------------:|\n",
    "| start  | \\$ `gdb <executable name>` |\n",
    "| list commands | `h`<br>`help` |\n",
    "| set break point at function `main`  | `b main` |\n",
    "| start program  | `r`<br>`run` |\n",
    "| step | `s` |\n",
    "| evaluate 1 + 2 | `print 1 + 2` |\n",
    "| evaluate `printf(\"Hello %d\", 4 + 5)` | `print printf(\"Hello %d\", 4 + 5)` |\n",
    "| continue process | `c` |\n",
    "| end debugger | `q` |\n",
    "\n",
    "\n"
   ]
  },
  {
   "cell_type": "markdown",
   "metadata": {},
   "source": [
    "## Debugging using `gdb` in MS VS Code"
   ]
  },
  {
   "cell_type": "markdown",
   "metadata": {},
   "source": [
    "* Follow instructions on [MS VS Code website](https://code.visualstudio.com/docs/languages/cpp) to configure :"
   ]
  },
  {
   "cell_type": "markdown",
   "metadata": {},
   "source": [
    "* Following is a sample `launch.json` for `(gdb) Launch`"
   ]
  },
  {
   "cell_type": "markdown",
   "metadata": {},
   "source": [
    "``` json\n",
    "{\n",
    "    // Use IntelliSense to learn about possible attributes.\n",
    "    // Hover to view descriptions of existing attributes.\n",
    "    // For more information, visit: https://go.microsoft.com/fwlink/?linkid=830387\n",
    "    \"version\": \"0.2.0\",\n",
    "    \"configurations\": [\n",
    "        {\n",
    "            \"name\": \"(gdb) Launch\",\n",
    "            \"type\": \"cppdbg\",\n",
    "            \"request\": \"launch\",\n",
    "            \"program\": \"${workspaceFolder}/hello\",\n",
    "            \"args\": [],\n",
    "            \"stopAtEntry\": false,\n",
    "            \"cwd\": \"${workspaceFolder}\",\n",
    "            \"environment\": [],\n",
    "            \"externalConsole\": true,\n",
    "            \"MIMode\": \"gdb\",\n",
    "            \"setupCommands\": [\n",
    "                {\n",
    "                    \"description\": \"Enable pretty-printing for gdb\",\n",
    "                    \"text\": \"-enable-pretty-printing\",\n",
    "                    \"ignoreFailures\": true\n",
    "                }\n",
    "            ],\n",
    "            \"preLaunchTask\": \"make\",\n",
    "        }\n",
    "    ]\n",
    "}\n",
    "```"
   ]
  },
  {
   "cell_type": "markdown",
   "metadata": {},
   "source": [
    "## Practice: Building and debugging using MS VS Code"
   ]
  },
  {
   "cell_type": "markdown",
   "metadata": {},
   "source": [
    "* See [C/C++ for Visual Studio Code](https://code.visualstudio.com/docs/languages/cpp) for details.\n",
    "* Please start by entering `code . &`\n",
    "* If not done yet, please install **Microsoft C/C++ extension**.<br>Press <kbd>Ctrl</kbd>+<kbd>Shift</kbd>+<kbd>x</kbd> and search.\n",
    "* Open the Command Palate using <kbd>Ctrl</kbd>+<kbd>Shift</kbd>+<kbd>p</kbd>.\n",
    "* Select **Tasks: Configure Tasks...**.\n",
    "* Select **Create tasks.json file from template**.\n",
    "* Choose **Others**.\n",
    "* Change value of **command** to \"`g++`\" and add a comma at the end.\n",
    "* Add key \"`args`\" and its value as a bracket list as follows. [[ref](https://stackoverflow.com/questions/45679035/build-currently-opened-file-in-visual-studio-code)]<br>\n",
    "`[\"-g\", ${file}]`\n",
    "* To enable **Tasks: Run Build Task**, add \"`group`\" key-value pair.<br>\n",
    "The tasks.json file would look as follows: <br>\n",
    "\n",
    "``` json \n",
    "{\n",
    "    \"version\": \"2.0.0\",\n",
    "    \"tasks\": [\n",
    "        {\n",
    "            \"label\": \"build current file\",\n",
    "            \"type\": \"shell\",\n",
    "            \"command\": \"g++\",\n",
    "            \"args\": [\n",
    "                \"-g\", \"${file}\"\n",
    "            ],\n",
    "            \"group\": {\n",
    "                \"kind\": \"build\",\n",
    "                \"isDefault\": true\n",
    "            }\n",
    "        }\n",
    "    ]\n",
    "}\n",
    "```\n",
    "* To build, press <kbd>Ctrl</kbd>+<kbd>Shift</kbd>+<kbd>b</kbd>.\n",
    "* To run, press <kbd>Ctrl</kbd>+<kbd>F5</kbd>.\n",
    "* When `launch.json` appears, change the value of \"program\" to something like \"`${workspaceFolder}/a.out`\".\n",
    "* Click on the left side of the row `int s = 0;` to set a break point.<br>\n",
    "A red circle would appear.\n",
    "* To debug, press <kbd>F5</kbd>.<br>\n",
    "The debugger would wait for your command at the breakpoint.\n",
    "* Press <kbd>F10</kbd>.<br>\n",
    "The debugger would move the highlight line to the next line.\n",
    "* Continue pressing <kbd>F10</kbd>.<br>\n",
    "The debugger would update variables as the program executes.\n",
    "* To open console pane, press <kbd>Ctrl</kbd>+<kbd>~</kbd>.\n",
    "* Select `Debug Console` and enter a name of a variable to check its value.\n",
    "* If there is an iteration and you want to skip it, make another breakpoint after the loop and press <kbd>F5</kbd>.\n",
    "* To finish debugging press <kbd>Shift</kbd>+<kbd>F5</kbd>.\n",
    "* If you think it might be helpful, commit `tasks.json` and `launch.json` files into your repository.\n",
    "\n"
   ]
  },
  {
   "cell_type": "code",
   "execution_count": null,
   "metadata": {},
   "outputs": [],
   "source": []
  }
 ],
 "metadata": {
  "kernelspec": {
   "display_name": "Python 3",
   "language": "python",
   "name": "python3"
  },
  "language_info": {
   "codemirror_mode": {
    "name": "ipython",
    "version": 3
   },
   "file_extension": ".py",
   "mimetype": "text/x-python",
   "name": "python",
   "nbconvert_exporter": "python",
   "pygments_lexer": "ipython3",
   "version": "3.6.5"
  }
 },
 "nbformat": 4,
 "nbformat_minor": 2
}
