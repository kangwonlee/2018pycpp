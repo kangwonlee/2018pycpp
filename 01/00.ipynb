{
 "cells": [
  {
   "cell_type": "markdown",
   "metadata": {},
   "source": [
    "# Introducing `git` version control system"
   ]
  },
  {
   "cell_type": "markdown",
   "metadata": {},
   "source": [
    "* A [version control](https://en.wikipedia.org/wiki/Version_control) system helps keeping track of changes in software source code base.\n",
    "* With a version control system, to trying and testing possibly risky attempts can be easier.\n",
    "* Currently in the late 2010s, [`git`](https://en.wikipedia.org/wiki/List_of_version_control_software) is one of the [available version control softwares](https://en.wikipedia.org/wiki/List_of_version_control_software), \n",
    "* Linus Torvalds created `git` in 2005 to maintain the Linux kernel.\n",
    "* `git` is an [open source](https://github.com/git/git) [distributed](https://blog.osteele.com/2008/05/commit-policies/) version control system. A repository may have remote versions and local versions that are (practically) identical.\n",
    "\n"
   ]
  },
  {
   "cell_type": "markdown",
   "metadata": {},
   "source": [
    "[[ref0](https://git-scm.com/book/en/v2), [ref1](https://github.com/progit)]"
   ]
  },
  {
   "cell_type": "markdown",
   "metadata": {},
   "source": [
    "| command | expected behavior | example |\n",
    "|:-------:|:-----------------:|:-------:|\n",
    "| `init` | initialize a git repository | `git init` |\n",
    "| `log` | current status of a git repository | `git log`<br>`git log --help`<br>`git log --oneline --graph --all` |\n",
    "| `status` | current status of a git repository | `git status` |\n",
    "| `diff` | visualize changes after last commit and/or staging | `git diff`<br>`git diff HEAD`<br>`git diff HEAD^` |\n",
    "| `config user.name` | specify the commiter's name  | `git config user.name <your name>` |\n",
    "| `config user.email` | specify the commiter's email address  | `git config user.email <your email>` |\n",
    "| `remote` | manage remote repositories | `git remote add origin <remote repo>` |\n",
    "| `add` | stage some change to commit | `git add <path to a changed file>`<br>`git add -p` |\n",
    "| `commit` | create an entry of change | `git commit`<br>`git commit -m <message>` |\n",
    "| `push` | upload the changes to a remote repository | `git push`<br>`git push -u origin <branch name>` |\n",
    "| `checkout ` | switch code base to a certain commit | `git checkout <commit hash>`<br>`git checkout -b <new branch>`<br>`git checkout -- <file to undo>` |\n",
    "| `branch` | manage branches | `git branch`<br>`git branch -r` |\n",
    "| `blame` | relates each line of code with commits | `git blame <file path>`|\n",
    "\n"
   ]
  },
  {
   "cell_type": "markdown",
   "metadata": {},
   "source": [
    "## Creating a `github` account\n",
    "\n"
   ]
  },
  {
   "cell_type": "markdown",
   "metadata": {},
   "source": [
    "* [`github`](https://www.github.com) is one of `git` remote repositoy hosting services.\n",
    "* [`dev.naver.com`](https://dev.naver.com) used to provide such service until recent years.\n",
    "* `github` also has an [education](https://education.github.com) service.\n",
    "* May require to verfy email address.\n",
    "\n"
   ]
  },
  {
   "cell_type": "markdown",
   "metadata": {},
   "source": [
    "* A free user account can generate indefinite number of Public repositories.\n",
    "* Usually a github repository address has following form:<br>`https://github.com/<github id>/<repository name>(.git)`\n",
    "* IMHO, following `git` command could be one way to add such address to a local repository.<br>`git remote add <remote name> https://<github id>@github.com/<github id>/<repository name>(.git)`\n",
    "\n",
    "* With an academic email address, an instructor may upgrade to an education account; possible to create private repositories.\n",
    "* Depending on the situation, an instructor may create an organization on the github; then the address may take following form :<br>`https://<github id>@github.com/<organization id>/<repository name>(.git)`"
   ]
  },
  {
   "cell_type": "markdown",
   "metadata": {},
   "source": [
    "* To avoid unauthorized source code change, a remote repository may require id+password authentication.\n",
    "* To improve productivity during frequent pushes, `git` may utilize credential helper.\n",
    "* A credential helper stores the authentication information possibly after encryption."
   ]
  },
  {
   "cell_type": "code",
   "execution_count": null,
   "metadata": {},
   "outputs": [],
   "source": []
  }
 ],
 "metadata": {
  "kernelspec": {
   "display_name": "Python [default]",
   "language": "python",
   "name": "python3"
  },
  "language_info": {
   "codemirror_mode": {
    "name": "ipython",
    "version": 3
   },
   "file_extension": ".py",
   "mimetype": "text/x-python",
   "name": "python",
   "nbconvert_exporter": "python",
   "pygments_lexer": "ipython3",
   "version": "3.6.6"
  }
 },
 "nbformat": 4,
 "nbformat_minor": 2
}
