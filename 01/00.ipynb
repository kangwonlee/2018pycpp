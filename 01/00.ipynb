{
 "cells": [
  {
   "cell_type": "markdown",
   "metadata": {},
   "source": [
    "# Introducing `git` version control system"
   ]
  },
  {
   "cell_type": "markdown",
   "metadata": {},
   "source": [
    "* A [version control](https://en.wikipedia.org/wiki/Version_control) system helps keeping track of changes in software source code base.\n",
    "* With a version control system, to trying and testing possibly risky attempts can be easier.\n",
    "* Currently in the late 2010s, [`git`](https://en.wikipedia.org/wiki/List_of_version_control_software) is one of the [available version control softwares](https://en.wikipedia.org/wiki/List_of_version_control_software), \n",
    "* Linus Torvalds created [`git`](https://github.com/git/git) in 2005 to maintain the Linux kernel."
   ]
  },
  {
   "cell_type": "markdown",
   "metadata": {},
   "source": []
  },
  {
   "cell_type": "code",
   "execution_count": null,
   "metadata": {},
   "outputs": [],
   "source": []
  }
 ],
 "metadata": {
  "kernelspec": {
   "display_name": "Python [default]",
   "language": "python",
   "name": "python3"
  },
  "language_info": {
   "codemirror_mode": {
    "name": "ipython",
    "version": 3
   },
   "file_extension": ".py",
   "mimetype": "text/x-python",
   "name": "python",
   "nbconvert_exporter": "python",
   "pygments_lexer": "ipython3",
   "version": "3.6.6"
  }
 },
 "nbformat": 4,
 "nbformat_minor": 2
}
