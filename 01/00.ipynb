{
 "cells": [
  {
   "cell_type": "markdown",
   "metadata": {},
   "source": [
    "# Introducing `git` version control system"
   ]
  },
  {
   "cell_type": "markdown",
   "metadata": {},
   "source": [
    "* A [version control](https://en.wikipedia.org/wiki/Version_control) system helps keeping track of changes in software source code base.\n",
    "* With a version control system, to trying and testing possibly risky attempts can be easier.\n",
    "* Currently in the late 2010s, [`git`](https://en.wikipedia.org/wiki/List_of_version_control_software) is one of the [available version control softwares](https://en.wikipedia.org/wiki/List_of_version_control_software), \n",
    "* Linus Torvalds created [`git`](https://github.com/git/git) in 2005 to maintain the Linux kernel."
   ]
  },
  {
   "cell_type": "markdown",
   "metadata": {},
   "source": [
    "[[ref0](https://git-scm.com/book/en/v2), [ref1](https://github.com/progit)]"
   ]
  },
  {
   "cell_type": "markdown",
   "metadata": {},
   "source": [
    "| command | expected behavior | example |\n",
    "|:-------:|:-----------------:|:-------:|\n",
    "| `init` | initialize a git repository | `git init` |\n",
    "| `log` | current status of a git repository | `git log`<br>`git log --help`<br>`git log --oneline --graph --all` |\n",
    "| `status` | current status of a git repository | `git status` |\n",
    "| `diff` | visualize changes after last commit and/or staging | `git diff`<br>`git diff HEAD`<br>`git diff HEAD^` |\n",
    "| `config user.name` | specify the commiter's name  | `git config user.name <your name>` |\n",
    "| `config user.email` | specify the commiter's email address  | `git config user.email <your email>` |\n",
    "| `remote` | manage remote repositories | `git remote add origin <remote repo>` |\n",
    "| `add` | stage some change to commit | `git add <path to a changed file>`<br>`git add -p` |\n",
    "| `commit` | create an entry of change | `git commit`<br>`git commit -m <message>` |\n",
    "| `push` | upload the changes to a remote repository | `git push`<br>`git push -u origin <branch name>` |\n",
    "| `checkout ` | switch code base to a certain commit | `git checkout <commit hash>`<br>`git checkout -b <new branch>`<br>`git checkout -- <file to undo>` |\n",
    "| `branch` | manage branches | `git branch`<br>`git branch -r` |\n",
    "\n"
   ]
  },
  {
   "cell_type": "markdown",
   "metadata": {},
   "source": [
    "## Creating a `github` account"
   ]
  },
  {
   "cell_type": "code",
   "execution_count": null,
   "metadata": {},
   "outputs": [],
   "source": []
  }
 ],
 "metadata": {
  "kernelspec": {
   "display_name": "Python [default]",
   "language": "python",
   "name": "python3"
  },
  "language_info": {
   "codemirror_mode": {
    "name": "ipython",
    "version": 3
   },
   "file_extension": ".py",
   "mimetype": "text/x-python",
   "name": "python",
   "nbconvert_exporter": "python",
   "pygments_lexer": "ipython3",
   "version": "3.6.6"
  }
 },
 "nbformat": 4,
 "nbformat_minor": 2
}
