{
 "cells": [
  {
   "cell_type": "markdown",
   "metadata": {},
   "source": [
    "# Introducing `git` version control system"
   ]
  },
  {
   "cell_type": "markdown",
   "metadata": {},
   "source": [
    "* A [version control](https://en.wikipedia.org/wiki/Version_control) system helps keeping track of changes in software source code.\n",
    "* With a version control system, trying and testing possibly risky attempts can be easier.\n",
    "* Currently in the late 2010s, [`git`](https://en.wikipedia.org/wiki/List_of_version_control_software) is one of the [available version control softwares](https://en.wikipedia.org/wiki/List_of_version_control_software), \n",
    "* Linus Torvalds created `git` in 2005 to maintain the Linux kernel.\n",
    "* `git` is an [open source](https://github.com/git/git) distributed version control system. A repository may have remote versions and local versions that are (practically) identical.\n",
    "\n"
   ]
  },
  {
   "cell_type": "markdown",
   "metadata": {},
   "source": [
    "[![Git Data Transport Commands](https://images.osteele.com/2008/git-transport.png)](https://blog.osteele.com/2008/05/my-git-workflow/)"
   ]
  },
  {
   "cell_type": "markdown",
   "metadata": {},
   "source": [
    "[[ref0](https://git-scm.com/book/en/v2), [ref1](https://github.com/progit)]"
   ]
  },
  {
   "cell_type": "markdown",
   "metadata": {},
   "source": [
    "| command | expected behavior | example |\n",
    "|:-------:|:-----------------:|:-------:|\n",
    "| `init` | initialize a git repository | `git init` |\n",
    "| `clone` | clone a git repository | `git clone <repo url>`<br>`git clone file://<path>` |\n",
    "| `log` | list the commit history | `git log`<br>`git log --help`<br>`git log --stat`<br>`git log --oneline --graph --all` |\n",
    "| `status` | current status of a git repository | `git status` |\n",
    "| `diff` | visualize changes after last commit and/or staging | `git diff`<br>`git diff HEAD`<br>`git diff HEAD^` |\n",
    "| `config` | list or adjust configuration | `git config --list`<br>`git config --global --unset credential.helper` |\n",
    "| `config user.name` | specify the user's name  | `git config user.name <your name>` |\n",
    "| `config user.email` | specify the user's email address  | `git config user.email <your email>` |\n",
    "| `remote` | manage remote repositories | `git remote add origin <remote repo>` |\n",
    "| `add` | stage some change to commit | `git add <path to a changed file>`<br>`git add -p` |\n",
    "| `commit` | create an entry of change | `git commit`<br>`git commit -m <message>` |\n",
    "| `push` | upload the changes to a remote repository | `git push`<br>`git push -u origin <branch name>` |\n",
    "| `checkout ` | switch workspace to a certain commit | `git checkout <commit hash>`<br>`git checkout -b <new branch>`<br>`git checkout -- <file to undo>` |\n",
    "| [`branch`](https://git-scm.com/docs/git-branch) | manage branches | `git branch`<br>`git branch -r` |\n",
    "| `blame` | relates each line of code with commits | `git blame <file path>`|\n",
    "| [`rebase`](https://git-scm.com/docs/git-rebase) | move current branch on top of another branch | `git rebase <branch>`<br>`git rebase -i <commit>` |\n",
    "| [`merge`](https://git-scm.com/book/en/v2/Git-Branching-Basic-Branching-and-Merging) | merge another branch to the current branch | `git merge --no-ff <other branch>`|\n",
    "\n"
   ]
  },
  {
   "cell_type": "markdown",
   "metadata": {},
   "source": [
    "# Practice"
   ]
  },
  {
   "cell_type": "markdown",
   "metadata": {},
   "source": [
    "1. Go to the github website and log in.\n",
    "1. Go to one of the repositories of your interest.<br>For this example, this page would use Wes McKinney's [Python for Data Analysis](https://github.com/wesm/pydata-book).<br>\n",
    "Its repository addres is : https://github.com/wesm/pydata-book\n",
    "1. Let's try cloning the repository.<br>\n",
    "`git clone https://github.com/wesm/pydata-book`<br>\n",
    "1. Now try `cd pydata-book` and `ls -a` commands.\n",
    "<br>Note if a folder `.git` is visible.\n",
    "1. Enter `pwd` to check the current full path.<br>\n",
    "Let's assume the folder is : `/home/user/Documents/pydata-book`\n",
    "1. `git remote` would list of available remote repository names.\n",
    "1. `git remote get-url origin` would show the link to the `origin` repository.<br>If developers contribute to the [Python for Data Analysis](https://github.com/wesm/pydata-book), you would be able to update this repository using `git pull origin`.\n",
    "1. If your name and email address are \"ABC\" and abc@naver.com respectively, enter `git config user.name ABC` and `git config user.email abc@naver.com`.\n",
    "1. `git config --list` would show configurations of this repository.\n",
    "1. Try `echo \"test\" > test.txt` to create a sample text file.\n",
    "1. `git status` would show:\n",
    "<br>The current branch \n",
    "<br>Sync with the branch of the remote repository\n",
    "<br>One file that `git` is not trcking\n",
    "1. Enter `git add test.txt`\n",
    "1. `git status` would show:\n",
    "<br>Branch and sync information would not change\n",
    "<br>One file added to the stage (or index) to be committed\n",
    "1. Enter `git commit -m \"Added test.txt\"`<br>\n",
    "`git` would show messages.\n",
    "1. Check `git status`.\n",
    "1. Now `git log --state` would show the hash value, date & time, your name & email, commit message, and the file change of the commits.\n",
    "1. Open the new file using an editor : `vi test.txt` or `nano test.txt`.\n",
    "1. Add one more line, save, and exit the editor.\n",
    "1. `git status` would show one file is changed.\n",
    "1. `git diff` would show the changes in the files.\n",
    "1. `git add test.txt` and `git commit -m \"Changed test.txt\"` would commit the file.\n",
    "1. Check `git status` and `git log --stat`.\n",
    "1. `git log --oneline --graph --all` would show the commit tree.\n",
    "1. Enter `cd ..` to move up one level.\n",
    "1. Enter `git clone /home/user/Documents/pydata-book temp`.<br>`git` would clone anoter repository in folder `temp`. (This example is just to show cloning a local repository is possible)\n",
    "1. Enter `cd temp` and `git log`.\n",
    "1. Enter `git remote`.\n",
    "1. Enter `git remote get-url origin`. You would be able to see the remote repository location.\n",
    "\n",
    "1. Try `git config --list`\n",
    "1. Try `git remote add upstream https://github.com/wesm/pydata-book`\n",
    "1. Now try `git remote` and/or `git remote get-url upstream`.<br>`git pull upstream` would update this local repository.\n",
    "\n"
   ]
  },
  {
   "cell_type": "markdown",
   "metadata": {},
   "source": [
    "## Creating a `github` account\n",
    "\n"
   ]
  },
  {
   "cell_type": "markdown",
   "metadata": {},
   "source": [
    "[![github](https://avatars1.githubusercontent.com/u/9919?s=200&v=4)](https://www.github.com)"
   ]
  },
  {
   "cell_type": "markdown",
   "metadata": {},
   "source": [
    "* [`github`](https://www.github.com) is one of `git` remote [repository hosting services](https://en.wikipedia.org/wiki/Comparison_of_source_code_hosting_facilities#Version_control_systems).\n",
    "* [`dev.naver.com`](https://dev.naver.com) used to provide such service until recent years.\n",
    "* `github` also has an [education](https://education.github.com) service.\n",
    "* May require to verify email address.\n",
    "\n"
   ]
  },
  {
   "cell_type": "markdown",
   "metadata": {},
   "source": [
    "* A free user account can generate indefinite number of Public repositories.\n",
    "* Usually a github repository address has following form:<br>`https://github.com/<github id>/<repository name>(.git)`<br>\n",
    "ex : [`https://github.com/tensorflow/tensorflow.git`](https://github.com/tensorflow/tensorflow)\n",
    "* A user can `fork` a public repository.<br>ex : `https://github.com/<github id>/tensorflow.git`<br>This is equivalent to having a clone with a link.\n",
    "* If planning to use only one user account for a specific repository, following command is possible.<br>`git remote add <remote name> https://<github id>@github.com/<github id>/<repository name>(.git)`\n",
    "\n",
    "* With an academic email address and a school ID card image, an instructor (or a [student](https://education.github.com/pack)) may upgrade to an education account; possible to create private repositories.\n",
    "* Depending on the situation, an instructor may create an organization on the github; then a repository may have following form :<br>`https://(<github id>@)github.com/<organization id>/<repository name>(.git)`\n",
    "\n"
   ]
  },
  {
   "cell_type": "markdown",
   "metadata": {},
   "source": [
    "### Authentication"
   ]
  },
  {
   "cell_type": "markdown",
   "metadata": {},
   "source": [
    "* To avoid unauthorized source code change, a remote repository may require id+password authentication.\n",
    "* To improve productivity during frequent pushes, `git` may utilize credential helper.\n",
    "* A credential helper stores the authentication information possibly after encryption.\n",
    "* Following command shows current (global) credential helper:<br>`git config (--global) credential.helper`\n",
    "* However, credential information might be sensitive so please use with caution.\n",
    "\n"
   ]
  },
  {
   "cell_type": "markdown",
   "metadata": {},
   "source": [
    "## Creating branches and switching between them"
   ]
  },
  {
   "cell_type": "markdown",
   "metadata": {},
   "source": [
    "* Assume you want to test a *radical* new feature; if successful, it would be great new addition.\n",
    "* However, you want the existing code base intact until success is certain.\n",
    "* Then you can start a new branch.<br>Only when the new feature is successful, you would merge into the existing code base."
   ]
  },
  {
   "cell_type": "markdown",
   "metadata": {},
   "source": [
    "[![git branch](https://git-scm.com/book/en/v2/images/advance-master.png)](https://git-scm.com/book/en/v2/Git-Branching-Branches-in-a-Nutshell)"
   ]
  },
  {
   "cell_type": "markdown",
   "metadata": {},
   "source": [
    "1. `git branch (--list)` would list branches of the local repository.<br>`git branch -r` to list remote branches.\n",
    "1. `git branch <new branch name>` would start a new branch.\n",
    "1. `git checkout <new branch name>` would switch to the new branch.\n",
    "1. `git checkout -b <new branch name>` would do both steps above.\n",
    "1. From now on, this new branch would accumulate commits.\n",
    "1. After a few commits, when `git status` shows no uncommitted changes, try `git checkout <previous branch name>`.<br>Then check the files that you changed after previous step.\n",
    "1. And then try `git checkout <new branch name>` again. What happened to your changes?"
   ]
  },
  {
   "cell_type": "markdown",
   "metadata": {},
   "source": [
    "## Synchronizing after fork or distribution"
   ]
  },
  {
   "cell_type": "markdown",
   "metadata": {},
   "source": [
    "* When you click on the `fork` button of a repository, you can duplicate it so that you can make changes.\n",
    "* However, the developers may continue to the original (or *upstream*) repository; fix bugs and add more features.\n",
    "* At some point of time, you may want to update your duplicate repository.\n",
    "* [Github](https://help.github.com/articles/syncing-a-fork/) described the procedure to synchronize a fork repository with the upstream repository."
   ]
  },
  {
   "cell_type": "markdown",
   "metadata": {},
   "source": [
    "1. If not done yet, clone your remote fork repository to a local repository.\n",
    "1. `git remote` will list names of remote repositories. Let's assume `origin` points to your fork repository.\n",
    "1. Add the *upstream* repository address as `upstream`. <br>`git remote add upstream <upstream repository address>`\n",
    "1. `git fetch upstream` would download updates from the upstream repository. However, this alone would not change your workspace yet.\n",
    "1. Try `git log --oneline --graph --all`.  This would show you all the histories of local and remote branches.\n",
    "1. Choose one of the local branches that you want to update.  Let's assume its name is `first_branch`.\n",
    "1. Try `git rebase first_branch upstream/first_branch`. This would apply new commits in `upstream/first_branch` after fork to your local branch.<br>Depending on the situation, collsion may occur; then we should manually [resolve](https://git-scm.com/book/en/v2/Git-Tools-Advanced-Merging) the conflict.\n",
    "1. Now `git push origin first_branch` to apply the new commits to the remote fork repository.\n",
    "1. Repeat from `git log --oneline --graph -all` for all branches of interest."
   ]
  },
  {
   "cell_type": "markdown",
   "metadata": {},
   "source": [
    "## Travis-CI and Continuous Integration"
   ]
  },
  {
   "cell_type": "markdown",
   "metadata": {},
   "source": [
    "* In short, if you have an open source software project, [Travis-CI](https://www.travis-ci.org) would be able to build, run test software, and reply reports as specified.\n",
    "* Please refer to  the [Travis-CI documentation](https://docs.travis-ci.com/) for details."
   ]
  },
  {
   "cell_type": "markdown",
   "metadata": {},
   "source": [
    "## Exercises"
   ]
  },
  {
   "cell_type": "markdown",
   "metadata": {},
   "source": [
    "### 00 : Your first commit"
   ]
  },
  {
   "cell_type": "markdown",
   "metadata": {},
   "source": [
    "1. Clone your repository to your PC\n",
    "1. Configure your name and email address\n",
    "1. Make a new text file with a plain text\n",
    "<br>What would you want to write to the file?\n",
    "1. Add the new file\n",
    "1. Commit the changes to your local repository with an appropriate message\n",
    "1. Push your changes to your repository"
   ]
  },
  {
   "cell_type": "markdown",
   "metadata": {},
   "source": [
    "### 01 : Sync with upstream"
   ]
  },
  {
   "cell_type": "markdown",
   "metadata": {},
   "source": [
    "1. Clone your repository to your PC\n",
    "1. Add the upstream repository url as remote\n",
    "1. Fetch from the upstream repository\n",
    "<br>Try `git log --oneline --all --graph`\n",
    "1. Merge with the upstream branch\n",
    "<br>How can we use `git merge` command?\n",
    "<br>Did you see a message of \"CONFLICT\"?\n",
    "1. Push your changes to your repository"
   ]
  },
  {
   "cell_type": "markdown",
   "metadata": {},
   "source": [
    "### 02* : ipynb"
   ]
  },
  {
   "cell_type": "markdown",
   "metadata": {},
   "source": [
    "* This is an optional assignment\n",
    "* Please use a separate file : .txt, .ipynb, or .md"
   ]
  },
  {
   "cell_type": "markdown",
   "metadata": {},
   "source": [
    "1. Propose a possible procedure to version-control .ipynb files\n",
    "1. Propose a possible procedure to resolve conflict of an .ipynb file"
   ]
  },
  {
   "cell_type": "code",
   "execution_count": null,
   "metadata": {},
   "outputs": [],
   "source": []
  }
 ],
 "metadata": {
  "kernelspec": {
   "display_name": "Python 3",
   "language": "python",
   "name": "python3"
  },
  "language_info": {
   "codemirror_mode": {
    "name": "ipython",
    "version": 3
   },
   "file_extension": ".py",
   "mimetype": "text/x-python",
   "name": "python",
   "nbconvert_exporter": "python",
   "pygments_lexer": "ipython3",
   "version": "3.6.5"
  }
 },
 "nbformat": 4,
 "nbformat_minor": 2
}
