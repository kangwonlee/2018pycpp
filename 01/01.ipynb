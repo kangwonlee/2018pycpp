{
 "cells": [
  {
   "cell_type": "markdown",
   "metadata": {},
   "source": [
    "# Representing Data types"
   ]
  },
  {
   "cell_type": "markdown",
   "metadata": {},
   "source": [
    "Let's take a look at natural numbers, negative integers, and real numbers."
   ]
  },
  {
   "cell_type": "markdown",
   "metadata": {},
   "source": [
    "## Representing natural numbers"
   ]
  },
  {
   "cell_type": "markdown",
   "metadata": {},
   "source": [
    "* Basically, computers can handle 0 or 1 only."
   ]
  },
  {
   "cell_type": "markdown",
   "metadata": {},
   "source": [
    "* Here, to **handle** means to store in memory, to operate, and to output."
   ]
  },
  {
   "cell_type": "markdown",
   "metadata": {},
   "source": [
    "* We call the smallest unit that can handle 0 or 1 a **bit**."
   ]
  },
  {
   "cell_type": "markdown",
   "metadata": {},
   "source": [
    "* When you hear about a personal computer is for example 32 bit or 64 bit, please recall this."
   ]
  },
  {
   "cell_type": "markdown",
   "metadata": {},
   "source": [
    "* It means the number of bits that the computer can process at once."
   ]
  },
  {
   "cell_type": "markdown",
   "metadata": {},
   "source": [
    "* To handle larger (natural) numbers, we need more number of bits."
   ]
  },
  {
   "cell_type": "markdown",
   "metadata": {},
   "source": [
    "* Following table shows decimal numbers in binary and hexadecimal format."
   ]
  },
  {
   "cell_type": "markdown",
   "metadata": {},
   "source": [
    "| Decimal | Binary | no. bits | no. bytes | Hexadecimal |\n",
    "|:--------------:|:------------:|:------------:|:------------:|:-------------------:|\n",
    "|0|0|1|1|0|\n",
    "|1|1|1|1|1|\n",
    "|2|10|2|1|2|\n",
    "|3|11|2|1|3|\n",
    "|4|100|3|1|4|\n",
    "|5|101|3|1|5|\n",
    "|6|110|3|1|6|\n",
    "|7|111|3|1|7|\n",
    "|8|1000|4|1|8|\n",
    "|9|1001|4|1|9|\n",
    "|10|1010|4|1|A|\n",
    "|11|1011|4|1|B|\n",
    "|12|1100|4|1|C|\n",
    "|13|1101|4|1|D|\n",
    "|14|1110|4|1|E|\n",
    "|15|1111|4|1|F|\n",
    "|16|10000|5|1|10|\n",
    "|17|10001|5|1|11|\n",
    "|18|10010|5|1|12|\n",
    "|19|10011|5|1|13|\n",
    "|20|10100|5|1|14|\n",
    "|127|1111111|7|1|7F|\n",
    "|128|10000000|8|1|80|\n",
    "|255|11111111|8|1|FF|\n",
    "|256|100000000|9|2|100|\n",
    "|32767|111111111111111|15|2|7FFF|\n",
    "|32768|1000000000000000|16|2|8000|\n",
    "|65535|1111111111111111|16|2|FFFF|\n",
    "|65536|10000000000000000|17|3|10000|\n",
    "|4294967295|11111111111111111111111111111111|32|4|FFFFFFFF|\n",
    "|4294967296|100000000000000000000000000000000|33|5|100000000|\n",
    "|9223372036854775807|111111111111111111111111111111111111111111111111111111111111111|63|8|7FFFFFFFFFFFFFFF|\n",
    "|9223372036854775808|1000000000000000000000000000000000000000000000000000000000000000|64|8|8000000000000000|\n",
    "|18446744073709551615|1111111111111111111111111111111111111111111111111111111111111111|64|8|FFFFFFFFFFFFFFFF|\n",
    "|18446744073709551616|10000000000000000000000000000000000000000000000000000000000000000|65|9|10000000000000000|"
   ]
  },
  {
   "cell_type": "markdown",
   "metadata": {},
   "source": [
    "(To make the table above, we can use the following code.)"
   ]
  },
  {
   "cell_type": "code",
   "execution_count": null,
   "metadata": {},
   "outputs": [],
   "source": [
    "# Import functions related to math\n",
    "import math\n",
    "\n",
    "# Decimal number loop\n",
    "for i in list(range(0, 21)) + [127, 128, 255, 256, 32767, 32768, 65535, 65536, 2**32-1, 2**32, 2**63-1, 2**63, 2**64-1, 2**64, ]:\n",
    "\n",
    "    # Decimal format\n",
    "    d_str = str(i)\n",
    "\n",
    "    # Binary format\n",
    "    b_str = f\"{i:b}\"\n",
    "\n",
    "    # Number of bits\n",
    "    n_bits = len(b_str)\n",
    "    n_bits_str = str(len(b_str))\n",
    "\n",
    "    # Hexadecimal format\n",
    "    h_str = f\"{i:X}\"\n",
    "\n",
    "    # Number of bytes\n",
    "    # Try `help(math.ceil)` to check what it does\n",
    "    n_bytes = math.ceil(len(h_str) * 0.5)\n",
    "    n_bytes_str = str(n_bytes)\n",
    "\n",
    "    # Indicate a row of the table\n",
    "    print('|'.join(['', d_str, b_str, n_bits_str, n_bytes_str, h_str, '']))\n"
   ]
  },
  {
   "cell_type": "markdown",
   "metadata": {},
   "source": [
    "* We can see that one hexadecimal digit represents four binary digits."
   ]
  },
  {
   "cell_type": "markdown",
   "metadata": {},
   "source": [
    "* Because of this, frequently we group four digits of a binary number; for example `1101 0101`."
   ]
  },
  {
   "cell_type": "markdown",
   "metadata": {},
   "source": [
    "* We call a collection of 8 bits a **byte**."
   ]
  },
  {
   "cell_type": "markdown",
   "metadata": {},
   "source": [
    "* Q: One digit of which base would represent three binary digits?"
   ]
  },
  {
   "cell_type": "markdown",
   "metadata": {},
   "source": [
    "## Representing negative integers"
   ]
  },
  {
   "cell_type": "markdown",
   "metadata": {},
   "source": [
    "* Example above implies that computers are designed to handle 0 and positive integers."
   ]
  },
  {
   "cell_type": "markdown",
   "metadata": {},
   "source": [
    "* To represent and handle negative integers, computers convert a negative integer to **2's complement**."
   ]
  },
  {
   "cell_type": "markdown",
   "metadata": {},
   "source": [
    "### An 8 bit example"
   ]
  },
  {
   "cell_type": "markdown",
   "metadata": {},
   "source": [
    "* To simplify, we will look at the 8bit case first."
   ]
  },
  {
   "cell_type": "markdown",
   "metadata": {},
   "source": [
    "* Positive integer 7 is 00000111 in an 8 bit binary number."
   ]
  },
  {
   "cell_type": "markdown",
   "metadata": {},
   "source": [
    "* To find 2's complement of binary number 00000111, change 0's to 1's and add 1."
   ]
  },
  {
   "cell_type": "markdown",
   "metadata": {},
   "source": [
    "* 2's complement of binary number 00000111 would be 11111001."
   ]
  },
  {
   "cell_type": "markdown",
   "metadata": {},
   "source": [
    "* Adding these two numbers would be follows."
   ]
  },
  {
   "cell_type": "code",
   "execution_count": null,
   "metadata": {},
   "outputs": [],
   "source": [
    "a = int('00000111', base=2)\n",
    "b = int('11111001', base=2)\n",
    "\n",
    "c = a+b\n",
    "print(f'c = {c:b}(binary)')\n",
    "print(f'c = {c:d}(decimal)')\n",
    "print(f'c = {c:x}(hexadecimal)')\n",
    "\n"
   ]
  },
  {
   "cell_type": "markdown",
   "metadata": {},
   "source": [
    "* The result above is 256 in decimal, however, in binary `1 0000 0000` whose lower 8 bits are all zeros. In case of the 8 bit operation, we regard this result as zero."
   ]
  },
  {
   "cell_type": "markdown",
   "metadata": {},
   "source": [
    "* Following table compares 8bit bit patterns vs `unsigned int8_t` and `signed int8_t` values.\n",
    "\n"
   ]
  },
  {
   "cell_type": "code",
   "execution_count": null,
   "metadata": {},
   "outputs": [],
   "source": [
    "# https://stackoverflow.com/questions/35160256/how-do-i-output-lists-as-a-table-in-jupyter-notebook\n",
    "# http://nbviewer.jupyter.org/github/ipython/ipython/blob/4.0.x/examples/IPython%20Kernel/Rich%20Output.ipynb\n",
    "\n",
    "import IPython\n",
    "\n",
    "n = 8\n",
    "\n",
    "table = [ f''' {n} bit bit pattern | `unsigned int{n}_t` | `signed int{n}_t` \n",
    ":-----------------:|:--------:|:------:''']\n",
    "\n",
    "for i in range(0, 3):\n",
    "    table.append(f'{i:0{n}b} | {i} | {i}')\n",
    "\n",
    "table.append(f' ... | ... | ... ')\n",
    "\n",
    "for i in range(2**(n-1)-2, 2**(n-1)-1+1):\n",
    "    table.append(f'{i:0{n}b} | {i} | {i}')\n",
    "\n",
    "for i in range(2**(n-1), 2**(n-1)+2+1):\n",
    "    table.append(f'{i:0{n}b} | {i} | {i-(2**n)}')\n",
    "\n",
    "table.append(f' ... | ... | ... ')\n",
    "\n",
    "for i in range((2**n)-2, (2**n)-1+1):\n",
    "    table.append(f'{i:0{n}b} | {i} | {i-(2**n)}')\n",
    "\n",
    "IPython.display.display(IPython.display.Markdown('\\n'.join(table)))\n",
    "\n"
   ]
  },
  {
   "cell_type": "markdown",
   "metadata": {},
   "source": [
    "### A 16 bit example"
   ]
  },
  {
   "cell_type": "markdown",
   "metadata": {},
   "source": [
    "* Following example shows a 16bit example."
   ]
  },
  {
   "cell_type": "code",
   "execution_count": null,
   "metadata": {},
   "outputs": [],
   "source": [
    "a = int('0000''0000''0000''0111', base=2)\n",
    "b = int('1111''1111''1111''1001', base=2)\n",
    "\n",
    "c = a+b\n",
    "print(f'c = {c:b}(binary)')\n",
    "print(f'c = {c:d}(decimal)')\n",
    "print(f'c = {c:x}(hexadecimal)')\n",
    "\n"
   ]
  },
  {
   "cell_type": "markdown",
   "metadata": {},
   "source": [
    "* The result above is 65536 in decimal, however, in binary `1 0000 0000 0000 0000` whose lower 16 bits are all zeros."
   ]
  },
  {
   "cell_type": "markdown",
   "metadata": {},
   "source": [
    "* Following table compares 16bit bit patterns vs `unsigned int16_t` and `signed int16_t` values.\n",
    "\n"
   ]
  },
  {
   "cell_type": "code",
   "execution_count": null,
   "metadata": {},
   "outputs": [],
   "source": [
    "# https://stackoverflow.com/questions/35160256/how-do-i-output-lists-as-a-table-in-jupyter-notebook\n",
    "# http://nbviewer.jupyter.org/github/ipython/ipython/blob/4.0.x/examples/IPython%20Kernel/Rich%20Output.ipynb\n",
    "\n",
    "import IPython\n",
    "\n",
    "n = 16\n",
    "\n",
    "table = [ f''' {n} bit bit pattern | `unsigned int{n}_t` | `signed int{n}_t` \n",
    ":-----------------:|:--------:|:------:''']\n",
    "\n",
    "for i in range(0, 3):\n",
    "    table.append(f'{i:0{n}b} | {i} | {i}')\n",
    "\n",
    "table.append(f' ... | ... | ... ')\n",
    "\n",
    "for i in range(2**(n-1)-2, 2**(n-1)-1+1):\n",
    "    table.append(f'{i:0{n}b} | {i} | {i}')\n",
    "\n",
    "for i in range(2**(n-1), 2**(n-1)+2+1):\n",
    "    table.append(f'{i:0{n}b} | {i} | {i-(2**n)}')\n",
    "\n",
    "table.append(f' ... | ... | ... ')\n",
    "\n",
    "for i in range((2**n)-2, (2**n)-1+1):\n",
    "    table.append(f'{i:0{n}b} | {i} | {i-(2**n)}')\n",
    "\n",
    "IPython.display.display(IPython.display.Markdown('\\n'.join(table)))\n",
    "\n"
   ]
  },
  {
   "cell_type": "markdown",
   "metadata": {},
   "source": [
    "### Summary"
   ]
  },
  {
   "cell_type": "markdown",
   "metadata": {},
   "source": [
    "* Computers handle negative intergers as 2's complementary, which we can find by exchanging 0's and 1's of the binary representation of the integer's absolute value and then adding one."
   ]
  },
  {
   "cell_type": "markdown",
   "metadata": {},
   "source": [
    "## Representing real numbers"
   ]
  },
  {
   "cell_type": "markdown",
   "metadata": {},
   "source": [
    "### Fixed point"
   ]
  },
  {
   "cell_type": "markdown",
   "metadata": {},
   "source": [
    "* We can represent a number in an integer and multiply a fixed number."
   ]
  },
  {
   "cell_type": "markdown",
   "metadata": {},
   "source": [
    "* For example, we can indicate all lengths in cm units and multipy 0.01 to find values in m units. "
   ]
  },
  {
   "cell_type": "markdown",
   "metadata": {},
   "source": [
    "* However, in this way, it may not be easy to indicate in mm units."
   ]
  },
  {
   "cell_type": "markdown",
   "metadata": {},
   "source": [
    "### Floating point"
   ]
  },
  {
   "cell_type": "markdown",
   "metadata": {},
   "source": [
    "* In short, we can also represent a real number using significand and exponents."
   ]
  },
  {
   "cell_type": "markdown",
   "metadata": {},
   "source": [
    "* For example, $2.3456 \\times 10^0$ m would be $2.3456 \\times 10^2$ in cm, and $2.3456 \\times 10^3$ in mm."
   ]
  },
  {
   "cell_type": "markdown",
   "metadata": {},
   "source": [
    "* An engineering calculator may indicate $2.3456 \\times 10^3$ as `2.3456E3`. Here, we can see that `2.3456` is the significand (also mantissa, coefficient, argument or fraction) and `3` is the exponent."
   ]
  },
  {
   "cell_type": "markdown",
   "metadata": {},
   "source": [
    "* Even if the sigtificand does not change, when the exponent changes, the location of the decimal point changes."
   ]
  },
  {
   "cell_type": "markdown",
   "metadata": {},
   "source": [
    "* On the contrary, $2.3456 \\times 10^0$ mm would be $2.3456 \\times 10^{-1}$ in cm, and $2.3456 \\times 10^{-3}$ in m."
   ]
  },
  {
   "cell_type": "markdown",
   "metadata": {},
   "source": [
    "* Computers store in binary numbers. For more informaiton, please refer to [IEEE 754, Wikipedia](https://en.wikipedia.org/wiki/IEEE_754)."
   ]
  },
  {
   "cell_type": "markdown",
   "metadata": {},
   "source": [
    "* Usually we use 4Byte (32bit) single precision or 8Byte (64bit) double precision, which includes $\\pm$, exponent, and significand."
   ]
  },
  {
   "cell_type": "markdown",
   "metadata": {},
   "source": [
    "* Following table shows the breakout of 32 bits of single precision.  Here, `e` and `s` indicate exponent and sigdificand, respectively."
   ]
  },
  {
   "cell_type": "markdown",
   "metadata": {},
   "source": [
    "1 | 2 | 3 | 4 | 5 | 6 | 7 | 8 | 9 | 10 | 11 | 12 | 13 | 14 | 15 | 16 | 17 | 18 | 19 | 20 | 21 | 22 | 23 | 24 | 25 | 26 | 27 | 28 | 29 | 30 | 31 | 32\n",
    ":---:|:---:|:---:|:---:|:---:|:---:|:---:|:---:|:---:|:---:|:---:|:---:|:---:|:---:|:---:|:---:|:---:|:---:|:---:|:---:|:---:|:---:|:---:|:---:|:---:|:---:|:---:|:---:|:---:|:---:|:---:|:---:\n",
    "$\\pm$ | `e` | `e` | `e` | `e` | `e` | `e` | `e` | `e` | `s` | `s` | `s` | `s` | `s` | `s` | `s` | `s` | `s` | `s` | `s` | `s` | `s` | `s` | `s` | `s` | `s` | `s` | `s` | `s` | `s` | `s` | `s`"
   ]
  },
  {
   "cell_type": "code",
   "execution_count": null,
   "metadata": {},
   "outputs": [],
   "source": [
    "# number of bits\n",
    "n = 32\n",
    "ne = 8\n",
    "ns = n - 1 - ne\n",
    "\n",
    "print(\n",
    "    '\\n'.join(\n",
    "        [\n",
    "            ' | '.join(str(k) for k in range(1, n+1)),\n",
    "            '|'.join(':---:' for k in range(1, n+1)),\n",
    "            ' | '.join(['$\\pm$'] + ['`e`']*ne + ['`s`']*ns),\n",
    "        ],\n",
    "    )\n",
    ")\n"
   ]
  },
  {
   "cell_type": "markdown",
   "metadata": {},
   "source": [
    "* Please note that the exponent value $0$ means $2^{-127}$ and $2^{8}-1=255$ means $2^{128}$."
   ]
  },
  {
   "cell_type": "markdown",
   "metadata": {},
   "source": [
    "* Following table shows the breakout of 64 bits of double precision."
   ]
  },
  {
   "cell_type": "markdown",
   "metadata": {},
   "source": [
    "1 | 2 | 3 | 4 | 5 | 6 | 7 | 8 | 9 | 10 | 11 | 12 | 13 | 14 | 15 | 16 | 17 | 18 | 19 | 20 | 21 | 22 | 23 | 24 | 25 | 26 | 27 | 28 | 29 | 30 | 31 | 32 | 33 | 34 | 35 | 36 | 37 | 38 | 39 | 40 | 41 | 42 | 43 | 44 | 45 | 46 | 47 | 48 | 49 | 50 | 51 | 52 | 53 | 54 | 55 | 56 | 57 | 58 | 59 | 60 | 61 | 62 | 63 | 64\n",
    ":---:|:---:|:---:|:---:|:---:|:---:|:---:|:---:|:---:|:---:|:---:|:---:|:---:|:---:|:---:|:---:|:---:|:---:|:---:|:---:|:---:|:---:|:---:|:---:|:---:|:---:|:---:|:---:|:---:|:---:|:---:|:---:|:---:|:---:|:---:|:---:|:---:|:---:|:---:|:---:|:---:|:---:|:---:|:---:|:---:|:---:|:---:|:---:|:---:|:---:|:---:|:---:|:---:|:---:|:---:|:---:|:---:|:---:|:---:|:---:|:---:|:---:|:---:|:---:\n",
    "$\\pm$ | `e` | `e` | `e` | `e` | `e` | `e` | `e` | `e` | `e` | `e` | `e` | `s` | `s` | `s` | `s` | `s` | `s` | `s` | `s` | `s` | `s` | `s` | `s` | `s` | `s` | `s` | `s` | `s` | `s` | `s` | `s` | `s` | `s` | `s` | `s` | `s` | `s` | `s` | `s` | `s` | `s` | `s` | `s` | `s` | `s` | `s` | `s` | `s` | `s` | `s` | `s` | `s` | `s` | `s` | `s` | `s` | `s` | `s` | `s` | `s` | `s` | `s` | `s`"
   ]
  },
  {
   "cell_type": "code",
   "execution_count": null,
   "metadata": {},
   "outputs": [],
   "source": [
    "# number of bits\n",
    "n = 64\n",
    "ne = 11\n",
    "ns = n - 1 - ne\n",
    "\n",
    "print(\n",
    "    '\\n'.join(\n",
    "        [\n",
    "            ' | '.join(str(k) for k in range(1, n+1)),\n",
    "            '|'.join(':---:' for k in range(1, n+1)),\n",
    "            ' | '.join(['$\\pm$'] + ['`e`']*ne + ['`s`']*ns),\n",
    "        ],\n",
    "    )\n",
    ")\n"
   ]
  },
  {
   "cell_type": "markdown",
   "metadata": {},
   "source": [
    "* Please note that the exponent value $0$ means $2^{-1023}$ and $2^{11}-1=2047$ means $2^{1024}$."
   ]
  },
  {
   "cell_type": "code",
   "execution_count": null,
   "metadata": {},
   "outputs": [],
   "source": []
  }
 ],
 "metadata": {
  "kernelspec": {
   "display_name": "Python 3",
   "language": "python",
   "name": "python3"
  },
  "language_info": {
   "codemirror_mode": {
    "name": "ipython",
    "version": 3
   },
   "file_extension": ".py",
   "mimetype": "text/x-python",
   "name": "python",
   "nbconvert_exporter": "python",
   "pygments_lexer": "ipython3",
   "version": "3.6.5"
  }
 },
 "nbformat": 4,
 "nbformat_minor": 2
}
