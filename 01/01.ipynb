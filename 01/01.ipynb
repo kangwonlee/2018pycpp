{
 "cells": [
  {
   "cell_type": "markdown",
   "metadata": {},
   "source": [
    "# Representing Data types"
   ]
  },
  {
   "cell_type": "markdown",
   "metadata": {},
   "source": [
    "Let's take a look at natural numbers, negative integers, and real numbers."
   ]
  },
  {
   "cell_type": "markdown",
   "metadata": {},
   "source": [
    "## Representing natural numbers"
   ]
  },
  {
   "cell_type": "markdown",
   "metadata": {},
   "source": [
    "* Basically, computers can handle 0 or 1 only."
   ]
  },
  {
   "cell_type": "markdown",
   "metadata": {},
   "source": [
    "* Here, to **handle** means to store in memory, to operate, and to output."
   ]
  },
  {
   "cell_type": "markdown",
   "metadata": {},
   "source": [
    "* We call the smallest unit that can handle 0 or 1 a **bit**."
   ]
  },
  {
   "cell_type": "markdown",
   "metadata": {},
   "source": [
    "* When you hear about a personal computer is for example 32 bit or 64 bit, please recall this."
   ]
  },
  {
   "cell_type": "markdown",
   "metadata": {},
   "source": [
    "* It means the number of bits that the computer can process at once."
   ]
  },
  {
   "cell_type": "markdown",
   "metadata": {},
   "source": [
    "* To handle larger (natural) numbers, we need more number of bits."
   ]
  },
  {
   "cell_type": "markdown",
   "metadata": {},
   "source": [
    "* Following table shows decimal numbers in binary and hexadecimal format."
   ]
  },
  {
   "cell_type": "markdown",
   "metadata": {},
   "source": [
    "| Decimal | Binary | no. bits | no. bytes | Hexadecimal |\n",
    "|:--------------:|:------------:|:------------:|:------------:|:-------------------:|\n",
    "|0|0|1|1|0|\n",
    "|1|1|1|1|1|\n",
    "|2|10|2|1|2|\n",
    "|3|11|2|1|3|\n",
    "|4|100|3|1|4|\n",
    "|5|101|3|1|5|\n",
    "|6|110|3|1|6|\n",
    "|7|111|3|1|7|\n",
    "|8|1000|4|1|8|\n",
    "|9|1001|4|1|9|\n",
    "|10|1010|4|1|A|\n",
    "|11|1011|4|1|B|\n",
    "|12|1100|4|1|C|\n",
    "|13|1101|4|1|D|\n",
    "|14|1110|4|1|E|\n",
    "|15|1111|4|1|F|\n",
    "|16|10000|5|1|10|\n",
    "|17|10001|5|1|11|\n",
    "|18|10010|5|1|12|\n",
    "|19|10011|5|1|13|\n",
    "|20|10100|5|1|14|\n",
    "|127|1111111|7|1|7F|\n",
    "|128|10000000|8|1|80|\n",
    "|255|11111111|8|1|FF|\n",
    "|256|100000000|9|2|100|\n",
    "|32767|111111111111111|15|2|7FFF|\n",
    "|32768|1000000000000000|16|2|8000|\n",
    "|65535|1111111111111111|16|2|FFFF|\n",
    "|65536|10000000000000000|17|3|10000|\n",
    "|4294967295|11111111111111111111111111111111|32|4|FFFFFFFF|\n",
    "|4294967296|100000000000000000000000000000000|33|5|100000000|\n",
    "|9223372036854775807|111111111111111111111111111111111111111111111111111111111111111|63|8|7FFFFFFFFFFFFFFF|\n",
    "|9223372036854775808|1000000000000000000000000000000000000000000000000000000000000000|64|8|8000000000000000|\n",
    "|18446744073709551615|1111111111111111111111111111111111111111111111111111111111111111|64|8|FFFFFFFFFFFFFFFF|\n",
    "|18446744073709551616|10000000000000000000000000000000000000000000000000000000000000000|65|9|10000000000000000|"
   ]
  },
  {
   "cell_type": "markdown",
   "metadata": {},
   "source": [
    "(To make the table above, we can use the following code.)"
   ]
  },
  {
   "cell_type": "code",
   "execution_count": null,
   "metadata": {},
   "outputs": [],
   "source": [
    "# Import functions related to math\n",
    "import math\n",
    "\n",
    "# Decimal number loop\n",
    "for i in list(range(0, 21)) + [127, 128, 255, 256, 32767, 32768, 65535, 65536, 2**32-1, 2**32, 2**63-1, 2**63, 2**64-1, 2**64, ]:\n",
    "\n",
    "    # Decimal format\n",
    "    d_str = str(i)\n",
    "\n",
    "    # Binary format\n",
    "    b_str = f\"{i:b}\"\n",
    "\n",
    "    # Number of bits\n",
    "    n_bits = len(b_str)\n",
    "    n_bits_str = str(len(b_str))\n",
    "\n",
    "    # Hexadecimal format\n",
    "    h_str = f\"{i:X}\"\n",
    "\n",
    "    # Number of bytes\n",
    "    # Try `help(math.ceil)` to check what it does\n",
    "    n_bytes = math.ceil(len(h_str) * 0.5)\n",
    "    n_bytes_str = str(n_bytes)\n",
    "\n",
    "    # Indicate a row of the table\n",
    "    print('|'.join(['', d_str, b_str, n_bits_str, n_bytes_str, h_str, '']))\n"
   ]
  },
  {
   "cell_type": "markdown",
   "metadata": {},
   "source": [
    "* We can see that one hexadecimal digit represents four binary digits."
   ]
  },
  {
   "cell_type": "markdown",
   "metadata": {},
   "source": [
    "* Because of this, frequently we group four digits of a binary number; for example `1101 0101`."
   ]
  },
  {
   "cell_type": "markdown",
   "metadata": {},
   "source": [
    "* We call a collection of 8 bits a **byte**."
   ]
  },
  {
   "cell_type": "markdown",
   "metadata": {},
   "source": [
    "* Q: One digit of which base would represent three binary digits?"
   ]
  },
  {
   "cell_type": "markdown",
   "metadata": {},
   "source": [
    "## Representing negative integers"
   ]
  },
  {
   "cell_type": "markdown",
   "metadata": {},
   "source": [
    "* Example above implies that computers are designed to handle 0 and positive integers."
   ]
  },
  {
   "cell_type": "markdown",
   "metadata": {},
   "source": [
    "* To represent and handle negative integers, computers convert a negative integer to **2's complement**."
   ]
  },
  {
   "cell_type": "markdown",
   "metadata": {},
   "source": [
    "### An 8 bit example"
   ]
  },
  {
   "cell_type": "markdown",
   "metadata": {},
   "source": [
    "* To simplify, we will look at the 8bit case first."
   ]
  },
  {
   "cell_type": "markdown",
   "metadata": {},
   "source": [
    "* Positive integer 7 is 00000111 in an 8 bit binary number."
   ]
  },
  {
   "cell_type": "markdown",
   "metadata": {},
   "source": [
    "* To find 2's complement of binary number 00000111, change 0's to 1's and add 1."
   ]
  },
  {
   "cell_type": "markdown",
   "metadata": {},
   "source": [
    "* 2's complement of binary number 00000111 would be 11111001."
   ]
  },
  {
   "cell_type": "markdown",
   "metadata": {},
   "source": [
    "* Adding these two numbers would be follows."
   ]
  },
  {
   "cell_type": "code",
   "execution_count": null,
   "metadata": {},
   "outputs": [],
   "source": [
    "a = int('00000111', base=2)\n",
    "b = int('11111001', base=2)\n",
    "\n",
    "c = a+b\n",
    "print(f'c = {c:b}(binary)')\n",
    "print(f'c = {c:d}(decimal)')\n",
    "print(f'c = {c:x}(hexadecimal)')\n"
   ]
  },
  {
   "cell_type": "markdown",
   "metadata": {},
   "source": [
    "* The result above is 256 in decimal, however, in binary `1 0000 0000` whose lower 8 bits are all zeros. In case of the 8 bit operation, we regard this result as zero."
   ]
  },
  {
   "cell_type": "markdown",
   "metadata": {},
   "source": [
    "### A 16 bit example"
   ]
  },
  {
   "cell_type": "markdown",
   "metadata": {},
   "source": [
    "* Following example shows a 16bit example."
   ]
  },
  {
   "cell_type": "code",
   "execution_count": null,
   "metadata": {},
   "outputs": [],
   "source": [
    "a = int('0000''0000''0000''0111', base=2)\n",
    "b = int('1111''1111''1111''1001', base=2)\n",
    "\n",
    "c = a+b\n",
    "print(f'c = {c:b}(binary)')\n",
    "print(f'c = {c:d}(decimal)')\n",
    "print(f'c = {c:x}(hexadecimal)')\n"
   ]
  },
  {
   "cell_type": "markdown",
   "metadata": {},
   "source": [
    "* The result above is 65536 in decimal, however, in binary `1 0000 0000 0000 0000` whose lower 16 bits are all zeros."
   ]
  },
  {
   "cell_type": "markdown",
   "metadata": {},
   "source": [
    "### Summary"
   ]
  },
  {
   "cell_type": "markdown",
   "metadata": {},
   "source": [
    "* Computers handle negative intergers as 2's complementary, which we can find by exchanging 0's and 1's of the binary representation of the integer's absolute value and then adding one."
   ]
  },
  {
   "cell_type": "code",
   "execution_count": null,
   "metadata": {},
   "outputs": [],
   "source": []
  }
 ],
 "metadata": {
  "kernelspec": {
   "display_name": "Python 3",
   "language": "python",
   "name": "python3"
  },
  "language_info": {
   "codemirror_mode": {
    "name": "ipython",
    "version": 3
   },
   "file_extension": ".py",
   "mimetype": "text/x-python",
   "name": "python",
   "nbconvert_exporter": "python",
   "pygments_lexer": "ipython3",
   "version": "3.6.5"
  }
 },
 "nbformat": 4,
 "nbformat_minor": 2
}
