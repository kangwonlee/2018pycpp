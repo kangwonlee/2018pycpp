{
 "cells": [
  {
   "cell_type": "markdown",
   "metadata": {},
   "source": [
    "# Representing Data types in Digital computers"
   ]
  },
  {
   "cell_type": "markdown",
   "metadata": {},
   "source": [
    "## Natural numbers"
   ]
  },
  {
   "cell_type": "markdown",
   "metadata": {},
   "source": [
    "* Basically, computers can handle 0 or 1 only."
   ]
  },
  {
   "cell_type": "markdown",
   "metadata": {},
   "source": [
    "* Here, to **handle** means to store in memory, to operate, and to output."
   ]
  },
  {
   "cell_type": "markdown",
   "metadata": {},
   "source": [
    "* We call the smallest unit that can handle 0 or 1 a **bit**."
   ]
  },
  {
   "cell_type": "markdown",
   "metadata": {},
   "source": [
    "* When you hear about a personal computer is for example 32 bit or 64 bit, please recall this."
   ]
  },
  {
   "cell_type": "markdown",
   "metadata": {},
   "source": [
    "* It means the number of bits that the computer can process at once."
   ]
  },
  {
   "cell_type": "markdown",
   "metadata": {},
   "source": [
    "* To handle larger (natural) numbers, we need more number of bits."
   ]
  },
  {
   "cell_type": "markdown",
   "metadata": {},
   "source": [
    "* Following table shows decimal numbers in binary and hexadecimal format."
   ]
  },
  {
   "cell_type": "code",
   "execution_count": null,
   "metadata": {},
   "outputs": [],
   "source": [
    "# https://stackoverflow.com/questions/35160256/how-do-i-output-lists-as-a-table-in-jupyter-notebook\n",
    "# http://nbviewer.jupyter.org/github/ipython/ipython/blob/4.0.x/examples/IPython%20Kernel/Rich%20Output.ipynb\n",
    "\n",
    "import math\n",
    "import IPython\n",
    "\n",
    "rows_list = ['''| Decimal | Binary | no. bits | no. bytes | Hexadecimal |\n",
    "|:--------------:|:------------:|:------------:|:------------:|:-------------------:|''']\n",
    "\n",
    "# Decimal number loop\n",
    "for i in list(range(0, 21)) + [127, 128, 255, 256, 32767, 32768, 65535, 65536, 2**32-1, 2**32, 2**63-1, 2**63, 2**64-1, 2**64, ]:\n",
    "\n",
    "    # Decimal format\n",
    "    d_str = str(i)\n",
    "\n",
    "    # Binary format\n",
    "    b_str = f\"{i:b}\"\n",
    "\n",
    "    # Number of bits\n",
    "    n_bits = len(b_str)\n",
    "    n_bits_str = str(len(b_str))\n",
    "    \n",
    "    if 17 < n_bits:\n",
    "        b_str = '...'\n",
    "\n",
    "    # Hexadecimal format\n",
    "    h_str = f\"{i:X}\"\n",
    "\n",
    "    # Number of bytes\n",
    "    # Try `help(math.ceil)` to check what it does\n",
    "    n_bytes = math.ceil(len(h_str) * 0.5)\n",
    "    n_bytes_str = str(n_bytes)\n",
    "\n",
    "    # Indicate a row of the table\n",
    "    rows_list.append('|'.join(['', d_str, b_str, n_bits_str, n_bytes_str, h_str, '']))\n",
    "\n",
    "IPython.display.display(IPython.display.Markdown('\\n'.join(rows_list)))\n",
    "\n"
   ]
  },
  {
   "cell_type": "markdown",
   "metadata": {},
   "source": [
    "* We can see that one hexadecimal digit represents four binary digits."
   ]
  },
  {
   "cell_type": "markdown",
   "metadata": {},
   "source": [
    "* Because of this, frequently we group four digits of a binary number; for example `1101 0101`."
   ]
  },
  {
   "cell_type": "markdown",
   "metadata": {},
   "source": [
    "* We call a collection of 8 bits a **byte**."
   ]
  },
  {
   "cell_type": "markdown",
   "metadata": {},
   "source": [
    "* Q: One digit of which base would represent three binary digits?"
   ]
  },
  {
   "cell_type": "markdown",
   "metadata": {},
   "source": [
    "## Negative integers"
   ]
  },
  {
   "cell_type": "markdown",
   "metadata": {},
   "source": [
    "* Example above implies that computers are designed to handle 0 and positive integers."
   ]
  },
  {
   "cell_type": "markdown",
   "metadata": {},
   "source": [
    "* To represent and handle negative integers, computers convert a negative integer to **2's complement**."
   ]
  },
  {
   "cell_type": "markdown",
   "metadata": {},
   "source": [
    "### An 8 bit example"
   ]
  },
  {
   "cell_type": "markdown",
   "metadata": {},
   "source": [
    "* To simplify, we will look at the 8bit case first."
   ]
  },
  {
   "cell_type": "markdown",
   "metadata": {},
   "source": [
    "* Positive integer 7 is 00000111 in an 8 bit binary number."
   ]
  },
  {
   "cell_type": "markdown",
   "metadata": {},
   "source": [
    "* To find 2's complement of binary number 00000111, change 0's to 1's and add 1."
   ]
  },
  {
   "cell_type": "markdown",
   "metadata": {},
   "source": [
    "* 2's complement of binary number 00000111 would be 11111001."
   ]
  },
  {
   "cell_type": "markdown",
   "metadata": {},
   "source": [
    "* Adding these two numbers would be follows."
   ]
  },
  {
   "cell_type": "code",
   "execution_count": null,
   "metadata": {},
   "outputs": [],
   "source": [
    "a = int('00000111', base=2)\n",
    "b = int('11111001', base=2)\n",
    "\n",
    "c = a+b\n",
    "print(f'c = {c:b}(binary)')\n",
    "print(f'c = {c:d}(decimal)')\n",
    "print(f'c = {c:x}(hexadecimal)')\n",
    "\n"
   ]
  },
  {
   "cell_type": "markdown",
   "metadata": {},
   "source": [
    "* The result above is 256 in decimal, however, in binary `1 0000 0000` whose lower 8 bits are all zeros. In case of the 8 bit operation, we regard this result as zero."
   ]
  },
  {
   "cell_type": "markdown",
   "metadata": {},
   "source": [
    "* Following table compares 8bit bit patterns vs `unsigned int8_t` and `signed int8_t` values.\n",
    "\n"
   ]
  },
  {
   "cell_type": "code",
   "execution_count": null,
   "metadata": {},
   "outputs": [],
   "source": [
    "# https://stackoverflow.com/questions/35160256/how-do-i-output-lists-as-a-table-in-jupyter-notebook\n",
    "# http://nbviewer.jupyter.org/github/ipython/ipython/blob/4.0.x/examples/IPython%20Kernel/Rich%20Output.ipynb\n",
    "\n",
    "import IPython\n",
    "\n",
    "n = 8\n",
    "\n",
    "table = [ f''' {n} bit bit pattern | `unsigned int{n}_t` | `signed int{n}_t` \n",
    ":-----------------:|:--------:|:------:''']\n",
    "\n",
    "for i in range(0, 3):\n",
    "    table.append(f'{i:0{n}b} | {i} | {i}')\n",
    "\n",
    "table.append(f' ... | ... | ... ')\n",
    "\n",
    "for i in range(2**(n-1)-2, 2**(n-1)-1+1):\n",
    "    table.append(f'{i:0{n}b} | {i} | {i}')\n",
    "\n",
    "for i in range(2**(n-1), 2**(n-1)+2+1):\n",
    "    table.append(f'{i:0{n}b} | {i} | {i-(2**n)}')\n",
    "\n",
    "table.append(f' ... | ... | ... ')\n",
    "\n",
    "for i in range((2**n)-2, (2**n)-1+1):\n",
    "    table.append(f'{i:0{n}b} | {i} | {i-(2**n)}')\n",
    "\n",
    "IPython.display.display(IPython.display.Markdown('\\n'.join(table)))\n",
    "\n"
   ]
  },
  {
   "cell_type": "markdown",
   "metadata": {},
   "source": [
    "### A 16 bit example"
   ]
  },
  {
   "cell_type": "markdown",
   "metadata": {},
   "source": [
    "* Following example shows a 16bit example."
   ]
  },
  {
   "cell_type": "code",
   "execution_count": null,
   "metadata": {},
   "outputs": [],
   "source": [
    "a = int('0000''0000''0000''0111', base=2)\n",
    "b = int('1111''1111''1111''1001', base=2)\n",
    "\n",
    "c = a+b\n",
    "print(f'c = {c:b}(binary)')\n",
    "print(f'c = {c:d}(decimal)')\n",
    "print(f'c = {c:x}(hexadecimal)')\n",
    "\n"
   ]
  },
  {
   "cell_type": "markdown",
   "metadata": {},
   "source": [
    "* The result above is 65536 in decimal, however, in binary `1 0000 0000 0000 0000` whose lower 16 bits are all zeros."
   ]
  },
  {
   "cell_type": "markdown",
   "metadata": {},
   "source": [
    "* Following table compares 16bit bit patterns vs `unsigned int16_t` and `signed int16_t` values.\n",
    "\n"
   ]
  },
  {
   "cell_type": "code",
   "execution_count": null,
   "metadata": {},
   "outputs": [],
   "source": [
    "# https://stackoverflow.com/questions/35160256/how-do-i-output-lists-as-a-table-in-jupyter-notebook\n",
    "# http://nbviewer.jupyter.org/github/ipython/ipython/blob/4.0.x/examples/IPython%20Kernel/Rich%20Output.ipynb\n",
    "\n",
    "import IPython\n",
    "\n",
    "n = 16\n",
    "\n",
    "table = [ f''' {n} bit bit pattern | `unsigned int{n}_t` | `signed int{n}_t` \n",
    ":-----------------:|:--------:|:------:''']\n",
    "\n",
    "for i in range(0, 3):\n",
    "    table.append(f'{i:0{n}b} | {i} | {i}')\n",
    "\n",
    "table.append(f' ... | ... | ... ')\n",
    "\n",
    "for i in range(2**(n-1)-2, 2**(n-1)-1+1):\n",
    "    table.append(f'{i:0{n}b} | {i} | {i}')\n",
    "\n",
    "for i in range(2**(n-1), 2**(n-1)+2+1):\n",
    "    table.append(f'{i:0{n}b} | {i} | {i-(2**n)}')\n",
    "\n",
    "table.append(f' ... | ... | ... ')\n",
    "\n",
    "for i in range((2**n)-2, (2**n)-1+1):\n",
    "    table.append(f'{i:0{n}b} | {i} | {i-(2**n)}')\n",
    "\n",
    "IPython.display.display(IPython.display.Markdown('\\n'.join(table)))\n",
    "\n"
   ]
  },
  {
   "cell_type": "markdown",
   "metadata": {},
   "source": [
    "### Summary"
   ]
  },
  {
   "cell_type": "markdown",
   "metadata": {},
   "source": [
    "* Computers handle negative intergers as 2's complementary, which we can find by exchanging 0's and 1's of the binary representation of the integer's absolute value and then adding one."
   ]
  },
  {
   "cell_type": "markdown",
   "metadata": {},
   "source": [
    "## Real numbers"
   ]
  },
  {
   "cell_type": "markdown",
   "metadata": {},
   "source": [
    "### Fixed point"
   ]
  },
  {
   "cell_type": "markdown",
   "metadata": {},
   "source": [
    "* We can represent a number in an integer and multiply a fixed number."
   ]
  },
  {
   "cell_type": "markdown",
   "metadata": {},
   "source": [
    "* For example, we can indicate all lengths in cm units and multipy 0.01 to find values in m units. "
   ]
  },
  {
   "cell_type": "markdown",
   "metadata": {},
   "source": [
    "* However, in this way, it may not be easy to indicate in mm units."
   ]
  },
  {
   "cell_type": "markdown",
   "metadata": {},
   "source": [
    "### Floating point"
   ]
  },
  {
   "cell_type": "markdown",
   "metadata": {},
   "source": [
    "* In short, we can also represent a real number using significand and exponents."
   ]
  },
  {
   "cell_type": "markdown",
   "metadata": {},
   "source": [
    "* For example, $2.3456 \\times 10^0$ m would be $2.3456 \\times 10^2$ in cm, and $2.3456 \\times 10^3$ in mm."
   ]
  },
  {
   "cell_type": "markdown",
   "metadata": {},
   "source": [
    "* An engineering calculator may indicate $2.3456 \\times 10^3$ as `2.3456E3`. Here, we can see that `2.3456` is the significand (also mantissa, coefficient, argument or fraction) and `3` is the exponent."
   ]
  },
  {
   "cell_type": "markdown",
   "metadata": {},
   "source": [
    "* Even if the sigtificand does not change, when the exponent changes, the location of the decimal point changes."
   ]
  },
  {
   "cell_type": "markdown",
   "metadata": {},
   "source": [
    "* On the contrary, $2.3456 \\times 10^0$ mm would be $2.3456 \\times 10^{-1}$ in cm, and $2.3456 \\times 10^{-3}$ in m."
   ]
  },
  {
   "cell_type": "markdown",
   "metadata": {},
   "source": [
    "* Computers store in binary numbers. For more informaiton, please refer to [IEEE 754, Wikipedia](https://en.wikipedia.org/wiki/IEEE_754)."
   ]
  },
  {
   "cell_type": "markdown",
   "metadata": {},
   "source": [
    "* Usually we use 4Byte (32bit) single precision or 8Byte (64bit) double precision, which includes $\\pm$, exponent, and significand."
   ]
  },
  {
   "cell_type": "markdown",
   "metadata": {},
   "source": [
    "* Following table shows the breakout of 32 bits of single precision.  Here, `e` and `s` indicate exponent and sigdificand, respectively."
   ]
  },
  {
   "cell_type": "code",
   "execution_count": null,
   "metadata": {},
   "outputs": [],
   "source": [
    "# https://stackoverflow.com/questions/35160256/how-do-i-output-lists-as-a-table-in-jupyter-notebook\n",
    "# http://nbviewer.jupyter.org/github/ipython/ipython/blob/4.0.x/examples/IPython%20Kernel/Rich%20Output.ipynb\n",
    "\n",
    "import IPython.display as disp\n",
    "\n",
    "# number of bits\n",
    "n = 32\n",
    "ne = 8\n",
    "ns = n - 1 - ne\n",
    "\n",
    "\n",
    "disp.display(\n",
    "    disp.Markdown(\n",
    "        '\\n'.join(\n",
    "            [\n",
    "                ' | '.join(str(k) for k in range(1, n+1)),\n",
    "                '|'.join(':---:' for k in range(1, n+1)),\n",
    "                ' | '.join(['$\\pm$'] + ['`e`']*ne + ['`s`']*ns),\n",
    "            ],\n",
    "        )\n",
    "    )\n",
    ")\n",
    "\n"
   ]
  },
  {
   "cell_type": "markdown",
   "metadata": {},
   "source": [
    "* Please note that the exponent value $0$ means $2^{-127}$ and $2^{8}-1=255$ means $2^{128}$."
   ]
  },
  {
   "cell_type": "markdown",
   "metadata": {},
   "source": [
    "* Following table shows the breakout of 64 bits of double precision."
   ]
  },
  {
   "cell_type": "code",
   "execution_count": null,
   "metadata": {},
   "outputs": [],
   "source": [
    "# https://stackoverflow.com/questions/35160256/how-do-i-output-lists-as-a-table-in-jupyter-notebook\n",
    "# http://nbviewer.jupyter.org/github/ipython/ipython/blob/4.0.x/examples/IPython%20Kernel/Rich%20Output.ipynb\n",
    "\n",
    "import IPython.display as disp\n",
    "\n",
    "# number of bits\n",
    "n = 64\n",
    "ne = 11\n",
    "ns = n - 1 - ne\n",
    "\n",
    "\n",
    "disp.display(\n",
    "    disp.Markdown(\n",
    "        '\\n'.join(\n",
    "            [\n",
    "                ' | '.join(str(k) for k in range(1, n+1)),\n",
    "                '|'.join(':---:' for k in range(1, n+1)),\n",
    "                ' | '.join(['$\\pm$'] + ['`e`']*ne + ['`s`']*ns),\n",
    "            ],\n",
    "        )\n",
    "    )\n",
    ")\n",
    "\n"
   ]
  },
  {
   "cell_type": "markdown",
   "metadata": {},
   "source": [
    "* Please note that the exponent value $0$ means $2^{-1023}$ and $2^{11}-1=2047$ means $2^{1024}$."
   ]
  },
  {
   "cell_type": "markdown",
   "metadata": {},
   "source": [
    "## Complex numbers"
   ]
  },
  {
   "cell_type": "markdown",
   "metadata": {},
   "source": [
    "* Usually two real numbers; respectively for real and imaginary parts. [[ref](https://en.cppreference.com/w/cpp/numeric/complex)]"
   ]
  },
  {
   "cell_type": "code",
   "execution_count": null,
   "metadata": {},
   "outputs": [],
   "source": [
    "import IPython.display as disp\n",
    "import pylab as py\n",
    "\n",
    "z1 = 1j * 1j\n",
    "\n",
    "disp.display(disp.Latex(f'$i \\\\times i = {z1}$'))\n",
    "\n",
    "\n",
    "z2 = 1j ** 2\n",
    "\n",
    "disp.display(disp.Latex(f'$i^2  = {z2}$'))\n",
    "\n",
    "\n",
    "pi = py.arccos(-1)\n",
    "z3 = py.exp(1j * pi)\n",
    "\n",
    "disp.display(disp.Latex(r'$e^{j\\pi}  = '+f'{z3}$'))\n",
    "\n",
    "z4 = 1 + 2j\n",
    "z5 = 1 - 2j\n",
    "\n",
    "disp.display(disp.Latex(f'${z4}\\\\times{z5} = {z4 * z5}$'))\n",
    "\n"
   ]
  },
  {
   "cell_type": "markdown",
   "metadata": {},
   "source": [
    "* C++ has `std::complex`. Its example is as follows. [[ref](https://en.cppreference.com/w/cpp/numeric/complex)]"
   ]
  },
  {
   "cell_type": "markdown",
   "metadata": {},
   "source": [
    "``` C++\n",
    "#include <iostream>\n",
    "#include <iomanip>\n",
    "#include <complex>\n",
    "#include <cmath>\n",
    " \n",
    "int main()\n",
    "{\n",
    "    using namespace std::complex_literals;\n",
    "    std::cout << std::fixed << std::setprecision(1);\n",
    " \n",
    "    std::complex<double> z1 = 1i * 1i;     // imaginary unit squared\n",
    "    std::cout << \"i * i = \" << z1 << '\\n';\n",
    " \n",
    "    std::complex<double> z2 = std::pow(1i, 2); // imaginary unit squared\n",
    "    std::cout << \"pow(i, 2) = \" << z2 << '\\n';\n",
    " \n",
    "    double PI = std::acos(-1);\n",
    "    std::complex<double> z3 = std::exp(1i * PI); // Euler's formula\n",
    "    std::cout << \"exp(i * pi) = \" << z3 << '\\n';\n",
    " \n",
    "    std::complex<double> z4 = 1. + 2i, z5 = 1. - 2i; // conjugates\n",
    "    std::cout << \"(1+2i)*(1-2i) = \" << z4*z5 << '\\n';\n",
    "}\n",
    "```"
   ]
  },
  {
   "cell_type": "markdown",
   "metadata": {},
   "source": [
    "* Here, `using namespace std::complex_literals;` enables writing a complex constant such as `1i` in the source code directly."
   ]
  },
  {
   "cell_type": "markdown",
   "metadata": {},
   "source": [
    "* `std::complex<double> z1` declares a C++ variable named `z1`.<br>  \"`complex` with real and imaginary parts in `double` precision floating point\" can be its type."
   ]
  },
  {
   "cell_type": "markdown",
   "metadata": {},
   "source": [
    "# Characters and Strings"
   ]
  },
  {
   "cell_type": "markdown",
   "metadata": {},
   "source": [
    "* If computers can handle only 0s and 1s, how come we are reading this page?"
   ]
  },
  {
   "cell_type": "markdown",
   "metadata": {},
   "source": [
    "* It is because of a set of promises that we call [**character encodings**](https://en.wikipedia.org/wiki/Character_encoding)."
   ]
  },
  {
   "cell_type": "markdown",
   "metadata": {},
   "source": [
    "* Following table depicts the ASCII table, one of such standards."
   ]
  },
  {
   "cell_type": "code",
   "execution_count": null,
   "metadata": {
    "scrolled": true
   },
   "outputs": [],
   "source": [
    "# https://stackoverflow.com/questions/35160256/how-do-i-output-lists-as-a-table-in-jupyter-notebook\n",
    "# http://nbviewer.jupyter.org/github/ipython/ipython/blob/4.0.x/examples/IPython%20Kernel/Rich%20Output.ipynb\n",
    "\n",
    "import IPython\n",
    "\n",
    "n = 8\n",
    "\n",
    "# Python can use triple quote to represent a multi line string\n",
    "table = [ f''' {n} bit bit pattern | `unsigned int{n}_t` | `char` \n",
    ":-----------------:|:--------:|:------:''']\n",
    "\n",
    "for i in range(0, 8+1):\n",
    "    table.append(f'{i:0{n}b} | {i} | {i:c}')\n",
    "\n",
    "# Python can use '' or \"\" to represent a string literal\n",
    "table.append(f\" ... | ... | ... \")\n",
    "\n",
    "for i in range(14, 50+1):\n",
    "    table.append(f'{i:0{n}b} | {i} | {chr(i)}')\n",
    "\n",
    "table.append(f' ... | ... | ... ')\n",
    "\n",
    "for i in range(57, 65+1):\n",
    "    table.append(f'{i:0{n}b} | {i} | {i:c}')\n",
    "\n",
    "table.append(f' ... | ... | ... ')\n",
    "\n",
    "for i in range(90, 97+1):\n",
    "    table.append(f'{i:0{n}b} | {i} | {i:c}')\n",
    "\n",
    "table.append(f' ... | ... | ... ')\n",
    "\n",
    "for i in range(122, 127+1):\n",
    "    table.append(f'{i:0{n}b} | {i} | {i:c}')\n",
    "\n",
    "table.append(f' ... | ... | ... ')\n",
    "\n",
    "\n",
    "IPython.display.display(IPython.display.Markdown('\\n'.join(table)))\n",
    "\n"
   ]
  },
  {
   "cell_type": "markdown",
   "metadata": {},
   "source": [
    "``` C++\n",
    "// http://www.cplusplus.com/reference/fstream/fstream/\n",
    "#include <fstream>\n",
    "// https://stackoverflow.com/questions/7349689/\n",
    "#include <bitset>\n",
    "\n",
    "using namespace std;\n",
    "\n",
    "int main(int argn, char *argv[]){\n",
    "\n",
    "    // C/C++ uses \"\" to represent a string\n",
    "\tofstream ofs(\"ascii_table.md\", std::ofstream::out);\t\n",
    "    // '' indicates a single character\n",
    "    char endl = '\\n';\n",
    "\tchar elipsis_line[] = \" ... | ... | ... \\n\";\n",
    "\tconst int n = 8;\n",
    "\n",
    "\tofs << \" \" << n << \" bit bit pattern | `unsigned int\" \n",
    "        << n << \"_t` | `char`\\n\";\n",
    "\tofs << \":-----------------:|:--------:|:------:\\n\";\n",
    "\n",
    "\tfor (int i=0; i<(8+1); ++i){\n",
    "\t\tofs << bitset<n>(i) << \" | \" << i << \" | \" << char(i) << endl;\n",
    "\t}\n",
    "\n",
    "    ofs << elipsis_line;\n",
    "\n",
    "        for (int i=14; i<(50+1); ++i){\n",
    "                ofs << bitset<n>(i) << \" | \" << i << \" | \" << char(i) << endl;\n",
    "        }\n",
    "        ofs << elipsis_line;\n",
    "\n",
    "        for (int i=57; i<(65+1); ++i){\n",
    "                ofs << bitset<n>(i) << \" | \" << i << \" | \" << char(i) << endl;\n",
    "        }\n",
    "        ofs << elipsis_line;\n",
    "\n",
    "\tfor (int i=90; i<(97+1); ++i){\n",
    "                ofs << bitset<n>(i) << \" | \" << i << \" | \" << char(i) << endl;\n",
    "        }\n",
    "        ofs << elipsis_line;\n",
    "\n",
    "\tfor (int i=122; i<(127+1); ++i){\n",
    "                ofs << bitset<n>(i) << \" | \" << i << \" | \" << char(i) << endl;\n",
    "        }\n",
    "        ofs << elipsis_line;\n",
    "\n",
    "\n",
    "\tofs.close();\n",
    "\n",
    "\treturn 0;\n",
    "}\n",
    "\n",
    "\n",
    "```"
   ]
  },
  {
   "cell_type": "markdown",
   "metadata": {},
   "source": [
    "### Strings"
   ]
  },
  {
   "cell_type": "markdown",
   "metadata": {},
   "source": [
    "* To represent a word or a sentence, we use a group of characters in order."
   ]
  },
  {
   "cell_type": "markdown",
   "metadata": {},
   "source": [
    "* In python, all characters are strings with length of one."
   ]
  },
  {
   "cell_type": "code",
   "execution_count": null,
   "metadata": {},
   "outputs": [],
   "source": [
    "s = \"Hello World!\"\n",
    "\n",
    "print(s)\n",
    "\n"
   ]
  },
  {
   "cell_type": "markdown",
   "metadata": {},
   "source": [
    "* In C/C++, a string always ends with a character '\\0'; hence we call it a \"zero terminated string\"."
   ]
  },
  {
   "cell_type": "markdown",
   "metadata": {},
   "source": [
    "``` C++\n",
    "#include <iostream>\n",
    "\n",
    "using namespace std;\n",
    "\n",
    "int main(int argn, char * argv []){\n",
    "    char s[] = \"Hello World!\";\n",
    "    int n = sizeof(s);\n",
    "    \n",
    "    for (int i = 0; i < n; ++i){\n",
    "    cout << \"s[\" << setw(2) <<i <<\"] = \" \n",
    "         << s[i] << \"(\" << setw(2) << (int) s[i]<< \")\\n\";\n",
    "    }\n",
    "    return 0;\n",
    "}\n",
    "```\n",
    "\n"
   ]
  },
  {
   "cell_type": "markdown",
   "metadata": {},
   "source": [
    "* In python, we cannot change one character within a string; in C/C++ we can change any one character except the '\\0'."
   ]
  },
  {
   "cell_type": "code",
   "execution_count": null,
   "metadata": {},
   "outputs": [],
   "source": [
    "s = \"hello World!\"\n",
    "# Following is an exception handling block\n",
    "try:\n",
    "    # This will cause an error\n",
    "    s[0] = 'h'\n",
    "except TypeError as e:\n",
    "    # This line will present the error message\n",
    "    print(e)\n",
    "\n"
   ]
  },
  {
   "cell_type": "markdown",
   "metadata": {},
   "source": [
    "``` C++\n",
    "#include <iostream>\n",
    "\n",
    "using namespace std;\n",
    "\n",
    "int main(int argn, char * argv []){\n",
    "    char s[] = \"Hello World!\\n\";\n",
    "    s[0] = 'H';\n",
    "    cout << s ;    \n",
    "    return 0;\n",
    "}\n",
    "```\n",
    "\n"
   ]
  },
  {
   "cell_type": "markdown",
   "metadata": {},
   "source": [
    "## Converting between Types"
   ]
  },
  {
   "cell_type": "markdown",
   "metadata": {},
   "source": [
    "* What if we need to multiply an integer with a floating point real number (float)?"
   ]
  },
  {
   "cell_type": "markdown",
   "metadata": {},
   "source": [
    "* Python, C, and C++ all convert the integer into a float."
   ]
  },
  {
   "cell_type": "markdown",
   "metadata": {},
   "source": [
    "* What if we want to convert a float into an intger?"
   ]
  },
  {
   "cell_type": "markdown",
   "metadata": {},
   "source": [
    "* Following C++ example includes some of possible type conversions."
   ]
  },
  {
   "cell_type": "markdown",
   "metadata": {},
   "source": [
    "``` C++\n",
    "#include <cstdio>\n",
    "\n",
    "int main(int argn, char *argv[]){\n",
    "\n",
    "    int i = 1;\n",
    "    double s = 0.1, q = 2.04;\n",
    "\n",
    "    double pi_float = i + q + s;\n",
    "    int pi_int = (int)(i + q + s);\n",
    "\n",
    "    char c = 'c';\n",
    "\n",
    "    printf(\"pi_float = %f\\n\", pi_float);\n",
    "    printf(\"pi_int = %d\\n\", pi_int);\n",
    "    printf(\"c (in char) = %c\\n\", c);\n",
    "    printf(\"c (in int) = %d\\n\", (int) c);\n",
    "\n",
    "}\n",
    "\n",
    "```"
   ]
  },
  {
   "cell_type": "markdown",
   "metadata": {},
   "source": [
    "## `list` and `tuple` from Python vs arrays from C/C++"
   ]
  },
  {
   "cell_type": "markdown",
   "metadata": {},
   "source": [
    "* To store multiple entities under one variable name, we can use these :\n",
    "\n",
    "| type | declaration |\n",
    "|:-----:|:------------:|\n",
    "| Python `list` | `s = [1, 2, '3', [4]]` |\n",
    "| Python `typle` | `t = ('1', '2', 3, '4')` |\n",
    "| C/C++ array | `int a[] = {1, 2, 3, 4};`<br>`char b[] = \"1234\";` |\n",
    "\n"
   ]
  },
  {
   "cell_type": "markdown",
   "metadata": {},
   "source": [
    "* Following operations are possible:\n",
    "\n",
    "| operation | `python` | `C`/`C++` |\n",
    "|:-----:|:------------:|:------------:|\n",
    "| read | `s[0]` | `a[0]`\n",
    "| write | `s[0]=5` | `a[0]=5`\n",
    "| number of elements | `len(s)` | `sizeof(a)/sizeof(a[0])`\n",
    "| size in bytes | N/A |  `sizeof(a)`\n",
    "| pop last element | `s.pop()` | N/A\n",
    "| add a new last element | `s.append(5)` | N/A\n",
    "| concatenate two of them | `s0 + s1` | N/A\n",
    "| insert a new element at `i` | `s.insert(i, 'a')` | N/A\n",
    "| slicing | `s[0:2]` | N/A\n",
    "\n"
   ]
  },
  {
   "cell_type": "markdown",
   "metadata": {},
   "source": [
    "* In fact, this may not be a fair comparison.\n",
    "\n"
   ]
  },
  {
   "cell_type": "markdown",
   "metadata": {},
   "source": [
    "* There is a [discussion](https://stackoverflow.com/questions/17528657/python-list-equivalent-in-c) claiming that `std::vector` or `std::deque` of C++ could be similar to python `list`."
   ]
  },
  {
   "cell_type": "markdown",
   "metadata": {},
   "source": [
    "* Implementing full features of `list` may not be straight forward in C/C++."
   ]
  },
  {
   "cell_type": "markdown",
   "metadata": {},
   "source": [
    "## `dict` of Python vs `struct` and `union` of C/C++"
   ]
  },
  {
   "cell_type": "markdown",
   "metadata": {},
   "source": [
    "[[ref0](https://stackoverflow.com/questions/330793/how-to-initialize-a-struct-in-accordance-with-c-programming-language-standards), [ref1](https://en.cppreference.com/w/c/language/struct_initialization)]"
   ]
  },
  {
   "cell_type": "markdown",
   "metadata": {},
   "source": [
    "* To store data with the field names, followings are available:\n",
    "\n",
    "| type | declaration |\n",
    "|:-----:|:------------:|\n",
    "| Python `dict` | `s = {'name' = 'python', 'year' = 1989, 'cmd' = 'python'}` |\n",
    "| C/C++ `struct` | `struct {char name[], int year[], char cmd[]} t = {.name=\"C\", .year=1970, .cmd=\"python\"};` |\n",
    "| C/C++ `union` | `union {int x, char c[4]} u = {1};` |\n",
    "\n"
   ]
  },
  {
   "cell_type": "markdown",
   "metadata": {},
   "source": [
    "* Following operations are possible:\n",
    "\n",
    "| operation | `python` | `C`/`C++` |\n",
    "|:-----:|:------------:|:------------:|\n",
    "| read | `s['name']` | `t.name`\n",
    "| write | `s['name']='Python'` | `t.year=1972;`\n",
    "| size in bytes | N/A |  `sizeof(t)`\n",
    "| delete one element | `del s['cmd`] | N/A\n",
    "| add a new element | `s.['ide']='idle'` | N/A\n",
    "| merge two of them | `s0.update[s1]` | N/A\n",
    "\n"
   ]
  },
  {
   "cell_type": "markdown",
   "metadata": {},
   "source": [
    "* This is not a fair comparison, either.\n",
    "\n"
   ]
  },
  {
   "cell_type": "markdown",
   "metadata": {},
   "source": [
    "* Another [discussion](https://stackoverflow.com/questions/1842941/translating-python-dictionary-to-c) claims that `std::map` of C++ could be similar to python `map`."
   ]
  },
  {
   "cell_type": "code",
   "execution_count": null,
   "metadata": {},
   "outputs": [],
   "source": []
  }
 ],
 "metadata": {
  "kernelspec": {
   "display_name": "Python 3",
   "language": "python",
   "name": "python3"
  },
  "language_info": {
   "codemirror_mode": {
    "name": "ipython",
    "version": 3
   },
   "file_extension": ".py",
   "mimetype": "text/x-python",
   "name": "python",
   "nbconvert_exporter": "python",
   "pygments_lexer": "ipython3",
   "version": "3.6.5"
  }
 },
 "nbformat": 4,
 "nbformat_minor": 2
}
