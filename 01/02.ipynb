{
 "cells": [
  {
   "cell_type": "markdown",
   "metadata": {},
   "source": [
    "# Operators"
   ]
  },
  {
   "cell_type": "markdown",
   "metadata": {},
   "source": [
    "## Operator precedence"
   ]
  },
  {
   "cell_type": "markdown",
   "metadata": {},
   "source": [
    "[[ref0](https://en.cppreference.com/w/cpp/language/operator_precedence), [ref1](https://docs.python.org/3.4/library/operator.html), [ref2](https://www.tutorialspoint.com/python/python_basic_operators.htm)]"
   ]
  },
  {
   "cell_type": "markdown",
   "metadata": {},
   "source": [
    "\n",
    "Precedence | C/C++ Operator | Description | Associativity\n",
    "-- | -- | -- | --\n",
    "1 | :: | Scope resolution | Left-to-right\n",
    "2 | a++ a-- | Suffix/postfix increment and decrement\n",
    "  | type() type{} | Functional cast\n",
    "  | a() | Function call\n",
    "  | a[] | Subscript\n",
    "  | . -> | Member access\n",
    "3 | ++a --a | Prefix increment and decrement | Right-to-left\n",
    " | +a -a | Unary plus and minus\n",
    " | ! ~ | Logical NOT and bitwise NOT\n",
    " | (type) | C-style cast\n",
    " | \\*a | Indirection (dereference)\n",
    " | &a | Address-of\n",
    " | sizeof | Size-of\n",
    " | new new[] | Dynamic memory allocation\n",
    " | delete delete[] | Dynamic memory deallocation\n",
    "4 | .* ->* | Pointer-to-member | Left-to-right\n",
    "5 | a\\*b a/b a%b | Multiplication, division, and remainder\n",
    "6 | a+b a-b | Addition and subtraction\n",
    "7 | << >> | Bitwise left shift and right shift\n",
    "8 | <=> | Three-way comparison operator (since C++20)\n",
    "9 | < <= | For relational operators < and ≤ respectively\n",
    "| \\> >= | For relational operators > and ≥ respectively\n",
    "10 | == != | For relational operators = and ≠ respectively\n",
    "11 | & | Bitwise AND\n",
    "12 | ^ | Bitwise XOR (exclusive or)\n",
    "13 | &#124; | Bitwise OR (inclusive or)\n",
    "14 | && | Logical AND\n",
    "15 | &#124;&#124; | Logical OR\n",
    "16 | a?b:c | Ternary conditional | Right-to-left\n",
    "  | throw | throw operator\n",
    "  | = | Direct assignment (provided by default for C++ classes)\n",
    "  | += -= | Compound assignment by sum and difference\n",
    "  | \\*= /= %= | Compound assignment by product, quotient, and remainder\n",
    "  | <<= >>= | Compound assignment by bitwise left shift and right shift\n",
    "  | &= ^= &vert;= | Compound assignment by bitwise AND, XOR, and OR\n",
    "17 | , | Comma | Left-to-right\n",
    "\n"
   ]
  },
  {
   "cell_type": "markdown",
   "metadata": {},
   "source": [
    "* For example, if you want to evauate adding two integers, please try compiling and running following source code.\n",
    "\n"
   ]
  },
  {
   "cell_type": "markdown",
   "metadata": {},
   "source": [
    "``` C++\n",
    "#include <iostream>\n",
    "\n",
    "using namespace std;\n",
    "\n",
    "int main(){\n",
    "    cout << \"1 + 2 = \" << 1 + 2 << '\\n';\n",
    "}\n",
    "```\n",
    "\n"
   ]
  },
  {
   "cell_type": "markdown",
   "metadata": {},
   "source": [
    "\n",
    "Sr.No. | Python Operator | Description\n",
    "-- | --\n",
    "1 | ** | Exponentiation<br>(raise to the power)\n",
    "2 | ~ + - | Complement, unary plus and minus<br>(method names for the last two are +@ and -@)\n",
    "3 | * / % // | Multiply, divide, modulo and floor division\n",
    "4 | + - | Addition and subtraction\n",
    "5 | >> << | Right and left bitwise shift\n",
    "6 | & | Bitwise 'AND'\n",
    "7 | ^ &vert; | Bitwise exclusive `OR' and regular `OR'\n",
    "8 | <= < > >= | Comparison operators\n",
    "9 | <> == != |  Equality operators\n",
    "10 | %= /= //= -= += \\*= \\*\\*= | Assignment operators\n",
    "11 | is is not | Identity operators\n",
    "12 | in not in | Membership operators\n",
    "13 | not or and | Logical operators\n",
    "\n"
   ]
  },
  {
   "cell_type": "markdown",
   "metadata": {},
   "source": [
    "* To evauate adding two integers in python, please try selecting following cell and press [Shift]+[Enter].\n",
    "\n"
   ]
  },
  {
   "cell_type": "code",
   "execution_count": null,
   "metadata": {},
   "outputs": [],
   "source": [
    "print(f'1 + 2 = {1 + 2}')\n",
    "print(f'[1] + [2] = {[1] + [2]}')\n",
    "\n"
   ]
  },
  {
   "cell_type": "markdown",
   "metadata": {},
   "source": [
    "## Some of the notable operators"
   ]
  },
  {
   "cell_type": "markdown",
   "metadata": {},
   "source": [
    "* Following operators may need some additional attention.\n",
    "\n",
    "| language | operator | description | example |\n",
    "|:--------:|:--------:|:-----------:|:------- |\n",
    "|  both   |   `+=`   | add in place | `int a=0;`<br>`a+=2;` |\n",
    "\n"
   ]
  },
  {
   "cell_type": "markdown",
   "metadata": {},
   "source": [
    "* Let's consider following C/C++ source code.\n",
    "\n"
   ]
  },
  {
   "cell_type": "markdown",
   "metadata": {},
   "source": [
    "``` C++\n",
    "#include <iostream>\n",
    "#include <cstdio>\n",
    "\n",
    "using namespace std;\n",
    "\n",
    "int main(int argn, char * argv[]){\n",
    "\tint a = int(argv[0][0]);\n",
    "\tint b = int(argv[0][1]);\n",
    "\n",
    "\tprintf(\"argv[0] = %s\\n\", argv[0]);\t\n",
    "\tprintf(\"a, b = %d, %d\\n\", a, b);\n",
    "\n",
    "\tputs(\"b++\\n\");\n",
    "\tb++;\n",
    "\tputs(\"b++\\n\");\n",
    "\tprintf(\"a, b = %d, %d\\n\", a, b);\n",
    "\n",
    "\tputs(\"b = a + b\\n\");\n",
    "\tb = a + b;\n",
    "\tputs(\"b = a + b\\n\");\n",
    "\tprintf(\"a, b = %d, %d\\n\", a, b);\n",
    "\n",
    "\treturn 0;\n",
    "}\n",
    "\n",
    "```"
   ]
  },
  {
   "cell_type": "markdown",
   "metadata": {},
   "source": [
    "* Following is a part of assembly file from `-Wa,-adhln=$(ASM)` option."
   ]
  },
  {
   "cell_type": "markdown",
   "metadata": {},
   "source": [
    "```\n",
    "  48 0049 E8000000 \t\tcall\tprintf@PLT\n",
    "  48      00\n",
    "  49 004e 8B55FC   \t\tmovl\t-4(%rbp), %edx\n",
    "  50 0051 8B45F8   \t\tmovl\t-8(%rbp), %eax\n",
    "  51 0054 89C6     \t\tmovl\t%eax, %esi\n",
    "  52 0056 488D3D00 \t\tleaq\t.LC1(%rip), %rdi\n",
    "  52      000000\n",
    "  53 005d B8000000 \t\tmovl\t$0, %eax\n",
    "  53      00\n",
    "  54 0062 E8000000 \t\tcall\tprintf@PLT\n",
    "  54      00\n",
    "  55 0067 488D3D00 \t\tleaq\t.LC2(%rip), %rdi\n",
    "  55      000000\n",
    "  56 006e E8000000 \t\tcall\tputs@PLT    ; puts(\"b++\\n\");\n",
    "  56      00\n",
    "  57 0073 8345FC01 \t\taddl\t$1, -4(%rbp)    ; b++;\n",
    "  58 0077 488D3D00 \t\tleaq\t.LC2(%rip), %rdi\n",
    "  58      000000\n",
    "  59 007e E8000000 \t\tcall\tputs@PLT    ; puts(\"b++\\n\");\n",
    "  59      00\n",
    "  60 0083 8B55FC   \t\tmovl\t-4(%rbp), %edx\n",
    "  61 0086 8B45F8   \t\tmovl\t-8(%rbp), %eax\n",
    "  62 0089 89C6     \t\tmovl\t%eax, %esi\n",
    "  63 008b 488D3D00 \t\tleaq\t.LC1(%rip), %rdi\n",
    "  63      000000\n",
    "  64 0092 B8000000 \t\tmovl\t$0, %eax\n",
    "  64      00\n",
    "  65 0097 E8000000 \t\tcall\tprintf@PLT\n",
    "  65      00\n",
    "  66 009c 488D3D00 \t\tleaq\t.LC3(%rip), %rdi\n",
    "  66      000000\n",
    "  67 00a3 E8000000 \t\tcall\tputs@PLT    ; puts(\"b = a + b\\n\");\n",
    "  67      00\n",
    "  68 00a8 8B45F8   \t\tmovl\t-8(%rbp), %eax    ; b = a + b;\n",
    "  69 00ab 0145FC   \t\taddl\t%eax, -4(%rbp)\n",
    "  70 00ae 488D3D00 \t\tleaq\t.LC3(%rip), %rdi\n",
    "  70      000000\n",
    "  71 00b5 E8000000 \t\tcall\tputs@PLT    ; puts(\"b = a + b\\n\");\n",
    "  71      00\n",
    "  72 00ba 8B55FC   \t\tmovl\t-4(%rbp), %edx\n",
    "  73 00bd 8B45F8   \t\tmovl\t-8(%rbp), %eax\n",
    "  74 00c0 89C6     \t\tmovl\t%eax, %esi\n",
    "  75 00c2 488D3D00 \t\tleaq\t.LC1(%rip), %rdi\n",
    "  75      000000\n",
    "  76 00c9 B8000000 \t\tmovl\t$0, %eax\n",
    "  76      00\n",
    "  77 00ce E8000000 \t\tcall\tprintf@PLT\n",
    "  77      00\n",
    "  78 00d3 B8000000 \t\tmovl\t$0, %eax\n",
    "```"
   ]
  },
  {
   "cell_type": "markdown",
   "metadata": {},
   "source": [
    "* Here, we may want to take a look at instructions around # 68\n",
    "\n",
    "```\n",
    "  68 00a8 8B45F8   \t\tmovl\t-8(%rbp), %eax    ; b = a + b;\n",
    "  69 00ab 0145FC   \t\taddl\t%eax, -4(%rbp)\n",
    "```"
   ]
  },
  {
   "cell_type": "markdown",
   "metadata": {},
   "source": [
    "* This indicates that `b = a + b` operation happens as follows.\n",
    "\n",
    "\n",
    "1. load `a` value to `%eax`\n",
    "1. add value at `%eax` to `b`"
   ]
  },
  {
   "cell_type": "markdown",
   "metadata": {},
   "source": [
    "* `b+=a` operation means the following instructions : \"add a value to b\""
   ]
  },
  {
   "cell_type": "markdown",
   "metadata": {},
   "source": [
    "* Other compound operators such as `*=` and `%=` also indicate similar operation."
   ]
  },
  {
   "cell_type": "code",
   "execution_count": null,
   "metadata": {},
   "outputs": [],
   "source": []
  }
 ],
 "metadata": {
  "kernelspec": {
   "display_name": "Python 3",
   "language": "python",
   "name": "python3"
  },
  "language_info": {
   "codemirror_mode": {
    "name": "ipython",
    "version": 3
   },
   "file_extension": ".py",
   "mimetype": "text/x-python",
   "name": "python",
   "nbconvert_exporter": "python",
   "pygments_lexer": "ipython3",
   "version": "3.6.5"
  }
 },
 "nbformat": 4,
 "nbformat_minor": 2
}
