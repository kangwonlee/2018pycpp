{
 "cells": [
  {
   "cell_type": "markdown",
   "metadata": {},
   "source": [
    "# Operators"
   ]
  },
  {
   "cell_type": "markdown",
   "metadata": {},
   "source": [
    "## Operator precedence"
   ]
  },
  {
   "cell_type": "markdown",
   "metadata": {},
   "source": [
    "[[ref0](https://en.cppreference.com/w/cpp/language/operator_precedence), [ref1](https://docs.python.org/3.4/library/operator.html)]"
   ]
  },
  {
   "cell_type": "markdown",
   "metadata": {},
   "source": [
    "\n",
    "Precedence | C/C++ Operator | Description | Associativity\n",
    "-- | -- | -- | --\n",
    "1 | :: | Scope resolution | Left-to-right\n",
    "2 | a++ a-- | Suffix/postfix increment and decrement\n",
    "  | type() type{} | Functional cast\n",
    "  | a() | Function call\n",
    "  | a[] | Subscript\n",
    "  | . -> | Member access\n",
    "3 | ++a --a | Prefix increment and decrement | Right-to-left\n",
    " | +a -a | Unary plus and minus\n",
    " | ! ~ | Logical NOT and bitwise NOT\n",
    " | (type) | C-style cast\n",
    " | \\*a | Indirection (dereference)\n",
    " | &a | Address-of\n",
    " | sizeof | Size-of[note 1]\n",
    " | new new[] | Dynamic memory allocation\n",
    " | delete delete[] | Dynamic memory deallocation\n",
    "4 | .* ->* | Pointer-to-member | Left-to-right\n",
    "5 | a\\*b a/b a%b | Multiplication, division, and remainder\n",
    "6 | a+b a-b | Addition and subtraction\n",
    "7 | << >> | Bitwise left shift and right shift\n",
    "8 | <=> | Three-way comparison operator (since C++20)\n",
    "9 | < <= | For relational operators < and ≤ respectively\n",
    "| \\> >= | For relational operators > and ≥ respectively\n",
    "10 | == != | For relational operators = and ≠ respectively\n",
    "11 | & | Bitwise AND\n",
    "12 | ^ | Bitwise XOR (exclusive or)\n",
    "13 | &#124; | Bitwise OR (inclusive or)\n",
    "14 | && | Logical AND\n",
    "15 | &#124;&#124; | Logical OR\n",
    "16 | a?b:c | Ternary conditional[note 2] | Right-to-left\n",
    "  | throw | throw operator\n",
    "  | = | Direct assignment (provided by default for C++ classes)\n",
    "  | += -= | Compound assignment by sum and difference\n",
    "  | \\*= /= %= | Compound assignment by product, quotient, and remainder\n",
    "  | <<= >>= | Compound assignment by bitwise left shift and right shift\n",
    "  | &= ^= &vert;= | Compound assignment by bitwise AND, XOR, and OR\n",
    "17 | , | Comma | Left-to-right\n",
    "\n"
   ]
  },
  {
   "cell_type": "markdown",
   "metadata": {},
   "source": [
    "* For example, if you want to evauate adding two integers, please try compiling and running following source code."
   ]
  },
  {
   "cell_type": "markdown",
   "metadata": {},
   "source": [
    "``` C++\n",
    "#include <iostream>\n",
    "\n",
    "int main(){\n",
    "    cout << \"1 + 2 = \" << 1 + 2 << '\\n';\n",
    "}\n",
    "```"
   ]
  },
  {
   "cell_type": "markdown",
   "metadata": {},
   "source": [
    "\n",
    "Sr.No. | Python Operator | Description\n",
    "-- | --\n",
    "1 | ** | Exponentiation<br>(raise to the power)\n",
    "2 | ~ + - | Complement, unary plus and minus<br>(method names for the last two are +@ and -@)\n",
    "3 | * / % // | Multiply, divide, modulo and floor division\n",
    "4 | + - | Addition and subtraction\n",
    "5 | >> << | Right and left bitwise shift\n",
    "6 | & | Bitwise 'AND'\n",
    "7 | ^ &vert; | Bitwise exclusive `OR' and regular `OR'\n",
    "8 | <= < > >= | Comparison operators\n",
    "9 | <> == != |  Equality operators\n",
    "10 | %= /= //= -= += \\*= \\*\\*= | Assignment operators\n",
    "11 | is is not | Identity operators\n",
    "12 | in not in | Membership operators\n",
    "13 | not or and | Logical operators\n",
    "\n"
   ]
  },
  {
   "cell_type": "code",
   "execution_count": null,
   "metadata": {},
   "outputs": [],
   "source": []
  }
 ],
 "metadata": {
  "kernelspec": {
   "display_name": "Python 3",
   "language": "python",
   "name": "python3"
  },
  "language_info": {
   "codemirror_mode": {
    "name": "ipython",
    "version": 3
   },
   "file_extension": ".py",
   "mimetype": "text/x-python",
   "name": "python",
   "nbconvert_exporter": "python",
   "pygments_lexer": "ipython3",
   "version": "3.6.5"
  }
 },
 "nbformat": 4,
 "nbformat_minor": 2
}
