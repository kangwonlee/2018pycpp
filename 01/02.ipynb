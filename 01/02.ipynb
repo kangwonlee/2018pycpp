{
 "cells": [
  {
   "cell_type": "markdown",
   "metadata": {},
   "source": [
    "# Operators"
   ]
  },
  {
   "cell_type": "markdown",
   "metadata": {},
   "source": [
    "## Operator precedence"
   ]
  },
  {
   "cell_type": "markdown",
   "metadata": {},
   "source": [
    "[[ref0](https://en.cppreference.com/w/cpp/language/operator_precedence), [ref1](https://docs.python.org/3.4/library/operator.html), [ref2](https://www.tutorialspoint.com/python/python_basic_operators.htm)]"
   ]
  },
  {
   "cell_type": "markdown",
   "metadata": {},
   "source": [
    "\n",
    "Precedence | C/C++ Operator | Description | Associativity\n",
    "-- | -- | -- | --\n",
    "1 | :: | Scope resolution | Left-to-right\n",
    "2 | a++ a-- | Suffix/postfix increment and decrement\n",
    "  | type() type{} | Functional cast\n",
    "  | a() | Function call\n",
    "  | a[] | Subscript\n",
    "  | . -> | Member access\n",
    "3 | ++a --a | Prefix increment and decrement | Right-to-left\n",
    " | +a -a | Unary plus and minus\n",
    " | ! ~ | Logical NOT and bitwise NOT\n",
    " | (type) | C-style cast\n",
    " | \\*a | Indirection (dereference)\n",
    " | &a | Address-of\n",
    " | sizeof | Size-of\n",
    " | new new[] | Dynamic memory allocation\n",
    " | delete delete[] | Dynamic memory deallocation\n",
    "4 | .* ->* | Pointer-to-member | Left-to-right\n",
    "5 | a\\*b a/b a%b | Multiplication, division, and remainder\n",
    "6 | a+b a-b | Addition and subtraction\n",
    "7 | << >> | Bitwise left shift and right shift\n",
    "8 | <=> | Three-way comparison operator (since C++20)\n",
    "9 | < <= | For relational operators < and ≤ respectively\n",
    "| \\> >= | For relational operators > and ≥ respectively\n",
    "10 | == != | For relational operators = and ≠ respectively\n",
    "11 | & | Bitwise AND\n",
    "12 | ^ | Bitwise XOR (exclusive or)\n",
    "13 | &#124; | Bitwise OR (inclusive or)\n",
    "14 | && | Logical AND\n",
    "15 | &#124;&#124; | Logical OR\n",
    "16 | a?b:c | Ternary conditional | Right-to-left\n",
    "  | throw | throw operator\n",
    "  | = | Direct assignment (provided by default for C++ classes)\n",
    "  | += -= | Compound assignment by sum and difference\n",
    "  | \\*= /= %= | Compound assignment by product, quotient, and remainder\n",
    "  | <<= >>= | Compound assignment by bitwise left shift and right shift\n",
    "  | &= ^= &vert;= | Compound assignment by bitwise AND, XOR, and OR\n",
    "17 | , | Comma | Left-to-right\n",
    "\n"
   ]
  },
  {
   "cell_type": "markdown",
   "metadata": {},
   "source": [
    "* For example, if you want to evauate adding two integers, please try compiling and running following source code.\n",
    "\n"
   ]
  },
  {
   "cell_type": "markdown",
   "metadata": {},
   "source": [
    "``` C++\n",
    "#include <iostream>\n",
    "\n",
    "using namespace std;\n",
    "\n",
    "int main(int argn, char * argv[]){\n",
    "\n",
    "    cout << \"1 + 2 = \" << 1 + 2 << '\\n';\n",
    "\n",
    "    return 0;\n",
    "}\n",
    "```\n",
    "\n"
   ]
  },
  {
   "cell_type": "markdown",
   "metadata": {},
   "source": [
    "\n",
    "Sr.No. | Python Operator | Description\n",
    "-- | -- | --\n",
    "1 | ** | Exponentiation<br>(raise to the power)\n",
    "2 | ~ + - | Complement, unary plus and minus<br>(method names for the last two are +@ and -@)\n",
    "3 | * / % // | Multiply, divide, modulo and floor division\n",
    "4 | + - | Addition and subtraction\n",
    "5 | >> << | Right and left bitwise shift\n",
    "6 | & | Bitwise 'AND'\n",
    "7 | ^ &vert; | Bitwise exclusive `OR' and regular `OR'\n",
    "8 | <= < > >= | Comparison operators\n",
    "9 | <> == != |  Equality operators\n",
    "10 | %= /= //= -= += \\*= \\*\\*= | Assignment operators\n",
    "11 | is is not | Identity operators\n",
    "12 | in not in | Membership operators\n",
    "13 | not or and | Logical operators\n",
    "\n"
   ]
  },
  {
   "cell_type": "markdown",
   "metadata": {},
   "source": [
    "* To evauate adding two integers or lists in python, please try selecting following cell and press <kbd>Shift</kbd>+<kbd>Enter</kbd>.\n",
    "\n"
   ]
  },
  {
   "cell_type": "code",
   "execution_count": null,
   "metadata": {},
   "outputs": [],
   "source": [
    "# adding two numbers\n",
    "print(f'1 + 2 = {1 + 2}')\n",
    "\n",
    "# adding two lists\n",
    "print(f'[1] + [2] = {[1] + [2]}')\n",
    "\n"
   ]
  },
  {
   "cell_type": "markdown",
   "metadata": {},
   "source": [
    "## Some of the notable operators"
   ]
  },
  {
   "cell_type": "markdown",
   "metadata": {},
   "source": [
    "* Following operators may need some additional attention.\n",
    "\n",
    "| language | operator | description | example |\n",
    "|:--------:|:--------:|:-----------:| ------- |\n",
    "|  both   |   `+=`   | add in place | <pre><code class=\"language-c++\">int a=0;<br>a+=2;</code></pre> |\n",
    "\n",
    "[comment]:<> (https://www.quackit.com/html/tags/html_code_tag.cfm)\n",
    "[comment]:<> (https://stackoverflow.com/questions/4823468/comments-in-markdown)"
   ]
  },
  {
   "cell_type": "markdown",
   "metadata": {},
   "source": [
    "* Let's consider following C/C++ source code.\n",
    "\n"
   ]
  },
  {
   "cell_type": "markdown",
   "metadata": {},
   "source": [
    "``` C++\n",
    "#include <iostream>\n",
    "#include <cstdio>\n",
    "\n",
    "int main(int argn, char * argv[]){\n",
    "\n",
    "\tint a = int(argv[0][0]);\n",
    "\tint b = int(argv[0][1]);\n",
    "\tint c = 0;\n",
    "\n",
    "\tprintf(\"argv[0] = %s\\n\", argv[0]);\n",
    "\tprintf(\"argv[1] = %s\\n\", argv[1]);\n",
    "\tprintf(\"argv[2] = %s\\n\\n\", argv[2]);\n",
    "\n",
    "\tprintf(\"a, b, c = %d, %d, %d\\n\", a, b, c);\n",
    "\n",
    "\tb++;\n",
    "\tputs(\"\\nb++\");\n",
    "\tprintf(\"a, b, c = %d, %d, %d\\n\", a, b, c);\n",
    "\n",
    "\tb+=a;\n",
    "\tputs(\"\\nb+=a\");\n",
    "\tprintf(\"a, b, c = %d, %d, %d\\n\", a, b, c);\n",
    "\n",
    "\tc = a + b;\n",
    "\tputs(\"\\nc = a + b\");\n",
    "\tprintf(\"a, b, c = %d, %d, %d\\n\", a, b, c);\n",
    "\n",
    "\treturn 0;\n",
    "\n",
    "}\n",
    "```\n",
    "\n"
   ]
  },
  {
   "cell_type": "markdown",
   "metadata": {},
   "source": [
    "* Following is a part of assembly file from `-Wa,-adhln=$(ASM)` option."
   ]
  },
  {
   "cell_type": "markdown",
   "metadata": {},
   "source": [
    "``` assembly\n",
    "   1:hello.cpp     **** #include <iostream>\n",
    "   2:hello.cpp     **** #include <cstdio>\n",
    "   3:hello.cpp     **** \n",
    "   4:hello.cpp     **** int main(int argn, char * argv[]){\n",
    "  31              \t\t.loc 1 4 0\n",
    "  32              \t\t.cfi_startproc\n",
    "  33 0000 55       \t\tpushq\t%rbp\n",
    "  34              \t\t.cfi_def_cfa_offset 16\n",
    "  35              \t\t.cfi_offset 6, -16\n",
    "  36 0001 4889E5   \t\tmovq\t%rsp, %rbp\n",
    "  37              \t\t.cfi_def_cfa_register 6\n",
    "  38 0004 4883EC20 \t\tsubq\t$32, %rsp\n",
    "  39 0008 897DEC   \t\tmovl\t%edi, -20(%rbp)\n",
    "  40 000b 488975E0 \t\tmovq\t%rsi, -32(%rbp)\n",
    "   5:hello.cpp     **** \n",
    "   6:hello.cpp     **** \tint a = int(argv[0][0]);\n",
    "  41              \t\t.loc 1 6 0\n",
    "  42 000f 488B45E0 \t\tmovq\t-32(%rbp), %rax\n",
    "  43 0013 488B00   \t\tmovq\t(%rax), %rax\n",
    "  44 0016 0FB600   \t\tmovzbl\t(%rax), %eax\n",
    "  45 0019 0FBEC0   \t\tmovsbl\t%al, %eax\n",
    "  46 001c 8945F4   \t\tmovl\t%eax, -12(%rbp)\n",
    "   7:hello.cpp     **** \tint b = int(argv[0][1]);\n",
    "  47              \t\t.loc 1 7 0\n",
    "  48 001f 488B45E0 \t\tmovq\t-32(%rbp), %rax\n",
    "  49 0023 488B00   \t\tmovq\t(%rax), %rax\n",
    "  50 0026 4883C001 \t\taddq\t$1, %rax\n",
    "  51 002a 0FB600   \t\tmovzbl\t(%rax), %eax\n",
    "  52 002d 0FBEC0   \t\tmovsbl\t%al, %eax\n",
    "  53 0030 8945F8   \t\tmovl\t%eax, -8(%rbp)\n",
    "   8:hello.cpp     **** \tint c = 0;\n",
    "  54              \t\t.loc 1 8 0\n",
    "  55 0033 C745FC00 \t\tmovl\t$0, -4(%rbp)\n",
    "  55      000000\n",
    "   9:hello.cpp     **** \n",
    "  10:hello.cpp     **** \tprintf(\"argv[0] = %s\\n\", argv[0]);\n",
    "  56              \t\t.loc 1 10 0\n",
    "  57 003a 488B45E0 \t\tmovq\t-32(%rbp), %rax\n",
    "  58 003e 488B00   \t\tmovq\t(%rax), %rax\n",
    "  59 0041 4889C6   \t\tmovq\t%rax, %rsi\n",
    "  60 0044 488D3D00 \t\tleaq\t.LC0(%rip), %rdi\n",
    "  60      000000\n",
    "  61 004b B8000000 \t\tmovl\t$0, %eax\n",
    "  61      00\n",
    "  62 0050 E8000000 \t\tcall\tprintf@PLT\n",
    "  62      00\n",
    "  11:hello.cpp     **** \tprintf(\"argv[1] = %s\\n\", argv[1]);\n",
    "  63              \t\t.loc 1 11 0\n",
    "  64 0055 488B45E0 \t\tmovq\t-32(%rbp), %rax\n",
    "  65 0059 4883C008 \t\taddq\t$8, %rax\n",
    "  66 005d 488B00   \t\tmovq\t(%rax), %rax\n",
    "  67 0060 4889C6   \t\tmovq\t%rax, %rsi\n",
    "  68 0063 488D3D00 \t\tleaq\t.LC1(%rip), %rdi\n",
    "  68      000000\n",
    "  69 006a B8000000 \t\tmovl\t$0, %eax\n",
    "  69      00\n",
    "  70 006f E8000000 \t\tcall\tprintf@PLT\n",
    "  70      00\n",
    "  12:hello.cpp     **** \tprintf(\"argv[2] = %s\\n\\n\", argv[2]);\n",
    "  71              \t\t.loc 1 12 0\n",
    "  72 0074 488B45E0 \t\tmovq\t-32(%rbp), %rax\n",
    "  73 0078 4883C010 \t\taddq\t$16, %rax\n",
    "  74 007c 488B00   \t\tmovq\t(%rax), %rax\n",
    "  75 007f 4889C6   \t\tmovq\t%rax, %rsi\n",
    "  76 0082 488D3D00 \t\tleaq\t.LC2(%rip), %rdi\n",
    "  76      000000\n",
    "  77 0089 B8000000 \t\tmovl\t$0, %eax\n",
    "  77      00\n",
    "  78 008e E8000000 \t\tcall\tprintf@PLT\n",
    "  78      00\n",
    "  13:hello.cpp     **** \n",
    "  14:hello.cpp     **** \tprintf(\"a, b, c = %d, %d, %d\\n\", a, b, c);\n",
    "  79              \t\t.loc 1 14 0\n",
    "  80 0093 8B4DFC   \t\tmovl\t-4(%rbp), %ecx\n",
    "  81 0096 8B55F8   \t\tmovl\t-8(%rbp), %edx\n",
    "  82 0099 8B45F4   \t\tmovl\t-12(%rbp), %eax\n",
    "  83 009c 89C6     \t\tmovl\t%eax, %esi\n",
    "  84 009e 488D3D00 \t\tleaq\t.LC3(%rip), %rdi\n",
    "  84      000000\n",
    "  85 00a5 B8000000 \t\tmovl\t$0, %eax\n",
    "  85      00\n",
    "  86 00aa E8000000 \t\tcall\tprintf@PLT\n",
    "  86      00\n",
    "  15:hello.cpp     **** \n",
    "  16:hello.cpp     **** \tb++;\n",
    "  87              \t\t.loc 1 16 0\n",
    "  88 00af 8345F801 \t\taddl\t$1, -8(%rbp)\n",
    "  17:hello.cpp     **** \tputs(\"\\nb++\");\n",
    "  89              \t\t.loc 1 17 0\n",
    "  90 00b3 488D3D00 \t\tleaq\t.LC4(%rip), %rdi\n",
    "  90      000000\n",
    "  91 00ba E8000000 \t\tcall\tputs@PLT\n",
    "  91      00\n",
    "  18:hello.cpp     **** \tprintf(\"a, b, c = %d, %d, %d\\n\", a, b, c);\n",
    "  92              \t\t.loc 1 18 0\n",
    "  93 00bf 8B4DFC   \t\tmovl\t-4(%rbp), %ecx\n",
    "  94 00c2 8B55F8   \t\tmovl\t-8(%rbp), %edx\n",
    "  95 00c5 8B45F4   \t\tmovl\t-12(%rbp), %eax\n",
    "  96 00c8 89C6     \t\tmovl\t%eax, %esi\n",
    "  97 00ca 488D3D00 \t\tleaq\t.LC3(%rip), %rdi\n",
    "  97      000000\n",
    "  98 00d1 B8000000 \t\tmovl\t$0, %eax\n",
    "  98      00\n",
    "  99 00d6 E8000000 \t\tcall\tprintf@PLT\n",
    "  99      00\n",
    "  19:hello.cpp     **** \n",
    "  20:hello.cpp     **** \tb+=a;\n",
    " 100              \t\t.loc 1 20 0\n",
    " 101 00db 8B45F4   \t\tmovl\t-12(%rbp), %eax\n",
    " 102 00de 0145F8   \t\taddl\t%eax, -8(%rbp)\n",
    "  21:hello.cpp     **** \tputs(\"\\nb+=a\");\n",
    " 103              \t\t.loc 1 21 0\n",
    " 104 00e1 488D3D00 \t\tleaq\t.LC5(%rip), %rdi\n",
    " 104      000000\n",
    " 105 00e8 E8000000 \t\tcall\tputs@PLT\n",
    " 105      00\n",
    "  22:hello.cpp     **** \tprintf(\"a, b, c = %d, %d, %d\\n\", a, b, c);\n",
    " 106              \t\t.loc 1 22 0\n",
    " 107 00ed 8B4DFC   \t\tmovl\t-4(%rbp), %ecx\n",
    " 108 00f0 8B55F8   \t\tmovl\t-8(%rbp), %edx\n",
    " 109 00f3 8B45F4   \t\tmovl\t-12(%rbp), %eax\n",
    " 110 00f6 89C6     \t\tmovl\t%eax, %esi\n",
    " 111 00f8 488D3D00 \t\tleaq\t.LC3(%rip), %rdi\n",
    " 111      000000\n",
    " 112 00ff B8000000 \t\tmovl\t$0, %eax\n",
    " 112      00\n",
    " 113 0104 E8000000 \t\tcall\tprintf@PLT\n",
    " 113      00\n",
    "  23:hello.cpp     **** \n",
    "  24:hello.cpp     **** \tc = a + b;\n",
    " 114              \t\t.loc 1 24 0\n",
    " 115 0109 8B55F4   \t\tmovl\t-12(%rbp), %edx\n",
    " 116 010c 8B45F8   \t\tmovl\t-8(%rbp), %eax\n",
    " 117 010f 01D0     \t\taddl\t%edx, %eax\n",
    " 118 0111 8945FC   \t\tmovl\t%eax, -4(%rbp)\n",
    "  25:hello.cpp     **** \tputs(\"\\nc = a + b\");\n",
    " 119              \t\t.loc 1 25 0\n",
    " 120 0114 488D3D00 \t\tleaq\t.LC6(%rip), %rdi\n",
    " 120      000000\n",
    " 121 011b E8000000 \t\tcall\tputs@PLT\n",
    " 121      00\n",
    "  26:hello.cpp     **** \tprintf(\"a, b, c = %d, %d, %d\\n\", a, b, c);\n",
    " 122              \t\t.loc 1 26 0\n",
    " 123 0120 8B4DFC   \t\tmovl\t-4(%rbp), %ecx\n",
    " 124 0123 8B55F8   \t\tmovl\t-8(%rbp), %edx\n",
    " 125 0126 8B45F4   \t\tmovl\t-12(%rbp), %eax\n",
    " 126 0129 89C6     \t\tmovl\t%eax, %esi\n",
    " 127 012b 488D3D00 \t\tleaq\t.LC3(%rip), %rdi\n",
    " 127      000000\n",
    " 128 0132 B8000000 \t\tmovl\t$0, %eax\n",
    " 128      00\n",
    " 129 0137 E8000000 \t\tcall\tprintf@PLT\n",
    " 129      00\n",
    "  27:hello.cpp     **** \n",
    "  28:hello.cpp     **** \treturn 0;\n",
    " 130              \t\t.loc 1 28 0\n",
    " 131 013c B8000000 \t\tmovl\t$0, %eax\n",
    " 131      00\n",
    "  29:hello.cpp     **** \n",
    "  30:hello.cpp     **** }\n",
    " 132              \t\t.loc 1 30 0\n",
    " 133 0141 C9       \t\tleave\n",
    " 134              \t\t.cfi_def_cfa 7, 8\n",
    " 135 0142 C3       \t\tret\n",
    " 136              \t\t.cfi_endproc\n",
    "\n",
    "```"
   ]
  },
  {
   "cell_type": "markdown",
   "metadata": {},
   "source": [
    "* Here, we may want to take a look at instructions around \"`24:hello.cpp`\".\n",
    "\n",
    "``` assembly\n",
    "  24:hello.cpp     ****     c = a + b;\n",
    " 114                      .loc 1 24 0\n",
    " 115 0109 8B55F4           movl    -12(%rbp), %edx\n",
    " 116 010c 8B45F8           movl    -8(%rbp), %eax\n",
    " 117 010f 01D0             addl    %edx, %eax\n",
    " 118 0111 8945FC           movl    %eax, -4(%rbp)\n",
    "```\n",
    "\n"
   ]
  },
  {
   "cell_type": "markdown",
   "metadata": {},
   "source": [
    "* This indicates that `b = a + b` operation happens as follows.\n",
    "\n",
    "\n",
    "1. load `a` value to `%eax`\n",
    "1. add value at `%eax` to `b`"
   ]
  },
  {
   "cell_type": "markdown",
   "metadata": {},
   "source": [
    "* `b+=a` operation means the following instructions : \"add a value to b\""
   ]
  },
  {
   "cell_type": "markdown",
   "metadata": {},
   "source": [
    "``` assembly\n",
    "  20:hello.cpp     **** \tb+=a;\n",
    " 100              \t\t.loc 1 20 0\n",
    " 101 00db 8B45F4   \t\tmovl\t-12(%rbp), %eax\n",
    " 102 00de 0145F8   \t\taddl\t%eax, -8(%rbp)\n",
    "```"
   ]
  },
  {
   "cell_type": "markdown",
   "metadata": {},
   "source": [
    "* Other compound operators such as `*=` and `%=` also indicate similar operation."
   ]
  },
  {
   "cell_type": "markdown",
   "metadata": {},
   "source": [
    "## Exercises"
   ]
  },
  {
   "cell_type": "markdown",
   "metadata": {},
   "source": [
    "### 00: Bitwise operators"
   ]
  },
  {
   "cell_type": "markdown",
   "metadata": {},
   "source": [
    "* Please complete following Markdown table with bitwise operators in python and/or C/C++"
   ]
  },
  {
   "cell_type": "markdown",
   "metadata": {},
   "source": [
    "| bitwise operator | expected behavior | available in python | available in C/C++ |\n",
    "|----------|-------------------|---------------------|--------------------|\n",
    "|    &vert;     |    Or     |          y          |         y          |"
   ]
  },
  {
   "cell_type": "markdown",
   "metadata": {},
   "source": [
    "### 01 : Bitwise operators : python"
   ]
  },
  {
   "cell_type": "markdown",
   "metadata": {},
   "source": [
    "* Please write a python cell presenting examples of the table above in binary"
   ]
  },
  {
   "cell_type": "markdown",
   "metadata": {},
   "source": [
    "### 02 : Bitwise operators : C/C++"
   ]
  },
  {
   "cell_type": "markdown",
   "metadata": {},
   "source": [
    "* Please write a C/C++ program presenting examples of the table above\n",
    "* Please consider using `<bitset>`"
   ]
  },
  {
   "cell_type": "markdown",
   "metadata": {},
   "source": [
    "### 03* : Bitwise operators : Assembly"
   ]
  },
  {
   "cell_type": "markdown",
   "metadata": {},
   "source": [
    "* This is an optional assignment\n",
    "* Generate an Assembly file of the above C++\n",
    "* Duplicate the first table and add one more column indicating assembly *opcode*s"
   ]
  },
  {
   "cell_type": "code",
   "execution_count": null,
   "metadata": {},
   "outputs": [],
   "source": []
  }
 ],
 "metadata": {
  "kernelspec": {
   "display_name": "Python 3",
   "language": "python",
   "name": "python3"
  },
  "language_info": {
   "codemirror_mode": {
    "name": "ipython",
    "version": 3
   },
   "file_extension": ".py",
   "mimetype": "text/x-python",
   "name": "python",
   "nbconvert_exporter": "python",
   "pygments_lexer": "ipython3",
   "version": "3.6.5"
  }
 },
 "nbformat": 4,
 "nbformat_minor": 2
}
