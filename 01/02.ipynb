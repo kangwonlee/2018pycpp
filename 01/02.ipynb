{
 "cells": [
  {
   "cell_type": "markdown",
   "metadata": {},
   "source": [
    "# Operators"
   ]
  },
  {
   "cell_type": "markdown",
   "metadata": {},
   "source": [
    "## Operator precedence"
   ]
  },
  {
   "cell_type": "markdown",
   "metadata": {},
   "source": [
    "[[ref0](https://en.cppreference.com/w/cpp/language/operator_precedence), [ref1](https://docs.python.org/3.4/library/operator.html), [ref2](https://www.tutorialspoint.com/python/python_basic_operators.htm)]"
   ]
  },
  {
   "cell_type": "markdown",
   "metadata": {},
   "source": [
    "\n",
    "Precedence | C/C++ Operator | Description | Associativity\n",
    "-- | -- | -- | --\n",
    "1 | :: | Scope resolution | Left-to-right\n",
    "2 | a++ a-- | Suffix/postfix increment and decrement\n",
    "  | type() type{} | Functional cast\n",
    "  | a() | Function call\n",
    "  | a[] | Subscript\n",
    "  | . -> | Member access\n",
    "3 | ++a --a | Prefix increment and decrement | Right-to-left\n",
    " | +a -a | Unary plus and minus\n",
    " | ! ~ | Logical NOT and bitwise NOT\n",
    " | (type) | C-style cast\n",
    " | \\*a | Indirection (dereference)\n",
    " | &a | Address-of\n",
    " | sizeof | Size-of\n",
    " | new new[] | Dynamic memory allocation\n",
    " | delete delete[] | Dynamic memory deallocation\n",
    "4 | .* ->* | Pointer-to-member | Left-to-right\n",
    "5 | a\\*b a/b a%b | Multiplication, division, and remainder\n",
    "6 | a+b a-b | Addition and subtraction\n",
    "7 | << >> | Bitwise left shift and right shift\n",
    "8 | <=> | Three-way comparison operator (since C++20)\n",
    "9 | < <= | For relational operators < and ≤ respectively\n",
    "| \\> >= | For relational operators > and ≥ respectively\n",
    "10 | == != | For relational operators = and ≠ respectively\n",
    "11 | & | Bitwise AND\n",
    "12 | ^ | Bitwise XOR (exclusive or)\n",
    "13 | &#124; | Bitwise OR (inclusive or)\n",
    "14 | && | Logical AND\n",
    "15 | &#124;&#124; | Logical OR\n",
    "16 | a?b:c | Ternary conditional | Right-to-left\n",
    "  | throw | throw operator\n",
    "  | = | Direct assignment (provided by default for C++ classes)\n",
    "  | += -= | Compound assignment by sum and difference\n",
    "  | \\*= /= %= | Compound assignment by product, quotient, and remainder\n",
    "  | <<= >>= | Compound assignment by bitwise left shift and right shift\n",
    "  | &= ^= &vert;= | Compound assignment by bitwise AND, XOR, and OR\n",
    "17 | , | Comma | Left-to-right\n",
    "\n"
   ]
  },
  {
   "cell_type": "markdown",
   "metadata": {},
   "source": [
    "* For example, if you want to evauate adding two integers, please try compiling and running following source code.\n",
    "\n"
   ]
  },
  {
   "cell_type": "markdown",
   "metadata": {},
   "source": [
    "``` C++\n",
    "#include <iostream>\n",
    "\n",
    "using namespace std;\n",
    "\n",
    "int main(int argn, char * argv[]){\n",
    "\n",
    "    cout << \"1 + 2 = \" << 1 + 2 << '\\n';\n",
    "\n",
    "    return 0;\n",
    "}\n",
    "```\n",
    "\n"
   ]
  },
  {
   "cell_type": "markdown",
   "metadata": {},
   "source": [
    "\n",
    "Sr.No. | Python Operator | Description\n",
    "-- | -- | --\n",
    "1 | ** | Exponentiation<br>(raise to the power)\n",
    "2 | ~ + - | Complement, unary plus and minus<br>(method names for the last two are +@ and -@)\n",
    "3 | * / % // | Multiply, divide, modulo and floor division\n",
    "4 | + - | Addition and subtraction\n",
    "5 | >> << | Right and left bitwise shift\n",
    "6 | & | Bitwise 'AND'\n",
    "7 | ^ &vert; | Bitwise exclusive `OR' and regular `OR'\n",
    "8 | <= < > >= | Comparison operators\n",
    "9 | <> == != |  Equality operators\n",
    "10 | %= /= //= -= += \\*= \\*\\*= | Assignment operators\n",
    "11 | is is not | Identity operators\n",
    "12 | in not in | Membership operators\n",
    "13 | not or and | Logical operators\n",
    "\n"
   ]
  },
  {
   "cell_type": "markdown",
   "metadata": {},
   "source": [
    "* To evauate adding two integers or lists in python, please try selecting following cell and press <kbd>Shift</kbd>+<kbd>Enter</kbd>.\n",
    "\n"
   ]
  },
  {
   "cell_type": "code",
   "execution_count": null,
   "metadata": {},
   "outputs": [],
   "source": [
    "print(f'1 + 2 = {1 + 2}')\n",
    "print(f'[1] + [2] = {[1] + [2]}')\n",
    "\n"
   ]
  },
  {
   "cell_type": "markdown",
   "metadata": {},
   "source": [
    "## Some of the notable operators"
   ]
  },
  {
   "cell_type": "markdown",
   "metadata": {},
   "source": [
    "* Following operators may need some additional attention.\n",
    "\n",
    "| language | operator | description | example |\n",
    "|:--------:|:--------:|:-----------:| ------- |\n",
    "|  both   |   `+=`   | add in place | <pre><code class=\"language-c++\">int a=0;<br>a+=2;</code></pre> |\n",
    "\n",
    "[comment]:<> (https://www.quackit.com/html/tags/html_code_tag.cfm)\n",
    "[comment]:<> (https://stackoverflow.com/questions/4823468/comments-in-markdown)"
   ]
  },
  {
   "cell_type": "markdown",
   "metadata": {},
   "source": [
    "* Let's consider following C/C++ source code.\n",
    "\n"
   ]
  },
  {
   "cell_type": "markdown",
   "metadata": {},
   "source": [
    "``` C++\n",
    "#include <iostream>\n",
    "#include <cstdio>\n",
    "\n",
    "using namespace std;\n",
    "\n",
    "int main(int argn, char * argv[]){\n",
    "\tint a = int(argv[0][0]);\n",
    "\tint b = int(argv[0][1]);\n",
    "\n",
    "\tprintf(\"argv[0] = %s\\n\", argv[0]);\t\n",
    "\tprintf(\"a, b = %d, %d\\n\", a, b);\n",
    "\n",
    "\tb++;\n",
    "\tputs(\"b++\\n\");\n",
    "\tprintf(\"a, b = %d, %d\\n\", a, b);\n",
    "\n",
    "\tb+=a;\n",
    "\tputs(\"b+=a\\n\");\n",
    "\tprintf(\"a, b = %d, %d\\n\", a, b);\n",
    "\n",
    "\tb = b + a;\n",
    "\tputs(\"b = b + a\\n\");\n",
    "\tprintf(\"a, b = %d, %d\\n\", a, b);\n",
    "\n",
    "\treturn 0;\n",
    "\n",
    "}\n",
    "\n",
    "\n",
    "```"
   ]
  },
  {
   "cell_type": "markdown",
   "metadata": {},
   "source": [
    "* Following is a part of assembly file from `-Wa,-adhln=$(ASM)` option."
   ]
  },
  {
   "cell_type": "markdown",
   "metadata": {},
   "source": [
    "```\n",
    "   1:hello.cpp     **** #include <iostream>\n",
    "   2:hello.cpp     **** #include <cstdio>\n",
    "   3:hello.cpp     **** \n",
    "   4:hello.cpp     **** using namespace std;\n",
    "   5:hello.cpp     **** \n",
    "   6:hello.cpp     **** int main(int argn, char * argv[]){\n",
    "  27              \t\t.loc 1 6 0\n",
    "  28              \t\t.cfi_startproc\n",
    "  29 0000 55       \t\tpushq\t%rbp\n",
    "  30              \t\t.cfi_def_cfa_offset 16\n",
    "  31              \t\t.cfi_offset 6, -16\n",
    "  32 0001 4889E5   \t\tmovq\t%rsp, %rbp\n",
    "  33              \t\t.cfi_def_cfa_register 6\n",
    "  34 0004 4883EC20 \t\tsubq\t$32, %rsp\n",
    "  35 0008 897DEC   \t\tmovl\t%edi, -20(%rbp)\n",
    "  36 000b 488975E0 \t\tmovq\t%rsi, -32(%rbp)\n",
    "   7:hello.cpp     **** \n",
    "   8:hello.cpp     **** \tint a = int(argv[0][0]);\n",
    "  37              \t\t.loc 1 8 0\n",
    "  38 000f 488B45E0 \t\tmovq\t-32(%rbp), %rax\n",
    "  39 0013 488B00   \t\tmovq\t(%rax), %rax\n",
    "  40 0016 0FB600   \t\tmovzbl\t(%rax), %eax\n",
    "  41 0019 0FBEC0   \t\tmovsbl\t%al, %eax\n",
    "  42 001c 8945F8   \t\tmovl\t%eax, -8(%rbp)\n",
    "   9:hello.cpp     **** \tint b = int(argv[0][1]);\n",
    "  43              \t\t.loc 1 9 0\n",
    "  44 001f 488B45E0 \t\tmovq\t-32(%rbp), %rax\n",
    "  45 0023 488B00   \t\tmovq\t(%rax), %rax\n",
    "  46 0026 4883C001 \t\taddq\t$1, %rax\n",
    "  47 002a 0FB600   \t\tmovzbl\t(%rax), %eax\n",
    "  48 002d 0FBEC0   \t\tmovsbl\t%al, %eax\n",
    "  49 0030 8945FC   \t\tmovl\t%eax, -4(%rbp)\n",
    "  10:hello.cpp     **** \n",
    "  11:hello.cpp     **** \tprintf(\"argv[0] = %s\\n\", argv[0]);\t\n",
    "  50              \t\t.loc 1 11 0\n",
    "  51 0033 488B45E0 \t\tmovq\t-32(%rbp), %rax\n",
    "  52 0037 488B00   \t\tmovq\t(%rax), %rax\n",
    "  53 003a 4889C6   \t\tmovq\t%rax, %rsi\n",
    "  54 003d 488D3D00 \t\tleaq\t.LC0(%rip), %rdi\n",
    "  54      000000\n",
    "  55 0044 B8000000 \t\tmovl\t$0, %eax\n",
    "  55      00\n",
    "  56 0049 E8000000 \t\tcall\tprintf@PLT\n",
    "  56      00\n",
    "  12:hello.cpp     **** \tprintf(\"a, b = %d, %d\\n\", a, b);\n",
    "  57              \t\t.loc 1 12 0\n",
    "  58 004e 8B55FC   \t\tmovl\t-4(%rbp), %edx\n",
    "  59 0051 8B45F8   \t\tmovl\t-8(%rbp), %eax\n",
    "  60 0054 89C6     \t\tmovl\t%eax, %esi\n",
    "  61 0056 488D3D00 \t\tleaq\t.LC1(%rip), %rdi\n",
    "  61      000000\n",
    "  62 005d B8000000 \t\tmovl\t$0, %eax\n",
    "  62      00\n",
    "  63 0062 E8000000 \t\tcall\tprintf@PLT\n",
    "  63      00\n",
    "  13:hello.cpp     **** \n",
    "  14:hello.cpp     **** \tb++;\n",
    "  64              \t\t.loc 1 14 0\n",
    "  65 0067 8345FC01 \t\taddl\t$1, -4(%rbp)\n",
    "  15:hello.cpp     **** \tputs(\"b++\\n\");\n",
    "  66              \t\t.loc 1 15 0\n",
    "  67 006b 488D3D00 \t\tleaq\t.LC2(%rip), %rdi\n",
    "  67      000000\n",
    "  68 0072 E8000000 \t\tcall\tputs@PLT\n",
    "  68      00\n",
    "  16:hello.cpp     **** \tprintf(\"a, b = %d, %d\\n\", a, b);\n",
    "  69              \t\t.loc 1 16 0\n",
    "  70 0077 8B55FC   \t\tmovl\t-4(%rbp), %edx\n",
    "  71 007a 8B45F8   \t\tmovl\t-8(%rbp), %eax\n",
    "  72 007d 89C6     \t\tmovl\t%eax, %esi\n",
    "  73 007f 488D3D00 \t\tleaq\t.LC1(%rip), %rdi\n",
    "  73      000000\n",
    "  74 0086 B8000000 \t\tmovl\t$0, %eax\n",
    "  74      00\n",
    "  75 008b E8000000 \t\tcall\tprintf@PLT\n",
    "  75      00\n",
    "  17:hello.cpp     **** \n",
    "  18:hello.cpp     **** \tb+=a;\n",
    "  76              \t\t.loc 1 18 0\n",
    "  77 0090 8B45F8   \t\tmovl\t-8(%rbp), %eax\n",
    "  78 0093 0145FC   \t\taddl\t%eax, -4(%rbp)\n",
    "  19:hello.cpp     **** \tputs(\"b+=a\\n\");\n",
    "  79              \t\t.loc 1 19 0\n",
    "  80 0096 488D3D00 \t\tleaq\t.LC3(%rip), %rdi\n",
    "  80      000000\n",
    "  81 009d E8000000 \t\tcall\tputs@PLT\n",
    "  81      00\n",
    "  20:hello.cpp     **** \tprintf(\"a, b = %d, %d\\n\", a, b);\n",
    "  82              \t\t.loc 1 20 0\n",
    "  83 00a2 8B55FC   \t\tmovl\t-4(%rbp), %edx\n",
    "  84 00a5 8B45F8   \t\tmovl\t-8(%rbp), %eax\n",
    "  85 00a8 89C6     \t\tmovl\t%eax, %esi\n",
    "  86 00aa 488D3D00 \t\tleaq\t.LC1(%rip), %rdi\n",
    "  86      000000\n",
    "  87 00b1 B8000000 \t\tmovl\t$0, %eax\n",
    "  87      00\n",
    "  88 00b6 E8000000 \t\tcall\tprintf@PLT\n",
    "  88      00\n",
    "  21:hello.cpp     **** \n",
    "  22:hello.cpp     **** \tb = b + a;\n",
    "  89              \t\t.loc 1 22 0\n",
    "  90 00bb 8B45F8   \t\tmovl\t-8(%rbp), %eax\n",
    "  91 00be 0145FC   \t\taddl\t%eax, -4(%rbp)\n",
    "  23:hello.cpp     **** \tputs(\"b = b + a\\n\");\n",
    "  92              \t\t.loc 1 23 0\n",
    "  93 00c1 488D3D00 \t\tleaq\t.LC4(%rip), %rdi\n",
    "  93      000000\n",
    "  94 00c8 E8000000 \t\tcall\tputs@PLT\n",
    "  94      00\n",
    "  24:hello.cpp     **** \tprintf(\"a, b = %d, %d\\n\", a, b);\n",
    "  95              \t\t.loc 1 24 0\n",
    "  96 00cd 8B55FC   \t\tmovl\t-4(%rbp), %edx\n",
    "  97 00d0 8B45F8   \t\tmovl\t-8(%rbp), %eax\n",
    "  98 00d3 89C6     \t\tmovl\t%eax, %esi\n",
    "  99 00d5 488D3D00 \t\tleaq\t.LC1(%rip), %rdi\n",
    "  99      000000\n",
    " 100 00dc B8000000 \t\tmovl\t$0, %eax\n",
    " 100      00\n",
    " 101 00e1 E8000000 \t\tcall\tprintf@PLT\n",
    " 101      00\n",
    "  25:hello.cpp     **** \n",
    "  26:hello.cpp     **** \treturn 0;\n",
    " 102              \t\t.loc 1 26 0\n",
    " 103 00e6 B8000000 \t\tmovl\t$0, %eax\n",
    " 103      00\n",
    "  27:hello.cpp     **** \n",
    "  28:hello.cpp     **** }\n",
    "```"
   ]
  },
  {
   "cell_type": "markdown",
   "metadata": {},
   "source": [
    "* Here, we may want to take a look at instructions around \"`22:hello.cpp`\".\n",
    "\n",
    "```\n",
    "  22:hello.cpp     **** \tb = b + a;\n",
    "  89              \t\t.loc 1 22 0\n",
    "  90 00bb 8B45F8   \t\tmovl\t-8(%rbp), %eax\n",
    "  91 00be 0145FC   \t\taddl\t%eax, -4(%rbp)\n",
    "```\n",
    "\n"
   ]
  },
  {
   "cell_type": "markdown",
   "metadata": {},
   "source": [
    "* This indicates that `b = a + b` operation happens as follows.\n",
    "\n",
    "\n",
    "1. load `a` value to `%eax`\n",
    "1. add value at `%eax` to `b`"
   ]
  },
  {
   "cell_type": "markdown",
   "metadata": {},
   "source": [
    "* `b+=a` operation means the following instructions : \"add a value to b\""
   ]
  },
  {
   "cell_type": "markdown",
   "metadata": {},
   "source": [
    "```\n",
    "  18:hello.cpp     ****     b+=a;\n",
    "  76                      .loc 1 18 0\n",
    "  77 0090 8B45F8           movl    -8(%rbp), %eax\n",
    "  78 0093 0145FC           addl    %eax, -4(%rbp)\n",
    "```"
   ]
  },
  {
   "cell_type": "markdown",
   "metadata": {},
   "source": [
    "* Other compound operators such as `*=` and `%=` also indicate similar operation."
   ]
  },
  {
   "cell_type": "markdown",
   "metadata": {},
   "source": [
    "## What is [JSON](https://en.wikipedia.org/wiki/JSON)?"
   ]
  },
  {
   "cell_type": "markdown",
   "metadata": {},
   "source": [
    "* JavaScript Object Notation\n",
    "* Open-standard file format\n",
    "* Human-readable\n",
    "* Attribute-value pairs and arrays"
   ]
  },
  {
   "cell_type": "markdown",
   "metadata": {},
   "source": [
    "## Exercises"
   ]
  },
  {
   "cell_type": "markdown",
   "metadata": {},
   "source": [
    "### 00: Bitwise operators"
   ]
  },
  {
   "cell_type": "markdown",
   "metadata": {},
   "source": [
    "* Please complete following Markdown table with bitwise operators in python and/or C/C++"
   ]
  },
  {
   "cell_type": "markdown",
   "metadata": {},
   "source": [
    "| bitwise operator | expected behavior | available in python | available in C/C++ |\n",
    "|----------|-------------------|---------------------|--------------------|\n",
    "|    &vert;     |    Or     |          y          |         y          |"
   ]
  },
  {
   "cell_type": "markdown",
   "metadata": {},
   "source": [
    "### 01 : Bitwise operators : python"
   ]
  },
  {
   "cell_type": "markdown",
   "metadata": {},
   "source": [
    "* Please write a python cell presenting examples of the table above in binary"
   ]
  },
  {
   "cell_type": "markdown",
   "metadata": {},
   "source": [
    "### 02 : Bitwise operators : C/C++"
   ]
  },
  {
   "cell_type": "markdown",
   "metadata": {},
   "source": [
    "* Please write a C/C++ program presenting examples of the table above\n",
    "* Please consider using `<bitset>`"
   ]
  },
  {
   "cell_type": "markdown",
   "metadata": {},
   "source": [
    "### 03* : Bitwise operators : Assembly"
   ]
  },
  {
   "cell_type": "markdown",
   "metadata": {},
   "source": [
    "* This is an optional assignment\n",
    "* Generate an Assembly file of the above C++\n",
    "* Duplicate the first table and add one more column indicating assembly *opcode*s"
   ]
  },
  {
   "cell_type": "code",
   "execution_count": null,
   "metadata": {},
   "outputs": [],
   "source": []
  }
 ],
 "metadata": {
  "kernelspec": {
   "display_name": "Python 3",
   "language": "python",
   "name": "python3"
  },
  "language_info": {
   "codemirror_mode": {
    "name": "ipython",
    "version": 3
   },
   "file_extension": ".py",
   "mimetype": "text/x-python",
   "name": "python",
   "nbconvert_exporter": "python",
   "pygments_lexer": "ipython3",
   "version": "3.6.5"
  }
 },
 "nbformat": 4,
 "nbformat_minor": 2
}
