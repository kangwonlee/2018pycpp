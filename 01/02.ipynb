{
 "cells": [
  {
   "cell_type": "markdown",
   "metadata": {},
   "source": [
    "# Operators"
   ]
  },
  {
   "cell_type": "markdown",
   "metadata": {},
   "source": [
    "## Operator precedence"
   ]
  },
  {
   "cell_type": "markdown",
   "metadata": {},
   "source": [
    "[[ref0](https://en.cppreference.com/w/cpp/language/operator_precedence), [ref1](https://docs.python.org/3.4/library/operator.html)]"
   ]
  },
  {
   "cell_type": "markdown",
   "metadata": {},
   "source": [
    "\n",
    "Precedence | C/C++ Operator | Description | Associativity\n",
    "-- | -- | -- | --\n",
    "1 | :: | Scope resolution | Left-to-right\n",
    "2 | a++ a-- | Suffix/postfix increment and decrement\n",
    "  | type() type{} | Functional cast\n",
    "  | a() | Function call\n",
    "  | a[] | Subscript\n",
    "  | . -> | Member access\n",
    "3 | ++a --a | Prefix increment and decrement | Right-to-left\n",
    " | +a -a | Unary plus and minus\n",
    " | ! ~ | Logical NOT and bitwise NOT\n",
    " | (type) | C-style cast\n",
    " | \\*a | Indirection (dereference)\n",
    " | &a | Address-of\n",
    " | sizeof | Size-of[note 1]\n",
    " | new new[] | Dynamic memory allocation\n",
    " | delete delete[] | Dynamic memory deallocation\n",
    "4 | .* ->* | Pointer-to-member | Left-to-right\n",
    "5 | a\\*b a/b a%b | Multiplication, division, and remainder\n",
    "6 | a+b a-b | Addition and subtraction\n",
    "7 | << >> | Bitwise left shift and right shift\n",
    "8 | <=> | Three-way comparison operator (since C++20)\n",
    "9 | < <= | For relational operators < and ≤ respectively\n",
    "| \\> >= | For relational operators > and ≥ respectively\n",
    "10 | == != | For relational operators = and ≠ respectively\n",
    "11 | & | Bitwise AND\n",
    "12 | ^ | Bitwise XOR (exclusive or)\n",
    "13 | &#124; | Bitwise OR (inclusive or)\n",
    "14 | && | Logical AND\n",
    "15 | &#124;&#124; | Logical OR\n",
    "16 | a?b:c | Ternary conditional[note 2] | Right-to-left\n",
    "  | throw | throw operator\n",
    "  | = | Direct assignment (provided by default for C++ classes)\n",
    "  | += -= | Compound assignment by sum and difference\n",
    "  | \\*= /= %= | Compound assignment by product, quotient, and remainder\n",
    "  | <<= >>= | Compound assignment by bitwise left shift and right shift\n",
    "  | &= ^= &vert;= | Compound assignment by bitwise AND, XOR, and OR\n",
    "17 | , | Comma | Left-to-right\n",
    "\n"
   ]
  },
  {
   "cell_type": "markdown",
   "metadata": {},
   "source": [
    "\n",
    "Operation | Syntax | Function\n",
    "-- | -- | --\n",
    "Addition | a + b | add(a, b)\n",
    "Concatenation | seq1 + seq2 | concat(seq1, seq2)\n",
    "Containment Test | obj in seq | contains(seq, obj)\n",
    "Division | a / b | truediv(a, b)\n",
    "Division | a // b | floordiv(a, b)\n",
    "Bitwise And | a & b | and_(a, b)\n",
    "Bitwise Exclusive Or | a ^ b | xor(a, b)\n",
    "Bitwise Inversion | ~ a | invert(a)\n",
    "Bitwise Or | a &vert; b | or_(a, b)\n",
    "Exponentiation | a ** b | pow(a, b)\n",
    "Identity | a is b | is_(a, b)\n",
    "Identity | a is not b | is_not(a, b)\n",
    "Indexed Assignment | obj[k] = v | setitem(obj, k, v)\n",
    "Indexed Deletion | del obj[k] | delitem(obj, k)\n",
    "Indexing | obj[k] | getitem(obj, k)\n",
    "Left Shift | a << b | lshift(a, b)\n",
    "Modulo | a % b | mod(a, b)\n",
    "Multiplication | a * b | mul(a, b)\n",
    "Negation (Arithmetic) | - a | neg(a)\n",
    "Negation (Logical) | not a | not_(a)\n",
    "Positive | + a | pos(a)\n",
    "Right Shift | a >> b | rshift(a, b)\n",
    "Slice Assignment | seq[i:j] = values | setitem(seq, slice(i, j), values)\n",
    "Slice Deletion | del seq[i:j] | delitem(seq, slice(i, j))\n",
    "Slicing | seq[i:j] | getitem(seq, slice(i, j))\n",
    "String Formatting | s % obj | mod(s, obj)\n",
    "Subtraction | a - b | sub(a, b)\n",
    "Truth Test | obj | truth(obj)\n",
    "Ordering | a < b | lt(a, b)\n",
    "Ordering | a <= b | le(a, b)\n",
    "Equality | a == b | eq(a, b)\n",
    "Difference | a != b | ne(a, b)\n",
    "Ordering | a >= b | ge(a, b)\n",
    "Ordering | a > b | gt(a, b)\n",
    "\n"
   ]
  },
  {
   "cell_type": "code",
   "execution_count": null,
   "metadata": {},
   "outputs": [],
   "source": []
  }
 ],
 "metadata": {
  "kernelspec": {
   "display_name": "Python 3",
   "language": "python",
   "name": "python3"
  },
  "language_info": {
   "codemirror_mode": {
    "name": "ipython",
    "version": 3
   },
   "file_extension": ".py",
   "mimetype": "text/x-python",
   "name": "python",
   "nbconvert_exporter": "python",
   "pygments_lexer": "ipython3",
   "version": "3.6.5"
  }
 },
 "nbformat": 4,
 "nbformat_minor": 2
}
