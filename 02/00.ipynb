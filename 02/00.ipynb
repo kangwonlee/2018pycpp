{
 "cells": [
  {
   "cell_type": "markdown",
   "metadata": {},
   "source": [
    "# Controlling Flow : Conditionally"
   ]
  },
  {
   "cell_type": "markdown",
   "metadata": {},
   "source": [
    "* This can be one of the distingushing factors of the computers over other machines.\n",
    "* A computer can flexibly change its behavior depending on the situation."
   ]
  },
  {
   "cell_type": "code",
   "execution_count": null,
   "metadata": {},
   "outputs": [],
   "source": [
    "a_str = input('a = ?')\n",
    "\n",
    "a_int = int(a_str)\n",
    "\n",
    "if a_int % 2:\n",
    "    print(\"'a' is an odd number.\")\n",
    "\n",
    "if a_int % 3 :\n",
    "    print(\"I don't think that you can divde 'a' with 3.\")\n",
    "\n"
   ]
  },
  {
   "cell_type": "markdown",
   "metadata": {},
   "source": [
    "* In C++, the equivalent code would be as follows."
   ]
  },
  {
   "cell_type": "markdown",
   "metadata": {},
   "source": [
    "``` C++\n",
    "#include <iostream>\n",
    "\n",
    "using namespace std;\n",
    "\n",
    "int main(int argn, char *argv[]) {\n",
    "    int a_int;\n",
    "\n",
    "    cout << \"a = ?\";\n",
    "    cin >> a_int;\n",
    "    \n",
    "    if (a_int % 2){\n",
    "        cout << \"a is an odd number.\\n\";\n",
    "    }\n",
    "    \n",
    "    if (a_int % 3){\n",
    "        cout << \"I don't think that you can divide 'a' with 3.\\n\";\n",
    "    }\n",
    "\n",
    "    return 0;\n",
    "}\n",
    "```\n",
    "\n"
   ]
  },
  {
   "cell_type": "markdown",
   "metadata": {},
   "source": [
    "* Following is a Matlab code."
   ]
  },
  {
   "cell_type": "markdown",
   "metadata": {},
   "source": [
    "``` Matlab\n",
    "a_int = input(\"a = ?\")\n",
    "\n",
    "if mod(a_int, 2)\n",
    "    disp(\"'a' is an odd number.\")\n",
    "end\n",
    "\n",
    "if mod(a_int, 3):\n",
    "    disp(\"I don't think that you can divde 'a' with 3.\")\n",
    "end\n",
    "```\n",
    "\n"
   ]
  },
  {
   "cell_type": "markdown",
   "metadata": {},
   "source": [
    "* Examples above depicts that depending on the input values, computer may or may not run a part of the code."
   ]
  },
  {
   "cell_type": "code",
   "execution_count": null,
   "metadata": {},
   "outputs": [],
   "source": []
  }
 ],
 "metadata": {
  "kernelspec": {
   "display_name": "Python 3",
   "language": "python",
   "name": "python3"
  },
  "language_info": {
   "codemirror_mode": {
    "name": "ipython",
    "version": 3
   },
   "file_extension": ".py",
   "mimetype": "text/x-python",
   "name": "python",
   "nbconvert_exporter": "python",
   "pygments_lexer": "ipython3",
   "version": "3.6.5"
  }
 },
 "nbformat": 4,
 "nbformat_minor": 2
}
