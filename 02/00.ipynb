{
 "cells": [
  {
   "cell_type": "markdown",
   "metadata": {},
   "source": [
    "# Controlling Flow : Conditionally"
   ]
  },
  {
   "cell_type": "markdown",
   "metadata": {},
   "source": [
    "* This can be one of the distingushing factors of the computers over other machines.\n",
    "* A computer can flexibly change its behavior depending on the situation."
   ]
  },
  {
   "cell_type": "markdown",
   "metadata": {},
   "source": [
    "``` Python\n",
    "a_str = input('a = ?')\n",
    "\n",
    "a_int = int(a_str)\n",
    "\n",
    "if a_int % 2:\n",
    "    print(\"'a' is an odd number.\")\n",
    "\n",
    "if a_int % 3 :\n",
    "    print(\"I don't think that you can divde 'a' with 3.\")\n",
    "```\n"
   ]
  },
  {
   "cell_type": "markdown",
   "metadata": {},
   "source": [
    "* In C++, an equivalent code would be as follows."
   ]
  },
  {
   "cell_type": "markdown",
   "metadata": {},
   "source": [
    "``` C++\n",
    "#include <iostream>\n",
    "\n",
    "using namespace std;\n",
    "\n",
    "int main(int argn, char *argv[]) {\n",
    "    int a_int;\n",
    "\n",
    "    cout << \"a = ?\";\n",
    "    cin >> a_int;\n",
    "    \n",
    "    if (a_int % 2){\n",
    "        cout << \"a is an odd number.\\n\";\n",
    "    }\n",
    "    \n",
    "    if (a_int % 3){\n",
    "        cout << \"I don't think that you can divide 'a' with 3.\\n\";\n",
    "    }\n",
    "\n",
    "    return 0;\n",
    "}\n",
    "```\n",
    "\n"
   ]
  },
  {
   "cell_type": "markdown",
   "metadata": {},
   "source": [
    "* Following is a Matlab code."
   ]
  },
  {
   "cell_type": "markdown",
   "metadata": {},
   "source": [
    "``` Matlab\n",
    "a_int = input(\"a = ?\")\n",
    "\n",
    "if mod(a_int, 2)\n",
    "    disp(\"'a' is an odd number.\")\n",
    "end\n",
    "\n",
    "if mod(a_int, 3):\n",
    "    disp(\"I don't think that you can divde 'a' with 3.\")\n",
    "end\n",
    "```\n",
    "\n"
   ]
  },
  {
   "cell_type": "markdown",
   "metadata": {},
   "source": [
    "* Examples above depicts that depending on the input values, computer may or may not run a part of the code."
   ]
  },
  {
   "cell_type": "markdown",
   "metadata": {},
   "source": [
    "## If - else if - else block"
   ]
  },
  {
   "cell_type": "markdown",
   "metadata": {},
   "source": [
    "* Frequently, conditional statements divde the space into a number of subsets.\n",
    "* Please consider following code block."
   ]
  },
  {
   "cell_type": "code",
   "execution_count": null,
   "metadata": {},
   "outputs": [],
   "source": [
    "b = 12\n",
    "\n",
    "if not(b % 2) :\n",
    "    print(\"2 can divde 'b'\")\n",
    "elif not(b % 3) :\n",
    "    print(\"3 can divde 'b'\")\n",
    "elif not(b % 4) :\n",
    "    print(\"4 can divde 'b'\")\n",
    "else :\n",
    "    print('None of the above')\n",
    "\n"
   ]
  },
  {
   "cell_type": "markdown",
   "metadata": {},
   "source": [
    "* In C++ it would be as follows."
   ]
  },
  {
   "cell_type": "markdown",
   "metadata": {},
   "source": [
    "``` C++\n",
    "#include <iostream>\n",
    "\n",
    "using namespace std;\n",
    "\n",
    "int main(int argn, char *argv[]){\n",
    "    int b = 12;\n",
    "\n",
    "    if (!(b % 2)){\n",
    "        cout << \"2 can divde 'b'\\n\";\n",
    "    } else if (!(b % 3)){\n",
    "        cout << \"3 can divde 'b'\\n\";\n",
    "    } else if (!(b % 4)){\n",
    "        cout << \"4 can divde 'b'\\n\";\n",
    "    } else {\n",
    "        cout << \"None of the above\\n\";\n",
    "    }\n",
    "\n",
    "    return 0;\n",
    "}   \n",
    "```\n",
    "\n"
   ]
  },
  {
   "cell_type": "markdown",
   "metadata": {},
   "source": [
    "## Switch case block of C/C++"
   ]
  },
  {
   "cell_type": "markdown",
   "metadata": {},
   "source": [
    "* C/C++ grammar has `switch`-`case` block as follows."
   ]
  },
  {
   "cell_type": "markdown",
   "metadata": {},
   "source": [
    "``` C++\n",
    "#include <iostream>\n",
    "\n",
    "using namespace std;\n",
    "\n",
    "int main(int argn, char *argv[]){\n",
    "    int c = 1;\n",
    "\n",
    "    switch (c) {\n",
    "        case 0 :\n",
    "            cout << \"i == 0\\n\";\n",
    "            break;\n",
    "        case 1 :\n",
    "            cout << \"i == 1\\n\";\n",
    "            break;\n",
    "        case 2 :\n",
    "            cout << \"i == 2\\n\";\n",
    "            break;\n",
    "        default :\n",
    "            cout << \"None of the above\\n\";\n",
    "            break;\n",
    "    }\n",
    "\n",
    "    return 0;\n",
    "}\n",
    "\n",
    "```"
   ]
  },
  {
   "cell_type": "markdown",
   "metadata": {},
   "source": [
    "* Python does not have `switch` `case` block but can use `if` `elif` `else` block instead."
   ]
  },
  {
   "cell_type": "code",
   "execution_count": null,
   "metadata": {},
   "outputs": [],
   "source": [
    "c = 1\n",
    "\n",
    "if 0 == c :\n",
    "    print('i == 0')\n",
    "elif 1 == c :\n",
    "    print('i == 1')\n",
    "elif 2 == c :\n",
    "    print('i == 2')\n",
    "else:\n",
    "    print('None of the above')\n",
    "\n"
   ]
  },
  {
   "cell_type": "markdown",
   "metadata": {},
   "source": [
    "## Exercise"
   ]
  },
  {
   "cell_type": "markdown",
   "metadata": {},
   "source": [
    "### 00 Random number and if"
   ]
  },
  {
   "cell_type": "markdown",
   "metadata": {},
   "source": [
    "* Complete a python program in the following cell."
   ]
  },
  {
   "cell_type": "code",
   "execution_count": null,
   "metadata": {},
   "outputs": [],
   "source": [
    "# Random number generator\n",
    "import random\n",
    "\n",
    "# Initalize the random number generator\n",
    "random.seed()\n",
    "\n",
    "random_value = random.random() - 0.5\n",
    "\n",
    "# print whether random_value is 'positive' or 'negative'\n",
    "\n"
   ]
  },
  {
   "cell_type": "code",
   "execution_count": null,
   "metadata": {},
   "outputs": [],
   "source": []
  }
 ],
 "metadata": {
  "kernelspec": {
   "display_name": "Python 3",
   "language": "python",
   "name": "python3"
  },
  "language_info": {
   "codemirror_mode": {
    "name": "ipython",
    "version": 3
   },
   "file_extension": ".py",
   "mimetype": "text/x-python",
   "name": "python",
   "nbconvert_exporter": "python",
   "pygments_lexer": "ipython3",
   "version": "3.6.5"
  }
 },
 "nbformat": 4,
 "nbformat_minor": 2
}
