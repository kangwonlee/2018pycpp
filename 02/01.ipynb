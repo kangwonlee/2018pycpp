{
 "cells": [
  {
   "cell_type": "markdown",
   "metadata": {},
   "source": [
    "# Controlling Flow : Repetitively"
   ]
  },
  {
   "cell_type": "markdown",
   "metadata": {},
   "source": [
    "* One of important advantages of using computers is fast repetitive processing.\n",
    "* The **loop** clauses for such tasks."
   ]
  },
  {
   "cell_type": "markdown",
   "metadata": {},
   "source": [
    "* `for` loops are usually to repeat finite times.\n",
    "* `while` loops are to reiterate indefinite times."
   ]
  },
  {
   "cell_type": "markdown",
   "metadata": {},
   "source": [
    "* To avoid runaway codes, it is advisable to set limits of repetition in all loops at least initially.<br>If possible, please use a `for` loop. When using a `while` loop, add a counter variable and `break` after it reaches a limit."
   ]
  },
  {
   "cell_type": "markdown",
   "metadata": {},
   "source": [
    "## Example : Sum of an arithmatic sequence"
   ]
  },
  {
   "cell_type": "markdown",
   "metadata": {},
   "source": [
    "* Followings calculate the sum of the first 100 natural numbers."
   ]
  },
  {
   "cell_type": "markdown",
   "metadata": {},
   "source": [
    "### Python `for`"
   ]
  },
  {
   "cell_type": "code",
   "execution_count": null,
   "metadata": {},
   "outputs": [],
   "source": [
    "s = 0\n",
    "\n",
    "for i in range(1, 100+1):\n",
    "    s += i\n",
    "\n",
    "assert 5050 = s, \"Sum incorrect\"\n",
    "    \n",
    "print(f'sum = {s}')\n",
    "\n"
   ]
  },
  {
   "cell_type": "markdown",
   "metadata": {},
   "source": [
    "### Python `while`"
   ]
  },
  {
   "cell_type": "code",
   "execution_count": null,
   "metadata": {},
   "outputs": [],
   "source": [
    "i, s = 0, 0\n",
    "\n",
    "while 100 >= i:\n",
    "    i += 1\n",
    "    s += i\n",
    "\n",
    "print(f'sum = {s}')\n",
    "\n",
    "assert 5050 = s, \"Sum incorrect\"\n",
    "\n"
   ]
  },
  {
   "cell_type": "markdown",
   "metadata": {},
   "source": [
    "### C++ `for`"
   ]
  },
  {
   "cell_type": "markdown",
   "metadata": {},
   "source": [
    "``` C++\n",
    "#include <iostream>\n",
    "\n",
    "int main(int argn, char *argv[]){\n",
    "\n",
    "    int s = 0;\n",
    "\n",
    "    for (int i=0; i <= 100; ++i){\n",
    "        s += i;\n",
    "    }\n",
    "\n",
    "    std::cout << \"sum = \" << s << '\\n';\n",
    "}\n",
    "```\n",
    "\n"
   ]
  },
  {
   "cell_type": "markdown",
   "metadata": {},
   "source": [
    "### C++ `while`"
   ]
  },
  {
   "cell_type": "markdown",
   "metadata": {},
   "source": [
    "``` C++\n",
    "#include <iostream>\n",
    "\n",
    "int main(int argn, char *argv[]){\n",
    "\n",
    "    int i = 0, s = 0;\n",
    "\n",
    "    while (i < 100){\n",
    "        s += (++i);\n",
    "        // What if \"s += (i++);\"\n",
    "        // https://stackoverflow.com/questions/24853/\n",
    "    }\n",
    "\n",
    "    std::cout << \"sum = \" << s << '\\n';\n",
    "}\n",
    "```\n",
    "\n"
   ]
  },
  {
   "cell_type": "markdown",
   "metadata": {},
   "source": [
    "## Example: Smallest positive number in floating point?"
   ]
  },
  {
   "cell_type": "markdown",
   "metadata": {},
   "source": [
    "* Is $0<2^{-n}$ always true? Let's find out."
   ]
  },
  {
   "cell_type": "markdown",
   "metadata": {},
   "source": [
    "### Python `for`"
   ]
  },
  {
   "cell_type": "code",
   "execution_count": null,
   "metadata": {},
   "outputs": [],
   "source": [
    "a = 1.0\n",
    "\n",
    "for counter in range(1, 100000000):\n",
    "    a *= 0.5\n",
    "    if not (0 < a):\n",
    "        break\n",
    "\n",
    "    print(f\"({counter} {a})\")\n"
   ]
  },
  {
   "cell_type": "markdown",
   "metadata": {},
   "source": [
    "### Python `while`"
   ]
  },
  {
   "cell_type": "code",
   "execution_count": null,
   "metadata": {},
   "outputs": [],
   "source": [
    "a = 1.0\n",
    "\n",
    "counter = 0\n",
    "\n",
    "while 0 < a:\n",
    "    a = a * 0.5\n",
    "    counter += 1\n",
    "    if 1e10 < counter:\n",
    "        break\n",
    "\n",
    "    print(f\"({counter} {a})\")\n"
   ]
  },
  {
   "cell_type": "markdown",
   "metadata": {},
   "source": [
    "### C++ `for`"
   ]
  },
  {
   "cell_type": "markdown",
   "metadata": {},
   "source": [
    "``` C++\n",
    "#include <iostream>\n",
    "\n",
    "int main(int argn, char *argv[]){\n",
    "        double a = 1.0;\n",
    "\n",
    "        for (int counter=0;counter < 1e10; ++counter){\n",
    "                a *= 0.5;\n",
    "                std::cout << \"(\" << counter << \") \" << a << '\\n';\n",
    "                if (!(0<a)){\n",
    "                        break;\n",
    "                }\n",
    "        }\n",
    "        return 0;\n",
    "}\n",
    "```\n",
    "\n"
   ]
  },
  {
   "cell_type": "markdown",
   "metadata": {},
   "source": [
    "### C++ `while`"
   ]
  },
  {
   "cell_type": "markdown",
   "metadata": {},
   "source": [
    "``` C++\n",
    "#include <iostream>\n",
    "\n",
    "int main(int argn, char *argv[]){\n",
    "        double a = 1.0;\n",
    "        int counter = 0;\n",
    "\n",
    "        while (0<a){\n",
    "                a *= 0.5;\n",
    "                std::cout << \"(\" << (++counter) << \") \"\n",
    "                          << a\n",
    "                          << '\\n';\n",
    "                if (10000<counter){\n",
    "                        break;\n",
    "                }\n",
    "        }\n",
    "        return 0;\n",
    "}\n",
    "```\n",
    "\n"
   ]
  },
  {
   "cell_type": "markdown",
   "metadata": {},
   "source": [
    "## Example : Largest Fibonacci number below 100"
   ]
  },
  {
   "cell_type": "markdown",
   "metadata": {},
   "source": [
    "### Python `for`"
   ]
  },
  {
   "cell_type": "code",
   "execution_count": null,
   "metadata": {},
   "outputs": [],
   "source": [
    "a0, a1 = 0, 1\n",
    "max_iter = 10000\n",
    "upper_bound = 100\n",
    "\n",
    "for i in range(max_iter):\n",
    "    a2 = a0 + a1\n",
    "    if upper_bound <= a2:\n",
    "        break\n",
    "    print(a2, end=' ')\n",
    "    a0, a1 = a1, a2\n",
    "\n",
    "print(f'\\nLargest Fibo below {upper_bound} = {a1}')\n",
    "\n"
   ]
  },
  {
   "cell_type": "markdown",
   "metadata": {},
   "source": [
    "### Python `while`"
   ]
  },
  {
   "cell_type": "code",
   "execution_count": null,
   "metadata": {},
   "outputs": [],
   "source": [
    "a0, a1, a2 = 0, 1, 0\n",
    "max_iter = 10000\n",
    "upper_bound = 100\n",
    "\n",
    "i = 0\n",
    "while (a2 < upper_bound) and (i < max_iter):\n",
    "    i += 1\n",
    "    a2 = a0 + a1\n",
    "    print(a1, end=' ')\n",
    "    a0, a1 = a1, a2\n",
    "\n",
    "print(f'\\nLargest Fibo below {upper_bound} = {a0}')\n",
    "\n"
   ]
  },
  {
   "cell_type": "markdown",
   "metadata": {},
   "source": [
    "### C/C++ `for`"
   ]
  },
  {
   "cell_type": "markdown",
   "metadata": {},
   "source": [
    "``` C++\n",
    "#include <iostream>\n",
    "\n",
    "int main(int argn, char *argv[]){\n",
    "\n",
    "    const int max_iter = 10000;\n",
    "    const int upper_bound = 100;\n",
    "\n",
    "    int a0 = 0, a1 = 1, a2 = 0;\n",
    "\n",
    "    for (int i=0; (max_iter > i); ++i){\n",
    "        a2 = a0 + a1;\n",
    "\n",
    "        if (upper_bound < a2){\n",
    "            break;\n",
    "        }\n",
    "        a0 = a1;\n",
    "        a1 = a2;\n",
    "        std::cout << a2 << ' ';\n",
    "    }\n",
    "\n",
    "    std::cout << \"\\nLargest Fibo below \" << upper_bound << \" = \" << a1 << \"\\n\";\n",
    "\n",
    "}\n",
    "```\n",
    "\n"
   ]
  },
  {
   "cell_type": "markdown",
   "metadata": {},
   "source": [
    "### C++ `while`"
   ]
  },
  {
   "cell_type": "markdown",
   "metadata": {},
   "source": [
    "``` C++\n",
    "#include <iostream>\n",
    "\n",
    "using namespace std;\n",
    "\n",
    "int main(int argn, char *argv[]){\n",
    "\n",
    "    const int max_iter =10000;\n",
    "    const int upper_bound = 100;\n",
    "\n",
    "    int a0 = 0, a1 = 1, a2 = 0;\n",
    "\n",
    "    int i = 0;\n",
    "\n",
    "    while ((upper_bound > a2) && (max_iter > i)){\n",
    "        i ++;\n",
    "        a2 = a0 + a1;\n",
    "        a0 = a1;\n",
    "        a1 = a2;\n",
    "        cout << a0 << ' ';\n",
    "    }\n",
    "\n",
    "    cout << \"\\nLargest Fibo below \" << upper_bound << \" = \" << a0 << '\\n';\n",
    "}\n",
    "\n",
    "```\n",
    "\n"
   ]
  },
  {
   "cell_type": "markdown",
   "metadata": {},
   "source": [
    "* Please see if you could improve the code.\n",
    "\n"
   ]
  },
  {
   "cell_type": "code",
   "execution_count": null,
   "metadata": {},
   "outputs": [],
   "source": []
  }
 ],
 "metadata": {
  "kernelspec": {
   "display_name": "Python 3",
   "language": "python",
   "name": "python3"
  },
  "language_info": {
   "codemirror_mode": {
    "name": "ipython",
    "version": 3
   },
   "file_extension": ".py",
   "mimetype": "text/x-python",
   "name": "python",
   "nbconvert_exporter": "python",
   "pygments_lexer": "ipython3",
   "version": "3.6.5"
  }
 },
 "nbformat": 4,
 "nbformat_minor": 2
}
