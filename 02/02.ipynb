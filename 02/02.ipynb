{
 "cells": [
  {
   "cell_type": "markdown",
   "metadata": {},
   "source": [
    "# Wrapping into Functions<br>and Calling by Value"
   ]
  },
  {
   "cell_type": "markdown",
   "metadata": {},
   "source": [
    "* We can defne functions in python and C/C++ to modularize the code."
   ]
  },
  {
   "cell_type": "markdown",
   "metadata": {},
   "source": [
    "* Python"
   ]
  },
  {
   "cell_type": "code",
   "execution_count": null,
   "metadata": {},
   "outputs": [],
   "source": [
    "def main():\n",
    "    print(add(1, 2))\n",
    "    print(add('1', '2'))\n",
    "\n",
    "    \n",
    "def add(a, b):\n",
    "    return a + b\n",
    "\n",
    "\n",
    "if \"__main__\" == __name__ :\n",
    "    main()    "
   ]
  },
  {
   "cell_type": "markdown",
   "metadata": {},
   "source": [
    "* C/C++"
   ]
  },
  {
   "cell_type": "markdown",
   "metadata": {},
   "source": [
    "``` C++\n",
    "#include <iostream>\n",
    "\n",
    "using namespace std;\n",
    "\n",
    "// Function prototypes\n",
    "// Information to call the functions\n",
    "// return type, function name, arguments, and argument types\n",
    "int add_int(int a, int b);\n",
    "double add_double(double a, double b);\n",
    "\n",
    "int main(int argn, char *argv[]){\n",
    "    cout << add_int(1, 2) << '\\n';\n",
    "    cout << add_double(1.0, 2.0) << '\\n';\n",
    "    \n",
    "    return 0;\n",
    "}\n",
    "\n",
    "\n",
    "int add_int(int a, int b){\n",
    "    return a + b;\n",
    "}\n",
    "\n",
    "\n",
    "double add_double(double a, double b){\n",
    "    return a + b;\n",
    "}\n",
    "\n",
    "```\n",
    "\n"
   ]
  },
  {
   "cell_type": "markdown",
   "metadata": {},
   "source": [
    "## Scope"
   ]
  },
  {
   "cell_type": "markdown",
   "metadata": {},
   "source": [
    "* Variables within a function is valid only within that function."
   ]
  },
  {
   "cell_type": "markdown",
   "metadata": {},
   "source": [
    "* Python"
   ]
  },
  {
   "cell_type": "code",
   "execution_count": null,
   "metadata": {},
   "outputs": [],
   "source": [
    "a = 0\n",
    "c = 'zzz'\n",
    "\n",
    "\n",
    "def main():\n",
    "\n",
    "    print(add(1, 2))\n",
    "    print(add('a', 'b'))\n",
    "    print(f'main() : c = {c}')\n",
    "\n",
    "    \n",
    "def add(a, b):\n",
    "\n",
    "    c = a + b\n",
    "    print(f'add() : c = {c}')\n",
    "\n",
    "    return c\n",
    "\n",
    "\n",
    "if \"__main__\" == __name__ :\n",
    "    main()\n",
    "\n"
   ]
  },
  {
   "cell_type": "markdown",
   "metadata": {},
   "source": [
    "* C/C++"
   ]
  },
  {
   "cell_type": "markdown",
   "metadata": {},
   "source": [
    "``` C++\n",
    "#include <iostream>\n",
    "\n",
    "using namespace std;\n",
    "\n",
    "int add_int(int a, int b);\n",
    "double add_double(double a, double b);\n",
    "\n",
    "\n",
    "// Global variables\n",
    "int a = 0;\n",
    "char c[] = \"zzz\";\n",
    "\n",
    "\n",
    "int main(int argn, char *argv[]){\n",
    "\n",
    "    cout << \"main() : c = \" << c << '\\n';\n",
    "    cout << add_int(1, 2) << '\\n';\n",
    "    cout << add_double(1.1, 2.04) << '\\n';\n",
    "    cout << \"main() : c = \" << c << '\\n';\n",
    "    \n",
    "    return 0;\n",
    "\n",
    "}\n",
    "\n",
    "\n",
    "int add_int(int a, int b){\n",
    "\n",
    "    int c = a + b;\n",
    "\n",
    "    cout << \"add_int() : c = \" << c << '\\n';\n",
    "\n",
    "    return c;\n",
    "\n",
    "}\n",
    "\n",
    "\n",
    "double add_double(double a, double b){\n",
    "\n",
    "    double c = a + b;\n",
    "\n",
    "    cout << \"add_double() : c = \" << c << '\\n';\n",
    "\n",
    "    return c;\n",
    "\n",
    "}\n",
    "```\n",
    "\n"
   ]
  },
  {
   "cell_type": "markdown",
   "metadata": {},
   "source": [
    "### Resolving scope"
   ]
  },
  {
   "cell_type": "markdown",
   "metadata": {},
   "source": [
    "* It is possible to access a global variable within a function even if the function has a local variable of the same name."
   ]
  },
  {
   "cell_type": "code",
   "execution_count": null,
   "metadata": {},
   "outputs": [],
   "source": [
    "a = 0\n",
    "c = 'zzz'\n",
    "\n",
    "\n",
    "def main():\n",
    "\n",
    "    print(f'main() : c = {c}')\n",
    "    print(add(1, 2))\n",
    "    print(f'main() : c = {c}')\n",
    "    print(add('a', 'b'))\n",
    "    print(f'main() : c = {c}')\n",
    "\n",
    "    \n",
    "def add(a, b):\n",
    "    global c\n",
    "\n",
    "    c = a + b\n",
    "    print(f'add() : c = {c}')\n",
    "\n",
    "    return c\n",
    "\n",
    "\n",
    "if \"__main__\" == __name__ :\n",
    "    main()\n",
    "\n"
   ]
  },
  {
   "cell_type": "markdown",
   "metadata": {},
   "source": [
    "``` C++\n",
    "#include <iostream>\n",
    "\n",
    "using namespace std;\n",
    "\n",
    "int add_int(int a, int b);\n",
    "double add_double(double a, double b);\n",
    "\n",
    "int a = 0;\n",
    "char c[] = \"zzz\";\n",
    "\n",
    "\n",
    "int main(int argn, char *argv[]){\n",
    "    \n",
    "    cout << \"main() : c = \" << c << '\\n';\n",
    "    cout << add_int(1, 2) << '\\n';\n",
    "    cout << add_double(1.1, 2.04) << '\\n';\n",
    "    cout << \"main() : c = \" << c << '\\n';\n",
    "    \n",
    "    return 0;\n",
    "}\n",
    "\n",
    "\n",
    "int add_int(int a, int b){\n",
    "    int c = a + b;\n",
    "    cout << \"add_int() : c = \" << c << '\\n';\n",
    "    cout << \"add_int() : ::c = \" << ::c << '\\n';\n",
    "    return c;\n",
    "}\n",
    "\n",
    "\n",
    "double add_double(double a, double b){\n",
    "    double c = a + b;\n",
    "    cout << \"add_double() : c = \" << c << '\\n';\n",
    "    return c;\n",
    "}\n",
    "\n",
    "```"
   ]
  },
  {
   "cell_type": "markdown",
   "metadata": {},
   "source": [
    "## Exercise"
   ]
  },
  {
   "cell_type": "markdown",
   "metadata": {},
   "source": [
    "### 00 Adding double precision floats"
   ]
  },
  {
   "cell_type": "markdown",
   "metadata": {},
   "source": [
    "* Write python and C/C++ functions that can add two double precision floating point variables.\n",
    "* In python and C/C++, write appropriate programs checking the result using `assert` or `assert()`."
   ]
  },
  {
   "cell_type": "markdown",
   "metadata": {},
   "source": [
    "### 01 Dot product of $1\\times2$ vectors of double precision floats"
   ]
  },
  {
   "cell_type": "markdown",
   "metadata": {},
   "source": [
    "* Write python and C/C++ functions that can calculate the dot product of two $1\\times2$ double precision floating point vectors using `list`'s or arrays.\n",
    "* In python and C/C++, write appropriate programs checking the result using `assert` or `assert()`."
   ]
  },
  {
   "cell_type": "code",
   "execution_count": null,
   "metadata": {},
   "outputs": [],
   "source": []
  }
 ],
 "metadata": {
  "kernelspec": {
   "display_name": "Python 3",
   "language": "python",
   "name": "python3"
  },
  "language_info": {
   "codemirror_mode": {
    "name": "ipython",
    "version": 3
   },
   "file_extension": ".py",
   "mimetype": "text/x-python",
   "name": "python",
   "nbconvert_exporter": "python",
   "pygments_lexer": "ipython3",
   "version": "3.6.5"
  }
 },
 "nbformat": 4,
 "nbformat_minor": 2
}
