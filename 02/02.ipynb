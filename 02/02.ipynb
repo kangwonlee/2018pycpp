{
 "cells": [
  {
   "cell_type": "markdown",
   "metadata": {},
   "source": [
    "# Wrapping into Functions<br>and Calling by Value"
   ]
  },
  {
   "cell_type": "markdown",
   "metadata": {},
   "source": [
    "* We can defne functions in python and C/C++ to modularize the code."
   ]
  },
  {
   "cell_type": "markdown",
   "metadata": {},
   "source": [
    "* Python"
   ]
  },
  {
   "cell_type": "code",
   "execution_count": null,
   "metadata": {},
   "outputs": [],
   "source": [
    "def eratos(n):\n",
    "    \"\"\"\n",
    "    Sieve of Eratosthenes\n",
    "    \n",
    "    Find all prime numbers below n\n",
    "    \"\"\"\n",
    "    result = list(range(2, n))\n",
    "    n_half = n // 2\n",
    "    \n",
    "    i = 0\n",
    "    max_iter = n * 100\n",
    "    counter = 0\n",
    "    \n",
    "    while result[i] <= n_half:\n",
    "        # To prevent runaway code\n",
    "        counter += 1\n",
    "        if counter > max_iter:\n",
    "            break\n",
    "\n",
    "        pivot = result[i]\n",
    "        print(f'pivot = {pivot}')\n",
    "        for j in result[(i+1):]:\n",
    "            if not (j % pivot):\n",
    "                result.remove(j)\n",
    "        i += 1\n",
    "        print(f'result = {result}')\n",
    "    \n",
    "    return result\n",
    "\n",
    "    "
   ]
  },
  {
   "cell_type": "code",
   "execution_count": null,
   "metadata": {},
   "outputs": [],
   "source": [
    "print(erasto(121))\n",
    "\n"
   ]
  },
  {
   "cell_type": "code",
   "execution_count": null,
   "metadata": {},
   "outputs": [],
   "source": []
  }
 ],
 "metadata": {
  "kernelspec": {
   "display_name": "Python 3",
   "language": "python",
   "name": "python3"
  },
  "language_info": {
   "codemirror_mode": {
    "name": "ipython",
    "version": 3
   },
   "file_extension": ".py",
   "mimetype": "text/x-python",
   "name": "python",
   "nbconvert_exporter": "python",
   "pygments_lexer": "ipython3",
   "version": "3.6.5"
  }
 },
 "nbformat": 4,
 "nbformat_minor": 2
}
