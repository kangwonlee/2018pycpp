{
 "cells": [
  {
   "cell_type": "markdown",
   "metadata": {},
   "source": [
    "# Introducing Pointers"
   ]
  },
  {
   "cell_type": "markdown",
   "metadata": {},
   "source": [
    "* Pointer variables contain integer values of specific addresses"
   ]
  },
  {
   "cell_type": "markdown",
   "metadata": {},
   "source": [
    "* Let's consider following table"
   ]
  },
  {
   "cell_type": "code",
   "execution_count": null,
   "metadata": {},
   "outputs": [],
   "source": [
    "# https://stackoverflow.com/questions/35160256/how-do-i-output-lists-as-a-table-in-jupyter-notebook\n",
    "# http://nbviewer.jupyter.org/github/ipython/ipython/blob/4.0.x/examples/IPython%20Kernel/Rich%20Output.ipynb\n",
    "\n",
    "import IPython\n",
    "import pylab as py\n",
    "\n",
    "rows_list = [''' Address (hex) | Content (hex) \\n'''\n",
    "             ''':-------------:|:-------------:''']\n",
    "\n",
    "base_addr = 0x60000000\n",
    "size_t = 4\n",
    "contet_formatter = '<pre>%0' + str(2*size_t) + 'x</pre>'\n",
    "\n",
    "# Decimal number loop\n",
    "for i in range(base_addr, base_addr+(20*size_t)+1, size_t):\n",
    "\n",
    "    columns_list = [f'<pre>{i:08x}</pre>',contet_formatter % py.randint(0, 2**31-1)]\n",
    "\n",
    "    # Indicate a row of the table\n",
    "    rows_list.append('|'.join(columns_list))\n",
    "\n",
    "IPython.display.display(IPython.display.Markdown('\\n'.join(rows_list)))\n",
    "\n"
   ]
  },
  {
   "cell_type": "code",
   "execution_count": null,
   "metadata": {},
   "outputs": [],
   "source": []
  }
 ],
 "metadata": {
  "kernelspec": {
   "display_name": "Python 3",
   "language": "python",
   "name": "python3"
  },
  "language_info": {
   "codemirror_mode": {
    "name": "ipython",
    "version": 3
   },
   "file_extension": ".py",
   "mimetype": "text/x-python",
   "name": "python",
   "nbconvert_exporter": "python",
   "pygments_lexer": "ipython3",
   "version": "3.6.5"
  }
 },
 "nbformat": 4,
 "nbformat_minor": 2
}
