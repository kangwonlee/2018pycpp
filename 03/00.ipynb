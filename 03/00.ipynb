{
 "cells": [
  {
   "cell_type": "markdown",
   "metadata": {},
   "source": [
    "# Introducing Pointers"
   ]
  },
  {
   "cell_type": "markdown",
   "metadata": {},
   "source": [
    "* Using pointers, programs in C/C++ languages can read and/or write to any memory with right permission."
   ]
  },
  {
   "cell_type": "markdown",
   "metadata": {},
   "source": [
    "* Pointer variables contain integer values of specific addresses."
   ]
  },
  {
   "cell_type": "markdown",
   "metadata": {},
   "source": [
    "* Let's consider following table."
   ]
  },
  {
   "cell_type": "code",
   "execution_count": null,
   "metadata": {},
   "outputs": [],
   "source": [
    "import md_table as mt\n",
    "\n",
    "base_addr = 0x60000000\n",
    "\n",
    "# Size of one variable : 4 Bytes == 32 bits\n",
    "size_t = 4\n",
    "\n",
    "# Number of 4 Byte variables\n",
    "no_cell = 8\n",
    "\n",
    "# Prepare memory map\n",
    "memory_map = mt.malloc(size_t, no_cell, base_addr)\n",
    "\n",
    "# Show memory map\n",
    "mt.show(memory_map)\n",
    "\n"
   ]
  },
  {
   "cell_type": "markdown",
   "metadata": {},
   "source": [
    "* This tries to represent a part of the memory.\n",
    "* It is visible to a program.\n",
    "* The contents have random values because no initialization yet.\n",
    "\n"
   ]
  },
  {
   "cell_type": "markdown",
   "metadata": {},
   "source": [
    "* Let's assume we store a value `0` at `0x6000 0010`.\n",
    "\n"
   ]
  },
  {
   "cell_type": "code",
   "execution_count": null,
   "metadata": {},
   "outputs": [],
   "source": [
    "memory_map[0x60000010] = 0\n",
    "mt.show(memory_map)\n",
    "\n"
   ]
  },
  {
   "cell_type": "markdown",
   "metadata": {},
   "source": [
    "* Now lets store the location of data to `0x6000 0000`.\n",
    "\n"
   ]
  },
  {
   "cell_type": "code",
   "execution_count": null,
   "metadata": {},
   "outputs": [],
   "source": [
    "memory_map[0x60000000] = 0x60000010\n",
    "mt.show(memory_map)\n",
    "\n"
   ]
  },
  {
   "cell_type": "markdown",
   "metadata": {},
   "source": [
    "* Now we can say that `0x6000 0000` is pointing to `0x6000 0010`.\n",
    "* Also a variable occupying `0x6000 0000` is a pointer variable.\n",
    "\n"
   ]
  },
  {
   "cell_type": "markdown",
   "metadata": {},
   "source": [
    "* See following C++ code.[[ref](https://www.geeksforgeeks.org/pointers-vs-references-cpp/)]"
   ]
  },
  {
   "cell_type": "markdown",
   "metadata": {},
   "source": [
    "``` C++\n",
    "#include <iostream>\n",
    "#include <iomanip>\n",
    "\n",
    "using namespace std;\n",
    "\n",
    "int main(int argn, char *argv[]){\n",
    "    int i = 0;\n",
    "    int *p = &i;\n",
    "\n",
    "    cout << \"i  = \" << setw(16) <<  i << '\\n';\n",
    "    cout << \"&i = \" << setw(16) << &i << '\\n';\n",
    "\n",
    "    cout << \"*p = \" << setw(16) << *p << '\\n';\n",
    "    cout << \"p  = \" << setw(16) <<  p << '\\n';\n",
    "    cout << \"&p = \" << setw(16) << &p << '\\n';\n",
    "\n",
    "    return 0;\n",
    "}\n",
    "\n",
    "```"
   ]
  },
  {
   "cell_type": "code",
   "execution_count": null,
   "metadata": {},
   "outputs": [],
   "source": []
  }
 ],
 "metadata": {
  "kernelspec": {
   "display_name": "Python 3",
   "language": "python",
   "name": "python3"
  },
  "language_info": {
   "codemirror_mode": {
    "name": "ipython",
    "version": 3
   },
   "file_extension": ".py",
   "mimetype": "text/x-python",
   "name": "python",
   "nbconvert_exporter": "python",
   "pygments_lexer": "ipython3",
   "version": "3.6.5"
  }
 },
 "nbformat": 4,
 "nbformat_minor": 2
}
