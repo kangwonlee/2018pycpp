{
 "cells": [
  {
   "cell_type": "markdown",
   "metadata": {},
   "source": [
    "# Introducing Pointers"
   ]
  },
  {
   "cell_type": "markdown",
   "metadata": {},
   "source": [
    "* Using pointers, programs in C/C++ languages can read and/or write to any memory with right permission."
   ]
  },
  {
   "cell_type": "markdown",
   "metadata": {},
   "source": [
    "* Pointer variables contain integer values of specific addresses."
   ]
  },
  {
   "cell_type": "markdown",
   "metadata": {},
   "source": [
    "* Let's consider following table."
   ]
  },
  {
   "cell_type": "code",
   "execution_count": null,
   "metadata": {},
   "outputs": [],
   "source": [
    "import md_table as mt\n",
    "\n",
    "base_addr = 0x60000000\n",
    "\n",
    "# Size of one variable : 4 Bytes == 32 bits\n",
    "size_t = 4\n",
    "\n",
    "# Number of 4 Byte variables\n",
    "no_cell = 8\n",
    "\n",
    "# Prepare memory map\n",
    "memory_map = mt.malloc(size_t, no_cell, base_addr)\n",
    "\n",
    "# Show memory map\n",
    "mt.show(memory_map)\n",
    "\n"
   ]
  },
  {
   "cell_type": "markdown",
   "metadata": {},
   "source": [
    "* This tries to represent a part of the memory.\n",
    "* It is visible to a program.\n",
    "* The contents have random values because no initialization yet.\n",
    "\n"
   ]
  },
  {
   "cell_type": "markdown",
   "metadata": {},
   "source": [
    "* Let's assume we store a value `0` at `0x6000 0010`.\n",
    "\n"
   ]
  },
  {
   "cell_type": "code",
   "execution_count": null,
   "metadata": {},
   "outputs": [],
   "source": [
    "memory_map[0x60000010] = 0\n",
    "mt.show(memory_map)\n",
    "\n"
   ]
  },
  {
   "cell_type": "markdown",
   "metadata": {},
   "source": [
    "* Now lets store the location of data to `0x6000 0000`.\n",
    "\n"
   ]
  },
  {
   "cell_type": "code",
   "execution_count": null,
   "metadata": {},
   "outputs": [],
   "source": [
    "memory_map[0x60000000] = 0x60000010\n",
    "mt.show(memory_map)\n",
    "\n"
   ]
  },
  {
   "cell_type": "markdown",
   "metadata": {},
   "source": [
    "* Now we can say that `0x6000 0000` is pointing to `0x6000 0010`.\n",
    "* Also a variable occupying `0x6000 0000` is a pointer variable.\n",
    "\n"
   ]
  },
  {
   "cell_type": "markdown",
   "metadata": {},
   "source": [
    "|         | variable | pointer | reference |\n",
    "|:------:|:--------:|:-------:|:---------:|\n",
    "|declaration | `int i;` | `int *p;` | `int &r = i;` |\n",
    "|  value  | `i` | `*p` | `r` |\n",
    "|  address  | `&i` | `p` | `&r` |\n",
    "|  address of address | N/A | `&p` | N/A |\n",
    "  \n",
    "  "
   ]
  },
  {
   "cell_type": "markdown",
   "metadata": {},
   "source": [
    "* Following C++ code shows declaring a pointer variable and assigining an address to it.[[ref](https://www.geeksforgeeks.org/pointers-vs-references-cpp/)]"
   ]
  },
  {
   "cell_type": "markdown",
   "metadata": {},
   "source": [
    "``` C++\n",
    "#include <iostream>\n",
    "#include <iomanip>\n",
    "\n",
    "using namespace std;\n",
    "\n",
    "int main(int argn, char *argv[]){\n",
    "    // This is an integer variable\n",
    "    int i = 0;\n",
    "\n",
    "    // This is a pointer variable to the variable i\n",
    "    int *p = &i;\n",
    "\n",
    "    // Value of the variable i\n",
    "    cout << \"i  = \" << setw(16) << hex <<  i << '\\n';\n",
    "    // Address of the variable i\n",
    "    cout << \"&i = \" << setw(16) << &i << '\\n';\n",
    "\n",
    "    // Integer value at the location p\n",
    "    cout << \"*p = \" << setw(16) << hex << *p << '\\n';\n",
    "    // Value of the pointer variable p\n",
    "    cout << \"p  = \" << setw(16) <<  p << '\\n';\n",
    "    // Address of the pointer variable p\n",
    "    cout << \"&p = \" << setw(16) << &p << '\\n';\n",
    "    \n",
    "    return 0;\n",
    "}\n",
    "\n",
    "```\n",
    "\n"
   ]
  },
  {
   "cell_type": "markdown",
   "metadata": {},
   "source": [
    "* Following example shows assigning a different address to a pointer variable."
   ]
  },
  {
   "cell_type": "markdown",
   "metadata": {},
   "source": [
    "``` C++\n",
    "#include <iostream>\n",
    "#include <iomanip>\n",
    "\n",
    "using namespace std;\n",
    "\n",
    "int main(int argn, char *argv[]){\n",
    "    // These are variables\n",
    "    int i = 0, j = 0x01020304;\n",
    "\n",
    "    // This is a pointer variable\n",
    "    int *p = &i;\n",
    "\n",
    "    // Value of the variable i\n",
    "    cout << \"i  = \" << setw(16) << hex <<  i << '\\n';\n",
    "    // Address of the variable i\n",
    "    cout << \"&i = \" << setw(16) << &i << '\\n';\n",
    "\n",
    "    // Integer value at the location p\n",
    "    cout << \"*p = \" << setw(16) << hex << *p << '\\n';\n",
    "    // Value of the pointer variable p\n",
    "    cout << \"p  = \" << setw(16) <<  p << '\\n';\n",
    "    // Address of the pointer variable p\n",
    "    cout << \"&p = \" << setw(16) << &p << '\\n';\n",
    "\n",
    "    // Reassigning the pointer variable p\n",
    "    p = &j;\n",
    "    // Now p points to the variable j\n",
    "\n",
    "    // Value of the variable j\n",
    "    cout << \"j  = \" << setw(16) <<  j << '\\n';\n",
    "    // Address of the variable j\n",
    "    cout << \"&j = \" << setw(16) << &j << '\\n';\n",
    "\n",
    "    // Integer value at the location p\n",
    "    cout << \"*p = \" << setw(16) << *p << '\\n';\n",
    "    // Value of the pointer variable p\n",
    "    cout << \"p  = \" << setw(16) <<  p << '\\n';\n",
    "    // Address of the pointer variable p\n",
    "    cout << \"&p = \" << setw(16) << &p << '\\n';\n",
    "    \n",
    "    return 0;\n",
    "}\n",
    "\n",
    "```"
   ]
  },
  {
   "cell_type": "markdown",
   "metadata": {},
   "source": [
    "* Following example shows declaring a reference to a variable and assigning to it."
   ]
  },
  {
   "cell_type": "markdown",
   "metadata": {},
   "source": [
    "``` C++\n",
    "#include <iostream>\n",
    "#include <iomanip>\n",
    "\n",
    "using namespace std;\n",
    "\n",
    "int main(int argn, char *argv[]){\n",
    "    // These are variables\n",
    "    int i = 0, j = 0x01020304;\n",
    "\n",
    "    // This is a pointer variable\n",
    "    int *p = &i;\n",
    "\n",
    "    // This is a reference to i\n",
    "    int &r = i;\n",
    "\n",
    "    // Value of the variable i\n",
    "    cout << \"i  = \" << setw(16) << hex <<  i << '\\n';\n",
    "    // Address of the variable i\n",
    "    cout << \"&i = \" << setw(16) << &i << '\\n';\n",
    "\n",
    "    // Integer value at the location p\n",
    "    cout << \"*p = \" << setw(16) << hex << *p << '\\n';\n",
    "    // Value of the pointer variable p\n",
    "    cout << \"p  = \" << setw(16) <<  p << '\\n';\n",
    "    // Address of the pointer variable p\n",
    "    cout << \"&p = \" << setw(16) << &p << '\\n';\n",
    "\n",
    "    // Value of reference variable r\n",
    "    cout << \"r  = \" << setw(16) << hex << r << '\\n';\n",
    "    // Address of the reference variable r\n",
    "    cout << \"&r = \" << setw(16) << &r << '\\n';\n",
    "\n",
    "    r = 0x01020304;\n",
    "\n",
    "    // Value of reference variable r\n",
    "    cout << \"r  = \" << setw(16) << hex << r << '\\n';\n",
    "    // Address of the reference variable r\n",
    "    cout << \"&r = \" << setw(16) << &r << '\\n';\n",
    "\n",
    "    // Value of the variable i\n",
    "    cout << \"i  = \" << setw(16) << hex <<  i << '\\n';\n",
    "    // Address of the variable i\n",
    "    cout << \"&i = \" << setw(16) << &i << '\\n';\n",
    "\n",
    "    // Integer value at the location p\n",
    "    cout << \"*p = \" << setw(16) << hex << *p << '\\n';\n",
    "    // Value of the pointer variable p\n",
    "    cout << \"p  = \" << setw(16) <<  p << '\\n';\n",
    "    // Address of the pointer variable p\n",
    "    cout << \"&p = \" << setw(16) << &p << '\\n';\n",
    "    \n",
    "    return 0;\n",
    "}\n",
    "\n",
    "```"
   ]
  },
  {
   "cell_type": "markdown",
   "metadata": {},
   "source": [
    "## Pointer and array"
   ]
  },
  {
   "cell_type": "markdown",
   "metadata": {},
   "source": [
    "* In C/C++, an array variable contains the start address of an array."
   ]
  },
  {
   "cell_type": "markdown",
   "metadata": {},
   "source": [
    "|         | variable | pointer | reference | array |\n",
    "|:------:|:--------:|:-------:|:---------:|:---------:|\n",
    "|declaration | `int i;` | `int *p;` | `int &r = i;` | `int a[] = {0, 1, 2, 3};` |\n",
    "|  value  | `i` | `*p` | `r` | `a[i]` |\n",
    "|  address  | `&i` | `p` | `&r` | `a+i` |\n",
    "|  address of address | N/A | `&p` | N/A | `&a` |\n",
    "  \n",
    "  "
   ]
  },
  {
   "cell_type": "markdown",
   "metadata": {},
   "source": [
    "* We cannot assign to an element of an array but not to the array"
   ]
  },
  {
   "cell_type": "markdown",
   "metadata": {},
   "source": [
    "* Please consider following example."
   ]
  },
  {
   "cell_type": "markdown",
   "metadata": {},
   "source": [
    "``` C++\n",
    "#include <iostream>\n",
    "#include <iomanip>\n",
    "\n",
    "using namespace std;\n",
    "\n",
    "int main(int argn, char *argv[]){\n",
    "    // This is an integer array\n",
    "    int a[] = {1, 2, 3, 4};\n",
    "\n",
    "    // This is a pointer variable to the array\n",
    "    int *p = a;\n",
    "\n",
    "    // Value of the first element of the array\n",
    "    cout << \"a[0] = \" << setw(16) << hex <<  a[0] << '\\n';\n",
    "    // Address of the first element of the array\n",
    "    cout << \"a    = \" << setw(16) << (a + 0) << '\\n';\n",
    "    // Address of the array variable;\n",
    "    cout << \"&a   = \" << setw(16) << &a << '\\n';\n",
    "\n",
    "    // Integer value at the location p\n",
    "    cout << \"*p   = \" << setw(16) << hex << *p << '\\n';\n",
    "    // Value of the pointer variable p\n",
    "    cout << \"p    = \" << setw(16) <<  p << '\\n';\n",
    "    // Address of the pointer variable p\n",
    "    cout << \"&p   = \" << setw(16) << &p << '\\n';\n",
    "\n",
    "    return 0;\n",
    "}\n",
    "\n",
    "```\n",
    "\n"
   ]
  },
  {
   "cell_type": "markdown",
   "metadata": {},
   "source": [
    "* Following example combines a for loop with the array and the pointers."
   ]
  },
  {
   "cell_type": "markdown",
   "metadata": {},
   "source": [
    "``` C++\n",
    "#include <iostream>\n",
    "#include <iomanip>\n",
    "\n",
    "using namespace std;\n",
    "\n",
    "int main(int argn, char *argv[]){\n",
    "    // This is an integer array\n",
    "    int a[] = {1, 2, 3, 4};\n",
    "\n",
    "    // This is a pointer variable to the array\n",
    "    int *p = a;\n",
    "    int *p_inc = a;\n",
    "\n",
    "    for (int i=0; 4 > i; ++i){\n",
    "\n",
    "\n",
    "        // Value of the first element of the array\n",
    "        cout << \"a[\" << i << \"]     = \" << setw(16) << hex <<  a[i] \n",
    "             << '\\n';\n",
    "        // Address of the first element of the array\n",
    "        cout << \"a + \" << i << \"    = \" << setw(16) << (a + i) \n",
    "             << '\\n';\n",
    "        // Address of the array variable;\n",
    "        cout << \"&(a[\" << i << \"])  = \" << setw(16) << &(a[i]) \n",
    "             << '\\n';\n",
    "\n",
    "        // Integer value at the location p + i\n",
    "        cout << \"*(p + \" << i << \") = \" << setw(16) << hex << *(p+i) \n",
    "             << '\\n';\n",
    "        // Address where p + i is pointing to\n",
    "        cout << \"p + \" << i << \"    = \" << setw(16) <<  (p+i) \n",
    "             << '\\n';\n",
    "\n",
    "        // Integer value at the location p_inc\n",
    "        cout << \"*(p_inc) = \" << setw(16) << hex << *(p_inc) \n",
    "             << '\\n';\n",
    "        // Value of the pointer variable p\n",
    "        cout << \"p_inc    = \" << setw(16) <<  (p_inc) \n",
    "             << '\\n';\n",
    "        p_inc ++;\n",
    "    }\n",
    "\n",
    "    return 0;\n",
    "}\n",
    "\n",
    "\n",
    "```\n",
    "\n"
   ]
  },
  {
   "cell_type": "markdown",
   "metadata": {},
   "source": [
    "### Two-dimensional array"
   ]
  },
  {
   "cell_type": "markdown",
   "metadata": {},
   "source": [
    "* Following example shows a two-dimensonal array."
   ]
  },
  {
   "cell_type": "markdown",
   "metadata": {},
   "source": [
    "* C/C++ compiler needs to know the size of the *column*."
   ]
  },
  {
   "cell_type": "markdown",
   "metadata": {},
   "source": [
    "``` C++\n",
    "#include <iostream>\n",
    "#include <iomanip>\n",
    "\n",
    "using namespace std;\n",
    "\n",
    "int main(int argn, char *argv[]){\n",
    "    \n",
    "    // This is a two dimensional array\n",
    "    int a[][4] = {\n",
    "        {11, 12, 13, 14},\n",
    "        {21, 22, 23, 24},\n",
    "        {31, 32, 33, 34},\n",
    "        {41, 42, 43, 44},\n",
    "    };\n",
    "\n",
    "    for (int i=0; 4 > i; ++i){\n",
    "        for (int j=0; 4 > j; ++j){\n",
    "            cout << a[i][j] << ' ';\n",
    "        }        \n",
    "        cout << '\\n';\n",
    "    }\n",
    "\n",
    "    return 0;\n",
    "}\n",
    "```\n",
    "\n"
   ]
  },
  {
   "cell_type": "markdown",
   "metadata": {},
   "source": [
    "### Multi-dimensional array"
   ]
  },
  {
   "cell_type": "markdown",
   "metadata": {},
   "source": [
    "* Following example shows a three-dimensonal array."
   ]
  },
  {
   "cell_type": "markdown",
   "metadata": {},
   "source": [
    "* C/C++ compiler needs to know all sizes except the first dimension."
   ]
  },
  {
   "cell_type": "markdown",
   "metadata": {},
   "source": [
    "``` C++\n",
    "#include <iostream>\n",
    "#include <iomanip>\n",
    "\n",
    "using namespace std;\n",
    "\n",
    "int main(int argn, char *argv[]){\n",
    "\n",
    "    // This is a three dimensional array\n",
    "    int a[][2][3] = {\n",
    "        {\n",
    "            {111, 112, 113},\n",
    "            {121, 122, 123},\n",
    "        },\n",
    "        {\n",
    "            {211, 212, 213},\n",
    "            {221, 222, 223},\n",
    "        },\n",
    "        {\n",
    "            {311, 312, 313},\n",
    "            {321, 322, 323},\n",
    "        },\n",
    "        {\n",
    "            {411, 412, 413},\n",
    "            {421, 422, 423},\n",
    "        },\n",
    "    };\n",
    "\n",
    "    for (int i=0; 4 > i; ++i){\n",
    "        for (int j=0; 2 > j; ++j){\n",
    "            for (int k=0; 3 > k ; ++k){\n",
    "                cout << a[i][j][k] << ' ';\n",
    "            }\n",
    "            cout << '\\n';\n",
    "        }\n",
    "        cout << \"============\" << '\\n';\n",
    "    }\n",
    "\n",
    "    return 0;\n",
    "}\n",
    "\n",
    "\n",
    "\n",
    "```\n",
    "\n"
   ]
  },
  {
   "cell_type": "markdown",
   "metadata": {},
   "source": [
    "## Array of Pointers"
   ]
  },
  {
   "cell_type": "markdown",
   "metadata": {},
   "source": [
    "* An array may have pointers as its elements."
   ]
  },
  {
   "cell_type": "markdown",
   "metadata": {},
   "source": [
    "* Following example shows an array of `char` pointers."
   ]
  },
  {
   "cell_type": "markdown",
   "metadata": {},
   "source": [
    "``` C++\n",
    "#include <iostream>\n",
    "\n",
    "using namespace std;\n",
    "\n",
    "int main(const int argn, char *argv[]){\n",
    "\n",
    "    // This is an array of pointers\n",
    "    const char *s[] = {\n",
    "        \"Is\",\n",
    "        \"this\",\n",
    "        \"sort of\",\n",
    "        \"familiar ?\",\n",
    "    };\n",
    "\n",
    "    for (int i=0; 4 > i; ++i){\n",
    "            cout << s[i]<< ' ';\n",
    "    }\n",
    "    cout << '\\n';\n",
    "\n",
    "    // This is another array of pointers\n",
    "    const char *t[] = {\n",
    "        \"If\",\n",
    "        \"not\",\n",
    "        \"certain\",\n",
    "        \"run this with arguments\",\n",
    "    };\n",
    "\n",
    "    for (int i=0; 4 > i; ++i){\n",
    "            cout << t[i]<< ' ';\n",
    "    }\n",
    "    cout << '\\n';\n",
    "\n",
    "    // Please run with arguments\n",
    "    for (int i=0; argn > i; ++i){\n",
    "            cout << \"argv[\" << i << \"]= \" << argv[i]<< '\\n';\n",
    "    }\n",
    "\n",
    "    return 0;\n",
    "}\n",
    "\n",
    "```\n",
    "\n"
   ]
  },
  {
   "cell_type": "markdown",
   "metadata": {},
   "source": [
    "## Exercise"
   ]
  },
  {
   "cell_type": "markdown",
   "metadata": {},
   "source": [
    "### 00 Pointer"
   ]
  },
  {
   "cell_type": "markdown",
   "metadata": {},
   "source": [
    "* Write a C++ codes changing values of variables (`i`, `*p`, and `r` above) and observe the influences."
   ]
  },
  {
   "cell_type": "code",
   "execution_count": null,
   "metadata": {},
   "outputs": [],
   "source": []
  }
 ],
 "metadata": {
  "kernelspec": {
   "display_name": "Python 3",
   "language": "python",
   "name": "python3"
  },
  "language_info": {
   "codemirror_mode": {
    "name": "ipython",
    "version": 3
   },
   "file_extension": ".py",
   "mimetype": "text/x-python",
   "name": "python",
   "nbconvert_exporter": "python",
   "pygments_lexer": "ipython3",
   "version": "3.6.5"
  }
 },
 "nbformat": 4,
 "nbformat_minor": 2
}
