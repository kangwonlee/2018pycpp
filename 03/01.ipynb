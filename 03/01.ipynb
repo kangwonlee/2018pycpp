{
 "cells": [
  {
   "cell_type": "markdown",
   "metadata": {},
   "source": [
    "# Managing Memory"
   ]
  },
  {
   "cell_type": "markdown",
   "metadata": {},
   "source": [
    "* Using pointers, C/C++ can manage memory dynamically."
   ]
  },
  {
   "cell_type": "markdown",
   "metadata": {},
   "source": [
    "* This is an advantage at times, however, please use with caution."
   ]
  },
  {
   "cell_type": "markdown",
   "metadata": {},
   "source": [
    "* In [C](https://en.wikipedia.org/wiki/C_dynamic_memory_allocation), we may use `malloc()` or `calloc()` functions to request memory space from the operating system.<br>\n",
    "After use, please call `free()` to let the OS know that it can reuse the memory space."
   ]
  },
  {
   "cell_type": "markdown",
   "metadata": {},
   "source": [
    "| function | expected behavior | example |\n",
    "|:------:|:------:|:------:|\n",
    "| `malloc()` | Allocate memory block of given number of bytes | `int *m = (int *) malloc(sizeof(int)*16);` |\n",
    "| [`calloc()`](http://www.cplusplus.com/reference/cstdlib/calloc/) | Allocate memory block of given number of bytes<br>and initialize with zeros | `int *c = (int *) calloc(16, sizeof(int));` |\n",
    "| `free()` | Release the memory block | `free(m); free(c);` |\n",
    "\n"
   ]
  },
  {
   "cell_type": "markdown",
   "metadata": {},
   "source": [
    "* In [C++](https://en.wikipedia.org/wiki/New_and_delete_&#40;C%2B%2B&#41;), `new` and `delete` operators would allocate or free the memory spaces."
   ]
  },
  {
   "cell_type": "markdown",
   "metadata": {},
   "source": [
    "| operator | expected behavior | example |\n",
    "|:------:|:------:|:------:|\n",
    "| `new` | Construct a new variable<br>or an array of variables | `int *i = new int;`<br>`int *m = new int [16];` |\n",
    "| `new <type>[<size>] ()` | Construct an array of types of given numbers <br>and [initialize](https://stackoverflow.com/questions/2204176/how-to-initialise-memory-with-new-operator-in-c) with zeros | `int *c = new int [16] ();` |\n",
    "| `delete` | Deletes the variables and frees the memory | `delete i;`<br>`delete m;`<br>`delete c;` |\n",
    "\n"
   ]
  },
  {
   "cell_type": "markdown",
   "metadata": {},
   "source": [
    "* Consider following example utilizing C functions."
   ]
  },
  {
   "cell_type": "markdown",
   "metadata": {},
   "source": [
    "``` C++\n",
    "#include <iomanip>\n",
    "#include <iostream>\n",
    "#include <cstdlib>\n",
    "\n",
    "using namespace std;\n",
    "\n",
    "int main(const int argn, const char * argv[]){\n",
    "    const int n = 16;\n",
    "    int * m = (int *) malloc(sizeof(int) * n);\n",
    "    int * c = (int *) calloc(n, sizeof(int));\n",
    "\n",
    "    // must check if OS could successfully allocate memory\n",
    "    if (!m){\n",
    "        cout << \"Unable to allocate m = malloc(\" \n",
    "             << (sizeof(int) * n)\n",
    "             << \")\\n\";\n",
    "        exit(EXIT_FAILURE);\n",
    "    }\n",
    "\n",
    "    if (!c){\n",
    "        cout << \"Unable to allocate c = calloc(\" \n",
    "             << n << \", \" << sizeof(int)\n",
    "             << \")\\n\";\n",
    "        exit(EXIT_FAILURE);\n",
    "    }\n",
    "\n",
    "    for (int i=0; n > i; ++i){\n",
    "        cout << \"m[\" << setw(2) << dec << i << \"] = \"\n",
    "             << hex << m[i] << '\\t';\n",
    "        cout << \"c[\" << setw(2) << dec << i << \"] = \"\n",
    "             << hex << c[i] << '\\n';\n",
    "    }\n",
    "\n",
    "    free(c);\n",
    "    free(m);\n",
    "\n",
    "    return 0;\n",
    "}\n",
    "\n",
    "```\n",
    "\n"
   ]
  },
  {
   "cell_type": "code",
   "execution_count": null,
   "metadata": {},
   "outputs": [],
   "source": []
  }
 ],
 "metadata": {
  "kernelspec": {
   "display_name": "Python 3",
   "language": "python",
   "name": "python3"
  },
  "language_info": {
   "codemirror_mode": {
    "name": "ipython",
    "version": 3
   },
   "file_extension": ".py",
   "mimetype": "text/x-python",
   "name": "python",
   "nbconvert_exporter": "python",
   "pygments_lexer": "ipython3",
   "version": "3.6.5"
  }
 },
 "nbformat": 4,
 "nbformat_minor": 2
}
