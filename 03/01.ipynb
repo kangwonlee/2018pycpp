{
 "cells": [
  {
   "cell_type": "markdown",
   "metadata": {},
   "source": [
    "# Managing Memory"
   ]
  },
  {
   "cell_type": "markdown",
   "metadata": {},
   "source": [
    "* Using pointers, C/C++ can manage memory dynamically."
   ]
  },
  {
   "cell_type": "markdown",
   "metadata": {},
   "source": [
    "* This is an advantage at times, however, please use with caution."
   ]
  },
  {
   "cell_type": "markdown",
   "metadata": {},
   "source": [
    "* In [C](https://en.wikipedia.org/wiki/C_dynamic_memory_allocation), we may use `malloc()` or `calloc()` functions to request memory space from the operating system.<br>\n",
    "After use, please call `free()` to let the OS know that it can reuse the memory space."
   ]
  },
  {
   "cell_type": "markdown",
   "metadata": {},
   "source": [
    "| function | expected behavior | example |\n",
    "|:------:|:------:|:------:|\n",
    "| `malloc()` | Allocate memory block of given number of bytes | `int *m = (int *) malloc(sizeof(int)*16);` |\n",
    "| `calloc()` | Allocate memory block of given number of bytes<br>and initialize with zeros | `int *c = (int *) calloc(sizeof(int)*16);` |\n",
    "| `free()` | Release the memory block | `free(m); free(c);` |\n",
    "\n"
   ]
  },
  {
   "cell_type": "markdown",
   "metadata": {},
   "source": [
    "* In [C++](https://en.wikipedia.org/wiki/New_and_delete_&#40;C%2B%2B&#41;), `new` and `delete` operators would allocate or free the memory spaces."
   ]
  },
  {
   "cell_type": "markdown",
   "metadata": {},
   "source": [
    "| operator | expected behavior | example |\n",
    "|:------:|:------:|:------:|\n",
    "| `new` | Construct a new variable<br>or an array of variables | `int *i = new int;`<br>`int *m = new int [16];` |\n",
    "| `new <type>[<size>] ()` | Construct an array of types of given numbers <br>and [initialize](https://stackoverflow.com/questions/2204176/how-to-initialise-memory-with-new-operator-in-c) with zeros | `int *c = new int [16] ();` |\n",
    "| `delete` | Deletes the variables and frees the memory | `delete i;`<br>`delete m;`<br>`delete c;` |\n",
    "\n"
   ]
  },
  {
   "cell_type": "code",
   "execution_count": null,
   "metadata": {},
   "outputs": [],
   "source": []
  }
 ],
 "metadata": {
  "kernelspec": {
   "display_name": "Python 3",
   "language": "python",
   "name": "python3"
  },
  "language_info": {
   "codemirror_mode": {
    "name": "ipython",
    "version": 3
   },
   "file_extension": ".py",
   "mimetype": "text/x-python",
   "name": "python",
   "nbconvert_exporter": "python",
   "pygments_lexer": "ipython3",
   "version": "3.6.5"
  }
 },
 "nbformat": 4,
 "nbformat_minor": 2
}
