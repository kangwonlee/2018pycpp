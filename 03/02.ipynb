{
 "cells": [
  {
   "cell_type": "markdown",
   "metadata": {},
   "source": [
    "# `list` of `list`'s and references"
   ]
  },
  {
   "cell_type": "markdown",
   "metadata": {},
   "source": [
    "* In Python, one may consider implementing a matrix using a `list` of `list`'s as follows."
   ]
  },
  {
   "cell_type": "code",
   "execution_count": null,
   "metadata": {},
   "outputs": [],
   "source": [
    "sqrt_2 = 2 ** 0.5\n",
    "sqrt_3 = 3 ** 0.5\n",
    "sin_30 = cos_60 = 0.5\n",
    "sin_60 = cos_30 = 0.5 * sqrt_3\n",
    "\n",
    "m_rot_30 = [[cos_30, -sin_30],\n",
    "            [sin_30, cos_30]]\n",
    "\n",
    "x = [[1.0], [0.0]]\n",
    "\n",
    "y = [[0.0], [0.0]]\n",
    "for i in range(2):\n",
    "    for j in range(1):\n",
    "        for k in range(2):\n",
    "            y[i][j] += m_rot_30[i][k] * x[k][j]\n",
    "\n",
    "print(y)\n",
    "\n"
   ]
  },
  {
   "cell_type": "code",
   "execution_count": null,
   "metadata": {},
   "outputs": [],
   "source": []
  }
 ],
 "metadata": {
  "kernelspec": {
   "display_name": "Python 3",
   "language": "python",
   "name": "python3"
  },
  "language_info": {
   "codemirror_mode": {
    "name": "ipython",
    "version": 3
   },
   "file_extension": ".py",
   "mimetype": "text/x-python",
   "name": "python",
   "nbconvert_exporter": "python",
   "pygments_lexer": "ipython3",
   "version": "3.6.5"
  }
 },
 "nbformat": 4,
 "nbformat_minor": 2
}
