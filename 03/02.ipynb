{
 "cells": [
  {
   "cell_type": "markdown",
   "metadata": {},
   "source": [
    "# `list` of `list`'s and references"
   ]
  },
  {
   "cell_type": "markdown",
   "metadata": {},
   "source": [
    "* In Python, one may consider implementing a matrix using a `list` of `list`'s as follows."
   ]
  },
  {
   "cell_type": "code",
   "execution_count": null,
   "metadata": {},
   "outputs": [],
   "source": [
    "sqrt_2 = 2 ** 0.5\n",
    "sqrt_3 = 3 ** 0.5\n",
    "sin_30 = cos_60 = 0.5\n",
    "sin_60 = cos_30 = 0.5 * sqrt_3\n",
    "\n",
    "m_rot_30 = [[cos_30, -sin_30],\n",
    "            [sin_30, cos_30]]\n",
    "\n",
    "x = [[1.0], [0.0]]\n",
    "\n",
    "y = [[0.0], [0.0]]\n",
    "for i in range(2):\n",
    "    for j in range(1):\n",
    "        for k in range(2):\n",
    "            y[i][j] += m_rot_30[i][k] * x[k][j]\n",
    "\n",
    "print(y)\n",
    "\n"
   ]
  },
  {
   "cell_type": "markdown",
   "metadata": {},
   "source": [
    "* This idea worked. Let's think about preparing for a larger two-dimensional matrix."
   ]
  },
  {
   "cell_type": "code",
   "execution_count": null,
   "metadata": {},
   "outputs": [],
   "source": [
    "def show_matrix(m, name=\"matrix_10_by_10\"):\n",
    "    print(f'{name} = ')\n",
    "    for row in m:\n",
    "        print(row)"
   ]
  },
  {
   "cell_type": "code",
   "execution_count": null,
   "metadata": {},
   "outputs": [],
   "source": [
    "n_row = 10\n",
    "n_column = 10\n",
    "\n",
    "# This is one of ways to create a list with n zeros\n",
    "one_row = [0.0] * n_column\n",
    "print(f\"one_row = {one_row}\")\n",
    "\n",
    "# Let's utilize list * integer here again\n",
    "matrix_10_by_10 = [one_row] * n_row\n",
    "\n",
    "show_matrix(matrix_10_by_10)"
   ]
  },
  {
   "cell_type": "markdown",
   "metadata": {},
   "source": [
    "* Now let's try to populate the lower triangle part of the matrix."
   ]
  },
  {
   "cell_type": "code",
   "execution_count": null,
   "metadata": {},
   "outputs": [],
   "source": [
    "def populate_lower_triangle(m):\n",
    "    for i, row in enumerate(m):\n",
    "        for j in range(i):\n",
    "            m[i][j] = j+1.0\n",
    "\n"
   ]
  },
  {
   "cell_type": "code",
   "execution_count": null,
   "metadata": {},
   "outputs": [],
   "source": [
    "populate_lower_triangle(matrix_10_by_10)\n",
    "\n"
   ]
  },
  {
   "cell_type": "markdown",
   "metadata": {},
   "source": [
    "* Now let's take a look"
   ]
  },
  {
   "cell_type": "code",
   "execution_count": null,
   "metadata": {},
   "outputs": [],
   "source": [
    "show_matrix(matrix_10_by_10)\n",
    "\n"
   ]
  },
  {
   "cell_type": "markdown",
   "metadata": {},
   "source": [
    "* What do you think happened?\n",
    "\n"
   ]
  },
  {
   "cell_type": "code",
   "execution_count": null,
   "metadata": {},
   "outputs": [],
   "source": []
  }
 ],
 "metadata": {
  "kernelspec": {
   "display_name": "Python 3",
   "language": "python",
   "name": "python3"
  },
  "language_info": {
   "codemirror_mode": {
    "name": "ipython",
    "version": 3
   },
   "file_extension": ".py",
   "mimetype": "text/x-python",
   "name": "python",
   "nbconvert_exporter": "python",
   "pygments_lexer": "ipython3",
   "version": "3.6.5"
  }
 },
 "nbformat": 4,
 "nbformat_minor": 2
}
