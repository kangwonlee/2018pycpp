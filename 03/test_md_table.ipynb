{
 "cells": [
  {
   "cell_type": "code",
   "execution_count": null,
   "metadata": {},
   "outputs": [],
   "source": [
    "import md_table as mt\n",
    "\n",
    "base_addr = 0x60000000\n",
    "size_t = 4\n",
    "no_cell = 20\n",
    "\n"
   ]
  },
  {
   "cell_type": "code",
   "execution_count": null,
   "metadata": {},
   "outputs": [],
   "source": [
    "memory_map = mt.malloc(size_t, no_cell, base_addr)\n",
    "\n",
    "assert 'header' in memory_map, \"'header' missing\"\n",
    "assert 'content_formatter' in memory_map, \"'content_formatter' missing\"\n",
    "\n",
    "address_list = list(filter(lambda key: isinstance(key, int), memory_map.keys()))\n",
    "min_addr, max_addr = min(address_list), max(address_list)\n",
    "\n",
    "assert min_addr == base_addr, 'Base address = {min_addr:x} != expected {base_addr:x}'\n",
    "assert max_addr == (base_addr + size_t * no_cell), 'Last address = {max_addr:x} != expected {(base_addr + size_t * no_cell):x}'\n",
    "\n",
    "assert len(address_list) > no_cell, f\"# elements {len(address_list)} smaller than desired {no_cell}\"\n",
    "\n"
   ]
  },
  {
   "cell_type": "code",
   "execution_count": null,
   "metadata": {},
   "outputs": [],
   "source": [
    "value = 'zzz'\n",
    "one_addr = base_addr + no_cell // 2\n",
    "\n",
    "memory_map[one_addr] = value\n",
    "\n",
    "assert memory_map[one_addr] == value, 'Assignment error'\n",
    "\n"
   ]
  },
  {
   "cell_type": "code",
   "execution_count": null,
   "metadata": {},
   "outputs": [],
   "source": []
  }
 ],
 "metadata": {
  "kernelspec": {
   "display_name": "Python 3",
   "language": "python",
   "name": "python3"
  },
  "language_info": {
   "codemirror_mode": {
    "name": "ipython",
    "version": 3
   },
   "file_extension": ".py",
   "mimetype": "text/x-python",
   "name": "python",
   "nbconvert_exporter": "python",
   "pygments_lexer": "ipython3",
   "version": "3.6.5"
  }
 },
 "nbformat": 4,
 "nbformat_minor": 2
}
