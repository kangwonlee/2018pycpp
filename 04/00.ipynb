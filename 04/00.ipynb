{
 "cells": [
  {
   "cell_type": "markdown",
   "metadata": {},
   "source": [
    "# Modules and `namespace`s"
   ]
  },
  {
   "cell_type": "markdown",
   "metadata": {},
   "source": [
    "> There are only two hard things in Computer Science: cache invalidation and naming things.\n",
    "> - Phil Karlton"
   ]
  },
  {
   "cell_type": "markdown",
   "metadata": {},
   "source": [
    "* It seems that deciding names is one of the most difficult part of programming. [[ref0](https://www.itworld.com/article/2823759/enterprise-software/124383-Arg-The-9-hardest-things-programmers-have-to-do.html)][[ref1](https://stackoverflow.com/questions/33497879/why-is-the-hardest-part-of-programming-is-naming-things)][[ref2](https://hilton.org.uk/blog/why-naming-things-is-hard)][[ref3](https://skeptics.stackexchange.com/questions/19836/has-phil-karlton-ever-said-there-are-only-two-hard-things-in-computer-science)]"
   ]
  },
  {
   "cell_type": "markdown",
   "metadata": {},
   "source": [
    "* Because naming in programming is both technical and communicational issue."
   ]
  },
  {
   "cell_type": "markdown",
   "metadata": {},
   "source": [
    "* In addition, the names must be unique; as the number of names increase, so does the possibility of *name collsion*."
   ]
  },
  {
   "cell_type": "markdown",
   "metadata": {},
   "source": [
    "* `namespace`s of C++ may help this by enabling some subsets."
   ]
  },
  {
   "cell_type": "markdown",
   "metadata": {},
   "source": [
    "* Let's take a look at python modules first."
   ]
  },
  {
   "cell_type": "markdown",
   "metadata": {},
   "source": [
    "## Modules of Python"
   ]
  },
  {
   "cell_type": "markdown",
   "metadata": {},
   "source": [
    "* Any python `.py` file can double as a module."
   ]
  },
  {
   "cell_type": "markdown",
   "metadata": {},
   "source": [
    "* Following code tries to simulate a simple bank account."
   ]
  },
  {
   "cell_type": "markdown",
   "metadata": {},
   "source": [
    "``` python\n",
    "\n",
    "# Begin account_module.py\n",
    "\n",
    "balance = 0\n",
    "\n",
    "\n",
    "def deposit(amount):\n",
    "    \"\"\"\n",
    "    Mutator method 1\n",
    "    Deposit\n",
    "    \"\"\"\n",
    "    \n",
    "    global balance\n",
    "    print(f\"deposit {amount}\")\n",
    "    balance += amount\n",
    "\n",
    "\n",
    "def withdraw(amount):\n",
    "    \"\"\"\n",
    "    Mutator method 2\n",
    "    Withdraw\n",
    "    \"\"\"\n",
    "\n",
    "    global balance\n",
    "    print(f\"withdraw {amount}\")\n",
    "    balance += (-amount)\n",
    "\n",
    "\n",
    "def check():\n",
    "    \"\"\"\n",
    "    Reader method\n",
    "    Check\n",
    "    \"\"\"\n",
    "    global balance\n",
    "    return balance\n",
    "\n",
    "\n",
    "# End account_module.py\n",
    "```\n",
    "\n"
   ]
  },
  {
   "cell_type": "markdown",
   "metadata": {},
   "source": [
    "* Let's say file `account_module.py` has the code block above."
   ]
  },
  {
   "cell_type": "markdown",
   "metadata": {},
   "source": [
    "* Following code import the `account_module.py` file as a module and call its functions."
   ]
  },
  {
   "cell_type": "code",
   "execution_count": null,
   "metadata": {},
   "outputs": [],
   "source": [
    "# Begin account_module_user.py\n",
    "import account_module\n",
    "\n",
    "print(f\"account_module.check() = {account_module.check()}\")\n",
    "\n",
    "account_module.deposit(10000)\n",
    "\n",
    "print(f\"account_module.check() = {account_module.check()}\")\n",
    "\n",
    "account_module.withdraw(3000)\n",
    "\n",
    "print(f\"account_module.check() = {account_module.check()}\")\n",
    "\n",
    "account_module.deposit(5000)\n",
    "\n",
    "print(f\"account_module.check() = {account_module.check()}\")\n",
    "\n",
    "# End account_module_user.py\n",
    "\n"
   ]
  },
  {
   "cell_type": "markdown",
   "metadata": {},
   "source": [
    "* Now we have a simulated account. What if we want to create an account for a different person?"
   ]
  },
  {
   "cell_type": "code",
   "execution_count": null,
   "metadata": {},
   "outputs": [],
   "source": [
    "import account_module as account_a\n",
    "import account_module as account_b\n",
    "\n",
    "print(f\"account_a.check() = {account_a.check()}\")\n",
    "print(f\"account_b.check() = {account_b.check()}\")\n",
    "\n",
    "account_a.deposit(10000)\n",
    "\n",
    "print(f\"account_a.check() = {account_a.check()}\")\n",
    "print(f\"account_b.check() = {account_b.check()}\")\n",
    "\n",
    "account_a.withdraw(3000)\n",
    "\n",
    "print(f\"account_a.check() = {account_a.check()}\")\n",
    "print(f\"account_b.check() = {account_b.check()}\")\n",
    "\n",
    "account_a.deposit(5000)\n",
    "\n",
    "print(f\"account_a.check() = {account_a.check()}\")\n",
    "print(f\"account_b.check() = {account_b.check()}\")\n",
    "\n"
   ]
  },
  {
   "cell_type": "markdown",
   "metadata": {},
   "source": [
    "## In case of C++"
   ]
  },
  {
   "cell_type": "markdown",
   "metadata": {},
   "source": [
    "### Without `namespace`"
   ]
  },
  {
   "cell_type": "markdown",
   "metadata": {},
   "source": [
    "* Prepare following source files."
   ]
  },
  {
   "cell_type": "markdown",
   "metadata": {},
   "source": [
    "``` C++\n",
    "// Begin account_module.h\n",
    "#include <cstdint>\n",
    "\n",
    "void deposit (int32_t amount);\n",
    "void withdraw (int32_t amount);\n",
    "int32_t check();\n",
    "// End account_module.h\n",
    "```"
   ]
  },
  {
   "cell_type": "markdown",
   "metadata": {},
   "source": [
    "``` C++\n",
    "// Begin account_module.cpp\n",
    "#include <iostream>\n",
    "#include <cstdint>\n",
    "\n",
    "#include \"account_module.h\"\n",
    "\n",
    "using namespace std;\n",
    "\n",
    "int32_t balance;\n",
    "\n",
    "\n",
    "void deposit (int32_t amount){\n",
    "    cout << \"Deposit \" << amount << '\\n';\n",
    "    balance += amount;\n",
    "}\n",
    "\n",
    "\n",
    "void withdraw (int32_t amount){\n",
    "    cout << \"Depowithdrawsit \" << amount << '\\n';\n",
    "    balance += -amount;\n",
    "}\n",
    "\n",
    "\n",
    "int32_t check(){\n",
    "    return balance;\n",
    "}\n",
    "// End account_module.cpp\n",
    "```\n",
    "\n"
   ]
  },
  {
   "cell_type": "markdown",
   "metadata": {},
   "source": [
    "\n",
    "``` C++\n",
    "// Begin account_module_user.cpp\n",
    "#include <iostream>\n",
    "#include <cstdint>\n",
    "\n",
    "#include \"account_module.h\"\n",
    "\n",
    "using namespace std;\n",
    "\n",
    "int32_t main(int32_t argn, char * argv[]){\n",
    "\n",
    "    cout << \"account_module.check() = \"<< check() <<'\\n';\n",
    "\n",
    "    deposit(10000);\n",
    "\n",
    "    cout << \"account_module.check() = \"<< check() <<'\\n';\n",
    "\n",
    "    withdraw(3000);\n",
    "\n",
    "    cout << \"account_module.check() = \"<< check() <<'\\n';\n",
    "\n",
    "    deposit(5000);\n",
    "\n",
    "    cout << \"account_module.check() = \"<< check() <<'\\n';\n",
    "\n",
    "    return 0;\n",
    "}\n",
    "// End account_module_user.cpp\n",
    "// Build command : g++ -Wall -g account_module.cpp account_module_user.cpp -o account_module_user\n",
    "```\n",
    "\n"
   ]
  },
  {
   "cell_type": "markdown",
   "metadata": {},
   "source": [
    "* Enter following command to build the execution file `account_module_user`."
   ]
  },
  {
   "cell_type": "markdown",
   "metadata": {},
   "source": [
    "``` sh\n",
    "g++ -Wall -g account_module.cpp account_module_user.cpp -o account_module_user\n",
    "```"
   ]
  },
  {
   "cell_type": "markdown",
   "metadata": {},
   "source": [
    "### With one `namespace`"
   ]
  },
  {
   "cell_type": "markdown",
   "metadata": {},
   "source": [
    "* Example above works but let's use a `namespace` for the `account`."
   ]
  },
  {
   "cell_type": "markdown",
   "metadata": {},
   "source": [
    "``` C++\n",
    "// Begin account_module.h\n",
    "#include <cstdint>\n",
    "\n",
    "namespace account {\n",
    "    void deposit (int32_t amount);\n",
    "    void withdraw (int32_t amount);\n",
    "    int32_t check();\n",
    "}\n",
    "// End account_module.h\n",
    "```"
   ]
  },
  {
   "cell_type": "markdown",
   "metadata": {},
   "source": [
    "``` C++\n",
    "// Begin account_module.cpp\n",
    "#include <iostream>\n",
    "#include <cstdint>\n",
    "\n",
    "#include \"account_module.h\"\n",
    "\n",
    "using namespace std;\n",
    "\n",
    "namespace account{\n",
    "    int32_t balance;\n",
    "\n",
    "    void deposit (int32_t amount){\n",
    "        cout << \"Deposit \" << amount << '\\n';\n",
    "        balance += amount;\n",
    "    }\n",
    "\n",
    "    void withdraw (int32_t amount){\n",
    "        cout << \"Depowithdrawsit \" << amount << '\\n';\n",
    "        balance += -amount;\n",
    "    }\n",
    "\n",
    "    int32_t check(){\n",
    "        return balance;\n",
    "    }\n",
    "}\n",
    "// End account_module.cpp\n",
    "```\n",
    "\n"
   ]
  },
  {
   "cell_type": "markdown",
   "metadata": {},
   "source": [
    "\n",
    "``` C++\n",
    "// Begin account_module_user.cpp\n",
    "#include <iostream>\n",
    "#include <cstdint>\n",
    "\n",
    "#include \"account_module.h\"\n",
    "\n",
    "using namespace std;\n",
    "\n",
    "int32_t main(int32_t argn, char ** argv){\n",
    "\n",
    "    cout << \"account_module.check() = \"<< account::check() <<'\\n';\n",
    "\n",
    "    account::deposit(10000);\n",
    "\n",
    "    cout << \"account_module.check() = \"<< account::check() <<'\\n';\n",
    "\n",
    "    account::withdraw(3000);\n",
    "\n",
    "    cout << \"account_module.check() = \"<< account::check() <<'\\n';\n",
    "\n",
    "    account::deposit(5000);\n",
    "\n",
    "    cout << \"account_module.check() = \"<< account::check() <<'\\n';\n",
    "\n",
    "    return 0;\n",
    "}\n",
    "// End account_module_user.cpp\n",
    "// Build command : g++ -Wall -g account_module.cpp account_module_user.cpp -o account_module_user\n",
    "```\n",
    "\n"
   ]
  },
  {
   "cell_type": "markdown",
   "metadata": {},
   "source": [
    "### With two `namespace`s"
   ]
  },
  {
   "cell_type": "markdown",
   "metadata": {},
   "source": [
    "* Let's try a little differently this time."
   ]
  },
  {
   "cell_type": "markdown",
   "metadata": {},
   "source": [
    "``` C++\n",
    "// Begin account_module.h\n",
    "#include <cstdint>\n",
    "#include <iostream>\n",
    "\n",
    "int32_t balance;\n",
    "\n",
    "\n",
    "void deposit (int32_t amount){\n",
    "    std::cout << \"Deposit \" << amount << '\\n';\n",
    "    std::cout << \"to \" << & balance << '\\n';\n",
    "    balance += amount;\n",
    "}\n",
    "\n",
    "\n",
    "void withdraw (int32_t amount){\n",
    "    std::cout << \"Withdraws \" << amount << '\\n';\n",
    "    std::cout << \"from \" << & balance << '\\n';\n",
    "    balance += -amount;\n",
    "}\n",
    "\n",
    "\n",
    "int32_t check(){\n",
    "    return balance;\n",
    "}\n",
    "// End account_module.h\n",
    "\n",
    "```"
   ]
  },
  {
   "cell_type": "markdown",
   "metadata": {},
   "source": [
    "```C++\n",
    "// Begin account_module_user.cpp\n",
    "#include <iostream>\n",
    "#include <cstdint>\n",
    "\n",
    "namespace account_a{\n",
    "    #include \"account_module.h\"\n",
    "}\n",
    "\n",
    "namespace account_b{\n",
    "    #include \"account_module.h\"\n",
    "}\n",
    "\n",
    "using namespace std;\n",
    "\n",
    "int32_t main(int32_t argn, char ** argv){\n",
    "\n",
    "    cout << \"account_a::check() = \"<< account_a::check() <<'\\n';\n",
    "    cout << \"account_b::check() = \"<< account_b::check() <<'\\n';\n",
    "\n",
    "    account_a::deposit(10000);\n",
    "\n",
    "    cout << \"account_a::check() = \"<< account_a::check() <<'\\n';\n",
    "    cout << \"account_b::check() = \"<< account_b::check() <<'\\n';\n",
    "\n",
    "    account_a::withdraw(3000);\n",
    "\n",
    "    cout << \"account_a::check() = \"<< account_a::check() <<'\\n';\n",
    "    cout << \"account_b::check() = \"<< account_b::check() <<'\\n';\n",
    "\n",
    "    account_b::deposit(5000);\n",
    "\n",
    "    cout << \"account_a::check() = \"<< account_a::check() <<'\\n';\n",
    "    cout << \"account_b::check() = \"<< account_b::check() <<'\\n';\n",
    "\n",
    "    return 0;\n",
    "}\n",
    "// End account_module_user.cpp\n",
    "```"
   ]
  },
  {
   "cell_type": "markdown",
   "metadata": {},
   "source": [
    "* Just compiling `account_module_user.cpp` would be sufficient."
   ]
  },
  {
   "cell_type": "markdown",
   "metadata": {},
   "source": [
    "* Also, we can see that the symbols within the namespaces are different from each other."
   ]
  },
  {
   "cell_type": "markdown",
   "metadata": {},
   "source": [
    "## Exercise"
   ]
  },
  {
   "cell_type": "markdown",
   "metadata": {},
   "source": [
    "### 00 `__name__`"
   ]
  },
  {
   "cell_type": "markdown",
   "metadata": {},
   "source": [
    "* Some python `.py` file has a line as follows<br>\n",
    "``` python\n",
    "if __name__ == \"__main__:\n",
    "    print(\"__name__ is __main__\")\n",
    "```\n",
    "* Try to figure out the meaning of this."
   ]
  },
  {
   "cell_type": "markdown",
   "metadata": {},
   "source": [
    "### 01 Relative Import"
   ]
  },
  {
   "cell_type": "markdown",
   "metadata": {},
   "source": [
    "* Try to figure out what is *relative* and/or *absolute* import.\n",
    "* How would you use it?"
   ]
  },
  {
   "cell_type": "code",
   "execution_count": null,
   "metadata": {},
   "outputs": [],
   "source": []
  }
 ],
 "metadata": {
  "kernelspec": {
   "display_name": "Python 3",
   "language": "python",
   "name": "python3"
  },
  "language_info": {
   "codemirror_mode": {
    "name": "ipython",
    "version": 3
   },
   "file_extension": ".py",
   "mimetype": "text/x-python",
   "name": "python",
   "nbconvert_exporter": "python",
   "pygments_lexer": "ipython3",
   "version": "3.6.5"
  }
 },
 "nbformat": 4,
 "nbformat_minor": 2
}
