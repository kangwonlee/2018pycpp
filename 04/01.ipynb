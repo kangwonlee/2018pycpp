{
 "cells": [
  {
   "cell_type": "markdown",
   "metadata": {},
   "source": [
    "# Instantiating `class`es"
   ]
  },
  {
   "cell_type": "markdown",
   "metadata": {},
   "source": [
    "* Until 1990's, [*software crisis*](https://en.wikipedia.org/wiki/Software_crisis) was one of important issues within the so-to-speak *IT communities* around the world.\n",
    "* It referred that developing software within time and budget was not easy.\n",
    "* In my humble opinion, it is still not resolved yet.  However one of the motivations of **object oritented programming** was to help software development more managable by dividing the bigger and more compliex problems into smaller and simpler problems."
   ]
  },
  {
   "cell_type": "markdown",
   "metadata": {},
   "source": [
    "* In the object oriented programming [paradigm](https://en.wikipedia.org/wiki/Programming_paradigm), `class` and `objects` are two of the key concepts.\n",
    "\n",
    "* Let's think about making [waffles](https://en.wikipedia.org/wiki/Waffle).\n",
    "\n",
    "[![waffle making](https://upload.wikimedia.org/wikipedia/commons/thumb/c/c5/Waffles.webmhd.webm/220px--Waffles.webmhd.webm.jpg)](https://upload.wikimedia.org/wikipedia/commons/transcoded/c/c5/Waffles.webmhd.webm/Waffles.webmhd.webm.480p.webm)\n",
    "\n",
    "* In the *void* of hot waffle iron, we may put *batter* and cook.\n",
    "* The shape of the iron would decide *properties* of the waffle such as shape and size.\n",
    "* Once you take out the waffle out of the iron, you may add some fruits or additives to your flavor.\n",
    "* People will normally eat waffles not the irons.\n",
    "\n"
   ]
  },
  {
   "cell_type": "markdown",
   "metadata": {},
   "source": [
    "* We can say that a `class` is like the waffle iron while the `objects` are waffles made from that iron.\n",
    "* The `class` would define the attributes of its `instance`s, the `objects`.\n",
    "* The `instances` would occupy the memory; the class itself does not.\n",
    "* The `object`s would interact with other objects to achieve its purpose.\n",
    "* We may *inherit* an existing `class` to design another more suitable for our purpose.\n",
    "\n"
   ]
  },
  {
   "cell_type": "markdown",
   "metadata": {},
   "source": [
    "## Example : Bank account"
   ]
  },
  {
   "cell_type": "markdown",
   "metadata": {},
   "source": [
    "* Let's start with a class for a bank account.\n",
    "* We would need to be able to *deposit* some amount of the money.\n",
    "* We also would need to *withdraw* from the account.\n",
    "* Of course *checking the balance* would be necessary, too."
   ]
  },
  {
   "cell_type": "code",
   "execution_count": null,
   "metadata": {},
   "outputs": [],
   "source": [
    "class BankAccount(object):\n",
    "    def __init__(self):\n",
    "        \"\"\"\n",
    "        Constructor for the BankAccount\n",
    "        Initializes instances\n",
    "        \"\"\"\n",
    "\n",
    "        # Assume the starting balance is zero\n",
    "        self.balance = 0\n",
    "        # Any feature to add?\n",
    "        \n",
    "    def deposit(self, amount):\n",
    "        \"\"\"\n",
    "        This is one of mutators.\n",
    "        \"\"\"\n",
    "\n",
    "        # Changes the balance of the account\n",
    "        self.balance += amount\n",
    "        # Any possible improvements?\n",
    "        \n",
    "        # the amount of transaction\n",
    "        return amount\n",
    "\n",
    "    def withdraw(self, amount):\n",
    "        \"\"\"\n",
    "        This is another mutator.\n",
    "        \"\"\"\n",
    "\n",
    "        # Also changes account balance\n",
    "        self.balance += (-amount)\n",
    "        # Any possible improvements?\n",
    "\n",
    "        # the amount of transaction\n",
    "        return amount\n",
    "\n",
    "    def check_balance(self):\n",
    "        \"\"\"\n",
    "        This is the reader method.\n",
    "        \"\"\"\n",
    "\n",
    "        # Reads the state\n",
    "        return self.balance\n",
    "\n"
   ]
  },
  {
   "cell_type": "code",
   "execution_count": null,
   "metadata": {},
   "outputs": [],
   "source": [
    "account_a = BankAccount()\n",
    "account_b = BankAccount()\n",
    "\n"
   ]
  },
  {
   "cell_type": "code",
   "execution_count": null,
   "metadata": {},
   "outputs": [],
   "source": [
    "def sample_transactions(account_a, account_b):\n",
    "    \n",
    "    print('balance A = ', account_a.check_balance())\n",
    "    print('balance B = ', account_b.check_balance())\n",
    "\n",
    "    print (f'deposit {account_a.deposit(100)} to A')\n",
    "    print (f'deposit {account_b.deposit(200)} to B')\n",
    "\n",
    "    print('balance A = ', account_a.check_balance())\n",
    "    print('balance B = ', account_b.check_balance())\n",
    "\n",
    "    print (f'withdraw {account_a.withdraw(10)} from A')\n",
    "    print (f'withdraw {account_b.withdraw(20)} from B')\n",
    "\n",
    "    print('balance A = ', account_a.check_balance())\n",
    "    print('balance B = ', account_b.check_balance())\n",
    "\n",
    "    print (f'withdraw {account_a.withdraw(100)} from A')\n",
    "    print (f'withdraw {account_b.withdraw(200)} from B')\n",
    "\n",
    "    # This may not be exactly desirable but possible\n",
    "    print('balance A = ', account_a.balance)\n",
    "    print('balance B = ', account_b.check_balance())\n",
    "\n"
   ]
  },
  {
   "cell_type": "code",
   "execution_count": null,
   "metadata": {},
   "outputs": [],
   "source": [
    "sample_transactions(account_a, account_b)\n",
    "\n"
   ]
  },
  {
   "cell_type": "markdown",
   "metadata": {},
   "source": [
    "* The instances of class above could deposit, withdraw, and check the balance.\n",
    "* However, we can see that this class allows the balance to go negative.\n",
    "* Also, do you see any other possible improvements?\n",
    "* Additionally, would it be beneficial if we could **reuse** the existing work instead of starting from the ground up again?\n",
    "\n"
   ]
  },
  {
   "cell_type": "code",
   "execution_count": null,
   "metadata": {},
   "outputs": [],
   "source": [
    "class NonNegativeAccount(BankAccount):\n",
    "    \"\"\"\n",
    "    A subclass of BankAccount\n",
    "    Prevents overdraft\n",
    "    \"\"\"\n",
    "    def __init__(self):\n",
    "        \"\"\"\n",
    "        Constructor of a subclass\n",
    "        \"\"\"\n",
    "\n",
    "        # Reusing the constructor of the superclass\n",
    "        super().__init__()\n",
    "\n",
    "    def withdraw(self, amount):\n",
    "        \"\"\"\n",
    "        Prevents overdraft\n",
    "        \"\"\"\n",
    "        \n",
    "        if self.check_balance() >= amount:\n",
    "            # Balance is sufficient\n",
    "            # just use withdraw() method of the superclass\n",
    "            result = super().withdraw(amount)\n",
    "        else:\n",
    "            # Trying to withdraw too much\n",
    "            # Amount of transaction is the remaining balance\n",
    "            result = self.check_balance()\n",
    "            # After the transaction the balance would be zero.\n",
    "            self.balance = 0\n",
    "\n",
    "        # the amount of transaction\n",
    "        return result            \n",
    "\n",
    "    def __add__(self, other):\n",
    "        \"\"\"\n",
    "        What does the name implies?\n",
    "        \n",
    "        ref : https://thepythonguru.com/python-operator-overloading/\n",
    "        \"\"\"\n",
    "\n",
    "        # What does this method tries to do?\n",
    "        result = NonNegativeAccount()\n",
    "\n",
    "        result.deposit(\n",
    "            self.withdraw(\n",
    "                self.check_balance()\n",
    "            )\n",
    "        )\n",
    "\n",
    "        result.deposit(\n",
    "            other.withdraw(\n",
    "                other.check_balance()\n",
    "            )\n",
    "        )\n",
    "\n",
    "        # Where does this go?\n",
    "        return result\n",
    "\n"
   ]
  },
  {
   "cell_type": "code",
   "execution_count": null,
   "metadata": {},
   "outputs": [],
   "source": [
    "account_a = NonNegativeAccount()\n",
    "account_b = NonNegativeAccount()\n",
    "\n"
   ]
  },
  {
   "cell_type": "code",
   "execution_count": null,
   "metadata": {},
   "outputs": [],
   "source": [
    "sample_transactions(account_a, account_b)\n",
    "\n"
   ]
  },
  {
   "cell_type": "code",
   "execution_count": null,
   "metadata": {},
   "outputs": [],
   "source": [
    "account_c = NonNegativeAccount()\n",
    "account_d = NonNegativeAccount()\n",
    "\n",
    "print (f'deposit {account_c.deposit(50)} to C')\n",
    "print (f'deposit {account_d.deposit(50)} to D')\n",
    "\n",
    "print('balance C = ', account_c.check_balance())\n",
    "print('balance D = ', account_d.check_balance())\n",
    "\n",
    "# What is going on here?\n",
    "print('account_e = account_c + account_d')\n",
    "account_e = account_c + account_d\n",
    "\n",
    "print('balance C = ', account_c.check_balance())\n",
    "print('balance D = ', account_d.check_balance())\n",
    "print('balance E = ', account_e.check_balance())\n",
    "\n"
   ]
  },
  {
   "cell_type": "markdown",
   "metadata": {},
   "source": [
    "* Is there any other possible improvements?\n",
    "* I am certain that you would be able to make it much better. Subclass further as you may want."
   ]
  },
  {
   "cell_type": "markdown",
   "metadata": {},
   "source": [
    "## Example : Bank account class in C++"
   ]
  },
  {
   "cell_type": "markdown",
   "metadata": {},
   "source": [
    "* Please try following example in C++."
   ]
  },
  {
   "cell_type": "markdown",
   "metadata": {},
   "source": [
    "``` C++\n",
    "// Begin account_class.h\n",
    "\n",
    "#include <cstdint>\n",
    "#include <iostream>\n",
    "\n",
    "\n",
    "class BankAccount\n",
    "{\n",
    "    protected:\n",
    "        uint32_t balance;\n",
    "    public:\n",
    "        BankAccount();\n",
    "        BankAccount(BankAccount&);\n",
    "        uint32_t deposit(uint32_t amount);\n",
    "        uint32_t withdraw(uint32_t amount);\n",
    "        uint32_t check_balance();\n",
    "};\n",
    "\n",
    "// End account_class.h\n",
    "\n",
    "```\n",
    "\n"
   ]
  },
  {
   "cell_type": "markdown",
   "metadata": {},
   "source": [
    "``` C++\n",
    "// Begin account_class.cpp\n",
    "\n",
    "#include <cstdint>\n",
    "#include <iostream>\n",
    "#include \"account_class.h\"\n",
    "\n",
    "using namespace std;\n",
    "\n",
    "\n",
    "BankAccount::BankAccount(){\n",
    "    balance = 0;\n",
    "}\n",
    "\n",
    "\n",
    "BankAccount::BankAccount(BankAccount& other){\n",
    "    balance = other.check_balance();\n",
    "}\n",
    "\n",
    "\n",
    "uint32_t BankAccount::deposit(uint32_t amount){\n",
    "    balance += amount;\n",
    "    return amount;\n",
    "}\n",
    "\n",
    "\n",
    "uint32_t BankAccount::withdraw(uint32_t amount){\n",
    "    balance -= amount;\n",
    "    return amount;\n",
    "}\n",
    "\n",
    "\n",
    "uint32_t BankAccount::check_balance(void){\n",
    "    return balance;\n",
    "}\n",
    "\n",
    "// End account_class.cpp\n",
    "```\n",
    "\n"
   ]
  },
  {
   "cell_type": "markdown",
   "metadata": {},
   "source": [
    "``` C++\n",
    "// Begin account_transaction.cpp\n",
    "\n",
    "#include <cstdint>\n",
    "#include <iostream>\n",
    "#include \"account_class.h\"\n",
    "\n",
    "using namespace std;\n",
    "\n",
    "void sample_transactions(BankAccount&, BankAccount&);\n",
    "\n",
    "\n",
    "int32_t main(const int32_t argn, const char * argv[]){\n",
    "    BankAccount a;\n",
    "    BankAccount b;\n",
    "\n",
    "    sample_transactions(a, b);\n",
    "\n",
    "    return 0;\n",
    "}\n",
    "\n",
    "\n",
    "void sample_transactions(BankAccount& account_a, BankAccount& account_b){\n",
    "    cout << \"balance A = \" << account_a.check_balance() << '\\n';\n",
    "    cout << \"balance B = \" << account_b.check_balance() << '\\n';\n",
    "\n",
    "    cout << \"deposit \" << account_a.deposit(100) << \" to A\" << '\\n';\n",
    "    cout << \"deposit \" << account_b.deposit(200) << \" to B\" << '\\n';\n",
    "\n",
    "    cout << \"balance A = \" << account_a.check_balance() << '\\n';\n",
    "    cout << \"balance B = \" << account_b.check_balance() << '\\n';\n",
    "\n",
    "    cout << \"withdraw \" << account_a.withdraw(10) << \" from A\" << '\\n';\n",
    "    cout << \"withdraw \" << account_b.withdraw(20) << \" from B\" << '\\n';\n",
    "\n",
    "    cout << \"balance A = \" << account_a.check_balance() << '\\n';\n",
    "    cout << \"balance B = \" << account_b.check_balance() << '\\n';\n",
    "\n",
    "    cout << \"withdraw \" << account_a.withdraw(100) << \" from A\" << '\\n';\n",
    "    cout << \"withdraw \" << account_b.withdraw(200) << \" from B\" << '\\n';\n",
    "\n",
    "    // Please check this result.  What do you see?\n",
    "    cout << \"balance A = \" << account_a.check_balance() << '\\n';\n",
    "    cout << \"balance B = \" << account_b.check_balance() << '\\n';\n",
    "}\n",
    "\n",
    "\n",
    "// End account_transaction.cpp\n",
    "// Build command : g++ -Wall -g account_class.cpp account_transaction.cpp -o account_transaction\n",
    "```"
   ]
  },
  {
   "cell_type": "markdown",
   "metadata": {},
   "source": [
    "* What do you see in the result?"
   ]
  },
  {
   "cell_type": "markdown",
   "metadata": {},
   "source": [
    "## Exercise"
   ]
  },
  {
   "cell_type": "markdown",
   "metadata": {},
   "source": [
    "### 00 Subclassing"
   ]
  },
  {
   "cell_type": "markdown",
   "metadata": {},
   "source": [
    "* Subclass one of the classes above and make your own bank account class."
   ]
  },
  {
   "cell_type": "markdown",
   "metadata": {},
   "source": [
    "### 01 Interface"
   ]
  },
  {
   "cell_type": "markdown",
   "metadata": {},
   "source": [
    "* In the example above, did `sample_transactions()` function work regardless of the class of the arguments?\n",
    "* How come? Describe your answer."
   ]
  },
  {
   "cell_type": "code",
   "execution_count": null,
   "metadata": {},
   "outputs": [],
   "source": []
  }
 ],
 "metadata": {
  "kernelspec": {
   "display_name": "Python 3",
   "language": "python",
   "name": "python3"
  },
  "language_info": {
   "codemirror_mode": {
    "name": "ipython",
    "version": 3
   },
   "file_extension": ".py",
   "mimetype": "text/x-python",
   "name": "python",
   "nbconvert_exporter": "python",
   "pygments_lexer": "ipython3",
   "version": "3.6.5"
  }
 },
 "nbformat": 4,
 "nbformat_minor": 2
}
