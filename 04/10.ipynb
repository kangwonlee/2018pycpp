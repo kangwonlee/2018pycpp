{
 "cells": [
  {
   "cell_type": "markdown",
   "metadata": {},
   "source": [
    "# State Space Class : Python\n",
    "\n"
   ]
  },
  {
   "cell_type": "markdown",
   "metadata": {},
   "source": [
    "## Discrete Time\n",
    "\n"
   ]
  },
  {
   "cell_type": "markdown",
   "metadata": {},
   "source": [
    "* Let's consider a time-invariant discret time state space representation as follows.\n",
    "\n"
   ]
  },
  {
   "cell_type": "markdown",
   "metadata": {},
   "source": [
    "$$\n",
    "\\begin{align}\n",
    "    \\mathbf{x}_{k+1}&=\\mathbf{Ax}_{k}+\\mathbf{Bu}_{k} \\\\\n",
    "    \\mathbf{y}_{k}&=\\mathbf{Cx}_{k}+\\mathbf{Du}_{k}\n",
    "\\end{align}\n",
    "$$\n",
    "\n"
   ]
  },
  {
   "cell_type": "markdown",
   "metadata": {},
   "source": [
    "* If $\\mathbf{D} = 0$ we can rewrite as follows.\n",
    "\n"
   ]
  },
  {
   "cell_type": "markdown",
   "metadata": {},
   "source": [
    "$$\n",
    "\\begin{align}\n",
    "    \\mathbf{x}_{k+1}&=\\mathbf{Ax}_{k}+\\mathbf{Bu}_{k} \\\\\n",
    "    \\mathbf{y}_{k}&=\\mathbf{Cx}_{k}\n",
    "\\end{align}\n",
    "$$\n",
    "\n"
   ]
  },
  {
   "cell_type": "markdown",
   "metadata": {},
   "source": [
    "* Here, we can think about following analogies.\n",
    "\n"
   ]
  },
  {
   "cell_type": "markdown",
   "metadata": {},
   "source": [
    "|              |        State space        |      Class       |\n",
    "|:------------:|:-------------------------:|:----------------:|\n",
    "| $\\mathbf{x}$ | vector of state variables | member variables |\n",
    "| $\\mathbf{B}$ |       input matrix        |  mutator method  |\n",
    "| $\\mathbf{u}$ | vector of input variables | mutator method argument |\n",
    "| $\\mathbf{C}$ |       output matrix       |  reader method  |\n",
    "| $\\mathbf{y}$ |    measurement vector     | return values of reader method |\n",
    "\n"
   ]
  },
  {
   "cell_type": "markdown",
   "metadata": {},
   "source": [
    "* Let's see if the analogies above works.\n",
    "\n"
   ]
  },
  {
   "cell_type": "code",
   "execution_count": null,
   "metadata": {},
   "outputs": [],
   "source": [
    "import numpy as np\n",
    "\n"
   ]
  },
  {
   "cell_type": "code",
   "execution_count": null,
   "metadata": {},
   "outputs": [],
   "source": [
    "class LTI_DT(object):\n",
    "    \n",
    "    def __init__(self, A, B, C, D, x0=None,):\n",
    "\n",
    "        # Set state space representation\n",
    "        self.A = A\n",
    "        self.B = B\n",
    "        self.C = C\n",
    "        self.D = D\n",
    "\n",
    "        # is A matrix square?\n",
    "        assert A.shape[0] == A.shape[1]\n",
    "        \n",
    "        # number of state variables\n",
    "        self.n = A.shape[0]\n",
    "\n",
    "        # check number of rows of B matrix\n",
    "        assert B.shape[0] == self.n\n",
    "        \n",
    "        # expected size of input\n",
    "        self.m = B.shape[1]\n",
    "\n",
    "        # Initialize state column vector\n",
    "        # https://stackoverflow.com/questions/12575421/convert-a-1d-array-to-a-2d-array-in-numpy\n",
    "        self.x = np.array(x0).reshape((self.n, 1))\n",
    "\n",
    "    def get_y(self, u_array=None):\n",
    "        \"\"\"\n",
    "        y[k] = C x[k] + D u[k]\n",
    "        \"\"\"\n",
    "        result = self.C @ self.x\n",
    "        try:\n",
    "            if u_array is not None:\n",
    "                result += self.D @ u_array.reshape((self.m, 1))\n",
    "        except ValueError as e:\n",
    "            print(f'self.D = \\n{self.D}')\n",
    "            print(f'self.D.shape = \\n{self.D.shape}')\n",
    "            print(f'u_array = \\n{u_array}')\n",
    "            print(f'u_array.shape = \\n{u_array.shape}')\n",
    "            print(f'self.D @ u_array = \\n{self.D @ u_array}')\n",
    "            print(f'(self.D @ u_array).shape = \\n{(self.D @ u_array).shape}')\n",
    "            print(f'result = \\n{result}')\n",
    "            print(f'result.shape = \\n{result.shape}')\n",
    "            raise e\n",
    "            \n",
    "        return result\n",
    "\n",
    "    def get_next_x(self, u_array=None):\n",
    "        \"\"\"\n",
    "        x[k+1] = A x[k] + B u[k]\n",
    "        \"\"\"\n",
    "        next_x = self.A @ self.x\n",
    "        \n",
    "        if u_array is not None:\n",
    "            next_x += self.B @ u_array.reshape((self.m, 1))\n",
    "        \n",
    "        self.x = next_x\n",
    "\n",
    "        "
   ]
  },
  {
   "cell_type": "markdown",
   "metadata": {},
   "source": [
    "* Let's consider one example\n",
    "\n"
   ]
  },
  {
   "cell_type": "code",
   "execution_count": null,
   "metadata": {},
   "outputs": [],
   "source": [
    "# Peng & Chiu, Design of Digital Control Systems, 2000.\n",
    "\n",
    "A = np.array(\n",
    "    [\n",
    "        [0, 1],\n",
    "        [-0.8, 1.8]\n",
    "    ]\n",
    ")\n",
    "\n",
    "B = np.array([[0, 1]]).T\n",
    "\n",
    "C = np.array(\n",
    "    [\n",
    "        [1, 0],\n",
    "        [0, 1],\n",
    "        [-0.5, 1],\n",
    "    ]\n",
    ")\n",
    "\n",
    "D = np.zeros((C.shape[0], B.shape[1]))\n",
    "\n",
    "u_array = np.array([0.15, 0.075, 0.0375, 0.01875])\n",
    "\n"
   ]
  },
  {
   "cell_type": "code",
   "execution_count": null,
   "metadata": {},
   "outputs": [],
   "source": [
    "y_list = []\n",
    "k_list = []\n",
    "x0 = np.array([1, 0.5]).T\n",
    "ss_dt = LTI_DT(A, B, C, D, x0)\n",
    "\n",
    "for k, u in enumerate(u_array):\n",
    "    k_list.append(k)\n",
    "    y_now = ss_dt.get_y(u)\n",
    "    y_list.append(y_now)\n",
    "    ss_dt.get_next_x(u)\n",
    "\n",
    "y_array = np.array(y_list)\n",
    "\n",
    "y_array.squeeze().T\n",
    "\n"
   ]
  },
  {
   "cell_type": "markdown",
   "metadata": {},
   "source": [
    "* Let's think about another example\n",
    "\n"
   ]
  },
  {
   "cell_type": "code",
   "execution_count": null,
   "metadata": {},
   "outputs": [],
   "source": [
    "# https://ccrma.stanford.edu/~jos/fp/State_Space_Simulation_Matlab.html\n",
    "\n",
    "A = np.array(\n",
    "    [\n",
    "        [0, 1],\n",
    "        [-1, 0]\n",
    "    ]\n",
    ")\n",
    "\n",
    "B = np.array([[0, 1]]).T\n",
    "\n",
    "C = np.array(\n",
    "    [\n",
    "        [1, 0],\n",
    "        [0, 1],\n",
    "        [0, 1],\n",
    "    ]\n",
    ")\n",
    "\n",
    "D = np.zeros((C.shape[0], B.shape[1]))\n",
    "\n",
    "u_array = np.zeros((10)).T\n",
    "u_array[0] = 1.0\n",
    "\n"
   ]
  },
  {
   "cell_type": "code",
   "execution_count": null,
   "metadata": {},
   "outputs": [],
   "source": [
    "y_list = []\n",
    "k_list = []\n",
    "x0 = np.array([0, 0.0]).T\n",
    "ss_dt = LTI_DT(A, B, C, D, x0)\n",
    "\n",
    "for k, u in enumerate(u_array):\n",
    "    k_list.append(k)\n",
    "    y_now = ss_dt.get_y(u)\n",
    "    y_list.append(y_now)\n",
    "    ss_dt.get_next_x(u)\n",
    "\n",
    "y_array = np.array(y_list)\n",
    "\n",
    "y_array.squeeze().T\n",
    "\n"
   ]
  },
  {
   "cell_type": "markdown",
   "metadata": {},
   "source": [
    "* For a possible C++ version please see if you can find in another file."
   ]
  },
  {
   "cell_type": "markdown",
   "metadata": {},
   "source": [
    "## Continuous Time"
   ]
  },
  {
   "cell_type": "markdown",
   "metadata": {},
   "source": [
    "* A state space representation may calculate time derivatives of the state vector as follows."
   ]
  },
  {
   "cell_type": "markdown",
   "metadata": {},
   "source": [
    "$$\n",
    "\\begin{align}\n",
    "    \\frac{d}{dt}\\mathbf{x}(t)&=\\mathbf{Ax}(t)+\\mathbf{Bu}(t) \\\\\n",
    "    \\mathbf{y}(t)&=\\mathbf{Cx}(t)+\\mathbf{Du}(t)\n",
    "\\end{align}\n",
    "$$\n",
    "\n"
   ]
  },
  {
   "cell_type": "markdown",
   "metadata": {},
   "source": [
    "* Assume that at time $t_i$ we know the state $\\mathbf{x}(t_i)$ and want to find state $\\mathbf{x}(t_{i+1})$ at time $t_{i+1} = t_i + \\Delta t$"
   ]
  },
  {
   "cell_type": "markdown",
   "metadata": {},
   "source": [
    "* For simplicity, we may apply Euler's method to find $\\mathbf{x}(t_{i+1})$."
   ]
  },
  {
   "cell_type": "markdown",
   "metadata": {},
   "source": [
    "$$\n",
    "    \\mathbf{x}(t_{i+1}) =  \\mathbf{x}(t_{i}) + \\Delta t \\frac{d}{dt}\\mathbf{x}(t_i)\n",
    "$$"
   ]
  },
  {
   "cell_type": "markdown",
   "metadata": {},
   "source": [
    "* Let's implement by inheriting discrete time model."
   ]
  },
  {
   "cell_type": "code",
   "execution_count": null,
   "metadata": {},
   "outputs": [],
   "source": [
    "class LTI_CT(LTI_DT):\n",
    "    def __init__(self, A, B, C, D, delta_t, x0=None, t0=0):\n",
    "        super().__init__(A, B, C, D, x0)\n",
    "        self.delta_t = delta_t\n",
    "        self.t = t0\n",
    "\n",
    "    def get_dx_dt(self, u_t=None):\n",
    "        \"\"\"\n",
    "        dx_dt(t[i]) = A x(t[i]) + B u(t[i])\n",
    "        \"\"\"\n",
    "\n",
    "        dx_dt_now = self.A @ self.x\n",
    "\n",
    "        if u_t is not None:\n",
    "            dx_dt_now += self.B @ u_t.reshape((self.m, 1))\n",
    "\n",
    "        return dx_dt_now\n",
    "\n",
    "    def get_next_x(self, u_t=None):\n",
    "        \"\"\"\n",
    "        Euler method\n",
    "        x(t[i+1]) = x(t[i]) + delta_t * dx_dt(t[i])\n",
    "        \"\"\"\n",
    "\n",
    "        next_x = self.x + self.delta_t * self.get_dx_dt(u_t)\n",
    "\n",
    "        self.x = next_x\n",
    "        self.t += self.delta_t\n",
    "\n"
   ]
  },
  {
   "cell_type": "markdown",
   "metadata": {},
   "source": [
    "* Let's think about following vibration system:\n",
    "\n",
    "$$\n",
    "    \\begin{align}\n",
    "        m \\frac{d^2y(t)}{{dt}^2} &+ c \\frac{dy(t)}{dt} + k y(t) = u(t) \\\\\n",
    "        m \\frac{d^2y(t)}{{dt}^2} &= - k y(t) - c \\frac{dy(t)}{dt} + u(t) \\\\\n",
    "        \\mathbf{x}(t) &= \\left(y(t), \\frac{dy(t)}{dt} \\right)^T \\\\\n",
    "        \\frac{d}{dt}\\mathbf{x}(t) &= \\left(\\frac{dy(t)}{dt} , \\frac{d^2y(t)}{{dt}^2} \\right)^T \\\\\n",
    "        &= \\begin{bmatrix}\n",
    "                0 & 1 \\\\\n",
    "                -\\frac{k}{m} & -\\frac{c}{m} \\\\\n",
    "            \\end{bmatrix}  \\mathbf{x} (t)\n",
    "          + \\begin{bmatrix}\n",
    "                0\\\\\n",
    "                \\frac{1}{m}\\\\\n",
    "            \\end{bmatrix}  u (t)\n",
    "    \\end{align}\n",
    "$$"
   ]
  },
  {
   "cell_type": "code",
   "execution_count": null,
   "metadata": {},
   "outputs": [],
   "source": [
    "m = 1 # kg\n",
    "c = 100 # N / m / s\n",
    "k = 10000 # N / m\n",
    "\n",
    "A = np.array(\n",
    "    [\n",
    "        [0, 1],\n",
    "        [-k/m, -c/m]\n",
    "    ]\n",
    ")\n",
    "\n",
    "B = np.array([[0, 1/m]]).T\n",
    "\n",
    "C = np.array(\n",
    "    [\n",
    "        [1, 0],\n",
    "        [0, 1],\n",
    "    ]\n",
    ")\n",
    "\n",
    "D = np.zeros((C.shape[0], B.shape[1]))\n",
    "\n",
    "w_hz = 1.0\n",
    "\n",
    "t_end_sec = 5 / w_hz\n",
    "delta_t_sec = t_end_sec * 1e-3\n",
    "\n",
    "t_array = np.arange(0, t_end_sec+delta_t_sec*0.5, delta_t_sec)\n",
    "u_array = np.sin((2 * np.pi * w_hz) * t_array)\n",
    "\n"
   ]
  },
  {
   "cell_type": "code",
   "execution_count": null,
   "metadata": {},
   "outputs": [],
   "source": [
    "import matplotlib.pyplot as plt\n",
    "\n",
    "y_list = []\n",
    "t_list = []\n",
    "\n",
    "x0 = np.array([0, 0.0]).T\n",
    "delta_t_sec = 1e-3\n",
    "\n",
    "ss_ct = LTI_CT(A, B, C, D, delta_t_sec, x0)\n",
    "\n",
    "for u in u_array:\n",
    "    t_list.append(ss_ct.t)\n",
    "    y_now = ss_ct.get_y(u)\n",
    "    y_list.append(y_now)\n",
    "    ss_ct.get_next_x(u)\n",
    "\n",
    "y_array = np.array(y_list).squeeze()\n",
    "\n",
    "plt.subplot(2, 1, 1)\n",
    "plt.plot(t_list, y_array[:, 0])\n",
    "plt.grid(True)\n",
    "plt.xlabel('t(sec)')\n",
    "plt.ylabel('y(m)')\n",
    "\n",
    "plt.subplot(2, 1, 2)\n",
    "plt.plot(t_list, y_array[:, 1])\n",
    "plt.grid(True)\n",
    "plt.xlabel('t(sec)')\n",
    "plt.ylabel('dy/dt(m/s)')\n",
    "\n",
    "plt.savefig('lti_ct_ss.svg')\n",
    "\n",
    "# If plot does not show up, please uncomment following lines\n",
    "# import IPython.display as disp\n",
    "# disp.display(disp.SVG('lti_ct_ss.svg'))\n",
    "# https://stackoverflow.com/questions/30334385/display-svg-in-ipython-notebook-from-a-function\n",
    "\n"
   ]
  },
  {
   "cell_type": "markdown",
   "metadata": {},
   "source": [
    "## Exercise"
   ]
  },
  {
   "cell_type": "markdown",
   "metadata": {},
   "source": [
    "### 00 Continuous time version in C++"
   ]
  },
  {
   "cell_type": "markdown",
   "metadata": {},
   "source": [
    "* Try to implement Continuous Time State Space model in C++\n",
    "* Group assignment possible"
   ]
  },
  {
   "cell_type": "code",
   "execution_count": null,
   "metadata": {},
   "outputs": [],
   "source": []
  }
 ],
 "metadata": {
  "kernelspec": {
   "display_name": "Python 3",
   "language": "python",
   "name": "python3"
  },
  "language_info": {
   "codemirror_mode": {
    "name": "ipython",
    "version": 3
   },
   "file_extension": ".py",
   "mimetype": "text/x-python",
   "name": "python",
   "nbconvert_exporter": "python",
   "pygments_lexer": "ipython3",
   "version": "3.6.5"
  }
 },
 "nbformat": 4,
 "nbformat_minor": 2
}
