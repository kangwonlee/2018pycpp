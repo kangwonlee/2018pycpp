{
 "cells": [
  {
   "cell_type": "markdown",
   "metadata": {},
   "source": [
    "# Dataclass"
   ]
  },
  {
   "cell_type": "markdown",
   "metadata": {},
   "source": [
    "* Available in Python 3.7 or later\n",
    "* Classes containing mainly data but not much restrictions [[ref 0](https://realpython.com/python-data-classes)]\n",
    "\n"
   ]
  },
  {
   "cell_type": "markdown",
   "metadata": {},
   "source": [
    "## Bank account example"
   ]
  },
  {
   "cell_type": "markdown",
   "metadata": {},
   "source": [
    "### Regular class"
   ]
  },
  {
   "cell_type": "code",
   "execution_count": null,
   "metadata": {},
   "outputs": [],
   "source": [
    "class BankAccount(object):\n",
    "    def __init__(self):\n",
    "        \"\"\"\n",
    "        Constructor for the BankAccount\n",
    "        Initializes instances\n",
    "        \"\"\"\n",
    "\n",
    "        # Assume the starting balance is zero\n",
    "        self.balance = 0\n",
    "        # Any feature to add?\n",
    "        \n",
    "    def deposit(self, amount):\n",
    "        \"\"\"\n",
    "        This is one of mutators.\n",
    "        \"\"\"\n",
    "\n",
    "        # Changes the balance of the account\n",
    "        self.balance += amount\n",
    "        # Any possible improvements?\n",
    "        \n",
    "        # the amount of transaction\n",
    "        return amount\n",
    "\n",
    "    def withdraw(self, amount):\n",
    "        \"\"\"\n",
    "        This is another mutator.\n",
    "        \"\"\"\n",
    "\n",
    "        # Also changes account balance\n",
    "        self.balance += (-amount)\n",
    "        # Any possible improvements?\n",
    "\n",
    "        # the amount of transaction\n",
    "        return amount\n",
    "\n",
    "    def check_balance(self):\n",
    "        \"\"\"\n",
    "        This is the reader method.\n",
    "        \"\"\"\n",
    "\n",
    "        # Reads the state\n",
    "        return self.balance\n",
    "\n"
   ]
  },
  {
   "cell_type": "code",
   "execution_count": null,
   "metadata": {},
   "outputs": [],
   "source": [
    "account_a = BankAccount()\n",
    "account_b = BankAccount()\n",
    "\n"
   ]
  },
  {
   "cell_type": "code",
   "execution_count": null,
   "metadata": {},
   "outputs": [],
   "source": [
    "def sample_transactions(account_a, account_b):\n",
    "    \n",
    "    print('balance A = ', account_a.check_balance())\n",
    "    print('balance B = ', account_b.check_balance())\n",
    "\n",
    "    print (f'deposit {account_a.deposit(100)} to A')\n",
    "    print (f'deposit {account_b.deposit(200)} to B')\n",
    "\n",
    "    print('balance A = ', account_a.check_balance())\n",
    "    print('balance B = ', account_b.check_balance())\n",
    "\n",
    "    print (f'withdraw {account_a.withdraw(10)} from A')\n",
    "    print (f'withdraw {account_b.withdraw(20)} from B')\n",
    "\n",
    "    print('balance A = ', account_a.check_balance())\n",
    "    print('balance B = ', account_b.check_balance())\n",
    "\n",
    "    print (f'withdraw {account_a.withdraw(100)} from A')\n",
    "    print (f'withdraw {account_b.withdraw(200)} from B')\n",
    "\n",
    "    # This may not be exactly desirable but possible\n",
    "    print('balance A = ', account_a.balance)\n",
    "    print('balance B = ', account_b.check_balance())\n",
    "\n"
   ]
  },
  {
   "cell_type": "code",
   "execution_count": null,
   "metadata": {},
   "outputs": [],
   "source": [
    "sample_transactions(account_a, account_b)\n",
    "\n"
   ]
  },
  {
   "cell_type": "markdown",
   "metadata": {},
   "source": [
    "### Data class"
   ]
  },
  {
   "cell_type": "code",
   "execution_count": null,
   "metadata": {},
   "outputs": [],
   "source": [
    "import dataclasses\n",
    "\n"
   ]
  },
  {
   "cell_type": "code",
   "execution_count": null,
   "metadata": {},
   "outputs": [],
   "source": [
    "@dataclasses.dataclass\n",
    "class BankAccountDC(object):\n",
    "    balance: int\n",
    "        \n",
    "    def deposit(self, amount):\n",
    "        \"\"\"\n",
    "        This is one of mutators.\n",
    "        \"\"\"\n",
    "\n",
    "        # Changes the balance of the account\n",
    "        self.balance += amount\n",
    "        # Any possible improvements?\n",
    "        \n",
    "        # the amount of transaction\n",
    "        return amount\n",
    "\n",
    "    def withdraw(self, amount):\n",
    "        \"\"\"\n",
    "        This is another mutator.\n",
    "        \"\"\"\n",
    "\n",
    "        # Also changes account balance\n",
    "        self.balance += (-amount)\n",
    "        # Any possible improvements?\n",
    "\n",
    "        # the amount of transaction\n",
    "        return amount\n",
    "\n",
    "    def check_balance(self):\n",
    "        \"\"\"\n",
    "        This is the reader method.\n",
    "        \"\"\"\n",
    "\n",
    "        # Reads the state\n",
    "        return self.balance\n",
    "\n"
   ]
  },
  {
   "cell_type": "code",
   "execution_count": null,
   "metadata": {},
   "outputs": [],
   "source": [
    "account_a_dc = BankAccountDC(0)\n",
    "account_b_dc = BankAccountDC(0)\n",
    "\n"
   ]
  },
  {
   "cell_type": "code",
   "execution_count": null,
   "metadata": {},
   "outputs": [],
   "source": [
    "sample_transactions(account_a_dc, account_b_dc)\n",
    "\n"
   ]
  },
  {
   "cell_type": "code",
   "execution_count": null,
   "metadata": {},
   "outputs": [],
   "source": []
  }
 ],
 "metadata": {
  "kernelspec": {
   "display_name": "Python 3",
   "language": "python",
   "name": "python3"
  },
  "language_info": {
   "codemirror_mode": {
    "name": "ipython",
    "version": 3
   },
   "file_extension": ".py",
   "mimetype": "text/x-python",
   "name": "python",
   "nbconvert_exporter": "python",
   "pygments_lexer": "ipython3",
   "version": "3.7.3"
  }
 },
 "nbformat": 4,
 "nbformat_minor": 2
}
