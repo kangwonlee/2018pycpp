{
 "cells": [
  {
   "cell_type": "markdown",
   "metadata": {},
   "source": [
    "# Cython"
   ]
  },
  {
   "cell_type": "markdown",
   "metadata": {},
   "source": [
    "* Cython is one of python's *dialects* to bridge between C and python."
   ]
  },
  {
   "cell_type": "markdown",
   "metadata": {},
   "source": [
    "* Following code block is an [example](https://stackoverflow.com/questions/35656604/running-cython-in-jupyter-ipython) of the `cython` code."
   ]
  },
  {
   "cell_type": "code",
   "execution_count": null,
   "metadata": {},
   "outputs": [],
   "source": [
    "%load_ext Cython\n",
    "# make cython feature avaiable in ipython \n"
   ]
  },
  {
   "cell_type": "code",
   "execution_count": null,
   "metadata": {},
   "outputs": [],
   "source": [
    "%%cython --annotate\n",
    "# with command above, ipython would regard this cell as cython\n",
    "# \"%%\" must be on the first line of the cell\n",
    "# --annotate option would present c code from the cython code\n",
    "\n",
    "# declare a cython function\n",
    "def geo_prog_cython(double alpha, int n):\n",
    "    # this function has two arguments\n",
    "    # alpha is double precision float\n",
    "    # n is an integer (probably 32bit)\n",
    "    \n",
    "    # local variables for this function \n",
    "    # with types and initial values\n",
    "    cdef double current = 1.0\n",
    "    cdef double sum = current\n",
    "    cdef int i\n",
    "    \n",
    "    # accumulation loop\n",
    "    for i in range(n):\n",
    "        # current term of a geometric sequence\n",
    "        current = current * alpha\n",
    "        # accumulation\n",
    "        sum += current\n",
    "\n",
    "    # sum of the geometric sequence    \n",
    "    return sum\n",
    "\n"
   ]
  },
  {
   "cell_type": "code",
   "execution_count": null,
   "metadata": {},
   "outputs": [],
   "source": [
    "%%time\n",
    "# the command above would measure time of this cell\n",
    "\n",
    "geo_prog_cython(0.5, 5)\n",
    "\n"
   ]
  },
  {
   "cell_type": "markdown",
   "metadata": {},
   "source": [
    "* To compare the computation time, let's prepare a python version."
   ]
  },
  {
   "cell_type": "code",
   "execution_count": null,
   "metadata": {},
   "outputs": [],
   "source": [
    "def geo_prog_python(alpha, n):\n",
    "    current = 1.0\n",
    "    sum = current\n",
    "    \n",
    "    for i in range(n):\n",
    "        current = current * alpha\n",
    "        sum += current\n",
    "    return sum\n",
    "\n"
   ]
  },
  {
   "cell_type": "code",
   "execution_count": null,
   "metadata": {},
   "outputs": [],
   "source": [
    "%%time\n",
    "\n",
    "geo_prog_python(0.5, 5)\n",
    "\n"
   ]
  },
  {
   "cell_type": "markdown",
   "metadata": {},
   "source": [
    "## Visualizing"
   ]
  },
  {
   "cell_type": "markdown",
   "metadata": {},
   "source": [
    "* `matplotlib` can visualize results from `cython` functions."
   ]
  },
  {
   "cell_type": "markdown",
   "metadata": {},
   "source": [
    "* Following code presents Euler's method simulation."
   ]
  },
  {
   "cell_type": "code",
   "execution_count": null,
   "metadata": {},
   "outputs": [],
   "source": [
    "%load_ext Cython\n",
    "\n"
   ]
  },
  {
   "cell_type": "code",
   "execution_count": null,
   "metadata": {},
   "outputs": [],
   "source": [
    "%%cython --annotate\n",
    "\n",
    "def diff_eq(xi):\n",
    "    \"\"\"\n",
    "    Differential equation to solve\n",
    "    x' + x = 0\n",
    "    x' = - x\n",
    "    \"\"\"\n",
    "\n",
    "    # dx/dt + x = 0\n",
    "    # return value == result of this function\n",
    "    return -xi\n",
    "\n",
    "\n",
    "def euler_cython():\n",
    "    # a simplified version of Euler's method in cython\n",
    "\n",
    "    # initial values\n",
    "    # start time\n",
    "    cdef double ti = 0.0\n",
    "    # end time\n",
    "    cdef double te = 10.0\n",
    "    # time interval\n",
    "    cdef double delta_t = 1e-3\n",
    "    # inital value\n",
    "    cdef double x0 = 1.0\n",
    "    \n",
    "    # time variable\n",
    "    cdef double t = ti\n",
    "    \n",
    "    # number of time steps\n",
    "    cdef int n = int((te - ti) / delta_t) + 1\n",
    "    # time step\n",
    "    cdef int i = 0\n",
    "    \n",
    "    # https://stackoverflow.com/questions/25974975/cython-c-array-initialization\n",
    "    # simulation time\n",
    "    cdef double result_t[10001]\n",
    "    result_t = [0.0] * 10001\n",
    "    # state variable \n",
    "    cdef double result_x[10001]\n",
    "    result_x = [0.0] * 10001\n",
    "    \n",
    "    # local variable for x'\n",
    "    cdef double dx_dt = 0\n",
    "    \n",
    "    # initial values of time and state\n",
    "    result_t[0] = ti\n",
    "    result_x[0] = x0\n",
    "    \n",
    "    # time step loop\n",
    "    for i in range(1, n):\n",
    "        # slope\n",
    "        dx_dt = diff_eq(result_x[i-1])\n",
    "        # state variable of next time step\n",
    "        result_x[i] = result_x[i-1] + dx_dt * delta_t\n",
    "        # time step\n",
    "        result_t[i] = result_t[i-1] + delta_t\n",
    "\n",
    "    # result of simulation\n",
    "    return result_t, result_x\n",
    "\n"
   ]
  },
  {
   "cell_type": "markdown",
   "metadata": {},
   "source": [
    "* To compare, following cell prepares an equivalent simulation in python."
   ]
  },
  {
   "cell_type": "code",
   "execution_count": null,
   "metadata": {},
   "outputs": [],
   "source": [
    "def diff_eq_python(xi):\n",
    "\n",
    "    # dx/dt + x = 0\n",
    "    return -xi\n",
    "\n",
    "\n",
    "def euler_python():\n",
    "\n",
    "    # initial values\n",
    "    ti = 0.0\n",
    "    te = 10.0\n",
    "    delta_t = 1e-3\n",
    "    x0 = 1.0\n",
    "    \n",
    "    t = ti\n",
    "    \n",
    "    n = int((te - ti) / delta_t) + 1\n",
    "    i = 0\n",
    "    \n",
    "    # prepare for buffers before the loop\n",
    "    result_t = [0.0] * 10001\n",
    "    result_x = [0.0] * 10001\n",
    "    \n",
    "    result_t[0] = ti\n",
    "    result_x[0] = x0\n",
    "    \n",
    "    dx_dt = 0\n",
    "    \n",
    "    # time step loop\n",
    "    for i in range(1, n):\n",
    "        dx_dt = diff_eq_python(result_x[i-1])\n",
    "        result_x[i] = result_x[i-1] + dx_dt * delta_t\n",
    "        result_t[i] = result_t[i-1] + delta_t\n",
    "\n",
    "    return result_t, result_x\n",
    "\n"
   ]
  },
  {
   "cell_type": "code",
   "execution_count": null,
   "metadata": {},
   "outputs": [],
   "source": [
    "%%time\n",
    "# measure time to calculate\n",
    "\n",
    "t, x = euler_cython()\n",
    "\n"
   ]
  },
  {
   "cell_type": "code",
   "execution_count": null,
   "metadata": {},
   "outputs": [],
   "source": [
    "%%time\n",
    "# measure time to calculate\n",
    "\n",
    "t_py, x_py = euler_python()\n",
    "\n"
   ]
  },
  {
   "cell_type": "code",
   "execution_count": null,
   "metadata": {},
   "outputs": [],
   "source": [
    "import pylab as py\n",
    "\n",
    "\n",
    "py.plot(t, x, 'o', label='cython')\n",
    "py.plot(t_py, x_py, '-', label='python')\n",
    "py.grid(True)\n",
    "py.xlabel('t')\n",
    "py.ylabel('y')\n",
    "py.legend(loc=0)\n",
    "py.show()\n",
    "\n"
   ]
  },
  {
   "cell_type": "markdown",
   "metadata": {},
   "source": [
    "## Calling C/C++ functions"
   ]
  },
  {
   "cell_type": "markdown",
   "metadata": {},
   "source": [
    "* Cython can call C/C++ functions as follows.\n",
    "[[ref0](https://cython.readthedocs.io/en/latest/src/userguide/external_C_code.html)]\n",
    ", [[ref1](https://stackoverflow.com/questions/37426534/how-can-i-import-an-external-c-function-into-an-ipython-notebook-using-cython)]\n",
    ", [[ref2](https://stackoverflow.com/questions/19260253/cython-compiling-error-multiple-definition-of-functions)]\n",
    ", [[ref3](https://media.readthedocs.org/pdf/cython/stable/cython.pdf)]\n",
    ", [[ref4](http://www.scipy-lectures.org/advanced/interfacing_with_c/interfacing_with_c.html)]\n",
    " \n",
    " "
   ]
  },
  {
   "cell_type": "markdown",
   "metadata": {},
   "source": [
    "### With `numpy` support"
   ]
  },
  {
   "cell_type": "markdown",
   "metadata": {},
   "source": [
    "* If we need to use matrices and vectors frequently, combining `numpy` and cython may be helpful."
   ]
  },
  {
   "cell_type": "markdown",
   "metadata": {},
   "source": [
    "* Let's take a look at an example of calculating cosine values."
   ]
  },
  {
   "cell_type": "markdown",
   "metadata": {},
   "source": [
    "* Following is file `cos_cython_numpy.h`."
   ]
  },
  {
   "cell_type": "code",
   "execution_count": null,
   "metadata": {},
   "outputs": [],
   "source": [
    "%%writefile cos_cython_numpy.h\n",
    "/*\n",
    "    2.8.5.2. Numpy Support, 2.8.5. Cython, http://www.scipy-lectures.org/advanced/interfacing_with_c/interfacing_with_c.html#id13\n",
    "*/\n",
    "void cos_cython_numpy_c_func(double * in_array, double * out_array, int size);\n",
    "\n"
   ]
  },
  {
   "cell_type": "markdown",
   "metadata": {},
   "source": [
    "* Following is file `cos_cython_numpy.c`."
   ]
  },
  {
   "cell_type": "code",
   "execution_count": null,
   "metadata": {},
   "outputs": [],
   "source": [
    "%%writefile cos_cython_numpy.c\n",
    "/*\n",
    "2.8.5.2. Numpy Support, 2.8.5. Cython, http://www.scipy-lectures.org/advanced/interfacing_with_c/interfacing_with_c.html#id13\n",
    "*/\n",
    "\n",
    "#include <math.h>\n",
    "\n",
    "/*  Compute the cosine of each element in in_array, storing the result in\n",
    " *  out_array. */\n",
    "void cos_cython_numpy_c_func(double * in_array, double * out_array, int size){\n",
    "    int i;\n",
    "    for(i=0;i<size;i++){\n",
    "        out_array[i] = cos(in_array[i]);\n",
    "    }\n",
    "}\n",
    "\n"
   ]
  },
  {
   "cell_type": "markdown",
   "metadata": {},
   "source": [
    "* Following is file `_cos_cython_numpy.pyx`."
   ]
  },
  {
   "cell_type": "code",
   "execution_count": null,
   "metadata": {},
   "outputs": [],
   "source": [
    "%%writefile _cos_cython_numpy.pyx\n",
    "\"\"\" Example of wrapping a C function that takes C double arrays as input using\n",
    "    the Numpy declarations from Cython \n",
    "    Valentin Haenel, 2.8.5.2. Numpy Support, 2.8.5. Cython, Scipy Lectures, Oct 18 2016, [Online] \n",
    "        Available: http://www.scipy-lectures.org/advanced/interfacing_with_c/interfacing_with_c.html#id13 \n",
    "\"\"\"\n",
    "\n",
    "\"\"\" Example of wrapping a C function that takes C double arrays as input using\n",
    "    the Numpy declarations from Cython \"\"\"\n",
    "\n",
    "# cimport the Cython declarations for numpy\n",
    "cimport numpy as np\n",
    "\n",
    "# if you want to use the Numpy-C-API from Cython\n",
    "# (not strictly necessary for this example, but good practice)\n",
    "np.import_array()\n",
    "\n",
    "# cdefine the signature of our c function\n",
    "cdef extern from \"cos_cython_numpy.h\":\n",
    "    void cos_cython_numpy_c_func (double * in_array, double * out_array, int size)\n",
    "\n",
    "# create the wrapper code, with numpy type annotations\n",
    "def cos_cython_numpy_py_func(np.ndarray[double, ndim=1, mode=\"c\"] in_array not None,\n",
    "                     np.ndarray[double, ndim=1, mode=\"c\"] out_array not None):\n",
    "    cos_cython_numpy_c_func(<double*> np.PyArray_DATA(in_array),\n",
    "                <double*> np.PyArray_DATA(out_array),\n",
    "                in_array.shape[0])\n",
    "\n"
   ]
  },
  {
   "cell_type": "markdown",
   "metadata": {},
   "source": [
    "* Following is file `setup.py`.  Running this `.py` file would build the C function wrapper."
   ]
  },
  {
   "cell_type": "code",
   "execution_count": null,
   "metadata": {},
   "outputs": [],
   "source": [
    "%%writefile setup.py\n",
    "\n",
    "# Valentin Haenel, 2.8. Interfacing with C,  Scipy Lectures, Oct 18 2016, [Online]\n",
    "#   Available: http://www.scipy-lectures.org/advanced/interfacing_with_c/interfacing_with_c.html\n",
    "\n",
    "from distutils.core import setup, Extension\n",
    "# distutils : building and installing modules \n",
    "# https://docs.python.org/3/library/distutils.html\n",
    "\n",
    "import numpy\n",
    "from Cython.Distutils import build_ext\n",
    "\n",
    "print('for NumPy Support of Cython '.ljust(60, '#'))\n",
    "setup(cmdclass={'build_ext': build_ext},\n",
    "      ext_modules=[Extension(\"cos_cython_numpy\",\n",
    "                             sources=['_cos_cython_numpy.pyx', \"cos_cython_numpy.c\"],\n",
    "                             include_dirs=[numpy.get_include()])],\n",
    "      )\n",
    "\n"
   ]
  },
  {
   "cell_type": "code",
   "execution_count": null,
   "metadata": {
    "scrolled": true
   },
   "outputs": [],
   "source": [
    "%%bash\n",
    "python setup.py build_ext --inplace\n",
    "\n"
   ]
  },
  {
   "cell_type": "markdown",
   "metadata": {},
   "source": [
    "* Now let's import the module with c wrapper function"
   ]
  },
  {
   "cell_type": "code",
   "execution_count": null,
   "metadata": {
    "scrolled": true
   },
   "outputs": [],
   "source": [
    "# the cython module including C function\n",
    "import cos_cython_numpy\n",
    "\n",
    "# to visualize the result\n",
    "import pylab as py\n",
    "\n",
    "# allocate arrays externally\n",
    "x = py.arange(0, 2 * py.pi, 0.1)\n",
    "y = py.empty_like(x)\n",
    "\n",
    "# c wrapper function\n",
    "cos_cython_numpy.cos_cython_numpy_py_func(x, y)\n",
    "\n",
    "# plot the result\n",
    "py.plot(x, py.cos(x), 'o', label='cos numpy')\n",
    "py.plot(x, y, '.', label='cos cython')\n",
    "py.show()\n",
    "\n"
   ]
  },
  {
   "cell_type": "markdown",
   "metadata": {},
   "source": [
    "* Cleanup"
   ]
  },
  {
   "cell_type": "code",
   "execution_count": null,
   "metadata": {},
   "outputs": [],
   "source": [
    "%%bash\n",
    "rm cos_cython_numpy.h\n",
    "rm cos_cython_numpy.c\n",
    "rm _cos_cython_numpy.c\n",
    "rm _cos_cython_numpy.pyx\n",
    "rm setup.py\n",
    "\n"
   ]
  },
  {
   "cell_type": "markdown",
   "metadata": {},
   "source": [
    "* Check results"
   ]
  },
  {
   "cell_type": "code",
   "execution_count": null,
   "metadata": {},
   "outputs": [],
   "source": [
    "assert (y == py.cos(x)).all(), \"Cython Result != Pylab Expected\"\n",
    "\n"
   ]
  },
  {
   "cell_type": "markdown",
   "metadata": {},
   "source": [
    "### Revisiting Euler's method"
   ]
  },
  {
   "cell_type": "markdown",
   "metadata": {},
   "source": [
    "* Let's try wrapping a C/C++ version of the Euler's method above."
   ]
  },
  {
   "cell_type": "markdown",
   "metadata": {},
   "source": [
    "* Following is file `euler_cython_numpy.h`."
   ]
  },
  {
   "cell_type": "code",
   "execution_count": null,
   "metadata": {},
   "outputs": [],
   "source": [
    "%%writefile euler_cython_numpy.h\n",
    "/*\n",
    "    2.8.5.2. Numpy Support, 2.8.5. Cython, http://www.scipy-lectures.org/advanced/interfacing_with_c/interfacing_with_c.html#id13\n",
    "*/\n",
    "void euler_cython_c_function(const double * result_t, const double * result_x, const int size);\n",
    "\n"
   ]
  },
  {
   "cell_type": "markdown",
   "metadata": {},
   "source": [
    "* Following is file `euler_cython_numpy.c`."
   ]
  },
  {
   "cell_type": "code",
   "execution_count": null,
   "metadata": {},
   "outputs": [],
   "source": [
    "%%writefile euler_cython_numpy.c\n",
    "#include    <assert.h>\n",
    "\n",
    "\n",
    "double diff_eq(double xi){\n",
    "    return -xi;\n",
    "}\n",
    "\n",
    "\n",
    "void euler_cython_c_function(double * result_t, double * result_x, const int size){\n",
    "    // Simulation start and end time\n",
    "    double ti = 0.0;\n",
    "    double te = 10.0;\n",
    "\n",
    "    double delta_t = 1e-3;\n",
    "\n",
    "    // Initial state\n",
    "    double x0 = 1.0;\n",
    "    double dx_dt = 0.0;\n",
    "    \n",
    "    int i=0;\n",
    "    \n",
    "    // Length of simulation\n",
    "    const int n = (int) ((te - ti) / delta_t) + 1;\n",
    "\n",
    "    // Check array size\n",
    "    assert(size > n);\n",
    "\n",
    "    // Set initial value    \n",
    "    result_t[0] = ti;\n",
    "    result_x[0] = x0;\n",
    "    \n",
    "    // Time step loop\n",
    "    // Watch the last value of i here\n",
    "    for (i=0; (n-1)>i; ++i){\n",
    "        // Calculate derivative\n",
    "        dx_dt = diff_eq(result_x[i]);\n",
    "        // Calculate state value of the next step\n",
    "        result_x[i+1] = result_x[i] + dx_dt * delta_t;\n",
    "        // Calculate time of next step\n",
    "        result_t[i+1] = result_t[i] + delta_t;\n",
    "    }\n",
    "\n",
    "    return;\n",
    "}\n",
    "\n"
   ]
  },
  {
   "cell_type": "markdown",
   "metadata": {},
   "source": [
    "* Following is file `_euler_cython_numpy.pyx`."
   ]
  },
  {
   "cell_type": "code",
   "execution_count": null,
   "metadata": {},
   "outputs": [],
   "source": [
    "%%writefile _euler_cython_numpy.pyx\n",
    "# cimport the Cython declarations for numpy\n",
    "cimport numpy as np\n",
    "\n",
    "# if you want to use the Numpy-C-API from Cython\n",
    "# (not strictly necessary for this example, but good practice)\n",
    "np.import_array()\n",
    "\n",
    "# cdefine the signature of our c function\n",
    "cdef extern from \"euler_cython_numpy.h\":\n",
    "    void euler_cython_c_function (double * result_t, double * result_x, int size)\n",
    "\n",
    "# create the wrapper code, with numpy type annotations\n",
    "def euler_cython_numpy_py_func(np.ndarray[double, ndim=1, mode=\"c\"] in_array not None,\n",
    "                     np.ndarray[double, ndim=1, mode=\"c\"] out_array not None):\n",
    "    euler_cython_c_function(<double*> np.PyArray_DATA(in_array),\n",
    "                <double*> np.PyArray_DATA(out_array),\n",
    "                in_array.shape[0])\n",
    "\n"
   ]
  },
  {
   "cell_type": "markdown",
   "metadata": {},
   "source": [
    "* Following is file `setup.py`."
   ]
  },
  {
   "cell_type": "code",
   "execution_count": null,
   "metadata": {},
   "outputs": [],
   "source": [
    "%%writefile setup.py\n",
    "\n",
    "# Valentin Haenel, 2.8. Interfacing with C,  Scipy Lectures, Oct 18 2016, [Online]\n",
    "#   Available: http://www.scipy-lectures.org/advanced/interfacing_with_c/interfacing_with_c.html\n",
    "\n",
    "from distutils.core import setup, Extension\n",
    "\n",
    "import numpy\n",
    "from Cython.Distutils import build_ext\n",
    "\n",
    "print('for NumPy Support of Cython '.ljust(60, '#'))\n",
    "setup(cmdclass={'build_ext': build_ext},\n",
    "      ext_modules=[\n",
    "                  Extension(\n",
    "                        \"euler_cython_numpy\", \n",
    "                        sources=['_euler_cython_numpy.pyx', \"euler_cython_numpy.c\"], \n",
    "                        include_dirs=[numpy.get_include()]\n",
    "                  ),\n",
    "            ],\n",
    "      )\n",
    "\n"
   ]
  },
  {
   "cell_type": "code",
   "execution_count": null,
   "metadata": {
    "scrolled": true
   },
   "outputs": [],
   "source": [
    "%%bash\n",
    "python setup.py build_ext --inplace\n",
    "\n"
   ]
  },
  {
   "cell_type": "markdown",
   "metadata": {},
   "source": [
    "* Let's import the cython c wrap module and run simulation."
   ]
  },
  {
   "cell_type": "code",
   "execution_count": null,
   "metadata": {
    "scrolled": true
   },
   "outputs": [],
   "source": [
    "import pylab as py\n",
    "import euler_cython_numpy\n",
    "\n",
    "# As in cosine example, allocate the memory externally.\n",
    "t_cy_wrap = py.zeros(10001)\n",
    "x_cy_wrap = py.empty_like(t_cy_wrap)\n",
    "\n",
    "# call the simulation function\n",
    "euler_cython_numpy.euler_cython_numpy_py_func(t_cy_wrap, x_cy_wrap)\n",
    "\n",
    "# plot result from python simulation\n",
    "py.plot(t_py, x_py, 'o', label='python')\n",
    "\n",
    "# plot result from cython c wrapper function\n",
    "py.plot(t_cy_wrap, x_py, '.', label='cython wrap')\n",
    "\n",
    "py.legend(loc=0)\n",
    "py.show()\n",
    "\n"
   ]
  },
  {
   "cell_type": "markdown",
   "metadata": {},
   "source": [
    "* Let's compare the calculation time again."
   ]
  },
  {
   "cell_type": "code",
   "execution_count": null,
   "metadata": {},
   "outputs": [],
   "source": [
    "%%time\n",
    "# cython wrap with memory allocation\n",
    "\n",
    "t_cy_wrap = py.zeros(10001)\n",
    "x_cy_wrap = py.empty_like(t_cy_wrap)\n",
    "\n",
    "euler_cython_numpy.euler_cython_numpy_py_func(t_cy_wrap, x_cy_wrap)\n",
    "\n"
   ]
  },
  {
   "cell_type": "code",
   "execution_count": null,
   "metadata": {},
   "outputs": [],
   "source": [
    "t_cy_wrap = py.zeros(10001)\n",
    "x_cy_wrap = py.empty_like(t_cy_wrap)\n",
    "\n"
   ]
  },
  {
   "cell_type": "code",
   "execution_count": null,
   "metadata": {},
   "outputs": [],
   "source": [
    "%%time\n",
    "# cython wrap without memory allocation\n",
    "\n",
    "euler_cython_numpy.euler_cython_numpy_py_func(t_cy_wrap, x_cy_wrap)\n",
    "\n"
   ]
  },
  {
   "cell_type": "code",
   "execution_count": null,
   "metadata": {},
   "outputs": [],
   "source": [
    "%%time\n",
    "# cython\n",
    "\n",
    "t, x = euler_cython()\n",
    "\n"
   ]
  },
  {
   "cell_type": "code",
   "execution_count": null,
   "metadata": {},
   "outputs": [],
   "source": [
    "%%time\n",
    "# python\n",
    "\n",
    "t_py, x_py = euler_python()\n",
    "\n"
   ]
  },
  {
   "cell_type": "markdown",
   "metadata": {},
   "source": [
    "* Clean up the files."
   ]
  },
  {
   "cell_type": "code",
   "execution_count": null,
   "metadata": {},
   "outputs": [],
   "source": [
    "%%bash\n",
    "rm euler_cython_numpy.h\n",
    "rm euler_cython_numpy.c\n",
    "rm _euler_cython_numpy.c\n",
    "rm _euler_cython_numpy.pyx\n",
    "rm setup.py\n",
    "\n"
   ]
  },
  {
   "cell_type": "markdown",
   "metadata": {},
   "source": [
    "* Check array type and dimension size"
   ]
  },
  {
   "cell_type": "code",
   "execution_count": null,
   "metadata": {},
   "outputs": [],
   "source": [
    "assert isinstance(t_cy_wrap, py.ndarray), \"t is not a numpy.ndarray\"\n",
    "assert isinstance(x_cy_wrap, py.ndarray), \"x is not a numpy.ndarray\"\n",
    "\n",
    "# for now expect 1-dimensional arrays\n",
    "assert 1 == t_cy_wrap.ndim, \"t dimension > 1\"\n",
    "assert 1 == x_cy_wrap.ndim, \"x dimension > 1\"\n",
    "\n"
   ]
  },
  {
   "cell_type": "markdown",
   "metadata": {},
   "source": [
    "* Check each element of the results"
   ]
  },
  {
   "cell_type": "code",
   "execution_count": null,
   "metadata": {},
   "outputs": [],
   "source": [
    "for i in range(len(t_py)):\n",
    "    assert t_cy_wrap[i] == t_py[i], f\"t[{i}] Cython Result != Expected\\n\"\n",
    "    assert x_cy_wrap[i] == x_py[i], f\"x[{i}] Cython Result != Expected\\n\"\n",
    "\n"
   ]
  },
  {
   "cell_type": "code",
   "execution_count": null,
   "metadata": {},
   "outputs": [],
   "source": []
  }
 ],
 "metadata": {
  "kernelspec": {
   "display_name": "Python 3",
   "language": "python",
   "name": "python3"
  },
  "language_info": {
   "codemirror_mode": {
    "name": "ipython",
    "version": 3
   },
   "file_extension": ".py",
   "mimetype": "text/x-python",
   "name": "python",
   "nbconvert_exporter": "python",
   "pygments_lexer": "ipython3",
   "version": "3.6.5"
  }
 },
 "nbformat": 4,
 "nbformat_minor": 2
}
