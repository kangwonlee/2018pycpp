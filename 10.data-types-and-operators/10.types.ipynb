{
 "cells": [
  {
   "cell_type": "markdown",
   "metadata": {
    "id": "view-in-github",
    "colab_type": "text"
   },
   "source": [
    "<a href=\"https://colab.research.google.com/github/kangwonlee/2018pycpp/blob/colab-buttons/10.data-types-and-operators/10.types.ipynb\" target=\"_parent\"><img src=\"https://colab.research.google.com/assets/colab-badge.svg\" alt=\"Open In Colab\"/></a>\n"
   ]
  },
  {
   "cell_type": "markdown",
   "metadata": {},
   "source": [
    "# Representing Data in Digital computers\n",
    "\n"
   ]
  },
  {
   "cell_type": "markdown",
   "metadata": {},
   "source": [
    "## Natural numbers\n",
    "\n"
   ]
  },
  {
   "cell_type": "markdown",
   "metadata": {},
   "source": [
    "* Basically, computers can handle 0 or 1 only.\n",
    "\n"
   ]
  },
  {
   "cell_type": "markdown",
   "metadata": {},
   "source": [
    "* Here, to **handle** means to store in memory, to operate, and to output.\n",
    "\n"
   ]
  },
  {
   "cell_type": "markdown",
   "metadata": {},
   "source": [
    "* We call the smallest unit that can handle 0 or 1 a **bit**.\n",
    "\n"
   ]
  },
  {
   "cell_type": "markdown",
   "metadata": {},
   "source": [
    "* When you hear about a personal computer is for example 32 bit or 64 bit, please recall this.\n",
    "\n"
   ]
  },
  {
   "cell_type": "markdown",
   "metadata": {},
   "source": [
    "* It means the number of bits that the computer can process at once.\n",
    "\n"
   ]
  },
  {
   "cell_type": "markdown",
   "metadata": {},
   "source": [
    "* To handle larger (natural) numbers, we need more number of bits.\n",
    "\n"
   ]
  },
  {
   "cell_type": "markdown",
   "metadata": {},
   "source": [
    "* Following table shows decimal numbers in binary and hexadecimal format.\n",
    "\n"
   ]
  },
  {
   "cell_type": "code",
   "execution_count": null,
   "metadata": {},
   "outputs": [],
   "source": [
    "import numpy as np\n",
    "import pandas as pd\n",
    "\n",
    "\n",
    "# make a table of deciman, binary, and hexademcial numbers\n",
    "\n",
    "# decimal\n",
    "decimal = pd.Series(\n",
    "    list(range(0,20+1)) +\n",
    "    [\n",
    "      2**7-1, 2**7, 2**8-1, 2**8,\n",
    "      2**15-1, 2**15, 2**16-1, 2**16,\n",
    "      2**32-1, 2**32,\n",
    "      2**63-1, 2**63, 2**64-1, 2**64,\n",
    "    ], name=\"Decimal\"\n",
    ")\n",
    "\n",
    "# hexadecimal\n",
    "hexadecimal = decimal.apply(hex)\n",
    "\n",
    "# number of Bytes\n",
    "n_bytes = np.ceil((hexadecimal.str.len() - 2).div(2)).astype(int)\n",
    "\n",
    "# binary\n",
    "binary = decimal.apply(bin)\n",
    "\n",
    "# number of bits\n",
    "n_bits = (binary.str.len() - 2).astype(int)\n",
    "\n",
    "# if binary number too long, set \"...\"\n",
    "binary[n_bits.index[n_bits>20]] = \"...\"\n",
    "\n",
    "# Make a Pandas DataFrame\n",
    "df_dec_bin_hex = pd.DataFrame(\n",
    "    {\n",
    "        \"Decimal\":decimal,\n",
    "        \"Binary\":binary,\n",
    "        \"no. bits\":n_bits,\n",
    "        \"no. bytes\":n_bytes,\n",
    "        \"Hexadecimal\":hexadecimal\n",
    "     },\n",
    ")\n",
    "\n",
    "df_dec_bin_hex.set_index(\"Decimal\", inplace=True)\n",
    "\n",
    "# present the table\n",
    "df_dec_bin_hex\n",
    "\n"
   ]
  },
  {
   "cell_type": "markdown",
   "metadata": {},
   "source": [
    "* We can see that one hexadecimal digit represents four binary digits.\n",
    "\n"
   ]
  },
  {
   "cell_type": "markdown",
   "metadata": {},
   "source": [
    "* Because of this, frequently we group four digits of a binary number; for example `1101 0101`.\n",
    "\n"
   ]
  },
  {
   "cell_type": "markdown",
   "metadata": {},
   "source": [
    "* We call a collection of 8 bits a **byte**.\n",
    "\n"
   ]
  },
  {
   "cell_type": "markdown",
   "metadata": {},
   "source": [
    "* Q: One digit of which base would represent three binary digits?\n",
    "\n"
   ]
  },
  {
   "cell_type": "markdown",
   "metadata": {},
   "source": [
    "## Negative integers\n",
    "\n"
   ]
  },
  {
   "cell_type": "markdown",
   "metadata": {},
   "source": [
    "* Example above implies that computers are designed to handle 0 and positive integers.\n",
    "\n"
   ]
  },
  {
   "cell_type": "markdown",
   "metadata": {},
   "source": [
    "* To represent and handle negative integers, computers convert a negative integer to **2's complement**.\n",
    "\n"
   ]
  },
  {
   "cell_type": "markdown",
   "metadata": {},
   "source": [
    "### An 8 bit example\n",
    "\n"
   ]
  },
  {
   "cell_type": "markdown",
   "metadata": {},
   "source": [
    "* To simplify, we will look at the 8bit case first.\n",
    "\n"
   ]
  },
  {
   "cell_type": "markdown",
   "metadata": {},
   "source": [
    "* Positive integer 7 is 00000111 in an 8 bit binary number.\n",
    "\n"
   ]
  },
  {
   "cell_type": "markdown",
   "metadata": {},
   "source": [
    "* To find 2's complement of binary number 00000111, change 0's to 1's and add 1.\n",
    "\n"
   ]
  },
  {
   "cell_type": "markdown",
   "metadata": {},
   "source": [
    "* 2's complement of binary number 00000111 would be 11111001.\n",
    "\n"
   ]
  },
  {
   "cell_type": "markdown",
   "metadata": {},
   "source": [
    "* Adding these two numbers would be follows.\n",
    "\n"
   ]
  },
  {
   "cell_type": "code",
   "execution_count": null,
   "metadata": {},
   "outputs": [],
   "source": [
    "# convert strings to integers. \n",
    "# regard the base is two == binary numbers\n",
    "a = int('00000111', base=2)\n",
    "b = int('11111001', base=2)\n",
    "\n",
    "# see help(int) for more information\n",
    "\n",
    "# add two integers above\n",
    "c = a+b\n",
    "\n",
    "# print the sum c as a binary number\n",
    "print(f'c = {c:b}(binary)')\n",
    "\n",
    "# as a decimal number\n",
    "print(f'c = {c:d}(decimal)')\n",
    "\n",
    "# as a hexadecimal number\n",
    "print(f'c = {c:x}(hexadecimal)')\n",
    "\n"
   ]
  },
  {
   "cell_type": "markdown",
   "metadata": {},
   "source": [
    "* The result above is 256 in decimal, however, in binary `1 0000 0000` whose lower 8 bits are all zeros. In case of the 8 bit operation, we regard this result as zero.\n",
    "\n"
   ]
  },
  {
   "cell_type": "markdown",
   "metadata": {},
   "source": [
    "* Following table compares 8bit bit patterns vs `unsigned int8_t` and `signed int8_t` values.\n",
    "\n"
   ]
  },
  {
   "cell_type": "code",
   "source": [
    "import pandas as pd\n",
    "\n",
    "\n",
    "def bit_unit_sint_table(n:int):\n",
    "  \"\"\"\n",
    "  make a table of unsigned or signed integers\n",
    "  \"\"\"\n",
    "  uint = [0, 1, 2,] + list(range(2**(n-1)-2, 2**(n-1)+3)) + [(2**n-2), (2**n-1)]\n",
    "\n",
    "  bit_key = f\"{n} bit bit pattern\"\n",
    "  uint_key = f\"unsigned int{n}_t\"\n",
    "  sint_key = f\"signed int{n}_t\"\n",
    "\n",
    "\n",
    "  df_bit = pd.DataFrame(\n",
    "    {\n",
    "      bit_key: list(map(lambda i: f\"{i:0{n}b}\", uint)),\n",
    "      uint_key: uint,\n",
    "      sint_key: list(map(lambda ui: ui if ui < 2**(n-1) else (ui - 2**n), uint)),\n",
    "    }\n",
    "  )\n",
    "\n",
    "  elipsis = pd.DataFrame({\n",
    "        bit_key: [\"...\"],\n",
    "        uint_key: [\"...\"],\n",
    "        sint_key: [\"...\"],\n",
    "      })\n",
    "\n",
    "  df_bit = pd.concat([\n",
    "      df_bit.loc[:2,:],\n",
    "      elipsis,\n",
    "      df_bit.loc[3:7,:],\n",
    "      elipsis,\n",
    "      df_bit.loc[8:,:],\n",
    "  ], axis=0)\n",
    "\n",
    "  df_bit.set_index(bit_key, inplace=True)\n",
    "  return df_bit\n",
    "\n"
   ],
   "metadata": {},
   "execution_count": null,
   "outputs": []
  },
  {
   "cell_type": "code",
   "execution_count": null,
   "metadata": {},
   "outputs": [],
   "source": [
    "# number of binary digits\n",
    "n = 8\n",
    "\n",
    "# present the table of unsigned or signed integers\n",
    "bit_unit_sint_table(n)\n",
    "\n"
   ]
  },
  {
   "cell_type": "markdown",
   "metadata": {},
   "source": [
    "### A 16 bit example\n",
    "\n"
   ]
  },
  {
   "cell_type": "markdown",
   "metadata": {},
   "source": [
    "* Following example shows a 16bit example.\n",
    "\n"
   ]
  },
  {
   "cell_type": "code",
   "execution_count": null,
   "metadata": {},
   "outputs": [],
   "source": [
    "# Repeating the above example in 16bits\n",
    "a = int('0000''0000''0000''0111', base=2)\n",
    "b = int('1111''1111''1111''1001', base=2)\n",
    "\n",
    "c = a+b\n",
    "print(f'c = {c:b}(binary)')\n",
    "print(f'c = {c:d}(decimal)')\n",
    "print(f'c = {c:x}(hexadecimal)')\n",
    "\n"
   ]
  },
  {
   "cell_type": "markdown",
   "metadata": {},
   "source": [
    "* The result above is 65536 in decimal, however, in binary `1 0000 0000 0000 0000` whose lower 16 bits are all zeros.\n",
    "\n"
   ]
  },
  {
   "cell_type": "markdown",
   "metadata": {},
   "source": [
    "* Following table compares 16bit bit patterns vs `unsigned int16_t` and `signed int16_t` values.\n",
    "\n"
   ]
  },
  {
   "cell_type": "code",
   "execution_count": null,
   "metadata": {},
   "outputs": [],
   "source": [
    "# number of binary digits\n",
    "n = 16\n",
    "\n",
    "# present the table of unsigned or signed integers\n",
    "bit_unit_sint_table(n)\n",
    "\n"
   ]
  },
  {
   "cell_type": "markdown",
   "metadata": {},
   "source": [
    "### Summary\n",
    "\n"
   ]
  },
  {
   "cell_type": "markdown",
   "metadata": {},
   "source": [
    "* Computers handle negative intergers as 2's complementary, which we can find by exchanging 0's and 1's of the binary representation of the integer's absolute value and then adding one.\n",
    "\n"
   ]
  },
  {
   "cell_type": "markdown",
   "metadata": {},
   "source": [
    "## Real numbers\n",
    "\n"
   ]
  },
  {
   "cell_type": "markdown",
   "metadata": {},
   "source": [
    "### Fixed point\n",
    "\n"
   ]
  },
  {
   "cell_type": "markdown",
   "metadata": {},
   "source": [
    "* We can represent a number in an integer and multiply a fixed number.\n",
    "\n"
   ]
  },
  {
   "cell_type": "markdown",
   "metadata": {},
   "source": [
    "* For example, we can indicate all lengths in cm units and multipy 0.01 to find values in m units. \n",
    "\n"
   ]
  },
  {
   "cell_type": "markdown",
   "metadata": {},
   "source": [
    "* However, in this way, it may not be easy to indicate in mm units.\n",
    "\n"
   ]
  },
  {
   "cell_type": "markdown",
   "metadata": {},
   "source": [
    "### Floating point\n",
    "\n"
   ]
  },
  {
   "cell_type": "markdown",
   "metadata": {},
   "source": [
    "* In short, we can also represent a real number using significand and exponents.\n",
    "\n"
   ]
  },
  {
   "cell_type": "markdown",
   "metadata": {},
   "source": [
    "* For example, $2.3456 \\times 10^0$ m would be $2.3456 \\times 10^2$ in cm, and $2.3456 \\times 10^3$ in mm.\n",
    "\n"
   ]
  },
  {
   "cell_type": "markdown",
   "metadata": {},
   "source": [
    "* An engineering calculator may indicate $2.3456 \\times 10^3$ as `2.3456E3`. Here, we can see that `2.3456` is the significand (also mantissa, coefficient, argument or fraction) and `3` is the exponent.\n",
    "\n"
   ]
  },
  {
   "cell_type": "markdown",
   "metadata": {},
   "source": [
    "* Even if the sigtificand does not change, when the exponent changes, the location of the decimal point changes.\n",
    "\n"
   ]
  },
  {
   "cell_type": "markdown",
   "metadata": {},
   "source": [
    "* On the contrary, $2.3456 \\times 10^0$ mm would be $2.3456 \\times 10^{-1}$ in cm, and $2.3456 \\times 10^{-3}$ in m.\n",
    "\n"
   ]
  },
  {
   "cell_type": "markdown",
   "metadata": {},
   "source": [
    "* Computers store in binary numbers. For more informaiton, please refer to [IEEE 754, Wikipedia](https://en.wikipedia.org/wiki/IEEE_754).\n",
    "\n"
   ]
  },
  {
   "cell_type": "markdown",
   "metadata": {},
   "source": [
    "* Usually we use 4Byte (32bit) single precision or 8Byte (64bit) double precision, which includes $\\pm$, exponent, and significand.\n",
    "\n"
   ]
  },
  {
   "cell_type": "markdown",
   "metadata": {},
   "source": [
    "* Following table shows the breakout of 32 bits of single precision.  Here, `e` and `s` indicate exponent and sigdificand, respectively.\n",
    "\n"
   ]
  },
  {
   "cell_type": "code",
   "execution_count": null,
   "metadata": {},
   "outputs": [],
   "source": [
    "import pandas as pd\n",
    "\n",
    "\n",
    "pd.set_option(\"display.max_columns\", 36)\n",
    "\n",
    "def float_table(n:int, ne:int) -> pd.DataFrame:\n",
    "    df_float = pd.DataFrame(\n",
    "        ['±'] + ['e'] * ne + ['s'] * (n-ne-1),\n",
    "        index=range(n-1, 0-1, -1)\n",
    "    ).T\n",
    "\n",
    "    df_float.set_index(31, inplace=True)\n",
    "\n",
    "    return df_float\n",
    "\n"
   ]
  },
  {
   "cell_type": "code",
   "source": [
    "n = 32    # number of bits\n",
    "ne = 8    # number of exponent bits\n",
    "\n",
    "float_table(32, 8)\n",
    "\n"
   ],
   "metadata": {},
   "execution_count": null,
   "outputs": []
  },
  {
   "cell_type": "markdown",
   "metadata": {},
   "source": [
    "* Please note that the exponent value $0$ means $2^{-127}$ and $2^{8}-1=255$ means $2^{128}$.\n",
    "\n"
   ]
  },
  {
   "cell_type": "markdown",
   "metadata": {},
   "source": [
    "* Following table shows the breakout of 64 bits of double precision.\n",
    "\n"
   ]
  },
  {
   "cell_type": "code",
   "execution_count": null,
   "metadata": {},
   "outputs": [],
   "source": [
    "n = 64    # number of bits\n",
    "ne = 11   # number of exponent bits\n",
    "\n",
    "float_table(64, 11)\n",
    "\n"
   ]
  },
  {
   "cell_type": "markdown",
   "metadata": {},
   "source": [
    "* Please note that the exponent value $0$ means $2^{-1023}$ and $2^{11}-1=2047$ means $2^{1024}$.\n",
    "\n"
   ]
  },
  {
   "cell_type": "markdown",
   "metadata": {},
   "source": [
    "## Complex numbers\n",
    "\n"
   ]
  },
  {
   "cell_type": "markdown",
   "metadata": {},
   "source": [
    "* Usually two real numbers; respectively for real and imaginary parts. [[ref](https://en.cppreference.com/w/cpp/numeric/complex)]\n",
    "\n"
   ]
  },
  {
   "cell_type": "code",
   "execution_count": null,
   "metadata": {},
   "outputs": [],
   "source": [
    "import IPython.display as disp\n",
    "import pylab as py\n",
    "\n",
    "z1 = 1j * 1j\n",
    "\n",
    "disp.display(disp.Latex(f'$i \\\\times i = {z1}$'))\n",
    "\n",
    "\n",
    "z2 = 1j ** 2\n",
    "\n",
    "disp.display(disp.Latex(f'$i^2  = {z2}$'))\n",
    "\n",
    "\n",
    "pi = py.arccos(-1)\n",
    "z3 = py.exp(1j * pi)\n",
    "\n",
    "disp.display(disp.Latex(r'$e^{j\\pi}  = '+f'{z3}$'))\n",
    "\n",
    "z4 = 1 + 2j\n",
    "z5 = 1 - 2j\n",
    "\n",
    "disp.display(disp.Latex(f'${z4}\\\\times{z5} = {z4 * z5}$'))\n",
    "\n"
   ]
  },
  {
   "cell_type": "markdown",
   "metadata": {},
   "source": [
    "* C++ has `std::complex`. Its example is as follows. [[ref](https://en.cppreference.com/w/cpp/numeric/complex)]<br>\n",
    "Note : C++14 or higher supports complex literal.\n",
    "\n"
   ]
  },
  {
   "cell_type": "code",
   "execution_count": null,
   "metadata": {},
   "outputs": [],
   "source": [
    "%%writefile complex.cpp\n",
    "#include <iostream>\n",
    "#include <iomanip>\n",
    "#include <complex>\n",
    "#include <cmath>\n",
    " \n",
    "int main(int argn, char* argv[])\n",
    "{\n",
    "    using namespace std::complex_literals;\n",
    "    std::cout << std::fixed << std::setprecision(1);\n",
    " \n",
    "    std::complex<double> z1 = 1i * 1i;     // imaginary unit squared\n",
    "    std::cout << \"i * i = \" << z1 << '\\n';\n",
    " \n",
    "    std::complex<double> z2 = std::pow(1i, 2); // imaginary unit squared\n",
    "    std::cout << \"pow(i, 2) = \" << z2 << '\\n';\n",
    " \n",
    "    double PI = std::acos(-1);\n",
    "    std::complex<double> z3 = std::exp(1i * PI); // Euler's formula\n",
    "    std::cout << \"exp(i * pi) = \" << z3 << '\\n';\n",
    " \n",
    "    std::complex<double> z4 = 1. + 2i, z5 = 1. - 2i; // conjugates\n",
    "    std::cout << \"(1+2i)*(1-2i) = \" << z4*z5 << '\\n';\n",
    "    \n",
    "    return 0;\n",
    "}\n",
    "\n"
   ]
  },
  {
   "cell_type": "code",
   "execution_count": null,
   "metadata": {},
   "outputs": [],
   "source": [
    "!g++ -Wall -g -std=c++14 complex.cpp -o complex -Wa,-adhln=complex.s\n",
    "\n"
   ]
  },
  {
   "cell_type": "code",
   "execution_count": null,
   "metadata": {},
   "outputs": [],
   "source": [
    "!./complex\n",
    "\n"
   ]
  },
  {
   "cell_type": "markdown",
   "metadata": {},
   "source": [
    "* Here, `using namespace std::complex_literals;` enables writing a complex constant such as `1i` in the source code directly.\n",
    "\n"
   ]
  },
  {
   "cell_type": "markdown",
   "metadata": {},
   "source": [
    "* `std::complex<double> z1` declares a C++ variable named `z1`.<br>  \"`complex` with real and imaginary parts in `double` precision floating point\" can be its type.\n",
    "\n"
   ]
  },
  {
   "cell_type": "markdown",
   "metadata": {},
   "source": [
    "# Characters and Strings\n",
    "\n"
   ]
  },
  {
   "cell_type": "markdown",
   "metadata": {},
   "source": [
    "* If computers can handle only 0s and 1s, how come we are reading this page?\n",
    "\n"
   ]
  },
  {
   "cell_type": "markdown",
   "metadata": {},
   "source": [
    "* It is because of a set of promises that we call [**character encodings**](https://en.wikipedia.org/wiki/Character_encoding).\n",
    "\n"
   ]
  },
  {
   "cell_type": "markdown",
   "metadata": {},
   "source": [
    "* Following table depicts the ASCII table, one of such standards.\n",
    "\n"
   ]
  },
  {
   "cell_type": "code",
   "execution_count": null,
   "metadata": {
    "scrolled": true
   },
   "outputs": [],
   "source": [
    "# https://stackoverflow.com/questions/35160256/how-do-i-output-lists-as-a-table-in-jupyter-notebook\n",
    "# http://nbviewer.jupyter.org/github/ipython/ipython/blob/4.0.x/examples/IPython%20Kernel/Rich%20Output.ipynb\n",
    "\n",
    "import IPython\n",
    "\n",
    "n = 8\n",
    "\n",
    "elipsis_line = \"| ... | ... | ... |\"\n",
    "\n",
    "# Python can use triple quote to represent a multi line string\n",
    "table = [\n",
    "  f\"| {n} bit bit pattern | `unsigned int{n}_t` | `char` |\",\n",
    "   \"|:-----------------:|:--------:|:------:|\"\n",
    "]\n",
    "\n",
    "for i in range(0, 8+1):\n",
    "    table.append(f'| {i:0{n}b} | {i} | {i:c} |')\n",
    "\n",
    "# Python can use '' or \"\" to represent a string literal\n",
    "table.append(elipsis_line)\n",
    "\n",
    "for i in range(14, 27+1):\n",
    "    table.append(f'| {i:0{n}b} | {i} | {chr(i)} |')\n",
    "\n",
    "table.append(elipsis_line)\n",
    "\n",
    "for i in range(31, 50+1):\n",
    "    table.append(f'| {i:0{n}b} | {i} | {chr(i)} |')\n",
    "\n",
    "table.append(elipsis_line)\n",
    "\n",
    "for i in range(57, 65+1):\n",
    "    table.append(f'| {i:0{n}b} | {i} | {i:c} |')\n",
    "\n",
    "table.append(elipsis_line)\n",
    "\n",
    "for i in range(90, 97+1):\n",
    "    table.append(f'| {i:0{n}b} | {i} | {i:c} |')\n",
    "\n",
    "table.append(elipsis_line)\n",
    "\n",
    "for i in range(122, 127+1):\n",
    "    table.append(f'| {i:0{n}b} | {i} | {i:c} |')\n",
    "\n",
    "table.append(elipsis_line)\n",
    "\n",
    "\n",
    "IPython.display.display(IPython.display.Markdown('\\n'.join(table)))\n",
    "\n"
   ]
  },
  {
   "cell_type": "markdown",
   "metadata": {},
   "source": [
    "* Following C++ program would generate an ASCII table summary similar to the python code above.\n",
    "\n"
   ]
  },
  {
   "cell_type": "code",
   "execution_count": null,
   "metadata": {},
   "outputs": [],
   "source": [
    "%%writefile ascii_table.cpp\n",
    "// http://www.cplusplus.com/reference/fstream/fstream/\n",
    "#include <iostream>\n",
    "// https://stackoverflow.com/questions/7349689/\n",
    "#include <bitset>\n",
    "#include <iomanip>\n",
    "\n",
    "\n",
    "using namespace std;\n",
    "\n",
    "int main(int argn, char *argv[]){\n",
    "  // C/C++ uses \"\" to represent a string and '' indicates a single character\n",
    "\n",
    "  char sep[] = \" | \", endl = '\\n';\n",
    "  char elipsis_line[] = \"| ... | ... | ... |\\n\";\n",
    "\n",
    "  const int n = 8;\n",
    "\n",
    "  cout << \"| \" << n << \" bit bit pattern | `unsigned int\" \n",
    "    << n << \"_t` | `char` |\" << endl;\n",
    "  cout << \"|:-----------------:|:--------:|:------:|\" << endl;\n",
    "\n",
    "  for (int i=0; i<(8+1); ++i){\n",
    "    cout << \"| \"<< bitset<n>(i) << sep << i << sep << char(i) << \" |\" << endl;\n",
    "  }\n",
    "\n",
    "  cout << elipsis_line;\n",
    "\n",
    "  for (int i=14; i<(27+1); ++i){\n",
    "    cout << \"| \"<< bitset<n>(i) << sep << i << sep << (char) i << \" |\" << endl;\n",
    "  }\n",
    "\n",
    "  cout << elipsis_line;\n",
    "\n",
    "  for (int i=31; i<(50+1); ++i){\n",
    "    cout << \"| \"<< bitset<n>(i) << sep << i << sep << (char) i << \" |\" << endl;\n",
    "  }\n",
    "\n",
    "  cout << elipsis_line;\n",
    "\n",
    "  for (int i=57; i<(65+1); ++i){\n",
    "    cout << \"| \"<< bitset<n>(i) << sep << i << sep << char(i) << \" |\" << endl;\n",
    "  }\n",
    "\n",
    "  cout << elipsis_line;\n",
    "\n",
    "  for (int i=90; i<(97+1); ++i){\n",
    "    cout << \"| \"<< bitset<n>(i) << sep << i << sep << char(i) << \" |\" << endl;\n",
    "  }\n",
    "\n",
    "  cout << elipsis_line;\n",
    "\n",
    "  for (int i=122; i<(127+1); ++i){\n",
    "    cout << \"| \"<< bitset<n>(i) << sep << i << sep << char(i) << \" |\" << endl;\n",
    "  }\n",
    "\n",
    "  cout << elipsis_line;\n",
    "\n",
    "  return 0;\n",
    "}\n",
    "\n"
   ]
  },
  {
   "cell_type": "code",
   "execution_count": null,
   "metadata": {},
   "outputs": [],
   "source": [
    "!g++ -Wall -g -std=c++14 ascii_table.cpp -o ascii_table -Wa,-adhln=ascii_table.s\n",
    "\n"
   ]
  },
  {
   "cell_type": "code",
   "execution_count": null,
   "metadata": {},
   "outputs": [],
   "source": [
    "import IPython\n",
    "\n",
    "\n",
    "table_cpp_list = !./ascii_table\n",
    "IPython.display.display(IPython.display.Markdown('\\n'.join(table_cpp_list)))\n",
    "\n"
   ]
  },
  {
   "cell_type": "markdown",
   "source": [
    "Compare python and c++ tables\n",
    "\n"
   ],
   "metadata": {}
  },
  {
   "cell_type": "code",
   "source": [
    "assert not(set(table) - set(table_cpp_list)), set(table) - set(table_cpp_list)\n",
    "\n"
   ],
   "metadata": {},
   "execution_count": null,
   "outputs": []
  },
  {
   "cell_type": "code",
   "source": [
    "assert not(set(table_cpp_list) - set(table)), set(table_cpp_list) - set(table)\n",
    "\n"
   ],
   "metadata": {},
   "execution_count": null,
   "outputs": []
  },
  {
   "cell_type": "markdown",
   "metadata": {},
   "source": [
    "### Strings\n",
    "\n"
   ]
  },
  {
   "cell_type": "markdown",
   "metadata": {},
   "source": [
    "* To represent a word or a sentence, we use a group of characters in order.\n",
    "\n"
   ]
  },
  {
   "cell_type": "markdown",
   "metadata": {},
   "source": [
    "* In python, all characters are strings with length of one.\n",
    "\n"
   ]
  },
  {
   "cell_type": "code",
   "execution_count": null,
   "metadata": {},
   "outputs": [],
   "source": [
    "s = \"Hello World!\"\n",
    "\n",
    "print(s)\n",
    "\n"
   ]
  },
  {
   "cell_type": "markdown",
   "metadata": {},
   "source": [
    "* In C/C++, a string always ends with a character '\\0'; hence we call it a \"zero terminated string\".\n",
    "\n"
   ]
  },
  {
   "cell_type": "code",
   "execution_count": null,
   "metadata": {},
   "outputs": [],
   "source": [
    "%%writefile zero_terminated_string.cpp\n",
    "#include <iostream>\n",
    "#include <iomanip>\n",
    "\n",
    "using namespace std;\n",
    "\n",
    "int main(int argn, char * argv []){\n",
    "\n",
    "    char s[] = \"Hello World!\";\n",
    "    int n = sizeof(s);\n",
    "    \n",
    "    for (int i = 0; i < n; ++i){\n",
    "        // setw() sets width\n",
    "        cout << \"s[\" << setw(2) << i <<\"] = \" \n",
    "         << s[i] << \"(\" << setw(2) << (int) s[i]<< \")\\n\";\n",
    "    }\n",
    "\n",
    "    return 0;\n",
    "\n",
    "}\n",
    "\n"
   ]
  },
  {
   "cell_type": "code",
   "execution_count": null,
   "metadata": {},
   "outputs": [],
   "source": [
    "!g++ -Wall -g -std=c++14 zero_terminated_string.cpp -o zero_terminated_string -Wa,-adhln=zero_terminated_string.s\n",
    "\n"
   ]
  },
  {
   "cell_type": "code",
   "execution_count": null,
   "metadata": {},
   "outputs": [],
   "source": [
    "!./zero_terminated_string\n",
    "\n"
   ]
  },
  {
   "cell_type": "markdown",
   "metadata": {},
   "source": [
    "* In python, we cannot change one character within a string; in C/C++ we can change any one character except the last '\\0'.\n",
    "\n"
   ]
  },
  {
   "cell_type": "code",
   "execution_count": null,
   "metadata": {},
   "outputs": [],
   "source": [
    "s = \"hello World!\"\n",
    "# Following is an exception handling block\n",
    "try:\n",
    "    # This will cause an error\n",
    "    s[0] = 'h'\n",
    "except TypeError as e:\n",
    "    # This line will present the error message\n",
    "    print(e)\n",
    "\n"
   ]
  },
  {
   "cell_type": "code",
   "execution_count": null,
   "metadata": {},
   "outputs": [],
   "source": [
    "%%writefile assign_char.cpp\n",
    "#include <iostream>\n",
    "\n",
    "\n",
    "using namespace std;\n",
    "\n",
    "\n",
    "int main(int argn, char * argv []){\n",
    "\n",
    "    char s[] = \"Hello World!\\n\";\n",
    "    s[0] = 'H';\n",
    "    cout << s ;\n",
    "\n",
    "    return 0;\n",
    "}\n",
    "\n"
   ]
  },
  {
   "cell_type": "code",
   "execution_count": null,
   "metadata": {},
   "outputs": [],
   "source": [
    "!g++ -Wall -g -std=c++14 assign_char.cpp -o assign_char -Wa,-adhln=assign_char.s\n",
    "\n"
   ]
  },
  {
   "cell_type": "code",
   "execution_count": null,
   "metadata": {},
   "outputs": [],
   "source": [
    "!./assign_char\n",
    "\n"
   ]
  },
  {
   "cell_type": "markdown",
   "metadata": {},
   "source": [
    "## Converting between Types\n",
    "\n"
   ]
  },
  {
   "cell_type": "markdown",
   "metadata": {},
   "source": [
    "* What if we need to multiply an integer with a floating point real number (float)?\n",
    "\n"
   ]
  },
  {
   "cell_type": "markdown",
   "metadata": {},
   "source": [
    "* Python, C, and C++ all convert the integer into a float.\n",
    "\n"
   ]
  },
  {
   "cell_type": "markdown",
   "metadata": {},
   "source": [
    "* What if we want to convert a float into an intger?\n",
    "\n"
   ]
  },
  {
   "cell_type": "markdown",
   "metadata": {},
   "source": [
    "* Following C++ example includes some of possible type conversions.\n",
    "\n"
   ]
  },
  {
   "cell_type": "code",
   "execution_count": null,
   "metadata": {},
   "outputs": [],
   "source": [
    "%%writefile types.cpp\n",
    "#include <cstdio>\n",
    "\n",
    "int main(int argn, char *argv[]){\n",
    "\n",
    "    int i = 1;\n",
    "    double s = 0.1, q = 2.04;\n",
    "\n",
    "    double pi_float = i + q + s;\n",
    "    int pi_int = (int)(i + q + s);\n",
    "\n",
    "    char c = 'c';\n",
    "\n",
    "    printf(\"pi_float = %f\\n\", pi_float);\n",
    "    printf(\"pi_int = %d\\n\", pi_int);\n",
    "    printf(\"c (in char) = %c\\n\", c);\n",
    "    printf(\"c (in int) = %d\\n\", (int) c);\n",
    "\n",
    "    return 0;\n",
    "}\n",
    "\n"
   ]
  },
  {
   "cell_type": "code",
   "execution_count": null,
   "metadata": {},
   "outputs": [],
   "source": [
    "!g++ -Wall -g -std=c++14 types.cpp -o types -Wa,-adhln=types.s\n",
    "\n"
   ]
  },
  {
   "cell_type": "code",
   "execution_count": null,
   "metadata": {},
   "outputs": [],
   "source": [
    "!./types\n",
    "\n"
   ]
  },
  {
   "cell_type": "markdown",
   "metadata": {},
   "source": [
    "* In case of python, we can try followings.\n",
    "\n"
   ]
  },
  {
   "cell_type": "code",
   "execution_count": null,
   "metadata": {},
   "outputs": [],
   "source": [
    "i = 1\n",
    "s, q = 0.1, 2.04\n",
    "\n",
    "pi_float = i + q + s\n",
    "\n",
    "# float -> int\n",
    "pi_int = int(i + q + s)\n",
    "\n",
    "c = 'c'\n",
    "\n",
    "# char -> int\n",
    "c_int = ord(c)\n",
    "\n",
    "print(f'pi_float = %f' % pi_float)\n",
    "print(f'pi_int = %d' % pi_float)\n",
    "print(f'c (in char) = %c' % c)\n",
    "print(f'c (in int) = %d' % c_int)\n",
    "\n"
   ]
  },
  {
   "cell_type": "markdown",
   "metadata": {},
   "source": [
    "## `list` and `tuple` from Python vs arrays from C/C++\n",
    "\n"
   ]
  },
  {
   "cell_type": "markdown",
   "metadata": {},
   "source": [
    "* To store multiple entities under one variable name, we can use these :\n",
    "\n",
    "| type | declaration |\n",
    "|:-----:|:------------:|\n",
    "| Python `list` | `s = [1, 2, '3', [4]]` |\n",
    "| Python `typle` | `t = ('1', '2', 3, '4')`<br>`u = '1', ('2', 3), 'a'` |\n",
    "| C/C++ array | `int a[] = {1, 2, 3, 4};`<br>`char b[] = \"1234\";` |\n",
    "\n"
   ]
  },
  {
   "cell_type": "markdown",
   "metadata": {},
   "source": [
    "* Following operations are possible:\n",
    "\n",
    "| operation | `python` | `C`/`C++` |\n",
    "|:-----:|:------------:|:------------:|\n",
    "| read | `s[0]` | `a[0]`\n",
    "| write | `s[0]=5` | `a[0]=5`\n",
    "| number of elements | `len(s)` | `sizeof(a)/sizeof(a[0])`\n",
    "| size in bytes | N/A |  `sizeof(a)`\n",
    "| pop last element | `s.pop()` | N/A\n",
    "| add a new last element | `s.append(5)` | N/A\n",
    "| concatenate two of them | `s0 + s1` | N/A\n",
    "| insert a new element at `i` | `s.insert(i, 'a')` | N/A\n",
    "| slicing | `s[0:2]` | N/A\n",
    "\n"
   ]
  },
  {
   "cell_type": "markdown",
   "metadata": {},
   "source": [
    "* In fact, this may not be a fair comparison.\n",
    "\n"
   ]
  },
  {
   "cell_type": "code",
   "execution_count": null,
   "metadata": {},
   "outputs": [],
   "source": [
    "counter = 0\n",
    "s = [1, 2, '3', [4]]\n",
    "\n",
    "counter += 1; print(f'{counter:02d}. s = {s}')\n",
    "s[0] = 5\n",
    "\n",
    "counter += 1; print(f'{counter:02d}. s = {s}')\n",
    "print(f'len(s) = {len(s)}')\n",
    "\n",
    "print(f's.pop() = {s.pop()}')\n",
    "\n",
    "counter += 1; print(f'{counter:02d}. s = {s}')\n",
    "\n",
    "s.append(15)\n",
    "counter += 1; print(f'{counter:02d}. s = {s}')\n",
    "\n",
    "s.insert(2, 'a')\n",
    "counter += 1; print(f'{counter:02d}. s = {s}')\n",
    "\n"
   ]
  },
  {
   "cell_type": "markdown",
   "metadata": {},
   "source": [
    "* There is a [discussion](https://stackoverflow.com/questions/17528657/python-list-equivalent-in-c) claiming that `std::vector` or `std::deque` of C++ could be similar to python `list`.\n",
    "\n"
   ]
  },
  {
   "cell_type": "markdown",
   "metadata": {},
   "source": [
    "* Following C++ example shows [C++ `vector`](http://www.cplusplus.com/reference/vector/vector/).\n",
    "\n"
   ]
  },
  {
   "cell_type": "code",
   "execution_count": null,
   "metadata": {},
   "outputs": [],
   "source": [
    "%%writefile vector_example.cpp\n",
    "#include <iostream>\n",
    "#include <vector>\n",
    "\n",
    "using namespace std;\n",
    "\n",
    "int main ()\n",
    "{\n",
    "        // http://www.cplusplus.com/reference/vector/vector/\n",
    "        vector<char> a ({'a', 'b', 'c', 'd'});\n",
    "\n",
    "        for (unsigned int i=0; i < a.size(); ++i){\n",
    "                cout << \"a[\" << i << \"] = \" << a[i] << \"\\n\";\n",
    "        }\n",
    "\n",
    "        return 0;\n",
    "}\n",
    "\n"
   ]
  },
  {
   "cell_type": "code",
   "execution_count": null,
   "metadata": {},
   "outputs": [],
   "source": [
    "!g++ -Wall -g -std=c++14 vector_example.cpp -o vector_example -Wa,-adhln=vector_example.s\n",
    "\n"
   ]
  },
  {
   "cell_type": "code",
   "execution_count": null,
   "metadata": {},
   "outputs": [],
   "source": [
    "!./vector_example\n",
    "\n"
   ]
  },
  {
   "cell_type": "markdown",
   "metadata": {},
   "source": [
    "* Implementing full features of `list` may not be straight forward in C/C++.\n",
    "\n"
   ]
  },
  {
   "cell_type": "code",
   "execution_count": null,
   "metadata": {},
   "outputs": [],
   "source": [
    "a = list(range(10))\n",
    "print(a[4:7])\n",
    "\n"
   ]
  },
  {
   "cell_type": "markdown",
   "metadata": {},
   "source": [
    "## `dict` of Python vs `struct` and `union` of C/C++\n",
    "\n"
   ]
  },
  {
   "cell_type": "markdown",
   "metadata": {},
   "source": [
    "[[ref0](https://stackoverflow.com/questions/330793/how-to-initialize-a-struct-in-accordance-with-c-programming-language-standards), [ref1](https://en.cppreference.com/w/c/language/struct_initialization)]\n",
    "\n"
   ]
  },
  {
   "cell_type": "markdown",
   "metadata": {},
   "source": [
    "* To store data with the field names, followings are available:\n",
    "\n",
    "| type | declaration |\n",
    "|:-----:| ------------ |\n",
    "| Python `dict` | <pre><code class=\"language-python\">s = {'name' : 'python', <br>'year' : 1989,<br> 'cmd' : 'python'}</code></pre> |\n",
    "| C/C++ `struct` | <pre><code class=\"language-c++\">struct {char name[],<br> int year[],<br> char cmd[]<br>} t = {.name=\"C\",<br>.year=1970,<br>.cmd=\"python\"};</code></pre> |\n",
    "| C/C++ `union` | <pre><code class=\"language-c++\">union {<br>int x,<br>char c[4]<br>} u = {1};</code></pre> |\n",
    "\n"
   ]
  },
  {
   "cell_type": "markdown",
   "metadata": {},
   "source": [
    "* Following operations are possible:\n",
    "\n",
    "| operation | `python` | `C`/`C++` |\n",
    "|:-----:|:------------:|:------------:|\n",
    "| read | `s['name']` | `t.name`\n",
    "| write | `s['name']='Python'` | `t.year=1972;`\n",
    "| size in bytes | N/A |  `sizeof(t)`\n",
    "| delete one element | `del s['cmd`] | N/A\n",
    "| add a new element | `s['ide']='idle'` | N/A\n",
    "| merge two of them | `s0.update[s1]` | N/A\n",
    "\n"
   ]
  },
  {
   "cell_type": "markdown",
   "metadata": {},
   "source": [
    "* For python, we can use any type for the value and any immutable type for the key.\n",
    "\n"
   ]
  },
  {
   "cell_type": "code",
   "execution_count": null,
   "metadata": {},
   "outputs": [],
   "source": [
    "s =  {'name' : 'python', 'year' : 1989, 'cmd' : 'python'}\n",
    "\n",
    "print(f\"s['name'] = {s['name']}\")\n",
    "\n",
    "s['name']='Python'\n",
    "print(f\"s = {s}\")\n",
    "\n",
    "del s['cmd']\n",
    "print(f\"s = {s}\")\n",
    "\n",
    "s['ide'] = 'idle'\n",
    "print(f\"s = {s}\")\n",
    "\n",
    "s0 = {'ide' : 'spyder'}\n",
    "print(f\"s0 = {s0}\")\n",
    "\n",
    "s0.update(s)\n",
    "print(f\"s0 = {s0}\")\n",
    "\n"
   ]
  },
  {
   "cell_type": "markdown",
   "metadata": {},
   "source": [
    "* This is not a fair comparison, either.\n",
    "\n"
   ]
  },
  {
   "cell_type": "markdown",
   "metadata": {},
   "source": [
    "* Another [discussion](https://stackoverflow.com/questions/1842941/translating-python-dictionary-to-c) claims that [`std::map`](http://www.cplusplus.com/reference/map/map/) of C++ could be similar to python `dict`.\n",
    "\n"
   ]
  },
  {
   "cell_type": "code",
   "execution_count": null,
   "metadata": {},
   "outputs": [],
   "source": [
    "%%writefile map_example.cpp\n",
    "#include <iostream>\n",
    "#include <map>\n",
    "// https://en.cppreference.com/w/cpp/string/byte/strcmp\n",
    "#include <cstring>\n",
    "\n",
    "using namespace std;\n",
    "\n",
    "// https://stackoverflow.com/questions/4157687/\n",
    "struct cmp_str\n",
    "{\n",
    "   bool operator()(char const *a, char const *b) const\n",
    "   {\n",
    "      return std::strcmp(a, b) < 0;\n",
    "   }\n",
    "};\n",
    "\n",
    "int main(int argn, char * argv[]){\n",
    "\tmap<const char *, const char *, cmp_str>s;\n",
    "\n",
    "\ts[\"name\"] = \"python\";\n",
    "\ts[\"year\"] = \"AD1989\";\n",
    "\ts[\"cmd\"] = \"python\";\n",
    "\n",
    "\t// https://stackoverflow.com/questions/14070940/\n",
    "\t\n",
    "\tfor (auto& t: s){\n",
    "\t\tcout << t.first << ':' << t.second << '\\n';\n",
    "\t}\n",
    "\treturn 0;\n",
    "}\n",
    "\n"
   ]
  },
  {
   "cell_type": "code",
   "execution_count": null,
   "metadata": {},
   "outputs": [],
   "source": [
    "!g++ -Wall -g -std=c++14 map_example.cpp -o map_example -Wa,-adhln=map_example.s\n",
    "\n"
   ]
  },
  {
   "cell_type": "code",
   "execution_count": null,
   "metadata": {},
   "outputs": [],
   "source": [
    "!./map_example\n",
    "\n"
   ]
  },
  {
   "cell_type": "markdown",
   "metadata": {},
   "source": [
    "* To use any type as values in C++, some [additional arrangement](https://stackoverflow.com/questions/24702235/c-stdmap-holding-any-type-of-value) might be necessary.\n",
    "\n"
   ]
  },
  {
   "cell_type": "markdown",
   "metadata": {},
   "source": [
    "## Exercises\n",
    "\n"
   ]
  },
  {
   "cell_type": "markdown",
   "metadata": {},
   "source": [
    "### 00: Integers\n",
    "\n"
   ]
  },
  {
   "cell_type": "markdown",
   "metadata": {},
   "source": [
    "* Please add a text file named `01_00_integers.txt` and answer these questions\n",
    "\n"
   ]
  },
  {
   "cell_type": "markdown",
   "metadata": {},
   "source": [
    "1. Pick two integers : One positive, one negative\n",
    "1. Convert them into binary representations\n",
    "1. Add these two binary numbers\n",
    "1. Convert the sum back to decimal\n",
    "1. Compare with decimal result\n",
    "\n"
   ]
  },
  {
   "cell_type": "markdown",
   "metadata": {},
   "source": [
    "### 01 : Integers\n",
    "\n"
   ]
  },
  {
   "cell_type": "markdown",
   "metadata": {},
   "source": [
    "* Please add a text file named `01_01_integers.txt` and answer these questions\n",
    "\n"
   ]
  },
  {
   "cell_type": "markdown",
   "metadata": {},
   "source": [
    "1. Pick two integers : Both positive (One bigger, the other like $2^n + 3$)\n",
    "1. Convert them into binary representations\n",
    "1. Multiply these two binary numbers\n",
    "1. Convert them back to decimal\n",
    "1. Compare with decimal results (Calculator OK)\n",
    "\n"
   ]
  },
  {
   "cell_type": "markdown",
   "metadata": {},
   "source": [
    "### 02 : Floating point\n",
    "\n"
   ]
  },
  {
   "cell_type": "markdown",
   "metadata": {},
   "source": [
    "* Please add a text file named `01_02_floats.txt` and answer these questions\n",
    "\n"
   ]
  },
  {
   "cell_type": "markdown",
   "metadata": {},
   "source": [
    "* Can you find the largest $n \\in \\mathbb{N}$ satisfying $2.0 < \\left(2.0 + 2^{-n}\\right)$ in 64 bit floating point representation. If so, what would it be?\n",
    "\n"
   ]
  },
  {
   "cell_type": "markdown",
   "metadata": {},
   "source": [
    "### 03 : Characters\n",
    "\n"
   ]
  },
  {
   "cell_type": "markdown",
   "metadata": {},
   "source": [
    "* Pick 5 characters from your keyboard\n",
    "* Add a cell below and write a python lines printing the character and its ASCII code.\n",
    "* Repeat in C++ using `std::cout`. Compile, & run it\n",
    "* Add & commit\n",
    "\n"
   ]
  },
  {
   "cell_type": "markdown",
   "metadata": {},
   "source": [
    "### 04 : `list`\n",
    "\n"
   ]
  },
  {
   "cell_type": "markdown",
   "metadata": {},
   "source": [
    "* Add a cell below \n",
    "* In the cell, write a python code\n",
    "\n"
   ]
  },
  {
   "cell_type": "markdown",
   "metadata": {},
   "source": [
    "1. Create a list containing the 5 characters from above\n",
    "1. Print the `list`\n",
    "1. Pick 3 integers from your keyboard\n",
    "1. Append one at the last position\n",
    "1. Insert one at the first position\n",
    "1. Insert one at a place of your choice.\n",
    "1. Print three of the five members of the `list`\n",
    "\n"
   ]
  },
  {
   "cell_type": "markdown",
   "metadata": {},
   "source": [
    "### 05 : `char` array\n",
    "\n"
   ]
  },
  {
   "cell_type": "markdown",
   "metadata": {},
   "source": [
    "* Create a C++ file named `01_05_array.cpp`\n",
    "\n"
   ]
  },
  {
   "cell_type": "markdown",
   "metadata": {},
   "source": [
    "1. Create a `char` array containing 5 characters from above\n",
    "1. Using `std::cout`, print all 5 in one line\n",
    "1. Consider 3 integers above\n",
    "1. Put ASCII code of one number character at the last position\n",
    "1. Put ASCII code of another number character at the first position\n",
    "1. Put ASCII code of the other number character at a place of your choice.\n",
    "1. Again, using `std::cout`, print all 5 in one line\n",
    "1. Compile, run it, and add & commit.\n",
    "\n"
   ]
  },
  {
   "cell_type": "markdown",
   "metadata": {},
   "source": [
    "### 06 : `dict`\n",
    "\n"
   ]
  },
  {
   "cell_type": "markdown",
   "metadata": {},
   "source": [
    "* Add a cell below\n",
    "* In the cell, write a python code\n",
    "\n"
   ]
  },
  {
   "cell_type": "markdown",
   "metadata": {},
   "source": [
    "1. Pick 3 characters from above\n",
    "1. Make three pairs of a character and an integer\n",
    "1. Create a `dict` initializing using the pairs\n",
    "1. Print the `dict`\n",
    "1. Add the remaining two characters to the `dict`\n",
    "1. Print the `dict` again\n",
    "1. Print 2 of the pairs of the `dict`\n",
    "\n"
   ]
  },
  {
   "cell_type": "markdown",
   "metadata": {},
   "source": [
    "### 07 : `union`\n",
    "\n"
   ]
  },
  {
   "cell_type": "markdown",
   "metadata": {},
   "source": [
    "* Create a C++ file named `01_07_union.cpp`\n",
    "\n"
   ]
  },
  {
   "cell_type": "markdown",
   "metadata": {},
   "source": [
    "1. Define a template of `union` with an `unsigned int` and an array of four `unsigned int8_t`'s\n",
    "1. Create a `union` initalizing the array with four 8bit integers of your choice\n",
    "1. Using `printf` of `<cstdio>` print each member of the array in hexadecimal\n",
    "1. Using `printf` print the integer in hexadecimal\n",
    "1. Change a member of the array\n",
    "1. Using `printf` print each member of the array in hexadecimal\n",
    "1. Using `printf` print the integer in hexadecimal\n",
    "\n"
   ]
  },
  {
   "cell_type": "code",
   "execution_count": null,
   "metadata": {},
   "outputs": [],
   "source": []
  }
 ],
 "metadata": {
  "kernelspec": {
   "display_name": "Python 3",
   "language": "python",
   "name": "python3"
  },
  "language_info": {
   "codemirror_mode": {
    "name": "ipython",
    "version": 3
   },
   "file_extension": ".py",
   "mimetype": "text/x-python",
   "name": "python",
   "nbconvert_exporter": "python",
   "pygments_lexer": "ipython3",
   "version": "3.7.1"
  },
  "colab": {
   "provenance": [],
   "include_colab_link": true
  }
 },
 "nbformat": 4,
 "nbformat_minor": 0
}