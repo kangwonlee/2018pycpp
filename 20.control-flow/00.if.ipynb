{
 "cells": [
  {
   "cell_type": "markdown",
   "metadata": {
    "id": "U9ygjFe7rzWj"
   },
   "source": [
    "# Controlling Flow : Conditionally\n",
    "\n"
   ]
  },
  {
   "cell_type": "markdown",
   "metadata": {
    "id": "89lduq4LrzWl"
   },
   "source": [
    "* This can be one of the distingushing factors of the computers over other machines.\n",
    "* A computer can flexibly change its behavior depending on the situation.\n",
    "\n"
   ]
  },
  {
   "cell_type": "markdown",
   "metadata": {
    "id": "UVdAQcP3rzWl"
   },
   "source": [
    "ref : [[0](https://en.wikipedia.org/wiki/Control_flow)]\n",
    "\n"
   ]
  },
  {
   "cell_type": "code",
   "execution_count": null,
   "metadata": {
    "cellView": "code",
    "execution": {
     "allow_errors": true,
     "timeout": 300
    },
    "id": "u_s4daK1rzWm"
   },
   "outputs": [],
   "source": [
    "\n",
    "# receive an input from a user through keyboard\n",
    "# store in a_str as a string\n",
    "a_str = input('a = ?')\n",
    "\n",
    "# convert input string into an integer\n",
    "# error may occur if a_str includes a non digit character\n",
    "a_int = int(a_str)\n",
    "\n",
    "# if remainder of a_int divided by 2 is not zero\n",
    "if a_int % 2:\n",
    "    print(\"'a' is an odd number.\")\n",
    "\n",
    "# if remainder of a_int divided by 3 is not zero\n",
    "if a_int % 3 :\n",
    "    print(\"I don't think that you can divde 'a' with 3.\")\n",
    "\n"
   ]
  },
  {
   "cell_type": "markdown",
   "metadata": {
    "id": "n9tr5pmwrzWm"
   },
   "source": [
    "* In C++, an equivalent code would be as follows.\n",
    "\n"
   ]
  },
  {
   "cell_type": "code",
   "execution_count": null,
   "metadata": {
    "id": "FN99tfkDrzWn"
   },
   "outputs": [],
   "source": [
    "%%writefile if_00.cpp\n",
    "// for int32_t\n",
    "#include <cstdint>\n",
    "\n",
    "// for cout\n",
    "#include <iostream>\n",
    "\n",
    "// declare intention to use std namespace\n",
    "using namespace std;\n",
    "\n",
    "// program starting point\n",
    "int32_t main(int32_t argn, char *argv[]) {\n",
    "\n",
    "    // variable to receive input\n",
    "    int32_t a_int;\n",
    "\n",
    "    // prompt for input\n",
    "    cout << \"a = ?\";\n",
    "    // receive keyboard input and store as an integer to a_int\n",
    "    cin >> a_int;\n",
    "    \n",
    "    // if remainder of a_int divided by 2 is non zero\n",
    "    if (a_int % 2){\n",
    "        cout << \"a is an odd number.\\n\";\n",
    "    }\n",
    "    \n",
    "    // if remainder of a_int divided by 3 is non zero\n",
    "    if (a_int % 3){\n",
    "        cout << \"I don't think that you can divide 'a' with 3.\\n\";\n",
    "    }\n",
    "\n",
    "    // indicate the program was successful\n",
    "    return 0;\n",
    "}\n",
    "\n"
   ]
  },
  {
   "cell_type": "code",
   "execution_count": null,
   "metadata": {
    "id": "46kCUCsfrzWn"
   },
   "outputs": [],
   "source": [
    "!g++ -oif_00.out if_00.cpp\n",
    "\n"
   ]
  },
  {
   "cell_type": "code",
   "execution_count": null,
   "metadata": {
    "execution": {
     "allow_errors": true,
     "timeout": 300
    },
    "id": "SDf1IKNgrzWo"
   },
   "outputs": [],
   "source": [
    "!./if_00.out\n",
    "\n"
   ]
  },
  {
   "cell_type": "markdown",
   "metadata": {
    "id": "QI_0zOtfrzWo"
   },
   "source": [
    "* Following is a Matlab code.\n",
    "\n"
   ]
  },
  {
   "cell_type": "markdown",
   "metadata": {
    "id": "NfV-ICZjrzWo"
   },
   "source": [
    "``` Matlab\n",
    "a_int = input(\"a = ?\")\n",
    "\n",
    "if mod(a_int, 2)\n",
    "    disp(\"'a' is an odd number.\")\n",
    "end\n",
    "\n",
    "if mod(a_int, 3):\n",
    "    disp(\"I don't think that you can divde 'a' with 3.\")\n",
    "end\n",
    "```\n",
    "\n"
   ]
  },
  {
   "cell_type": "markdown",
   "metadata": {
    "id": "PZdpJyaFrzWo"
   },
   "source": [
    "* Examples above depicts that depending on the input values, computer may or may not run a part of the code.\n",
    "\n"
   ]
  },
  {
   "cell_type": "markdown",
   "metadata": {
    "id": "dlCq9MDSrzWp"
   },
   "source": [
    "## If - else if - else block\n",
    "\n"
   ]
  },
  {
   "cell_type": "markdown",
   "metadata": {
    "id": "X0m-T-TbrzWp"
   },
   "source": [
    "* Frequently, conditional statements divde the space into a number of subsets.\n",
    "* Please consider following code block.\n",
    "\n"
   ]
  },
  {
   "cell_type": "code",
   "execution_count": null,
   "metadata": {
    "id": "i6tdMbI4rzWp"
   },
   "outputs": [],
   "source": [
    "# prepare a variable\n",
    "b = 12\n",
    "\n",
    "# if remainder of b divided by 2 is zero\n",
    "if not(b % 2) : \n",
    "    print(\"2 can divde 'b'\")\n",
    "# above is false and if remainder of b divided by 3 is zero\n",
    "elif not(b % 3) : \n",
    "    print(\"3 can divde 'b'\")\n",
    "# above are false and if remainder of b divided by 4 is zero\n",
    "elif not(b % 4) : \n",
    "    print(\"4 can divde 'b'\")\n",
    "# all of above are false\n",
    "else :\n",
    "    print('None of the above')\n",
    "\n"
   ]
  },
  {
   "cell_type": "markdown",
   "metadata": {
    "id": "D8iWOV39rzWp"
   },
   "source": [
    "* In C++ it would be as follows.\n",
    "\n"
   ]
  },
  {
   "cell_type": "markdown",
   "metadata": {
    "id": "RvIr5W4KrzWq"
   },
   "source": [
    "``` C++\n",
    "// for int32_t\n",
    "#include <cstdint>\n",
    "// for cout\n",
    "#include <iostream>\n",
    "\n",
    "\n",
    "// declare intention to use std namespace\n",
    "using namespace std;\n",
    "\n",
    "// program start point\n",
    "int32_t main(int32_t argn, char *argv[]){\n",
    "    // prepare a variable\n",
    "    int32_t b = 12;\n",
    "\n",
    "    // if remainder of b divided by 2 is zero\n",
    "    if (!(b % 2)){\n",
    "        cout << \"2 can divde 'b'\\n\";\n",
    "    // above is false and if remainder of b divided by 3 is zero\n",
    "    } else if (!(b % 3)){\n",
    "        cout << \"3 can divde 'b'\\n\";\n",
    "    // above are false and if remainder of b divided by 4 is zero\n",
    "    } else if (!(b % 4)){\n",
    "        cout << \"4 can divde 'b'\\n\";\n",
    "    // all of above are false\n",
    "    } else {\n",
    "        cout << \"None of the above\\n\";\n",
    "    }\n",
    "\n",
    "    // indicate that the program was successful\n",
    "    return 0;\n",
    "}   \n",
    "```\n",
    "\n"
   ]
  },
  {
   "cell_type": "markdown",
   "metadata": {
    "id": "jTJQ8Y60rzWq"
   },
   "source": [
    "## Switch case block of C/C++\n",
    "\n"
   ]
  },
  {
   "cell_type": "markdown",
   "metadata": {
    "id": "cEx8g3E0rzWq"
   },
   "source": [
    "* C/C++ grammar has `switch`-`case` block as follows.\n",
    "\n"
   ]
  },
  {
   "cell_type": "markdown",
   "metadata": {
    "id": "s4YdLG1IrzWq"
   },
   "source": [
    "``` C++\n",
    "// for int32_t\n",
    "#include <cstdint>\n",
    "// for cout\n",
    "#include <iostream>\n",
    "\n",
    "\n",
    "// declare intention to use std namespace\n",
    "using namespace std;\n",
    "\n",
    "// program start point\n",
    "int32_t main(int32_t argn, char *argv[]){\n",
    "    // prepare a variable\n",
    "    unsigned char c = 1;\n",
    "\n",
    "    // this switch block will see c\n",
    "    switch (c) {\n",
    "        // if 0 == c\n",
    "        case 0 :\n",
    "            cout << \"i == 0\\n\";\n",
    "            break;\n",
    "        // if 1 == c\n",
    "        case 1 :\n",
    "            cout << \"i == 1\\n\";\n",
    "            break;\n",
    "        // if 2 == c\n",
    "        case 2 :\n",
    "            cout << \"i == 2\\n\";\n",
    "            break;\n",
    "        // if all above are false\n",
    "        default :\n",
    "            cout << \"None of the above\\n\";\n",
    "            break;\n",
    "    }\n",
    "\n",
    "    // indicate the program was successful\n",
    "    return 0;\n",
    "}\n",
    "\n",
    "```\n",
    "\n"
   ]
  },
  {
   "cell_type": "markdown",
   "metadata": {
    "id": "MqJSlh1srzWr"
   },
   "source": [
    "* Python does not have `switch` `case` block but can use `if` `elif` `else` block instead.\n",
    "\n"
   ]
  },
  {
   "cell_type": "code",
   "execution_count": null,
   "metadata": {
    "id": "GrtLWZVQrzWr"
   },
   "outputs": [],
   "source": [
    "c = 1    # prepare a variable\n",
    "\n",
    "if 0 == c :\n",
    "    print('i == 0')\n",
    "elif 1 == c :\n",
    "    print('i == 1')\n",
    "elif 2 == c :\n",
    "    print('i == 2')\n",
    "else:\n",
    "    print('None of the above')\n",
    "\n"
   ]
  },
  {
   "cell_type": "markdown",
   "metadata": {
    "id": "c28HkbMKrzWr"
   },
   "source": [
    "## Exercise\n",
    "\n"
   ]
  },
  {
   "cell_type": "markdown",
   "metadata": {
    "id": "jrn5hlAwrzWr"
   },
   "source": [
    "### 00 Random number and if (python)\n",
    "\n"
   ]
  },
  {
   "cell_type": "markdown",
   "metadata": {
    "id": "nRqi5UPUrzWr"
   },
   "source": [
    "* Complete a python program in the following cell.\n",
    "\n"
   ]
  },
  {
   "cell_type": "code",
   "execution_count": null,
   "metadata": {
    "id": "2zEPoyRkrzWr"
   },
   "outputs": [],
   "source": [
    "# Random number generator\n",
    "import random\n",
    "\n",
    "# Initalize the random number generator\n",
    "random.seed()\n",
    "\n",
    "random_value = random.random() - 0.5\n",
    "\n",
    "# print whether random_value is 'positive' or 'negative'\n",
    "\n"
   ]
  },
  {
   "cell_type": "markdown",
   "metadata": {
    "id": "RcpYVuQ8rzWs"
   },
   "source": [
    "### 01 Random number and if (C/C++)\n",
    "\n"
   ]
  },
  {
   "cell_type": "markdown",
   "metadata": {
    "id": "uFxWQfZxrzWs"
   },
   "source": [
    "* Complete a C++ program of the following cell in a separate .cpp file.\n",
    "\n"
   ]
  },
  {
   "cell_type": "markdown",
   "metadata": {
    "id": "ISjRDIEOrzWs"
   },
   "source": [
    "```C++\n",
    "#include <cstdint>\n",
    "// http://www.cplusplus.com/reference/cstdlib/rand/\n",
    "#include <cstdlib>\n",
    "#include <ctime>\n",
    "#include <iostream>\n",
    "\n",
    "int32_t main(const int32_t argn, const char * argv[]){\n",
    "\n",
    "    srand(time(NULL));\n",
    "    double random_value = (rand() * 1.0 / RAND_MAX) - 0.5;\n",
    "    \n",
    "    // print whether random_value is 'positive' or 'negative'\n",
    "    \n",
    "    return 0;\n",
    "\n",
    "}\n",
    "```\n",
    "\n"
   ]
  },
  {
   "cell_type": "markdown",
   "metadata": {
    "id": "_06WvUzSrzWs"
   },
   "source": [
    "### 02 Largest prime factor (python)\n",
    "\n"
   ]
  },
  {
   "cell_type": "markdown",
   "metadata": {
    "id": "kDKBstLVrzWs"
   },
   "source": [
    "* Complete a python program in the following cell.\n",
    "\n"
   ]
  },
  {
   "cell_type": "code",
   "execution_count": null,
   "metadata": {
    "id": "a45qCx9ErzWs"
   },
   "outputs": [],
   "source": [
    "# Random number generator\n",
    "import random\n",
    "\n",
    "# Initalize the random number generator\n",
    "random.seed()\n",
    "\n",
    "random_int = random.randint(0, 20)\n",
    "\n",
    "# Using multiple if elif else block, \n",
    "# print the largest prime factor of random_int\n",
    "\n"
   ]
  },
  {
   "cell_type": "markdown",
   "metadata": {
    "id": "UVUn1ZDgrzWt"
   },
   "source": [
    "### 03 Largest prime factor (C/C++)\n",
    "\n"
   ]
  },
  {
   "cell_type": "markdown",
   "metadata": {
    "id": "EVyTzbYdrzWt"
   },
   "source": [
    "* Complete a C++ program of the following cell in a separate .cpp file.\n",
    "\n"
   ]
  },
  {
   "cell_type": "markdown",
   "metadata": {
    "id": "CBbW-r10rzWt"
   },
   "source": [
    "```C++\n",
    "// http://www.cplusplus.com/reference/cstdlib/rand/\n",
    "\n",
    "#include <cstdint>\n",
    "#include <cstdlib>\n",
    "#include <ctime>\n",
    "#include <iostream>\n",
    "\n",
    "int32_t main(const int32_t argn, const char * argv[]){\n",
    "\n",
    "    srand(time(NULL));\n",
    "\n",
    "    const int random_value = rand() % 20;\n",
    "    \n",
    "    // Using multiple if-else if-else block, \n",
    "    // print the largest prime factor \n",
    "    // of random_int\n",
    "    \n",
    "    return 0;\n",
    "\n",
    "}\n",
    "```\n",
    "\n"
   ]
  },
  {
   "cell_type": "code",
   "execution_count": null,
   "metadata": {
    "id": "xf6nu-tUrzWt"
   },
   "outputs": [],
   "source": []
  }
 ],
 "metadata": {
  "colab": {
   "provenance": []
  },
  "kernelspec": {
   "display_name": "Python 3.8.8 ('base')",
   "language": "python",
   "name": "python3"
  },
  "language_info": {
   "codemirror_mode": {
    "name": "ipython",
    "version": 3
   },
   "file_extension": ".py",
   "mimetype": "text/x-python",
   "name": "python",
   "nbconvert_exporter": "python",
   "pygments_lexer": "ipython3",
   "version": "3.8.8"
  },
  "vscode": {
   "interpreter": {
    "hash": "4150f68cd87cbed6fb079ed45b1de84b7a6e0f6d92fdf10cc796dee6a674dad8"
   }
  }
 },
 "nbformat": 4,
 "nbformat_minor": 1
}
