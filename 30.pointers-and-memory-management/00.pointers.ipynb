{
 "cells": [
  {
   "cell_type": "markdown",
   "metadata": {
    "id": "view-in-github",
    "colab_type": "text"
   },
   "source": [
    "<a href=\"https://colab.research.google.com/github/kangwonlee/2018pycpp/blob/ci-update/30.pointers-and-memory-management/00.pointers.ipynb\" target=\"_parent\"><img src=\"https://colab.research.google.com/assets/colab-badge.svg\" alt=\"Open In Colab\"/></a>\n"
   ]
  },
  {
   "cell_type": "markdown",
   "metadata": {},
   "source": [
    "# Introducing Pointers\n",
    "\n"
   ]
  },
  {
   "cell_type": "markdown",
   "metadata": {},
   "source": [
    "* Using pointers, programs in C/C++ languages can read and/or write to any memory with right permission.\n",
    "\n"
   ]
  },
  {
   "cell_type": "markdown",
   "metadata": {},
   "source": [
    "* Pointer variables contain integer values of specific addresses.\n",
    "\n"
   ]
  },
  {
   "cell_type": "markdown",
   "metadata": {},
   "source": [
    "* Let's consider following table.\n",
    "\n"
   ]
  },
  {
   "cell_type": "code",
   "execution_count": null,
   "metadata": {},
   "outputs": [],
   "source": [
    "import random\n",
    "\n",
    "import numpy.random as nr\n",
    "import pandas as pd\n",
    "\n"
   ]
  },
  {
   "cell_type": "code",
   "execution_count": null,
   "metadata": {
    "scrolled": true
   },
   "outputs": [],
   "source": [
    "base_addr = 0x60000000\n",
    "\n",
    "# Size of one variable : 4 Bytes == 32 bits\n",
    "size_t = 4\n",
    "\n",
    "# Number of 4 Byte variables\n",
    "no_cell = 8\n",
    "\n",
    "\n",
    "memory_map = pd.DataFrame(\n",
    "    data={\n",
    "        \"index\": range(no_cell)\n",
    "    }\n",
    ")\n",
    "\n",
    "memory_map[\"offset\"] = memory_map[\"index\"] * size_t\n",
    "memory_map[\"offset (hex)\"] = memory_map[\"offset\"].apply(lambda i:f\"{i:02x}\")\n",
    "memory_map[\"address\"] = memory_map[\"offset\"].add(base_addr)\n",
    "memory_map[\"address (hex)\"] = memory_map[\"address\"].apply(lambda i:f\"{i:08x}\")\n",
    "memory_map[\"content\"] = nr.randint(0xa000000, 0x7fffffff, size=(no_cell, 1))\n",
    "memory_map[\"content (hex)\"] = memory_map[\"content\"].apply(lambda i:f\"{i:08x}\")\n",
    "\n",
    "memory_map.set_index(\"address (hex)\", inplace=True)\n",
    "memory_map[[\"content (hex)\"]]\n",
    "\n"
   ]
  },
  {
   "cell_type": "markdown",
   "metadata": {},
   "source": [
    "* This tries to represent a part of the memory.\n",
    "* It is visible to a program.\n",
    "* The contents have random values because no initialization yet.\n",
    "\n"
   ]
  },
  {
   "cell_type": "markdown",
   "metadata": {},
   "source": [
    "* Let's assume we store a value `0` at `0x6000 0010`.\n",
    "\n"
   ]
  },
  {
   "cell_type": "code",
   "execution_count": null,
   "metadata": {},
   "outputs": [],
   "source": [
    "memory_map.loc[\"60000010\", \"content (hex)\"] = 0\n",
    "memory_map[[\"content (hex)\"]]\n",
    "\n"
   ]
  },
  {
   "cell_type": "markdown",
   "metadata": {},
   "source": [
    "* Now lets store the location of data to `0x6000 0000`.\n",
    "\n"
   ]
  },
  {
   "cell_type": "code",
   "execution_count": null,
   "metadata": {},
   "outputs": [],
   "source": [
    "memory_map.loc[\"60000000\", \"content (hex)\"] = \"60000010\"\n",
    "memory_map[[\"content (hex)\"]]\n",
    "\n"
   ]
  },
  {
   "cell_type": "markdown",
   "metadata": {},
   "source": [
    "* Now we can say that `0x6000 0000` is pointing to `0x6000 0010`.\n",
    "* Also a variable occupying `0x6000 0000` is a pointer variable.\n",
    "\n"
   ]
  },
  {
   "cell_type": "markdown",
   "metadata": {},
   "source": [
    "|         | variable | pointer | reference |\n",
    "|:------:|:--------:|:-------:|:---------:|\n",
    "|declaration | `int i;` | `int *p;` | `int &r = i;` |\n",
    "|  value  | `i` | `*p` | `r` |\n",
    "|  address  | `&i` | `p` | `&r` |\n",
    "|  address of address | N/A | `&p` | N/A |\n",
    "  \n",
    "  \n",
    "\n"
   ]
  },
  {
   "cell_type": "markdown",
   "metadata": {},
   "source": [
    "## Example : a pointer to an integer variable\n",
    "\n"
   ]
  },
  {
   "cell_type": "markdown",
   "metadata": {},
   "source": [
    "* Following C++ code shows declaring a pointer variable and assigining an address to it.[[ref](https://www.geeksforgeeks.org/pointers-vs-references-cpp/)]\n",
    "\n"
   ]
  },
  {
   "cell_type": "code",
   "execution_count": null,
   "metadata": {},
   "outputs": [],
   "source": [
    "%%writefile int_ptr.cpp\n",
    "#include <iostream>\n",
    "#include <iomanip>\n",
    "\n",
    "using namespace std;\n",
    "\n",
    "int main(int argn, char *argv[]){\n",
    "    // This is an integer variable\n",
    "    int i = 0;\n",
    "\n",
    "    // This is a pointer variable to the variable i\n",
    "    int *p = &i;\n",
    "\n",
    "    // Value of the variable i\n",
    "    cout << \"i         = \" << setw(16) << hex <<  i << '\\n';\n",
    "    // Address of the variable i\n",
    "    cout << \"&i        = \" << setw(16) << &i << '\\n';\n",
    "    // size of i\n",
    "    cout << \"sizeof(i) = \" << setw(16) << sizeof(i) << '\\n';\n",
    "\n",
    "    // Integer value at the location p\n",
    "    cout << \"*p        = \" << setw(16) << hex << *p << '\\n';\n",
    "    // Value of the pointer variable p\n",
    "    cout << \"p         = \" << setw(16) <<  p << '\\n';\n",
    "    // Address of the pointer variable p\n",
    "    cout << \"&p        = \" << setw(16) << &p << '\\n';\n",
    "    // Address of the pointer value (p + 1)\n",
    "    cout << \"(p + 1)   = \" << setw(16) << (p + 1) << '\\n';\n",
    "    // Address of the pointer value (p + 2)\n",
    "    cout << \"(p + 2)   = \" << setw(16) << (p + 2) << '\\n';\n",
    "    // size of p\n",
    "    cout << \"sizeof(p) = \" << setw(16) << sizeof(p) << '\\n';\n",
    "    // Value at (p + 1)\n",
    "    cout << \"*(p + 1)  = \" << setw(16) << *(p + 1) << '\\n';\n",
    "    // Value at (p + 2)\n",
    "    cout << \"*(p + 2)  = \" << setw(16) << *(p + 2) << '\\n';\n",
    "\n",
    "    return 0;\n",
    "}\n",
    "\n"
   ]
  },
  {
   "cell_type": "code",
   "execution_count": null,
   "metadata": {},
   "outputs": [],
   "source": [
    "!g++ -Wall -g -std=c++14 int_ptr.cpp -o int_ptr -Wa,-adhln=int_ptr.s\n",
    "\n"
   ]
  },
  {
   "cell_type": "code",
   "execution_count": null,
   "metadata": {},
   "outputs": [],
   "source": [
    "!./int_ptr\n",
    "\n"
   ]
  },
  {
   "cell_type": "markdown",
   "metadata": {},
   "source": [
    "* Following is one of possible output from the program above.\n",
    "\n"
   ]
  },
  {
   "cell_type": "markdown",
   "metadata": {},
   "source": [
    "```\n",
    "i         =                0\n",
    "&i        =   0x53c7ac35491c\n",
    "sizeof(i) =                4\n",
    "*p        =                0\n",
    "p         =   0x53c7ac35491c\n",
    "&p        =   0x53c7ac354920\n",
    "(p + 1)   =   0x53c7ac354920\n",
    "(p + 2)   =   0x53c7ac354924\n",
    "sizeof(p) =                8\n",
    "*(p + 1)  =         ac35491c\n",
    "*(p + 2)  =             53c7\n",
    "```\n",
    "\n"
   ]
  },
  {
   "cell_type": "markdown",
   "metadata": {},
   "source": [
    "* Output above may imply a memory map as follows.\n",
    "\n"
   ]
  },
  {
   "cell_type": "code",
   "execution_count": null,
   "metadata": {},
   "outputs": [],
   "source": [
    "base_addr = 0x53c7ac35491c\n",
    "\n",
    "# Size of one variable : 4 Bytes == 32 bits\n",
    "size_t = 4\n",
    "\n",
    "# Number of 4 Byte variables\n",
    "no_cell = 4\n",
    "\n",
    "\n",
    "memory_map = pd.DataFrame(\n",
    "    data={\n",
    "        \"index\": range(no_cell)\n",
    "    }\n",
    ")\n",
    "\n",
    "memory_map[\"offset\"] = memory_map[\"index\"] * size_t\n",
    "memory_map[\"offset (hex)\"] = memory_map[\"offset\"].apply(lambda i:f\"{i:02x}\")\n",
    "memory_map[\"address\"] = memory_map[\"offset\"].add(base_addr)\n",
    "memory_map[\"address (hex)\"] = memory_map[\"address\"].apply(lambda i:f\"{i:08x}\")\n",
    "memory_map[\"content\"] = nr.randint(0xa000000, 0x7fffffff, size=(no_cell, 1))\n",
    "memory_map[\"content (hex)\"] = memory_map[\"content\"].apply(lambda i:f\"{i:08x}\")\n",
    "\n",
    "memory_map.set_index(\"address (hex)\", inplace=True)\n",
    "\n",
    "i_addr = f\"{base_addr:08x}\"\n",
    "p_addr0 = f\"{base_addr + size_t:08x}\"\n",
    "p_addr1 = f\"{base_addr + size_t + size_t:08x}\"\n",
    "\n",
    "memory_map.loc[i_addr, \"content (hex)\"] = f\"{0:08x}\"\n",
    "memory_map.loc[p_addr0, \"content (hex)\"] = f\"{0xac35491c:08x}\"\n",
    "memory_map.loc[p_addr1, \"content (hex)\"] = f\"{0x53c7:08x}\"\n",
    "\n",
    "memory_map[[\"content (hex)\"]]\n",
    "\n"
   ]
  },
  {
   "cell_type": "markdown",
   "metadata": {},
   "source": [
    "* How can you verify if this memory map is correct?\n",
    "\n"
   ]
  },
  {
   "cell_type": "markdown",
   "metadata": {},
   "source": [
    "## Example : assigining to a pointer\n",
    "\n"
   ]
  },
  {
   "cell_type": "markdown",
   "metadata": {},
   "source": [
    "* Following example shows assigning another address to a pointer variable after initialization.\n",
    "\n"
   ]
  },
  {
   "cell_type": "code",
   "execution_count": null,
   "metadata": {},
   "outputs": [],
   "source": [
    "%%writefile ptr_asgn.cpp\n",
    "#include <iostream>\n",
    "#include <iomanip>\n",
    "\n",
    "using namespace std;\n",
    "\n",
    "int main(int argn, char *argv[]){\n",
    "    // These are variables\n",
    "    int i = 0, j = 0x01020304;\n",
    "\n",
    "    // This is a pointer variable\n",
    "    int *p = &i;\n",
    "\n",
    "    // Value of the variable i\n",
    "    cout << \"i  = \" << setw(16) << hex <<  i << '\\n';\n",
    "    // Address of the variable i\n",
    "    cout << \"&i = \" << setw(16) << &i << '\\n';\n",
    "\n",
    "    // Integer value at the location p\n",
    "    cout << \"*p = \" << setw(16) << hex << *p << '\\n';\n",
    "    // Value of the pointer variable p\n",
    "    cout << \"p  = \" << setw(16) <<  p << '\\n';\n",
    "    // Address of the pointer variable p\n",
    "    cout << \"&p = \" << setw(16) << &p << '\\n';\n",
    "\n",
    "    // Reassigning the pointer variable p\n",
    "    p = &j;\n",
    "    // Now p points to the variable j\n",
    "\n",
    "    // Value of the variable j\n",
    "    cout << \"j  = \" << setw(16) <<  j << '\\n';\n",
    "    // Address of the variable j\n",
    "    cout << \"&j = \" << setw(16) << &j << '\\n';\n",
    "\n",
    "    // Integer value at the location p\n",
    "    cout << \"*p = \" << setw(16) << *p << '\\n';\n",
    "    // Value of the pointer variable p\n",
    "    cout << \"p  = \" << setw(16) <<  p << '\\n';\n",
    "    // Address of the pointer variable p\n",
    "    cout << \"&p = \" << setw(16) << &p << '\\n';\n",
    "    \n",
    "    return 0;\n",
    "}\n",
    "\n"
   ]
  },
  {
   "cell_type": "code",
   "execution_count": null,
   "metadata": {},
   "outputs": [],
   "source": [
    "!g++ -Wall -g -std=c++14 ptr_asgn.cpp -o ptr_asgn -Wa,-adhln=ptr_asgn.s\n",
    "\n"
   ]
  },
  {
   "cell_type": "code",
   "execution_count": null,
   "metadata": {},
   "outputs": [],
   "source": [
    "!./ptr_asgn\n",
    "\n"
   ]
  },
  {
   "cell_type": "markdown",
   "metadata": {},
   "source": [
    "## Example : a pointer and a reference\n",
    "\n"
   ]
  },
  {
   "cell_type": "markdown",
   "metadata": {},
   "source": [
    "* Following example shows declaring a reference to a variable and assigning to it.\n",
    "\n"
   ]
  },
  {
   "cell_type": "code",
   "execution_count": null,
   "metadata": {},
   "outputs": [],
   "source": [
    "%%writefile ptr_ref.cpp\n",
    "#include <iostream>\n",
    "#include <iomanip>\n",
    "\n",
    "using namespace std;\n",
    "\n",
    "int main(int argn, char *argv[]){\n",
    "    // These are variables\n",
    "    int i = 0;\n",
    "\n",
    "    // This is a pointer variable\n",
    "    int *p = &i;\n",
    "\n",
    "    // This is a reference to i\n",
    "    int &r = i;\n",
    "\n",
    "    // Value of the variable i\n",
    "    cout << \"i  = \" << setw(16) << hex <<  i << '\\n';\n",
    "    // Address of the variable i\n",
    "    cout << \"&i = \" << setw(16) << &i << '\\n';\n",
    "\n",
    "    // Integer value at the location p\n",
    "    cout << \"*p = \" << setw(16) << hex << *p << '\\n';\n",
    "    // Value of the pointer variable p\n",
    "    cout << \"p  = \" << setw(16) <<  p << '\\n';\n",
    "    // Address of the pointer variable p\n",
    "    cout << \"&p = \" << setw(16) << &p << '\\n';\n",
    "\n",
    "    // Value of reference variable r\n",
    "    cout << \"r  = \" << setw(16) << hex << r << '\\n';\n",
    "    // Address of the reference variable r\n",
    "    cout << \"&r = \" << setw(16) << &r << '\\n';\n",
    "\n",
    "    r = 0x01020304;\n",
    "\n",
    "    // Value of reference variable r\n",
    "    cout << \"r  = \" << setw(16) << hex << r << '\\n';\n",
    "    // Address of the reference variable r\n",
    "    cout << \"&r = \" << setw(16) << &r << '\\n';\n",
    "\n",
    "    // Value of the variable i\n",
    "    cout << \"i  = \" << setw(16) << hex <<  i << '\\n';\n",
    "    // Address of the variable i\n",
    "    cout << \"&i = \" << setw(16) << &i << '\\n';\n",
    "\n",
    "    // Integer value at the location p\n",
    "    cout << \"*p = \" << setw(16) << hex << *p << '\\n';\n",
    "    // Value of the pointer variable p\n",
    "    cout << \"p  = \" << setw(16) <<  p << '\\n';\n",
    "    // Address of the pointer variable p\n",
    "    cout << \"&p = \" << setw(16) << &p << '\\n';\n",
    "    \n",
    "    return 0;\n",
    "}\n",
    "\n"
   ]
  },
  {
   "cell_type": "code",
   "execution_count": null,
   "metadata": {},
   "outputs": [],
   "source": [
    "!g++ -Wall -g -std=c++14 ptr_ref.cpp -o ptr_ref -Wa,-adhln=ptr_ref.s\n",
    "\n"
   ]
  },
  {
   "cell_type": "code",
   "execution_count": null,
   "metadata": {},
   "outputs": [],
   "source": [
    "!./ptr_ref\n",
    "\n"
   ]
  },
  {
   "cell_type": "markdown",
   "metadata": {},
   "source": [
    "## Pointer and array\n",
    "\n"
   ]
  },
  {
   "cell_type": "markdown",
   "metadata": {},
   "source": [
    "* In C/C++, an array variable contains the start address of an array.\n",
    "\n"
   ]
  },
  {
   "cell_type": "markdown",
   "metadata": {},
   "source": [
    "|         | variable | pointer | reference | array |\n",
    "|:------:|:--------:|:-------:|:---------:|:---------:|\n",
    "|declaration | `int i;` | `int *p;` | `int &r = i;` | `int a[] = {0, 1, 2, 3};` |\n",
    "|  value  | `i` | `*p` | `r` | `a[i]` |\n",
    "|  address  | `&i` | `p` | `&r` | `a+i` |\n",
    "|  address of address | N/A | `&p` | N/A | `&a` |\n",
    "  \n",
    "  \n",
    "\n"
   ]
  },
  {
   "cell_type": "markdown",
   "metadata": {},
   "source": [
    "* We can assign to an element of an array but not to the array\n",
    "\n"
   ]
  },
  {
   "cell_type": "markdown",
   "metadata": {},
   "source": [
    "* Please consider following example.\n",
    "\n"
   ]
  },
  {
   "cell_type": "code",
   "execution_count": null,
   "metadata": {},
   "outputs": [],
   "source": [
    "%%writefile ptr_ary.cpp\n",
    "#include <iostream>\n",
    "#include <iomanip>\n",
    "\n",
    "using namespace std;\n",
    "\n",
    "int main(int argn, char *argv[]){\n",
    "    // This is an integer array\n",
    "    int a[] = {1, 2, 3, 4};\n",
    "\n",
    "    // This is a pointer variable to the array\n",
    "    int *p = a;\n",
    "\n",
    "    // Value of the first element of the array\n",
    "    cout << \"a[0] = \" << setw(16) << hex <<  a[0] << '\\n';\n",
    "    // Address of the first element of the array\n",
    "    cout << \"a    = \" << setw(16) << (a + 0) << '\\n';\n",
    "    // Address of the array variable;\n",
    "    cout << \"&a   = \" << setw(16) << &a << '\\n';\n",
    "\n",
    "    // Integer value at the location p\n",
    "    cout << \"*p   = \" << setw(16) << hex << *p << '\\n';\n",
    "    // Value of the pointer variable p\n",
    "    cout << \"p    = \" << setw(16) <<  p << '\\n';\n",
    "    // Address of the pointer variable p\n",
    "    cout << \"&p   = \" << setw(16) << &p << '\\n';\n",
    "\n",
    "    return 0;\n",
    "}\n",
    "\n"
   ]
  },
  {
   "cell_type": "code",
   "execution_count": null,
   "metadata": {},
   "outputs": [],
   "source": [
    "!g++ -Wall -g -std=c++14 ptr_ary.cpp -o ptr_ary -Wa,-adhln=ptr_ary.s\n",
    "\n"
   ]
  },
  {
   "cell_type": "code",
   "execution_count": null,
   "metadata": {},
   "outputs": [],
   "source": [
    "!./ptr_ary\n",
    "\n"
   ]
  },
  {
   "cell_type": "markdown",
   "metadata": {},
   "source": [
    "* Following example combines a for loop with the array and the pointers.\n",
    "\n"
   ]
  },
  {
   "cell_type": "code",
   "execution_count": null,
   "metadata": {},
   "outputs": [],
   "source": [
    "%%writefile ptr_ary_for.cpp\n",
    "#include <iostream>\n",
    "#include <iomanip>\n",
    "\n",
    "using namespace std;\n",
    "\n",
    "int main(int argn, char *argv[]){\n",
    "    // This is an integer array\n",
    "    int a[] = {1, 2, 3, 4};\n",
    "\n",
    "    // This is a pointer variable to the array\n",
    "    int *p = a;\n",
    "    int *p_inc = a;\n",
    "\n",
    "    for (int i=0; 4 > i; ++i){\n",
    "\n",
    "\n",
    "        // Value of the first element of the array\n",
    "        cout << \"a[\" << i << \"]     = \" << setw(16) << hex <<  a[i] \n",
    "             << '\\n';\n",
    "        // Address of the first element of the array\n",
    "        cout << \"a + \" << i << \"    = \" << setw(16) << (a + i) \n",
    "             << '\\n';\n",
    "        // Address of the array variable;\n",
    "        cout << \"&(a[\" << i << \"])  = \" << setw(16) << &(a[i]) \n",
    "             << '\\n';\n",
    "\n",
    "        // Integer value at the location p + i\n",
    "        cout << \"*(p + \" << i << \") = \" << setw(16) << hex << *(p+i) \n",
    "             << '\\n';\n",
    "        // Address where p + i is pointing to\n",
    "        cout << \"p + \" << i << \"    = \" << setw(16) <<  (p+i) \n",
    "             << '\\n';\n",
    "\n",
    "        // Integer value at the location p_inc\n",
    "        cout << \"*(p_inc) = \" << setw(16) << hex << *(p_inc) \n",
    "             << '\\n';\n",
    "        // Value of the pointer variable p\n",
    "        cout << \"p_inc    = \" << setw(16) <<  (p_inc) \n",
    "             << '\\n';\n",
    "        p_inc ++;\n",
    "    }\n",
    "\n",
    "    return 0;\n",
    "}\n",
    "\n"
   ]
  },
  {
   "cell_type": "code",
   "execution_count": null,
   "metadata": {},
   "outputs": [],
   "source": [
    "!g++ -Wall -g -std=c++14 ptr_ary_for.cpp -o ptr_ary_for -Wa,-adhln=ptr_ary_for.s\n",
    "\n"
   ]
  },
  {
   "cell_type": "code",
   "execution_count": null,
   "metadata": {},
   "outputs": [],
   "source": [
    "!./ptr_ary_for\n",
    "\n"
   ]
  },
  {
   "cell_type": "markdown",
   "metadata": {},
   "source": [
    "### Two-dimensional array\n",
    "\n"
   ]
  },
  {
   "cell_type": "markdown",
   "metadata": {},
   "source": [
    "* Following example shows a two-dimensonal array.\n",
    "\n"
   ]
  },
  {
   "cell_type": "markdown",
   "metadata": {},
   "source": [
    "* C/C++ compiler needs to know the size of the *column*.\n",
    "\n"
   ]
  },
  {
   "cell_type": "code",
   "execution_count": null,
   "metadata": {},
   "outputs": [],
   "source": [
    "%%writefile ary_2d.cpp\n",
    "#include <iostream>\n",
    "#include <iomanip>\n",
    "\n",
    "using namespace std;\n",
    "\n",
    "int main(int argn, char *argv[]){\n",
    "    \n",
    "    // This is a two dimensional array\n",
    "    int a[][4] = {\n",
    "        {11, 12, 13, 14},\n",
    "        {21, 22, 23, 24},\n",
    "        {31, 32, 33, 34},\n",
    "        {41, 42, 43, 44},\n",
    "    };\n",
    "\n",
    "    for (int i=0; 4 > i; ++i){\n",
    "        for (int j=0; 4 > j; ++j){\n",
    "            cout << a[i][j] << ' ';\n",
    "        }        \n",
    "        cout << '\\n';\n",
    "    }\n",
    "\n",
    "    return 0;\n",
    "}\n",
    "\n"
   ]
  },
  {
   "cell_type": "code",
   "execution_count": null,
   "metadata": {},
   "outputs": [],
   "source": [
    "!g++ -Wall -g -std=c++14 ary_2d.cpp -o ary_2d -Wa,-adhln=ary_2d.s\n",
    "\n"
   ]
  },
  {
   "cell_type": "code",
   "execution_count": null,
   "metadata": {},
   "outputs": [],
   "source": [
    "!./ary_2d\n",
    "\n"
   ]
  },
  {
   "cell_type": "markdown",
   "metadata": {},
   "source": [
    "### Multi-dimensional array\n",
    "\n"
   ]
  },
  {
   "cell_type": "markdown",
   "metadata": {},
   "source": [
    "* Following example shows a three-dimensonal array.\n",
    "\n"
   ]
  },
  {
   "cell_type": "markdown",
   "metadata": {},
   "source": [
    "* C/C++ compiler needs to know all sizes except the first dimension.\n",
    "\n"
   ]
  },
  {
   "cell_type": "code",
   "execution_count": null,
   "metadata": {},
   "outputs": [],
   "source": [
    "%%writefile ary_3d.cpp\n",
    "#include <iostream>\n",
    "#include <iomanip>\n",
    "\n",
    "using namespace std;\n",
    "\n",
    "int main(int argn, char *argv[]){\n",
    "\n",
    "    // This is a three dimensional array\n",
    "    int a[][2][3] = {\n",
    "        {\n",
    "            {111, 112, 113},\n",
    "            {121, 122, 123},\n",
    "        },\n",
    "        {\n",
    "            {211, 212, 213},\n",
    "            {221, 222, 223},\n",
    "        },\n",
    "        {\n",
    "            {311, 312, 313},\n",
    "            {321, 322, 323},\n",
    "        },\n",
    "        {\n",
    "            {411, 412, 413},\n",
    "            {421, 422, 423},\n",
    "        },\n",
    "    };\n",
    "\n",
    "    for (int i=0; 4 > i; ++i){\n",
    "        for (int j=0; 2 > j; ++j){\n",
    "            for (int k=0; 3 > k ; ++k){\n",
    "                cout << a[i][j][k] << ' ';\n",
    "            }\n",
    "            cout << '\\n';\n",
    "        }\n",
    "        cout << \"============\" << '\\n';\n",
    "    }\n",
    "\n",
    "    return 0;\n",
    "}\n",
    "\n"
   ]
  },
  {
   "cell_type": "code",
   "execution_count": null,
   "metadata": {},
   "outputs": [],
   "source": [
    "!g++ -Wall -g -std=c++14 ary_3d.cpp -o ary_3d -Wa,-adhln=ary_3d.s\n",
    "\n"
   ]
  },
  {
   "cell_type": "code",
   "execution_count": null,
   "metadata": {},
   "outputs": [],
   "source": [
    "!./ary_3d\n",
    "\n"
   ]
  },
  {
   "cell_type": "markdown",
   "metadata": {},
   "source": [
    "## Array of Pointers\n",
    "\n"
   ]
  },
  {
   "cell_type": "markdown",
   "metadata": {},
   "source": [
    "* An array may have pointers as its elements.\n",
    "\n"
   ]
  },
  {
   "cell_type": "markdown",
   "metadata": {},
   "source": [
    "* Following example shows an array of `char` pointers.\n",
    "\n"
   ]
  },
  {
   "cell_type": "code",
   "execution_count": null,
   "metadata": {},
   "outputs": [],
   "source": [
    "%%writefile ary_ptr.cpp\n",
    "#include <iostream>\n",
    "\n",
    "using namespace std;\n",
    "\n",
    "int main(const int argn, char *argv[]){\n",
    "\n",
    "    // This is an array of pointers\n",
    "    const char *s[] = {\n",
    "        \"Is\",\n",
    "        \"this\",\n",
    "        \"sort of\",\n",
    "        \"familiar ?\",\n",
    "    };\n",
    "\n",
    "    for (int i=0; 4 > i; ++i){\n",
    "            cout << s[i]<< ' ';\n",
    "    }\n",
    "    cout << '\\n';\n",
    "\n",
    "    // This is another array of pointers\n",
    "    const char *t[] = {\n",
    "        \"If\",\n",
    "        \"not\",\n",
    "        \"certain\",\n",
    "        \"run this with arguments\",\n",
    "    };\n",
    "\n",
    "    for (int i=0; 4 > i; ++i){\n",
    "            cout << t[i]<< ' ';\n",
    "    }\n",
    "    cout << '\\n';\n",
    "\n",
    "    // Please run with arguments\n",
    "    for (int i=0; argn > i; ++i){\n",
    "            cout << \"argv[\" << i << \"]= \" << argv[i]<< '\\n';\n",
    "    }\n",
    "\n",
    "    return 0;\n",
    "}\n",
    "\n"
   ]
  },
  {
   "cell_type": "code",
   "execution_count": null,
   "metadata": {},
   "outputs": [],
   "source": [
    "!g++ -Wall -g -std=c++14 ary_ptr.cpp -o ary_ptr -Wa,-adhln=ary_ptr.s\n",
    "\n"
   ]
  },
  {
   "cell_type": "code",
   "execution_count": null,
   "metadata": {},
   "outputs": [],
   "source": [
    "!./ary_ptr\n",
    "\n"
   ]
  },
  {
   "cell_type": "markdown",
   "metadata": {},
   "source": [
    "## Calling by reference\n",
    "\n"
   ]
  },
  {
   "cell_type": "markdown",
   "metadata": {},
   "source": [
    "* Basically, all C/C++ function calls are **call by value**; arguments are values not references.\n",
    "\n"
   ]
  },
  {
   "cell_type": "markdown",
   "metadata": {},
   "source": [
    "* Changes of arguments within a *callee* function do not influence the *caller* function.\n",
    "\n"
   ]
  },
  {
   "cell_type": "markdown",
   "metadata": {},
   "source": [
    "* However, there are cases that we need to update arguments.\n",
    "\n"
   ]
  },
  {
   "cell_type": "markdown",
   "metadata": {},
   "source": [
    "* Following example shows how we can using both a pointer and a reference.\n",
    "\n"
   ]
  },
  {
   "cell_type": "code",
   "execution_count": null,
   "metadata": {},
   "outputs": [],
   "source": [
    "%%writefile call_by_ref.cpp\n",
    "#include <iostream>\n",
    "\n",
    "using namespace std;\n",
    "\n",
    "void accumulate_array_ptr(double *, const double);\n",
    "void accumulate_array_ref(double &, const double);\n",
    "\n",
    "int main(const int argn, char *argv[]){\n",
    "\n",
    "    double update_this_with_pointer = 0.0;\n",
    "    double update_this_with_reference = 0.0;\n",
    "\n",
    "    for(int i=0; 10 > i; ++i){\n",
    "        accumulate_array_ptr(&update_this_with_pointer, (double)i);\n",
    "        accumulate_array_ref(update_this_with_reference, (double)i);\n",
    "    }\n",
    "\n",
    "    cout << \"Pointer result   = \" << update_this_with_pointer \n",
    "         << '\\n';\n",
    "    cout << \"Reference result = \" << update_this_with_reference \n",
    "         << '\\n';\n",
    "\n",
    "    return 0;\n",
    "}\n",
    "\n",
    "void accumulate_array_ptr(double * s, const double a){\n",
    "    *s += a;\n",
    "}\n",
    "\n",
    "void accumulate_array_ref(double & t, const double a){\n",
    "    t += a;\n",
    "}\n",
    "\n"
   ]
  },
  {
   "cell_type": "code",
   "execution_count": null,
   "metadata": {},
   "outputs": [],
   "source": [
    "!g++ -Wall -g -std=c++14 call_by_ref.cpp -o call_by_ref -Wa,-adhln=call_by_ref.s\n",
    "\n"
   ]
  },
  {
   "cell_type": "code",
   "execution_count": null,
   "metadata": {},
   "outputs": [],
   "source": [
    "!./call_by_ref\n",
    "\n"
   ]
  },
  {
   "cell_type": "markdown",
   "metadata": {},
   "source": [
    "## Exercise\n",
    "\n"
   ]
  },
  {
   "cell_type": "markdown",
   "metadata": {},
   "source": [
    "### 00 Pointer\n",
    "\n"
   ]
  },
  {
   "cell_type": "markdown",
   "metadata": {},
   "source": [
    "* Write a C++ code changing values of variables (`i`, `*p`, and `r` above) and observe the influences.\n",
    "\n"
   ]
  },
  {
   "cell_type": "markdown",
   "metadata": {},
   "source": [
    "### 01 Multi-dimensional arrays\n",
    "\n"
   ]
  },
  {
   "cell_type": "markdown",
   "metadata": {},
   "source": [
    "* Write a C++ code about $2\\times2$ matrices as follows:\n",
    "\n"
   ]
  },
  {
   "cell_type": "markdown",
   "metadata": {},
   "source": [
    "1. Write a function that accepts a `double [][2]` (or `double [2][2]`) and a `const char *` as arguments.<br>\n",
    "This function would print the string and the $2\\times2$ matrix.\n",
    "1. Write a function that accepts three `double [][2]`'s (or `double [2][2]`'s) as arguments.<br>\n",
    "The function would store sum of first two matricies to the third matrix.<br>If possible use `for` loops.\n",
    "1. In the `main()` function, prepare three $2\\times2$ matrices as two-dimensional arrays of `double`'s.<br>\n",
    "Using the functions above, add two matrices of your choice and present the matrices before and after.<br>\n",
    "\n"
   ]
  },
  {
   "cell_type": "code",
   "execution_count": null,
   "metadata": {},
   "outputs": [],
   "source": []
  }
 ],
 "metadata": {
  "kernelspec": {
   "display_name": "Python 3",
   "language": "python",
   "name": "python3"
  },
  "language_info": {
   "codemirror_mode": {
    "name": "ipython",
    "version": 3
   },
   "file_extension": ".py",
   "mimetype": "text/x-python",
   "name": "python",
   "nbconvert_exporter": "python",
   "pygments_lexer": "ipython3",
   "version": "3.6.5"
  }
 },
 "nbformat": 4,
 "nbformat_minor": 2
}