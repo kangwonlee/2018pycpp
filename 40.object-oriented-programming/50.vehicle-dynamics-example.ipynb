{
 "cells": [
  {
   "cell_type": "code",
   "execution_count": null,
   "metadata": {},
   "outputs": [],
   "source": [
    "import dataclasses\n",
    "import matplotlib.pyplot as plt\n",
    "import numpy as np\n",
    "import numpy.linalg as nl\n",
    "import pandas as pd\n",
    "import scipy.signal as signal\n",
    "\n"
   ]
  },
  {
   "cell_type": "markdown",
   "metadata": {},
   "source": [
    "# Example: Vehicle Dynamics in Classes\n",
    "\n"
   ]
  },
  {
   "cell_type": "markdown",
   "metadata": {},
   "source": [
    "## Benefit of using python in simulating the vehicle dynamics\n",
    "\n"
   ]
  },
  {
   "cell_type": "markdown",
   "metadata": {},
   "source": [
    "* May save cost before establishing a more solid research basis capable of accomodating propriotary simulation software\n",
    "* Possibly smoother integration with existing and future libraries or modules of python extending functionalities\n",
    "\n"
   ]
  },
  {
   "cell_type": "markdown",
   "metadata": {},
   "source": [
    "## Formulation\n",
    "\n"
   ]
  },
  {
   "cell_type": "markdown",
   "metadata": {},
   "source": [
    "Frequently Vehicle dynamics is described as follows.\n",
    "\n"
   ]
  },
  {
   "cell_type": "markdown",
   "metadata": {},
   "source": [
    "$$\n",
    "\\frac{d}{dt} \n",
    "    \\begin{bmatrix} \n",
    "        v \\\\ \n",
    "        r \n",
    "    \\end{bmatrix} =  \\begin{bmatrix} \n",
    "         \\frac{-\\left(C_{af} + C_{ar}\\right)}{mu} & \\frac{bC_{ar} - a C_{af}}{mu} -u \\\\\n",
    "         \\frac{bC_{ar} - a C_{af}}{I_z u}  &  \\frac{-\\left(a^2 C_{af} + b^2 C_{ar}\\right)}{I_z u} \\\\\n",
    "     \\end{bmatrix}     \\begin{bmatrix} v \\\\ r \\end{bmatrix} + \\begin{bmatrix} \n",
    "           \\frac{C_{af}}{m} \\\\ \n",
    "           \\frac{a C_{af}}{I_{z}} \\\\ \n",
    "     \\end{bmatrix} \\delta_f\n",
    " $$\n",
    "\n"
   ]
  },
  {
   "cell_type": "markdown",
   "metadata": {},
   "source": [
    "Following class would prepare the matrices of state matrix.\n",
    "\n"
   ]
  },
  {
   "cell_type": "code",
   "execution_count": null,
   "metadata": {},
   "outputs": [],
   "source": [
    "@dataclasses.dataclass\n",
    "class BicycleModel:\n",
    "    m_kg:float = 1500\n",
    "    Iz_kg_m2:float = 2420\n",
    "    a_m:float = 1.14\n",
    "    L_m:float = 2.54\n",
    "    Caf:float = 44000 * 2\n",
    "    Car:float = 47000 * 2\n",
    "\n",
    "    def __post_init__(self):\n",
    "        self.b_m = self.L_m - self.a_m\n",
    "        self.u_mps = self.get_char_speed()\n",
    "\n",
    "        self.mat_a = self.get_mat_a()\n",
    "        self.mat_b = self.get_mat_b()\n",
    "        self.mat_c = np.identity(self.mat_a.shape[0])\n",
    "        self.mat_d = np.zeros((self.mat_a.shape[0], self.mat_b.shape[1]))\n",
    "        \n",
    "        self.ss = signal.StateSpace(self.mat_a, self.mat_b, self.mat_c, self.mat_d,)\n",
    "        \n",
    "    def get_a00(self):\n",
    "        return -(self.Caf + self.Car) / (self.m_kg * self.u_mps)\n",
    "\n",
    "    def get_a01(self):\n",
    "        return (self.b_m * self.Car - self.a_m * self.Caf) / (self.m_kg * self.u_mps) - self.u_mps\n",
    "\n",
    "    def get_a10(self):\n",
    "        return (self.b_m * self.Car - self.a_m * self.Caf) / (self.Iz_kg_m2 * self.u_mps)\n",
    "\n",
    "    def get_a11(self):\n",
    "        return -((self.a_m ** 2) * self.Caf + (self.b_m**2) * self.Car) / (self.Iz_kg_m2 * self.u_mps)\n",
    "\n",
    "    def get_mat_a(self):\n",
    "        \"\"\"\n",
    "        Calculate state matrix of linear model\n",
    "        \"\"\"\n",
    "        return np.array([\n",
    "            [self.get_a00(), self.get_a01()],\n",
    "            [self.get_a10(), self.get_a11()],\n",
    "        ])\n",
    "\n",
    "    def get_b00(self):\n",
    "        return self.Caf / self.m_kg\n",
    "\n",
    "    def get_b10(self):\n",
    "        return self.a_m * self.Car / self.Iz_kg_m2\n",
    "\n",
    "    def get_mat_b(self):\n",
    "        \"\"\"\n",
    "        Calculate input matrix of linear model\n",
    "        \"\"\"\n",
    "        return np.array([\n",
    "            [self.get_b00()],\n",
    "            [self.get_b10()],\n",
    "        ])\n",
    "\n",
    "    def get_kus(self):\n",
    "        \"\"\"Understeering coefficient\"\"\"\n",
    "        return self.m_kg * (self.b_m / (self.L_m * self.Caf) - self.a_m / (self.L_m * self.Caf))\n",
    "\n",
    "    def get_char_speed(self):\n",
    "        return (self.L_m / self.get_kus()) ** 0.5\n",
    "\n",
    "    def get_dx_dt(self):\n",
    "        def dx_dt(x:np.ndarray, steering_rad:float=0):\n",
    "            return self.mat_a @ x + self.mat_b * steering_rad\n",
    "\n",
    "        return dx_dt\n",
    "\n"
   ]
  },
  {
   "cell_type": "markdown",
   "metadata": {},
   "source": [
    "Following cell creates an object of the `bicycle_model` class and checks if it can create the A & B matrices.\n",
    "\n"
   ]
  },
  {
   "cell_type": "code",
   "execution_count": null,
   "metadata": {},
   "outputs": [],
   "source": [
    "vehicle = BicycleModel()\n",
    "assert isinstance(vehicle.get_mat_a(), np.ndarray)\n",
    "assert isinstance(vehicle.get_mat_b(), np.ndarray)\n",
    "assert isinstance(vehicle.get_kus(), float)\n",
    "assert isinstance(vehicle.get_char_speed(), float)\n",
    "assert callable(vehicle.get_dx_dt())\n",
    "\n"
   ]
  },
  {
   "cell_type": "markdown",
   "metadata": {},
   "source": [
    "## Visualization\n",
    "\n"
   ]
  },
  {
   "cell_type": "markdown",
   "metadata": {},
   "source": [
    "Frequently `matplotlib` is used to plot data in two dimensional spaces.\n",
    "\n"
   ]
  },
  {
   "cell_type": "markdown",
   "metadata": {},
   "source": [
    "### Slope field of the two dimensional bicycle model\n",
    "\n"
   ]
  },
  {
   "cell_type": "markdown",
   "metadata": {},
   "source": [
    "With the state matrix $A$, we can plot the slope vector $\\frac{d}{dt}\\begin{bmatrix}v & r \\end{bmatrix} ^T$ at all values of  $\\begin{bmatrix}v & r \\end{bmatrix}^T$.\n",
    "\n"
   ]
  },
  {
   "cell_type": "markdown",
   "metadata": {},
   "source": [
    "$$\n",
    "\\dot x_{2 \\times 1} = A_{2 \\times 2} x_{2 \\times 1}\n",
    "$$\n",
    "\n"
   ]
  },
  {
   "cell_type": "markdown",
   "metadata": {},
   "source": [
    "$$\n",
    "\\dot x_{2 \\times m} = A_{2 \\times 2} x_{2 \\times m}\n",
    "$$\n",
    "\n"
   ]
  },
  {
   "cell_type": "code",
   "execution_count": null,
   "metadata": {},
   "outputs": [],
   "source": [
    "v_mps = np.linspace(-1, 1)\n",
    "r_dps = np.linspace(-5, 5) # degree per second\n",
    "r_rps = np.deg2rad(r_dps)\n",
    "\n",
    "v_grid_mps, r_grid_rps = np.meshgrid(v_mps, r_dps)\n",
    "v_grid_mps.shape, r_grid_rps.shape\n",
    "\n"
   ]
  },
  {
   "cell_type": "code",
   "execution_count": null,
   "metadata": {},
   "outputs": [],
   "source": [
    "v_row = v_grid_mps.flatten()\n",
    "r_row = r_grid_rps.flatten()\n",
    "\n"
   ]
  },
  {
   "cell_type": "code",
   "execution_count": null,
   "metadata": {},
   "outputs": [],
   "source": [
    "v_r_grid = np.array([v_row, r_row])\n",
    "v_r_grid.shape\n",
    "\n"
   ]
  },
  {
   "cell_type": "code",
   "execution_count": null,
   "metadata": {},
   "outputs": [],
   "source": [
    "vehicle = BicycleModel()\n",
    "mat_A = vehicle.get_mat_a()\n",
    "mat_A.shape\n",
    "\n"
   ]
  },
  {
   "cell_type": "code",
   "execution_count": null,
   "metadata": {},
   "outputs": [],
   "source": [
    "x_dot_grid = mat_A @ v_r_grid\n",
    "x_dot_grid.shape\n",
    "\n"
   ]
  },
  {
   "cell_type": "code",
   "execution_count": null,
   "metadata": {},
   "outputs": [],
   "source": [
    "v_dot_grid_m = x_dot_grid[0, :].reshape(v_grid_mps.shape)\n",
    "r_dot_grid_rad = x_dot_grid[1, :].reshape(r_grid_rps.shape)\n",
    "v_dot_grid_m.shape, r_dot_grid_rad.shape\n",
    "\n"
   ]
  },
  {
   "cell_type": "code",
   "execution_count": null,
   "metadata": {},
   "outputs": [],
   "source": [
    "plt.figure(figsize=(10, 10))\n",
    "plt.quiver(v_mps, r_dps, v_dot_grid_m, np.rad2deg(r_dot_grid_rad))\n",
    "plt.grid(True)\n",
    "plt.xlabel('v (m/s)')\n",
    "plt.ylabel('r (deg/s)')\n",
    "plt.savefig('bicycle_model_slope_fields.svg')\n",
    "\n"
   ]
  },
  {
   "cell_type": "markdown",
   "metadata": {},
   "source": [
    "## Available numerical solvers for ordinary differential equations\n",
    "\n"
   ]
  },
  {
   "cell_type": "markdown",
   "metadata": {},
   "source": [
    "Two of the possible options to numerically solve an ordianry differential equations are as follows.\n",
    "\n"
   ]
  },
  {
   "cell_type": "markdown",
   "metadata": {},
   "source": [
    "* manual implementation\n",
    "* `scipy` module\n",
    "\n"
   ]
  },
  {
   "cell_type": "markdown",
   "metadata": {},
   "source": [
    "### Scipy.integrate"
   ]
  },
  {
   "cell_type": "markdown",
   "metadata": {},
   "source": [
    "Roughly, there are two interfaces to numerical solvers for ordinary differential equations.\n",
    "\n"
   ]
  },
  {
   "cell_type": "markdown",
   "metadata": {},
   "source": [
    "* `scipy.integrate.solve_ivp`\n",
    "* `scipy.integrate.OdeSolver`\n",
    "\n"
   ]
  },
  {
   "cell_type": "markdown",
   "metadata": {},
   "source": [
    "Following classes are to assist the numerical solvers.\n",
    "\n"
   ]
  },
  {
   "cell_type": "markdown",
   "metadata": {},
   "source": [
    "* `scipy.integrate.DenseOutput`\n",
    "* `scipy.integrate.OdeSolution`\n",
    "\n"
   ]
  },
  {
   "cell_type": "markdown",
   "metadata": {},
   "source": [
    "### Scipy.signal\n",
    "\n"
   ]
  },
  {
   "cell_type": "markdown",
   "metadata": {},
   "source": [
    "Scipy also has a subpackage `signal` with following functions, comparable to those of the  Matlab$^{TM}$.\n",
    "\n"
   ]
  },
  {
   "cell_type": "markdown",
   "metadata": {},
   "source": [
    "* `scipy.signal.lsim`\n",
    "* `scipy.signal.impulse`\n",
    "* `scipy.signal.step`\n",
    "* `scipy.signal.dlsim`\n",
    "* `scipy.signal.dimpulse`\n",
    "* `scipy.signal.dstep`\n",
    "\n"
   ]
  },
  {
   "cell_type": "markdown",
   "metadata": {},
   "source": [
    "Functions with names starting with `d`are for discrete time.\n",
    "\n"
   ]
  },
  {
   "cell_type": "markdown",
   "metadata": {},
   "source": [
    "Following classes are available in the `scipy.signal`.\n",
    "\n"
   ]
  },
  {
   "cell_type": "markdown",
   "metadata": {},
   "source": [
    "* `scipy.signal.lti`\n",
    "* `scipy.signal.dlti`\n",
    "* `scipy.signal.StateSpace`\n",
    "* `scipy.signal.TransferFunction`\n",
    "* `scipy.signal.ZerosPolesGain`\n",
    "\n"
   ]
  },
  {
   "cell_type": "markdown",
   "metadata": {},
   "source": [
    "### Solution without input\n",
    "\n"
   ]
  },
  {
   "cell_type": "markdown",
   "metadata": {},
   "source": [
    "Following is one possible example.\n",
    "\n"
   ]
  },
  {
   "cell_type": "code",
   "execution_count": null,
   "metadata": {},
   "outputs": [],
   "source": [
    "simulator = BicycleModel()\n",
    "\n"
   ]
  },
  {
   "cell_type": "markdown",
   "metadata": {},
   "source": [
    "We can prepare the input signal as follows.\n",
    "\n"
   ]
  },
  {
   "cell_type": "code",
   "execution_count": null,
   "metadata": {},
   "outputs": [],
   "source": [
    "t_sec_array = np.arange(0, 2, 0.01)\n",
    "zero_steering_deg_array = np.zeros_like(t_sec_array)\n",
    "zero_steering_deg_array = np.deg2rad(zero_steering_deg_array)\n",
    "\n"
   ]
  },
  {
   "cell_type": "markdown",
   "metadata": {},
   "source": [
    "The function `lsim()` would generate the simulation result.\n",
    "\n"
   ]
  },
  {
   "cell_type": "code",
   "execution_count": null,
   "metadata": {},
   "outputs": [],
   "source": [
    "t_out_sec_array, y_array, x_array = signal.lsim(simulator.ss, zero_steering_deg_array, t_sec_array, X0=[0.0, np.deg2rad(3)])\n",
    "t_out_sec_array.shape, y_array.shape, x_array.shape\n",
    "\n"
   ]
  },
  {
   "cell_type": "code",
   "execution_count": null,
   "metadata": {
    "scrolled": true
   },
   "outputs": [],
   "source": [
    "plt.subplot(2, 1, 1)\n",
    "plt.plot(t_out_sec_array, y_array[:, 0])\n",
    "plt.ylabel('$v$ (m/sec)')\n",
    "plt.grid(True)\n",
    "\n",
    "plt.subplot(2, 1, 2)\n",
    "plt.plot(t_out_sec_array, np.rad2deg(y_array[:, 1]))\n",
    "plt.xlabel('$t$ (sec)')\n",
    "plt.ylabel('$r$ (deg/sec)')\n",
    "plt.grid(True)\n",
    "\n"
   ]
  },
  {
   "cell_type": "markdown",
   "metadata": {},
   "source": [
    "Let's visualize on the slope field.\n",
    "\n"
   ]
  },
  {
   "cell_type": "code",
   "execution_count": null,
   "metadata": {},
   "outputs": [],
   "source": [
    "plt.figure(figsize=(10, 10))\n",
    "plt.quiver(v_mps, r_dps, v_dot_grid_m, np.rad2deg(r_dot_grid_rad))\n",
    "\n",
    "plt.plot(y_array[:, 0], np.rad2deg(y_array[:, 1]))\n",
    "\n",
    "plt.grid(True)\n",
    "plt.xlabel('v (m/s)')\n",
    "plt.ylabel('r (deg/s)')\n",
    "plt.savefig('bicycle_model_slope_fields_with_sol_curve.svg')\n",
    "\n"
   ]
  },
  {
   "cell_type": "markdown",
   "metadata": {},
   "source": [
    "### Solution with steering input\n",
    "\n"
   ]
  },
  {
   "cell_type": "markdown",
   "metadata": {},
   "source": [
    "We can prepare the input signal as follows.\n",
    "\n"
   ]
  },
  {
   "cell_type": "code",
   "execution_count": null,
   "metadata": {},
   "outputs": [],
   "source": [
    "t_sec_array = np.arange(0, 6, 0.01)\n",
    "steering_deg_array = 0.5 * np.sin((0.4 * 2 * np.pi) * t_sec_array)\n",
    "steering_rad_array = np.deg2rad(steering_deg_array)\n",
    "\n"
   ]
  },
  {
   "cell_type": "markdown",
   "metadata": {},
   "source": [
    "With non-zero steering input, the simulation result would be as follows.\n",
    "\n"
   ]
  },
  {
   "cell_type": "code",
   "execution_count": null,
   "metadata": {},
   "outputs": [],
   "source": [
    "t_out_sec_array, y_array, x_array = signal.lsim(simulator.ss, steering_rad_array, t_sec_array)\n",
    "t_out_sec_array.shape, y_array.shape, x_array.shape\n",
    "\n"
   ]
  },
  {
   "cell_type": "code",
   "execution_count": null,
   "metadata": {},
   "outputs": [],
   "source": [
    "plt.subplot(2, 1, 1)\n",
    "plt.plot(t_out_sec_array, y_array[:, 0])\n",
    "plt.ylabel('$v$ (m/sec)')\n",
    "plt.grid(True)\n",
    "\n",
    "plt.subplot(2, 1, 2)\n",
    "plt.plot(t_out_sec_array, np.rad2deg(y_array[:, 1]))\n",
    "plt.xlabel('$t$ (sec)')\n",
    "plt.ylabel('$r$ (deg/sec)')\n",
    "plt.grid(True)\n",
    "\n"
   ]
  },
  {
   "cell_type": "markdown",
   "metadata": {},
   "source": [
    "### Using `pandas` to handle data\n",
    "\n"
   ]
  },
  {
   "cell_type": "code",
   "execution_count": null,
   "metadata": {},
   "outputs": [],
   "source": [
    "steering_angle_series = pd.Series(\n",
    "    steering_deg_array,\n",
    "    name=\"$\\delta$ deg\",\n",
    "    index=t_sec_array,\n",
    ")\n",
    "\n"
   ]
  },
  {
   "cell_type": "code",
   "execution_count": null,
   "metadata": {},
   "outputs": [],
   "source": [
    "steering_angle_series.plot()\n",
    "\n"
   ]
  },
  {
   "cell_type": "markdown",
   "metadata": {},
   "source": [
    "A researcher may use it as an input to the `lsim()`.\n",
    "\n"
   ]
  },
  {
   "cell_type": "code",
   "execution_count": null,
   "metadata": {},
   "outputs": [],
   "source": [
    "t_out_sec_array2, y_array2, x_array2 = signal.lsim(simulator.ss, steering_angle_series, steering_angle_series.index)\n",
    "t_out_sec_array2.shape, y_array2.shape, x_array2.shape\n",
    "\n"
   ]
  },
  {
   "cell_type": "code",
   "execution_count": null,
   "metadata": {},
   "outputs": [],
   "source": [
    "type(t_out_sec_array2), type(y_array2), type(x_array2)\n",
    "\n"
   ]
  },
  {
   "cell_type": "markdown",
   "metadata": {},
   "source": [
    "### python-control"
   ]
  },
  {
   "cell_type": "markdown",
   "metadata": {},
   "source": [
    "Another possible option is `python-control`.  This package is available through `pip` or `conda` package managers.\n",
    "\n"
   ]
  },
  {
   "cell_type": "markdown",
   "metadata": {},
   "source": [
    "## References\n",
    "\n"
   ]
  },
  {
   "cell_type": "markdown",
   "metadata": {},
   "source": [
    "* Johansson, R., \"Ordinary Differential Equations\" in Numerical Python: Scientific Computing and Data Science Applications with Numpy, Scipy, and Matplotlib, APress, 2019, pp. 347-388.\n",
    "* The SciPy community, \"Integration and ODEs (scipy.integrate)\" in API Reference, SciPy v1.4.1 Reference Guide, 2019. [Online] Available: https://docs.scipy.org/doc/scipy/reference/integrate.html.\n",
    "* The SciPy community, \"Signal processing (scipy.signal)\" in API Reference, SciPy v1.4.1 Reference Guide, 2019. [Online] Available: https://docs.scipy.org/doc/scipy/reference/signal.html.\n",
    "* Murray, R., \"Python Control Systems Library\", 2009. [Online] Available: https://python-control.readthedocs.io.\n",
    "* Aarwal, V., \"Set 5 (post-init)\" in \"Data Classes in Python\", Geeks for Geeks. [Online] Available : https://www.geeksforgeeks.org/data-classes-in-python-set-5-post-init/. \n",
    "\n"
   ]
  },
  {
   "cell_type": "markdown",
   "metadata": {},
   "source": [
    "## Final Bell\n",
    "\n"
   ]
  },
  {
   "cell_type": "code",
   "execution_count": null,
   "metadata": {},
   "outputs": [],
   "source": [
    "# stackoverfow.com/a/24634221\n",
    "import os\n",
    "os.system(\"printf '\\a'\");\n",
    "\n"
   ]
  },
  {
   "cell_type": "code",
   "execution_count": null,
   "metadata": {},
   "outputs": [],
   "source": []
  }
 ],
 "metadata": {
  "kernelspec": {
   "display_name": "Python 3",
   "language": "python",
   "name": "python3"
  },
  "language_info": {
   "codemirror_mode": {
    "name": "ipython",
    "version": 3
   },
   "file_extension": ".py",
   "mimetype": "text/x-python",
   "name": "python",
   "nbconvert_exporter": "python",
   "pygments_lexer": "ipython3",
   "version": "3.7.3"
  }
 },
 "nbformat": 4,
 "nbformat_minor": 2
}
