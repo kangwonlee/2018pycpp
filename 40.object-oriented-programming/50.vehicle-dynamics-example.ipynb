{
 "cells": [
  {
   "cell_type": "code",
   "execution_count": null,
   "metadata": {},
   "outputs": [],
   "source": [
    "import dataclass\n",
    "import numpy as np\n",
    "\n"
   ]
  },
  {
   "cell_type": "markdown",
   "metadata": {},
   "source": [
    "# Example: Vehicle Dynamics in Classes\n",
    "\n"
   ]
  },
  {
   "cell_type": "markdown",
   "metadata": {},
   "source": [
    "Frequently Vehicle dynamics is described as follows.\n",
    "\n"
   ]
  },
  {
   "cell_type": "markdown",
   "metadata": {},
   "source": [
    "$$\n",
    "\\frac{d}{dt} \n",
    "    \\begin{bmatrix} \n",
    "        v \\\\ \n",
    "        r \n",
    "    \\end{bmatrix} =  \\begin{bmatrix} \n",
    "         \\frac{-\\left(C_{af} + C_{ar}\\right)}{mu} & \\frac{bC_{ar} - a C_{af}}{mu} -u \\\\\n",
    "         \\frac{bC_{ar} - a C_{af}}{I_z u}  &  \\frac{-\\left(a^2 C_{af} + b^2 C_{ar}\\right)}{I_z u} \\\\\n",
    "     \\end{bmatrix}     \\begin{bmatrix} v \\\\ r \\end{bmatrix} + \\begin{bmatrix} \n",
    "           \\frac{C_{af}}{m} \\\\ \n",
    "           \\frac{a C_{af}}{I_{z}} \\\\ \n",
    "     \\end{bmatrix} \\delta_f\n",
    " $$\n",
    "\n"
   ]
  },
  {
   "cell_type": "code",
   "execution_count": null,
   "metadata": {},
   "outputs": [],
   "source": []
  }
 ],
 "metadata": {
  "kernelspec": {
   "display_name": "Python 3",
   "language": "python",
   "name": "python3"
  },
  "language_info": {
   "codemirror_mode": {
    "name": "ipython",
    "version": 3
   },
   "file_extension": ".py",
   "mimetype": "text/x-python",
   "name": "python",
   "nbconvert_exporter": "python",
   "pygments_lexer": "ipython3",
   "version": "3.7.3"
  }
 },
 "nbformat": 4,
 "nbformat_minor": 2
}
