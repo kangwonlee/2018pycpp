{
 "cells": [
  {
   "cell_type": "markdown",
   "metadata": {},
   "source": [
    "# Programming in lower level\n",
    "\n"
   ]
  },
  {
   "cell_type": "markdown",
   "metadata": {},
   "source": [
    "* Sometimes a control engineer may want to make computers to give commands to or read measurements from machines.\n",
    "\n"
   ]
  },
  {
   "cell_type": "markdown",
   "metadata": {},
   "source": [
    "* Understanding how computers work *under the hood* would be helpful in such situations.\n",
    "\n"
   ]
  },
  {
   "cell_type": "markdown",
   "metadata": {},
   "source": [
    "## Chinese Room\n",
    "\n"
   ]
  },
  {
   "cell_type": "markdown",
   "metadata": {},
   "source": [
    "* Prof. John Searle of UC Berkeley published in 1980.\n",
    "\n"
   ]
  },
  {
   "cell_type": "markdown",
   "metadata": {},
   "source": [
    "[![Chinese Room](https://cdn-images-1.medium.com/max/1600/1*ve1L0BoTEEChNZMwn7_zig.jpeg)](https://medium.com/@transphilosophr/searles-chinese-room-thought-experiment-a-twist-c7eb28f65e6c)\n",
    "\n"
   ]
  },
  {
   "cell_type": "markdown",
   "metadata": {},
   "source": [
    "* Assume a person inside of a closed room with slots for questions and answers.\n",
    "\n"
   ]
  },
  {
   "cell_type": "markdown",
   "metadata": {},
   "source": [
    "* From outside, a person would (in)put a letter with a question in an unfamiliar foreign language into the room.\n",
    "\n"
   ]
  },
  {
   "cell_type": "markdown",
   "metadata": {},
   "source": [
    "* The person inside of the room has a very big book with answers to all questions of that foreign language.\n",
    "\n"
   ]
  },
  {
   "cell_type": "markdown",
   "metadata": {},
   "source": [
    "* The person inside of the room would lookup the answer from the book and (out)put another letter in the foreign language with the answer out of the room.\n",
    "\n"
   ]
  },
  {
   "cell_type": "markdown",
   "metadata": {},
   "source": [
    "* Now, do people outside of the room can tell if the person inside knows the foreign language?\n",
    "\n"
   ]
  },
  {
   "cell_type": "markdown",
   "metadata": {},
   "source": [
    "### Analogy\n",
    "\n"
   ]
  },
  {
   "cell_type": "markdown",
   "metadata": {},
   "source": [
    "* Let's compare this room with a computer.\n",
    "\n"
   ]
  },
  {
   "cell_type": "markdown",
   "metadata": {},
   "source": [
    "| thought experiment | computer |\n",
    "|:------:|:------:|\n",
    "| room | CPU |\n",
    "| person inside of the room | CPU electronics |\n",
    "| book in the room | CPU instruction set |\n",
    "| people outside of the room | memory |\n",
    "| letter coming in | machine language instruction |\n",
    "| letter going out | result of the machine language instruction |\n",
    "| frequency of letter | clock speed |\n",
    "\n"
   ]
  },
  {
   "cell_type": "markdown",
   "metadata": {},
   "source": [
    "## Classes of computer memories\n",
    "\n"
   ]
  },
  {
   "cell_type": "markdown",
   "metadata": {},
   "source": [
    "| memory | physical location | amount | speed | purpose |\n",
    "|:-----:|:-----:|:-----:|:-----:|:-----:|\n",
    "| registers | CPU | very limited | fastest | operation, addressing, I/O |\n",
    "| cache | In or close to CPU | not much | faster | accelerating information fetching |\n",
    "| main memory | motherboard RAM | GBs nowadays | fast | store code and data |\n",
    "| stack | within RAM | limited | RAM | store function call information |\n",
    "| [heap](https://en.wikipedia.org/wiki/Memory_management#HEAP) | within RAM | less limited | RAM | allocate memory from here |\n",
    "| SSD | SSD | TBs? | [Flash memory](https://en.wikipedia.org/wiki/Flash_memory) speed | preserve code and data  |\n",
    "| HDD | HDD | TBs | Magnetic disk speed | preserve code and data  |\n",
    "| Memory mapped I/O | ??? | limited | ??? | communicate with a device  |\n",
    "\n"
   ]
  },
  {
   "cell_type": "markdown",
   "metadata": {},
   "source": [
    "* Following [figure](https://thenextweb.com/shareables/2011/12/26/this-is-what-a-5mb-hard-drive-looked-like-is-1956-required-a-forklift/) shows an early [hard disk drive](https://en.wikipedia.org/wiki/IBM_305_RAMAC) of 5 Megabytes in 1950s.\n",
    "\n"
   ]
  },
  {
   "cell_type": "markdown",
   "metadata": {},
   "source": [
    "![IBM HDD 5MB 1956](https://cdn0.tnwcdn.com/wp-content/blogs.dir/1/files/2011/12/Screen-Shot-2011-12-26-at-18.38.18.png)\n",
    "\n"
   ]
  },
  {
   "cell_type": "markdown",
   "metadata": {},
   "source": [
    "* Among these memories, cache is usually not accessable from the program.\n",
    "\n"
   ]
  },
  {
   "cell_type": "markdown",
   "metadata": {},
   "source": [
    "* Disk drives, programs can access through file systems.\n",
    "\n"
   ]
  },
  {
   "cell_type": "markdown",
   "metadata": {},
   "source": [
    "* Main memory (+ stack and heap) is *addressable*; thus we can use *pointer*s to access.\n",
    "\n"
   ]
  },
  {
   "cell_type": "markdown",
   "metadata": {},
   "source": [
    "* How to access registers depends on the compilers.\n",
    "\n"
   ]
  },
  {
   "cell_type": "markdown",
   "metadata": {},
   "source": [
    "* Memory mapped IO is addressable; thus we can use pointers to access.  However, if output, the computer would send what we write here to a device, possibly an external one.\n",
    "\n"
   ]
  },
  {
   "cell_type": "code",
   "execution_count": null,
   "metadata": {},
   "outputs": [],
   "source": []
  }
 ],
 "metadata": {
  "kernelspec": {
   "display_name": "Python 3",
   "language": "python",
   "name": "python3"
  },
  "language_info": {
   "codemirror_mode": {
    "name": "ipython",
    "version": 3
   },
   "file_extension": ".py",
   "mimetype": "text/x-python",
   "name": "python",
   "nbconvert_exporter": "python",
   "pygments_lexer": "ipython3",
   "version": "3.8.8"
  }
 },
 "nbformat": 4,
 "nbformat_minor": 2
}
