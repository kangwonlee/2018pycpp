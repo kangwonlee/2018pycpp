{
 "cells": [
  {
   "cell_type": "markdown",
   "metadata": {},
   "source": [
    "## Working with bits\n",
    "\n"
   ]
  },
  {
   "cell_type": "markdown",
   "metadata": {},
   "source": [
    "* To utilize certain features of microcontrollers, often times we need to turn on or off certain bits of certain memory location.\n",
    "\n"
   ]
  },
  {
   "cell_type": "markdown",
   "metadata": {},
   "source": [
    "* The pointer of C/C++ is a suitable tool for this type of task.\n",
    "\n"
   ]
  },
  {
   "cell_type": "markdown",
   "metadata": {},
   "source": [
    "* However, the smallest unit of memory that we can change is a byte; hence we may need to first read the current status of the particular byte, change that one bit, and then write the *bit pattern* to that byte.\n",
    "\n"
   ]
  },
  {
   "cell_type": "markdown",
   "metadata": {},
   "source": [
    "## 16 bit color example\n",
    "\n"
   ]
  },
  {
   "cell_type": "markdown",
   "metadata": {},
   "source": [
    "* IBM's [XGA](https://en.wikipedia.org/wiki/Graphics_display_resolution) graphic card standard in 1990s was the first with 1024 &times; 768 resolution. Its 640 &times; 480 mode could use 16 bit [*high color*](https://en.wikipedia.org/wiki/High_color).\n",
    "\n"
   ]
  },
  {
   "cell_type": "markdown",
   "metadata": {},
   "source": [
    "* To represent red, green, and blue colors with 15 bits, 5 bits per each would be the natural choice.\n",
    "\n"
   ]
  },
  {
   "cell_type": "markdown",
   "metadata": {},
   "source": [
    "* With 16 bits, 1 more bit for green; hence red 5, green 6, and blue 5 bits.\n",
    "\n"
   ]
  },
  {
   "cell_type": "code",
   "execution_count": null,
   "metadata": {
    "scrolled": true
   },
   "outputs": [],
   "source": [
    "# https://stackoverflow.com/questions/35160256/how-do-i-output-lists-as-a-table-in-jupyter-notebook\n",
    "# http://nbviewer.jupyter.org/github/ipython/ipython/blob/4.0.x/examples/IPython%20Kernel/Rich%20Output.ipynb\n",
    "\n",
    "import IPython.display as disp\n",
    "\n",
    "# number of bits\n",
    "n = 16\n",
    "nr = 5\n",
    "ng = 6\n",
    "nb = 5\n",
    "\n",
    "disp.display(\n",
    "    disp.Markdown(\n",
    "        '\\n'.join(\n",
    "            [\n",
    "                ' | '.join(str(k) for k in range(n-1, 0-1, -1)),\n",
    "                '|'.join(':---:' for k in range(1, n+1)),\n",
    "                ' | '.join(['`b`']*nb + ['`g`']*ng + ['`r`']*nr),\n",
    "            ], # Prepare a list of table rows\n",
    "        ) # Join all rows with new line characters in between\n",
    "    ) # Create a markdown object with the string for table\n",
    ") # Present the markdown table\n",
    "\n"
   ]
  },
  {
   "cell_type": "markdown",
   "metadata": {},
   "source": [
    "* But why 1 more bit for green?\n",
    "* Why three color channels from the beginning?\n",
    "\n"
   ]
  },
  {
   "cell_type": "markdown",
   "metadata": {},
   "source": [
    "* Anyways, let's see if we can pack three colors in 16 bits.\n",
    "\n"
   ]
  },
  {
   "cell_type": "markdown",
   "metadata": {},
   "source": [
    "### Revisiting bitwise operators\n",
    "\n"
   ]
  },
  {
   "cell_type": "markdown",
   "metadata": {},
   "source": [
    "* Both C/C++ and python has a number of [bitwise operators](https://en.wikipedia.org/wiki/Bitwise_operation).\n",
    "\n"
   ]
  },
  {
   "cell_type": "markdown",
   "metadata": {},
   "source": [
    "| operator | python | C/C++ |\n",
    "|:-----:|:-----:|:-----:|\n",
    "| `<<` | `1 << 5` |  `1 << 5` |\n",
    "| `>>` | `int('10000', base=2) & >> 4` |  `0x10 >> 4` |\n",
    "| `&` | `int('11101011', base=2) & int('11111', base=2)` |  `235 << 31` |\n",
    "| <code>&vert;</code> | 0 <code>&vert; (1 << 7)</code> |  `0 << 128` |\n",
    "| `&=` | `a = 10; a &= int('0111', base=2)` |  `char a = 10; a &= 0b0111;` |\n",
    "\n"
   ]
  },
  {
   "cell_type": "markdown",
   "metadata": {},
   "source": [
    "#### 16bit color using bitwise operator\n",
    "\n"
   ]
  },
  {
   "cell_type": "markdown",
   "metadata": {},
   "source": [
    "* Let's try to implement 16bit color using the bitwise operators.\n",
    "\n"
   ]
  },
  {
   "cell_type": "code",
   "execution_count": null,
   "metadata": {},
   "outputs": [],
   "source": [
    "%%writefile bitwise_16bit_color.cpp\n",
    "#include <bitset>\n",
    "#include <cstdint>\n",
    "#include <cstdlib>\n",
    "#include <iomanip>\n",
    "#include <iostream>\n",
    "\n",
    "\n",
    "int32_t main(const int32_t argn, const char * argv[]){\n",
    "\n",
    "    // number of examples\n",
    "    const int32_t n = 10;\n",
    "\n",
    "    // table header\n",
    "    std::cout << \"| `r` | `g` | `b` | `hex` |\" << '\\n';\n",
    "    std::cout << \"|:---:|:---:|:---:|:-----:|\" << '\\n';\n",
    "\n",
    "    uint32_t i = 0;\n",
    "    // example loop\n",
    "    for(i = 0; n > i; ++i){\n",
    "        // variables for r g b colors and index\n",
    "        uint32_t r = rand() % (1 << 5);\n",
    "        uint32_t g = rand() % (1 << 6);\n",
    "        uint32_t b = rand() % (1 << 5);\n",
    "        uint32_t hex = 0;\n",
    "\n",
    "        // set red value from bit 0 ~ 4\n",
    "        hex |= (r & 0x1F);\n",
    "        \n",
    "        // set green value from bit 5 ~ 10\n",
    "        hex |= ((g & 0x3F) << 5);\n",
    "        \n",
    "        // set blue value from bit 11 ~ 15\n",
    "        hex |= ((b & 0x1F) << 11);\n",
    "        \n",
    "        // How hex is supposed to have 16bit color value\n",
    "\n",
    "        // bit patterns of color values\n",
    "        // https://stackoverflow.com/questions/7349689\n",
    "        std::bitset<5> b_r(r);\n",
    "        std::bitset<6> b_g(g);\n",
    "        std::bitset<6> b_b(b);\n",
    "\n",
    "        // bit pattern of the 16bit integer\n",
    "        std::bitset<16> b_hex(hex);\n",
    "\n",
    "        // print this example as a row\n",
    "        std::cout << \"| \" << std::hex << std::setw(6) << b_r\n",
    "                    << \" | \" << std::setw(6) << b_g\n",
    "                    << \" | \" << std::setw(6) << b_b\n",
    "                    << \" | \" << std::setw(16) << b_hex\n",
    "                    << \" |\\n\";\n",
    "    }\n",
    "\n",
    "}\n",
    "\n"
   ]
  },
  {
   "cell_type": "code",
   "execution_count": null,
   "metadata": {},
   "outputs": [],
   "source": [
    "%%bash\n",
    "# The directive above would run following as bash commands\n",
    "\n",
    "# Detect OS type because OSX may need different options\n",
    "# https://stackoverflow.com/questions/3466166/how-to-check-if-running-in-cygwin-mac-or-linux/18790824\n",
    "\n",
    "# obtain system information\n",
    "unameOut=\"$(uname -s)\"\n",
    "\n",
    "# detect system type\n",
    "case \"${unameOut}\" in\n",
    "    Linux*)     machine=Linux;;\n",
    "    Darwin*)    machine=Mac;;\n",
    "    CYGWIN*)    machine=Cygwin;;\n",
    "    MINGW*)     machine=MinGw;;\n",
    "    *)          machine=\"UNKNOWN:${unameOut}\"\n",
    "esac\n",
    "\n",
    "if [ $machine == \"Linux\" ]; then\n",
    "    # build command for Linux\n",
    "    g++ -Wall -g bitwise_16bit_color.cpp -o ./bitwise_16bit_color -Wa,-adhln=bitwise_16bit_color.s\n",
    "elif [ \"Mac\" == $machine ]; then\n",
    "    # build command for OSX\n",
    "    # https://stackoverflow.com/questions/10990018/\n",
    "    clang++ -S -mllvm --x86-asm-syntax=intel bitwise_16bit_color.cpp\n",
    "    clang++ -Wall -g bitwise_16bit_color.cpp -o bitwise_16bit_color\n",
    "else\n",
    "    # Otherwise\n",
    "    g++ -Wall -g bitwise_16bit_color.cpp -o ./bitwise_16bit_color.s -S\n",
    "    g++ -Wall -g bitwise_16bit_color.cpp -o ./bitwise_16bit_color\n",
    "fi\n",
    "\n"
   ]
  },
  {
   "cell_type": "code",
   "execution_count": null,
   "metadata": {},
   "outputs": [],
   "source": [
    "# https://stackoverflow.com/questions/4760215/running-shell-command-from-python-and-capturing-the-output\n",
    "# https://stackoverflow.com/questions/35160256/how-do-i-output-lists-as-a-table-in-jupyter-notebook\n",
    "import subprocess\n",
    "import IPython.display as disp\n",
    "\n",
    "# Run executable while capturing output\n",
    "result = subprocess.run(['./bitwise_16bit_color'], stdout=subprocess.PIPE)\n",
    "\n",
    "# present output as a markdown table\n",
    "disp.display(disp.Markdown(result.stdout.decode()))\n",
    "\n"
   ]
  },
  {
   "cell_type": "code",
   "execution_count": null,
   "metadata": {},
   "outputs": [],
   "source": [
    "%%bash\n",
    "# Run bash command to delete .cpp and executable files\n",
    "rm bitwise_16bit_color.cpp bitwise_16bit_color\n",
    "\n"
   ]
  },
  {
   "cell_type": "markdown",
   "metadata": {},
   "source": [
    "* Let's take a look at the assembly instructions.\n",
    "\n"
   ]
  },
  {
   "cell_type": "markdown",
   "metadata": {},
   "source": [
    "``` \n",
    "  24:bitwise_16bit_color.cpp ****         uint32_t hex = 0;\n",
    " 565                            .loc 6 24 0\n",
    " 566 00cf C745C400              movl    $0, -60(%rbp)\n",
    " 566      000000\n",
    "  25:bitwise_16bit_color.cpp ****\n",
    "  26:bitwise_16bit_color.cpp **** // set red value from bit 0 ~ 4\n",
    "  27:bitwise_16bit_color.cpp ****         hex |= (r & 0x1F);\n",
    " 567                            .loc 6 27 0\n",
    " 568 00d6 8B45B8                movl    -72(%rbp), %eax\n",
    " 569 00d9 83E01F                andl    $31, %eax\n",
    " 570 00dc 0945C4                orl     %eax, -60(%rbp)\n",
    "  28:bitwise_16bit_color.cpp ****\n",
    "  29:bitwise_16bit_color.cpp **** // set green value from bit 5 ~ 10\n",
    "  30:bitwise_16bit_color.cpp ****         hex |= ((g & 0x3F) << 5);\n",
    " 571                            .loc 6 30 0\n",
    " 572 00df 8B45BC                movl    -68(%rbp), %eax\n",
    " 573 00e2 C1E005                sall    $5, %eax\n",
    " 574 00e5 25E00700              andl    $2016, %eax\n",
    " 574      00\n",
    " 575 00ea 0945C4                orl     %eax, -60(%rbp)\n",
    "  31:bitwise_16bit_color.cpp ****\n",
    "  32:bitwise_16bit_color.cpp **** // set blue value from bit 11 ~ 15\n",
    "  33:bitwise_16bit_color.cpp ****         hex |= ((b & 0x1F) << 11);\n",
    " 576                            .loc 6 33 0\n",
    " 577 00ed 8B45C0                movl    -64(%rbp), %eax\n",
    " 578 00f0 C1E00B                sall    $11, %eax\n",
    " 579 00f3 0FB7C0                movzwl  %ax, %eax\n",
    " 580 00f6 0945C4                orl     %eax, -60(%rbp)\n",
    "\n",
    "```\n",
    "\n"
   ]
  },
  {
   "cell_type": "markdown",
   "metadata": {},
   "source": [
    "* It seems that the compiler used following [instructions](https://en.wikipedia.org/wiki/X86_instruction_listings) to implement.\n",
    "\n"
   ]
  },
  {
   "cell_type": "markdown",
   "metadata": {},
   "source": [
    "| instruction | opcode | expected behavior | example |\n",
    "|:-----:|:-----:|:-----:|:-----:|\n",
    "| `movl` | C7 | set a value to a memory location (32bit) | `movl $0, -60(%rbp)` |\n",
    "| `movl` | 8B | copy a value at a memory location to another (32bit) | `movl -72(%rbp), %eax` |\n",
    "| `andl` | 83 | bitwise and operation to a memory location (32bit) | `andl $31, %eax` |\n",
    "| `orl` | 09 | bitwise or operation to a memory location (32bit) | `orl %eax, -60(%rbp)` |\n",
    "| `sall` | C1 | bitwise left shift to a memory location (32bit) | `sall $5, %eax` |\n",
    "| `movzwl` | 0F | expand 16 bit value to longer unsigned integer | `movzwl  %ax, %eax` |\n",
    "\n"
   ]
  },
  {
   "cell_type": "markdown",
   "metadata": {},
   "source": [
    "* It also seems that the result of the operation remains at the latter of the two operands.\n",
    "\n"
   ]
  },
  {
   "cell_type": "markdown",
   "metadata": {},
   "source": [
    "* Let's take a look at how to designate operands: values or memory locations.\n",
    "\n"
   ]
  },
  {
   "cell_type": "markdown",
   "metadata": {},
   "source": [
    "| operand | designation | example |\n",
    "|:-----:|:-----:|:-----:|\n",
    "| direct value | decimal number | `$0`, `$31` |\n",
    "| eax register | general purpose register `eax` ([32bit](https://en.wikipedia.org/wiki/X86#32-bit)) | `%eax` |\n",
    "| ax register | general purpose register `ax` ([16bit](https://en.wikipedia.org/wiki/X86#16-bit)) | `%ax` |\n",
    "| pointer | memory at address | `-60(%rbp)`, `-72(%rbp)` |\n",
    "| rbp register | [base pointer](https://en.wikipedia.org/wiki/X86#Purpose) register (64bit) | `%rbp` |\n",
    "\n"
   ]
  },
  {
   "cell_type": "markdown",
   "metadata": {},
   "source": [
    "* Now let's look at the first a few lines of the assembly code above.\n",
    "\n"
   ]
  },
  {
   "cell_type": "markdown",
   "metadata": {},
   "source": [
    "```\n",
    "  24:bitwise_16bit_color.cpp ****         uint32_t hex = 0;\n",
    " 565                            .loc 6 24 0\n",
    " 566 00cf C745C400000000        movl    $0, -60(%rbp)\n",
    "```\n",
    "\n"
   ]
  },
  {
   "cell_type": "markdown",
   "metadata": {},
   "source": [
    "* The last line is the machine code / assembly translation from the C/C++ code of the first line.\n",
    "\n"
   ]
  },
  {
   "cell_type": "markdown",
   "metadata": {},
   "source": [
    "| machine language code | meaning |\n",
    "|:-----:|:-----:|\n",
    "| `00cf` | the start location of this machine code |\n",
    "| `C7` | `movl` immediate value |\n",
    "| `45` | `(%rbp)` addressing using base pointer |\n",
    "| `C4` | offset from %rbp<br> $$ 60_{10}=00111100_2 \\\\ 11000100_2 = C4_{16} $$ |\n",
    "| `0000 0000` | immediate value to write to `-60(%rbp)` location |\n",
    "\n"
   ]
  },
  {
   "cell_type": "markdown",
   "metadata": {},
   "source": [
    "* This line would initialize `uint_32t` variable `hex` with zero.\n",
    "\n"
   ]
  },
  {
   "cell_type": "markdown",
   "metadata": {},
   "source": [
    "* Now let's take a look at the next a few lines\n",
    "\n"
   ]
  },
  {
   "cell_type": "markdown",
   "metadata": {},
   "source": [
    "```\n",
    "  25:bitwise_16bit_color.cpp ****\n",
    "  26:bitwise_16bit_color.cpp **** // set red value from bit 0 ~ 4\n",
    "  27:bitwise_16bit_color.cpp ****         hex |= (r & 0x1F);\n",
    " 567                            .loc 6 27 0\n",
    " 568 00d6 8B45B8                movl    -72(%rbp), %eax\n",
    " 569 00d9 83E01F                andl    $31, %eax\n",
    " 570 00dc 0945C4                orl     %eax, -60(%rbp)\n",
    "```\n",
    "\n"
   ]
  },
  {
   "cell_type": "markdown",
   "metadata": {},
   "source": [
    "* The C/C++ line here tries to copy the lower 5 bits of variable `r` to `hex`.\n",
    "\n"
   ]
  },
  {
   "cell_type": "markdown",
   "metadata": {},
   "source": [
    "* The first assembly instruction copies a 32 bit value to `eax` register.\n",
    "\n"
   ]
  },
  {
   "cell_type": "markdown",
   "metadata": {},
   "source": [
    "* The second instruction applies 32bit bitwise *and* operation to `eax` register.  As $31_{10} = 11111_2$, all bits between 31 ~ 5 would be 0.\n",
    "\n"
   ]
  },
  {
   "cell_type": "markdown",
   "metadata": {},
   "source": [
    "* The third instruction carrys out bitwise *or* operation to `uint32_t` variable `hex` with the value of `eax` register.\n",
    "\n"
   ]
  },
  {
   "cell_type": "markdown",
   "metadata": {},
   "source": [
    "* THe following lines are similar, too.\n",
    "\n"
   ]
  },
  {
   "cell_type": "markdown",
   "metadata": {},
   "source": [
    "```\n",
    "  28:bitwise_16bit_color.cpp ****\n",
    "  29:bitwise_16bit_color.cpp **** // set green value from bit 5 ~ 10\n",
    "  30:bitwise_16bit_color.cpp ****         hex |= ((g & 0x3F) << 5);\n",
    " 571                            .loc 6 30 0\n",
    " 572 00df 8B45BC                movl    -68(%rbp), %eax\n",
    " 573 00e2 C1E005                sall    $5, %eax\n",
    " 574 00e5 25E0070000            andl    $2016, %eax\n",
    " 575 00ea 0945C4                orl     %eax, -60(%rbp)\n",
    "```\n",
    "\n"
   ]
  },
  {
   "cell_type": "markdown",
   "metadata": {},
   "source": [
    "* Let's focus on the following two lines.\n",
    "\n"
   ]
  },
  {
   "cell_type": "markdown",
   "metadata": {},
   "source": [
    "```\n",
    " 573 00e2 C1E005                sall    $5, %eax\n",
    " 574 00e5 25E0070000            andl    $2016, %eax\n",
    "```\n",
    "\n"
   ]
  },
  {
   "cell_type": "markdown",
   "metadata": {},
   "source": [
    "* Here, <br>`sall    $5, %eax`<br>intend to shift the 32bit content of `eax` to the left by five binary digits.\n",
    "\n"
   ]
  },
  {
   "cell_type": "markdown",
   "metadata": {},
   "source": [
    "* In the third line is as follows.<br>`andl    $2016, %eax`\n",
    "* Because <br>$2016_{10} = 07e0_{16}= 0000 0111 1110 0000_2$<br>this would turn off bits of `eax` except 6 bits associated with `g`.\n",
    "* Compare with C/C++ line.  Is the order same? Why or why not?\n",
    "\n"
   ]
  },
  {
   "cell_type": "code",
   "execution_count": null,
   "metadata": {},
   "outputs": [],
   "source": []
  }
 ],
 "metadata": {
  "kernelspec": {
   "display_name": "Python 3",
   "language": "python",
   "name": "python3"
  },
  "language_info": {
   "codemirror_mode": {
    "name": "ipython",
    "version": 3
   },
   "file_extension": ".py",
   "mimetype": "text/x-python",
   "name": "python",
   "nbconvert_exporter": "python",
   "pygments_lexer": "ipython3",
   "version": "3.8.8"
  }
 },
 "nbformat": 4,
 "nbformat_minor": 2
}
