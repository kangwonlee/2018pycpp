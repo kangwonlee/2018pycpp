{
 "cells": [
  {
   "cell_type": "markdown",
   "metadata": {
    "id": "view-in-github",
    "colab_type": "text"
   },
   "source": [
    "<a href=\"https://colab.research.google.com/github/kangwonlee/2018pycpp/blob/colab-buttons/50.under-the-hood/22.working_with_bits_operators.ipynb\" target=\"_parent\"><img src=\"https://colab.research.google.com/assets/colab-badge.svg\" alt=\"Open In Colab\"/></a>\n"
   ]
  },
  {
   "cell_type": "markdown",
   "metadata": {},
   "source": [
    "## Working with bits\n",
    "\n"
   ]
  },
  {
   "cell_type": "markdown",
   "metadata": {},
   "source": [
    "* To utilize certain features of microcontrollers, often times we need to turn on or off certain bits of certain memory location.\n",
    "\n"
   ]
  },
  {
   "cell_type": "markdown",
   "metadata": {},
   "source": [
    "* The pointer of C/C++ is a suitable tool for this type of task.\n",
    "\n"
   ]
  },
  {
   "cell_type": "markdown",
   "metadata": {},
   "source": [
    "* However, the smallest unit of memory that we can change is a byte; hence we may need to first read the current status of the particular byte, change that one bit, and then write the *bit pattern* to that byte.\n",
    "\n"
   ]
  },
  {
   "cell_type": "markdown",
   "metadata": {},
   "source": [
    "## 16 bit color example\n",
    "\n"
   ]
  },
  {
   "cell_type": "markdown",
   "metadata": {},
   "source": [
    "* IBM's [XGA](https://en.wikipedia.org/wiki/Graphics_display_resolution) graphic card standard in 1990s was the first with 1024 &times; 768 resolution. Its 640 &times; 480 mode could use 16 bit [*high color*](https://en.wikipedia.org/wiki/High_color).\n",
    "\n"
   ]
  },
  {
   "cell_type": "markdown",
   "metadata": {},
   "source": [
    "* To represent red, green, and blue colors with 15 bits, 5 bits per each would be the natural choice.\n",
    "\n"
   ]
  },
  {
   "cell_type": "markdown",
   "metadata": {},
   "source": [
    "* With 16 bits, 1 more bit for green; hence red 5, green 6, and blue 5 bits.\n",
    "\n"
   ]
  },
  {
   "cell_type": "code",
   "execution_count": null,
   "metadata": {
    "scrolled": true
   },
   "outputs": [],
   "source": [
    "# https://stackoverflow.com/questions/35160256/how-do-i-output-lists-as-a-table-in-jupyter-notebook\n",
    "# http://nbviewer.jupyter.org/github/ipython/ipython/blob/4.0.x/examples/IPython%20Kernel/Rich%20Output.ipynb\n",
    "\n",
    "import IPython.display as disp\n",
    "\n",
    "# number of bits\n",
    "n = 16\n",
    "nr = 5\n",
    "ng = 6\n",
    "nb = 5\n",
    "\n",
    "disp.display(\n",
    "    disp.Markdown(\n",
    "        '\\n'.join(\n",
    "            [\n",
    "                ' | '.join(str(k) for k in range(n-1, 0-1, -1)),\n",
    "                '|'.join(':---:' for k in range(1, n+1)),\n",
    "                ' | '.join(['`b`']*nb + ['`g`']*ng + ['`r`']*nr),\n",
    "            ], # Prepare a list of table rows\n",
    "        ) # Join all rows with new line characters in between\n",
    "    ) # Create a markdown object with the string for table\n",
    ") # Present the markdown table\n",
    "\n"
   ]
  },
  {
   "cell_type": "markdown",
   "metadata": {},
   "source": [
    "* But why 1 more bit for green?\n",
    "* Why three color channels from the beginning?\n",
    "\n"
   ]
  },
  {
   "cell_type": "markdown",
   "metadata": {},
   "source": [
    "* Anyways, let's see if we can pack three colors in 16 bits.\n",
    "\n"
   ]
  },
  {
   "cell_type": "markdown",
   "metadata": {},
   "source": [
    "### Revisiting bitwise operators\n",
    "\n"
   ]
  },
  {
   "cell_type": "markdown",
   "metadata": {},
   "source": [
    "* Both C/C++ and python has a number of [bitwise operators](https://en.wikipedia.org/wiki/Bitwise_operation).\n",
    "\n"
   ]
  },
  {
   "cell_type": "markdown",
   "metadata": {},
   "source": [
    "| operator | python | C/C++ |\n",
    "|:-----:|:-----:|:-----:|\n",
    "| `<<` | `1 << 5` |  `1 << 5` |\n",
    "| `>>` | `int('10000', base=2) & >> 4` |  `0x10 >> 4` |\n",
    "| `&` | `int('11101011', base=2) & int('11111', base=2)` |  `235 << 31` |\n",
    "| <code>&vert;</code> | 0 <code>&vert; (1 << 7)</code> |  `0 << 128` |\n",
    "| `&=` | `a = 10; a &= int('0111', base=2)` |  `char a = 10; a &= 0b0111;` |\n",
    "\n"
   ]
  },
  {
   "cell_type": "markdown",
   "metadata": {},
   "source": [
    "#### 16bit color using bitwise operator\n",
    "\n"
   ]
  },
  {
   "cell_type": "markdown",
   "metadata": {},
   "source": [
    "* Let's try to implement 16bit color using the bitwise operators.\n",
    "\n"
   ]
  },
  {
   "cell_type": "code",
   "execution_count": null,
   "metadata": {},
   "outputs": [],
   "source": [
    "%%writefile bitwise_16bit_color.cpp\n",
    "#include <bitset>\n",
    "#include <cstdint>\n",
    "#include <cstdlib>\n",
    "#include <iomanip>\n",
    "#include <iostream>\n",
    "\n",
    "\n",
    "int32_t main(const int32_t argn, const char * argv[]){\n",
    "\n",
    "    // number of examples\n",
    "    const int32_t n = 10;\n",
    "\n",
    "    // table header\n",
    "    std::cout << \"| `r` | `g` | `b` | `hex` |\" << '\\n';\n",
    "    std::cout << \"|:---:|:---:|:---:|:-----:|\" << '\\n';\n",
    "\n",
    "    uint32_t i = 0;\n",
    "    // example loop\n",
    "    for(i = 0; n > i; ++i){\n",
    "        // variables for r g b colors and index\n",
    "        uint32_t r = rand() % (1 << 5);\n",
    "        uint32_t g = rand() % (1 << 6);\n",
    "        uint32_t b = rand() % (1 << 5);\n",
    "        uint32_t hex = 0;\n",
    "\n",
    "        // set red value from bit 0 ~ 4\n",
    "        hex |= (r & 0x1F);\n",
    "        \n",
    "        // set green value from bit 5 ~ 10\n",
    "        hex |= ((g & 0x3F) << 5);\n",
    "        \n",
    "        // set blue value from bit 11 ~ 15\n",
    "        hex |= ((b & 0x1F) << 11);\n",
    "        \n",
    "        // How hex is supposed to have 16bit color value\n",
    "\n",
    "        // bit patterns of color values\n",
    "        // https://stackoverflow.com/questions/7349689\n",
    "        std::bitset<5> b_r(r);\n",
    "        std::bitset<6> b_g(g);\n",
    "        std::bitset<6> b_b(b);\n",
    "\n",
    "        // bit pattern of the 16bit integer\n",
    "        std::bitset<16> b_hex(hex);\n",
    "\n",
    "        // print this example as a row\n",
    "        std::cout << \"| \" << std::hex << std::setw(6) << b_r\n",
    "                    << \" | \" << std::setw(6) << b_g\n",
    "                    << \" | \" << std::setw(6) << b_b\n",
    "                    << \" | \" << std::setw(16) << b_hex\n",
    "                    << \" |\\n\";\n",
    "    }\n",
    "\n",
    "}\n",
    "\n"
   ]
  },
  {
   "cell_type": "code",
   "execution_count": null,
   "metadata": {},
   "outputs": [],
   "source": [
    "%%bash\n",
    "# The directive above would run following as bash commands\n",
    "\n",
    "# Detect OS type because OSX may need different options\n",
    "# https://stackoverflow.com/questions/3466166/how-to-check-if-running-in-cygwin-mac-or-linux/18790824\n",
    "\n",
    "# obtain system information\n",
    "unameOut=\"$(uname -s)\"\n",
    "\n",
    "# detect system type\n",
    "case \"${unameOut}\" in\n",
    "    Linux*)     machine=Linux;;\n",
    "    Darwin*)    machine=Mac;;\n",
    "    CYGWIN*)    machine=Cygwin;;\n",
    "    MINGW*)     machine=MinGw;;\n",
    "    *)          machine=\"UNKNOWN:${unameOut}\"\n",
    "esac\n",
    "\n",
    "if [ $machine == \"Linux\" ]; then\n",
    "    # build command for Linux\n",
    "    g++ -Wall -g bitwise_16bit_color.cpp -o ./bitwise_16bit_color -Wa,-adhln=bitwise_16bit_color.s\n",
    "elif [ \"Mac\" == $machine ]; then\n",
    "    # build command for OSX\n",
    "    # https://stackoverflow.com/questions/10990018/\n",
    "    clang++ -S -mllvm --x86-asm-syntax=intel bitwise_16bit_color.cpp\n",
    "    clang++ -Wall -g bitwise_16bit_color.cpp -o bitwise_16bit_color\n",
    "else\n",
    "    # Otherwise\n",
    "    g++ -Wall -g bitwise_16bit_color.cpp -o ./bitwise_16bit_color.s -S\n",
    "    g++ -Wall -g bitwise_16bit_color.cpp -o ./bitwise_16bit_color\n",
    "fi\n",
    "\n"
   ]
  },
  {
   "cell_type": "code",
   "execution_count": null,
   "metadata": {},
   "outputs": [],
   "source": [
    "# https://stackoverflow.com/questions/4760215/running-shell-command-from-python-and-capturing-the-output\n",
    "# https://stackoverflow.com/questions/35160256/how-do-i-output-lists-as-a-table-in-jupyter-notebook\n",
    "import subprocess\n",
    "import IPython.display as disp\n",
    "\n",
    "# Run executable while capturing output\n",
    "result = subprocess.run(['./bitwise_16bit_color'], stdout=subprocess.PIPE)\n",
    "\n",
    "# present output as a markdown table\n",
    "disp.display(disp.Markdown(result.stdout.decode()))\n",
    "\n"
   ]
  },
  {
   "cell_type": "code",
   "execution_count": null,
   "metadata": {},
   "outputs": [],
   "source": [
    "%%bash\n",
    "# Run bash command to delete .cpp and executable files\n",
    "rm bitwise_16bit_color.cpp bitwise_16bit_color\n",
    "\n"
   ]
  },
  {
   "cell_type": "code",
   "execution_count": null,
   "metadata": {},
   "outputs": [],
   "source": []
  }
 ],
 "metadata": {
  "kernelspec": {
   "display_name": "Python 3",
   "language": "python",
   "name": "python3"
  },
  "language_info": {
   "codemirror_mode": {
    "name": "ipython",
    "version": 3
   },
   "file_extension": ".py",
   "mimetype": "text/x-python",
   "name": "python",
   "nbconvert_exporter": "python",
   "pygments_lexer": "ipython3",
   "version": "3.8.8"
  }
 },
 "nbformat": 4,
 "nbformat_minor": 2
}