{
 "cells": [
  {
   "cell_type": "markdown",
   "metadata": {},
   "source": [
    "* Let's take a look at the assembly instructions.\n",
    "\n"
   ]
  },
  {
   "cell_type": "markdown",
   "metadata": {},
   "source": [
    "``` \n",
    "  24:bitwise_16bit_color.cpp ****         uint32_t hex = 0;\n",
    " 565                            .loc 6 24 0\n",
    " 566 00cf C745C400              movl    $0, -60(%rbp)\n",
    " 566      000000\n",
    "  25:bitwise_16bit_color.cpp ****\n",
    "  26:bitwise_16bit_color.cpp **** // set red value from bit 0 ~ 4\n",
    "  27:bitwise_16bit_color.cpp ****         hex |= (r & 0x1F);\n",
    " 567                            .loc 6 27 0\n",
    " 568 00d6 8B45B8                movl    -72(%rbp), %eax\n",
    " 569 00d9 83E01F                andl    $31, %eax\n",
    " 570 00dc 0945C4                orl     %eax, -60(%rbp)\n",
    "  28:bitwise_16bit_color.cpp ****\n",
    "  29:bitwise_16bit_color.cpp **** // set green value from bit 5 ~ 10\n",
    "  30:bitwise_16bit_color.cpp ****         hex |= ((g & 0x3F) << 5);\n",
    " 571                            .loc 6 30 0\n",
    " 572 00df 8B45BC                movl    -68(%rbp), %eax\n",
    " 573 00e2 C1E005                sall    $5, %eax\n",
    " 574 00e5 25E00700              andl    $2016, %eax\n",
    " 574      00\n",
    " 575 00ea 0945C4                orl     %eax, -60(%rbp)\n",
    "  31:bitwise_16bit_color.cpp ****\n",
    "  32:bitwise_16bit_color.cpp **** // set blue value from bit 11 ~ 15\n",
    "  33:bitwise_16bit_color.cpp ****         hex |= ((b & 0x1F) << 11);\n",
    " 576                            .loc 6 33 0\n",
    " 577 00ed 8B45C0                movl    -64(%rbp), %eax\n",
    " 578 00f0 C1E00B                sall    $11, %eax\n",
    " 579 00f3 0FB7C0                movzwl  %ax, %eax\n",
    " 580 00f6 0945C4                orl     %eax, -60(%rbp)\n",
    "\n",
    "```\n",
    "\n"
   ]
  },
  {
   "cell_type": "markdown",
   "metadata": {},
   "source": [
    "* It seems that the compiler used following [instructions](https://en.wikipedia.org/wiki/X86_instruction_listings) to implement.\n",
    "\n"
   ]
  },
  {
   "cell_type": "markdown",
   "metadata": {},
   "source": [
    "| instruction | opcode | expected behavior | example |\n",
    "|:-----:|:-----:|:-----:|:-----:|\n",
    "| `movl` | C7 | set a value to a memory location (32bit) | `movl $0, -60(%rbp)` |\n",
    "| `movl` | 8B | copy a value at a memory location to another (32bit) | `movl -72(%rbp), %eax` |\n",
    "| `andl` | 83 | bitwise and operation to a memory location (32bit) | `andl $31, %eax` |\n",
    "| `orl` | 09 | bitwise or operation to a memory location (32bit) | `orl %eax, -60(%rbp)` |\n",
    "| `sall` | C1 | bitwise left shift to a memory location (32bit) | `sall $5, %eax` |\n",
    "| `movzwl` | 0F | expand 16 bit value to longer unsigned integer | `movzwl  %ax, %eax` |\n",
    "\n"
   ]
  },
  {
   "cell_type": "markdown",
   "metadata": {},
   "source": [
    "* It also seems that the result of the operation remains at the latter of the two operands.\n",
    "\n"
   ]
  },
  {
   "cell_type": "markdown",
   "metadata": {},
   "source": [
    "* Let's take a look at how to designate operands: values or memory locations.\n",
    "\n"
   ]
  },
  {
   "cell_type": "markdown",
   "metadata": {},
   "source": [
    "| operand | designation | example |\n",
    "|:-----:|:-----:|:-----:|\n",
    "| direct value | decimal number | `$0`, `$31` |\n",
    "| eax register | general purpose register `eax` ([32bit](https://en.wikipedia.org/wiki/X86#32-bit)) | `%eax` |\n",
    "| ax register | general purpose register `ax` ([16bit](https://en.wikipedia.org/wiki/X86#16-bit)) | `%ax` |\n",
    "| pointer | memory at address | `-60(%rbp)`, `-72(%rbp)` |\n",
    "| rbp register | [base pointer](https://en.wikipedia.org/wiki/X86#Purpose) register (64bit) | `%rbp` |\n",
    "\n"
   ]
  },
  {
   "cell_type": "markdown",
   "metadata": {},
   "source": [
    "* Now let's look at the first a few lines of the assembly code above.\n",
    "\n"
   ]
  },
  {
   "cell_type": "markdown",
   "metadata": {},
   "source": [
    "```\n",
    "  24:bitwise_16bit_color.cpp ****         uint32_t hex = 0;\n",
    " 565                            .loc 6 24 0\n",
    " 566 00cf C745C400000000        movl    $0, -60(%rbp)\n",
    "```\n",
    "\n"
   ]
  },
  {
   "cell_type": "markdown",
   "metadata": {},
   "source": [
    "* The last line is the machine code / assembly translation from the C/C++ code of the first line.\n",
    "\n"
   ]
  },
  {
   "cell_type": "markdown",
   "metadata": {},
   "source": [
    "| machine language code | meaning |\n",
    "|:-----:|:-----:|\n",
    "| `00cf` | the start location of this machine code |\n",
    "| `C7` | `movl` immediate value |\n",
    "| `45` | `(%rbp)` addressing using base pointer |\n",
    "| `C4` | offset from %rbp<br> $$ 60_{10}=00111100_2 \\\\ 11000100_2 = C4_{16} $$ |\n",
    "| `0000 0000` | immediate value to write to `-60(%rbp)` location |\n",
    "\n"
   ]
  },
  {
   "cell_type": "markdown",
   "metadata": {},
   "source": [
    "* This line would initialize `uint_32t` variable `hex` with zero.\n",
    "\n"
   ]
  },
  {
   "cell_type": "markdown",
   "metadata": {},
   "source": [
    "* Now let's take a look at the next a few lines\n",
    "\n"
   ]
  },
  {
   "cell_type": "markdown",
   "metadata": {},
   "source": [
    "```\n",
    "  25:bitwise_16bit_color.cpp ****\n",
    "  26:bitwise_16bit_color.cpp **** // set red value from bit 0 ~ 4\n",
    "  27:bitwise_16bit_color.cpp ****         hex |= (r & 0x1F);\n",
    " 567                            .loc 6 27 0\n",
    " 568 00d6 8B45B8                movl    -72(%rbp), %eax\n",
    " 569 00d9 83E01F                andl    $31, %eax\n",
    " 570 00dc 0945C4                orl     %eax, -60(%rbp)\n",
    "```\n",
    "\n"
   ]
  },
  {
   "cell_type": "markdown",
   "metadata": {},
   "source": [
    "* The C/C++ line here tries to copy the lower 5 bits of variable `r` to `hex`.\n",
    "\n"
   ]
  },
  {
   "cell_type": "markdown",
   "metadata": {},
   "source": [
    "* The first assembly instruction copies a 32 bit value to `eax` register.\n",
    "\n"
   ]
  },
  {
   "cell_type": "markdown",
   "metadata": {},
   "source": [
    "* The second instruction applies 32bit bitwise *and* operation to `eax` register.  As $31_{10} = 11111_2$, all bits between 31 ~ 5 would be 0.\n",
    "\n"
   ]
  },
  {
   "cell_type": "markdown",
   "metadata": {},
   "source": [
    "* The third instruction carrys out bitwise *or* operation to `uint32_t` variable `hex` with the value of `eax` register.\n",
    "\n"
   ]
  },
  {
   "cell_type": "markdown",
   "metadata": {},
   "source": [
    "* THe following lines are similar, too.\n",
    "\n"
   ]
  },
  {
   "cell_type": "markdown",
   "metadata": {},
   "source": [
    "```\n",
    "  28:bitwise_16bit_color.cpp ****\n",
    "  29:bitwise_16bit_color.cpp **** // set green value from bit 5 ~ 10\n",
    "  30:bitwise_16bit_color.cpp ****         hex |= ((g & 0x3F) << 5);\n",
    " 571                            .loc 6 30 0\n",
    " 572 00df 8B45BC                movl    -68(%rbp), %eax\n",
    " 573 00e2 C1E005                sall    $5, %eax\n",
    " 574 00e5 25E0070000            andl    $2016, %eax\n",
    " 575 00ea 0945C4                orl     %eax, -60(%rbp)\n",
    "```\n",
    "\n"
   ]
  },
  {
   "cell_type": "markdown",
   "metadata": {},
   "source": [
    "* Let's focus on the following two lines.\n",
    "\n"
   ]
  },
  {
   "cell_type": "markdown",
   "metadata": {},
   "source": [
    "```\n",
    " 573 00e2 C1E005                sall    $5, %eax\n",
    " 574 00e5 25E0070000            andl    $2016, %eax\n",
    "```\n",
    "\n"
   ]
  },
  {
   "cell_type": "markdown",
   "metadata": {},
   "source": [
    "* Here, <br>`sall    $5, %eax`<br>intend to shift the 32bit content of `eax` to the left by five binary digits.\n",
    "\n"
   ]
  },
  {
   "cell_type": "markdown",
   "metadata": {},
   "source": [
    "* In the third line is as follows.<br>`andl    $2016, %eax`\n",
    "* Because <br>$2016_{10} = 07e0_{16}= 0000 0111 1110 0000_2$<br>this would turn off bits of `eax` except 6 bits associated with `g`.\n",
    "* Compare with C/C++ line.  Is the order same? Why or why not?\n",
    "\n"
   ]
  },
  {
   "cell_type": "code",
   "execution_count": null,
   "metadata": {},
   "outputs": [],
   "source": []
  }
 ],
 "metadata": {
  "kernelspec": {
   "display_name": "Python 3",
   "language": "python",
   "name": "python3"
  },
  "language_info": {
   "codemirror_mode": {
    "name": "ipython",
    "version": 3
   },
   "file_extension": ".py",
   "mimetype": "text/x-python",
   "name": "python",
   "nbconvert_exporter": "python",
   "pygments_lexer": "ipython3",
   "version": "3.8.8"
  }
 },
 "nbformat": 4,
 "nbformat_minor": 2
}
